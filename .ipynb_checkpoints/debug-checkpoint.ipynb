{
 "cells": [
  {
   "cell_type": "code",
   "execution_count": 30,
   "metadata": {
    "collapsed": false
   },
   "outputs": [
    {
     "name": "stdout",
     "output_type": "stream",
     "text": [
      "surgery\n",
      "[['surgery', 'knee', 'pain'], ['great', 'running', 'walking'], [\"he's\", 'office', 'desk']]\n"
     ]
    }
   ],
   "source": [
    "import pandas as pd\n",
    "import string\n",
    "\n",
    "words = ['surgery','knee','pain','great','running','walking',\"he's\",'office','desk','acl']\n",
    "print words[0]\n",
    "# for word in words:\n",
    "#     print word\n",
    "    \n",
    "lol = [['surgery','knee','pain'],['great','running','walking'],[\"he's\",'office','desk']]\n",
    "print lol"
   ]
  },
  {
   "cell_type": "code",
   "execution_count": 31,
   "metadata": {
    "collapsed": false
   },
   "outputs": [
    {
     "name": "stdout",
     "output_type": "stream",
     "text": [
      "[['surgery', 'knee', 'pain'], ['great', 'running', 'walking'], [\"he's\", 'office', 'desk']]\n"
     ]
    },
    {
     "data": {
      "text/plain": [
       "[['surgery', 'knee', 'pain'],\n",
       " ['great', 'running', 'walking'],\n",
       " [\"he's\", 'office', 'desk']]"
      ]
     },
     "execution_count": 31,
     "metadata": {},
     "output_type": "execute_result"
    }
   ],
   "source": [
    "df = pd.DataFrame(lol)\n",
    "lol_out = df.values.tolist()\n",
    "\n",
    "print lol_out\n",
    "\n",
    "[mylist for mylist in lol_out]"
   ]
  },
  {
   "cell_type": "code",
   "execution_count": 53,
   "metadata": {
    "collapsed": false
   },
   "outputs": [
    {
     "name": "stdout",
     "output_type": "stream",
     "text": [
      "bid14\n",
      "\"bid14\"\n"
     ]
    }
   ],
   "source": [
    "bid = 14# eventually, either bid_df will contain name, or name and bid will be passed from input.html\n",
    "doc_name = \"bid\"+str(bid)\n",
    "topicimg = '\"'+'bid'+str(bid)+'\"'\n",
    "print doc_name\n",
    "print topicimg"
   ]
  },
  {
   "cell_type": "code",
   "execution_count": 54,
   "metadata": {
    "collapsed": false
   },
   "outputs": [
    {
     "name": "stdout",
     "output_type": "stream",
     "text": [
      "\"bid14.png\"\n"
     ]
    }
   ],
   "source": [
    "topicimg = '\"'+'bid'+str(bid)+'.png\"'\n",
    "print topicimg"
   ]
  },
  {
   "cell_type": "code",
   "execution_count": null,
   "metadata": {
    "collapsed": true
   },
   "outputs": [],
   "source": [
    "for my_offset in range(0,79,20):\n",
    "        print 'Offset = ',my_offset"
   ]
  }
 ],
 "metadata": {
  "kernelspec": {
   "display_name": "Python 2",
   "language": "python",
   "name": "python2"
  },
  "language_info": {
   "codemirror_mode": {
    "name": "ipython",
    "version": 2
   },
   "file_extension": ".py",
   "mimetype": "text/x-python",
   "name": "python",
   "nbconvert_exporter": "python",
   "pygments_lexer": "ipython2",
   "version": "2.7.10"
  }
 },
 "nbformat": 4,
 "nbformat_minor": 0
}
