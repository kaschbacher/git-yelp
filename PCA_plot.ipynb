{
 "cells": [
  {
   "cell_type": "code",
   "execution_count": 10,
   "metadata": {
    "collapsed": true
   },
   "outputs": [],
   "source": [
    "import numpy as np\n",
    "import matplotlib.pyplot as plt\n",
    "from sklearn import linear_model\n",
    "from sklearn.decomposition import PCA\n",
    "import cPickle as pickle\n",
    "import pandas as pd\n"
   ]
  },
  {
   "cell_type": "code",
   "execution_count": 11,
   "metadata": {
    "collapsed": true
   },
   "outputs": [],
   "source": [
    "def convert_rgb(org_color):\n",
    "    \n",
    "    # org_color is type string: '174.199.232'\n",
    "    # Original values are scaled 1-255\n",
    "    # rgb_color is type tuple\n",
    "    # Final color is scaled 0-1: (0.643,0.416,0.894)\n",
    "    \n",
    "    str_vec = org_color.strip().split('.')#type list - of strings\n",
    "    num_vec = [float(s) for s in str_vec]#type list - of floats\n",
    "    rgb_scale = [(n/255) for n in num_vec]#type list - of scaled floats\n",
    "    \n",
    "    # Note: Tried a regular expression...\n",
    "    # It doesn't work - e.g.,:  t2 = [t[i] for i in t]\n",
    "    # TypeError: tuple indices must be integers, not float\n",
    "    rgb_tuple = (rgb_scale[0],rgb_scale[1],rgb_scale[2])\n",
    "    return rgb_tuple\n",
    "    "
   ]
  },
  {
   "cell_type": "code",
   "execution_count": 12,
   "metadata": {
    "collapsed": true
   },
   "outputs": [],
   "source": [
    "def tableau10():\n",
    "    # returns a dict with color names as keys and converted rgb tuples as values\n",
    "    #http://tableaufriction.blogspot.ro/2012/11/finally-you-can-use-tableau-data-colors.html\n",
    "\n",
    "    tableau={}#dict\n",
    "    color_key = [\n",
    "    'dark_grey','med_grey','med2_grey','med3_grey','med4_grey','light_grey',\n",
    "    'blue','orange','green','red','purple',\n",
    "    'turq','puke','brown','lav',\n",
    "    'dark_red','bright_red','fushia_red','salmon','blue_red',\n",
    "    'cool_blue','purp_blue','med_blue','med2_blue','med3_blue',\n",
    "    'lav_blue','sky_blue']\n",
    "    color_str = [\n",
    "    '50.50.50','75.75.75','100.100.100','125.125.125','150.150.150','200.200.200',\n",
    "    '31.119.180','255.127.14','44.160.44','214.39.40','148.103.189',\n",
    "    '23.190.207','188.189.34','140.86.75','227.119.194',\n",
    "    '177.3.24','240.39.32','189.10.54','242.108.100','177.3.74',\n",
    "    '44.105.176','144.158.206','107.163.214','137.183.214','95.158.209',\n",
    "    '181.200.226','177.213.240']\n",
    "    \n",
    "    for idx in range(0,len(color_key)):\n",
    "        #print(color_str[idx])\n",
    "        tup = convert_rgb(color_str[idx])\n",
    "        #tableau[color_key[idx]] = color_str[idx]\n",
    "        tableau[color_key[idx]] = tup\n",
    "    \n",
    "    #For Displaying/debugging\n",
    "    #print(tableau.items())\n",
    "    #print(tableau['dark_grey'])#access by color-name\n",
    "    return tableau"
   ]
  },
  {
   "cell_type": "code",
   "execution_count": 13,
   "metadata": {
    "collapsed": false
   },
   "outputs": [
    {
     "data": {
      "text/plain": [
       "(7320, 32)"
      ]
     },
     "execution_count": 13,
     "metadata": {},
     "output_type": "execute_result"
    }
   ],
   "source": [
    "gammas = pickle.load(open('gammas.p','rb'))\n",
    "norm_gammas = pickle.load(open('norm_gammas.p','rb'))\n",
    "ids_gammas_df = pickle.load(open('ids_gammas_df.p','rb'))\n",
    "ids_ngammas_df = pickle.load(open('ids_ngammas_df.p','rb'))\n",
    "\n",
    "ids_gammas_df.shape#(7320, 102)\n",
    "ids_ngammas_df.shape#(7320, 102)\n"
   ]
  },
  {
   "cell_type": "code",
   "execution_count": 14,
   "metadata": {
    "collapsed": false
   },
   "outputs": [],
   "source": [
    "#made in Extract_Reviews\n",
    "reviews_df = pickle.load(open('ortho_review_df.p','rb'))"
   ]
  },
  {
   "cell_type": "code",
   "execution_count": 15,
   "metadata": {
    "collapsed": false
   },
   "outputs": [
    {
     "name": "stdout",
     "output_type": "stream",
     "text": [
      "5.0\n"
     ]
    }
   ],
   "source": [
    "reviews_df.head(3)\n",
    "stars = reviews_df.loc[:,'stars']\n",
    "\n",
    "reviews_df.shape#(7320, 5)\n",
    "stars = np.asarray(stars)#(7320,)\n",
    "print stars[0]"
   ]
  },
  {
   "cell_type": "code",
   "execution_count": 16,
   "metadata": {
    "collapsed": true
   },
   "outputs": [],
   "source": [
    "def feature_normalize(X):\n",
    "    # X is an mxn numpy array    \n",
    "    \n",
    "    # Strangely, axis=0 is the mean over the columns\n",
    "    mu = np.mean(X,axis=0)\n",
    "    sd = np.std(X,axis=0)\n",
    "    X_norm = (X - mu)/sd\n",
    "\n",
    "    return X_norm"
   ]
  },
  {
   "cell_type": "code",
   "execution_count": 17,
   "metadata": {
    "collapsed": false
   },
   "outputs": [],
   "source": [
    "def pca_scatter(T,group,xlab,ylab):\n",
    "    \n",
    "    tab = tableau10()\n",
    "    \n",
    "    x1 = T[group==1,0]\n",
    "    x2 = T[group==2,0]\n",
    "    x3 = T[group==3,0]\n",
    "    x4 = T[group==4,0]\n",
    "    x5 = T[group==5,0]\n",
    "    \n",
    "    fig = plt.figure(figsize=(4,4))\n",
    "    ax = plt.axes()\n",
    "    plt.plot(x1+.5,T[group==1,1]+.5,color=tab['red'],\n",
    "             marker='D',ms=6, mec=tab['med2_grey'],\n",
    "            linewidth=0, label='1 star')\n",
    "    plt.plot(x2+.4,T[group==2,1]+.4,color=tab['orange'],\n",
    "             marker='D',ms=6, mec=tab['med2_grey'],lw=0, label='2 stars')\n",
    "    plt.plot(x3+.3,T[group==3,1]+.3,color=tab['green'],\n",
    "             marker='D',ms=6, mec=tab['med2_grey'],lw=0, label='3 stars')\n",
    "    plt.plot(x4+.2,T[group==4,1]+.2,color=tab['blue'],\n",
    "             marker='D',ms=6, mec=tab['med2_grey'],lw=0, label='4 stars')\n",
    "    plt.plot(x5,T[group==5,1],color=tab['purple'],\n",
    "             marker='D',ms=6, mec=tab['med2_grey'],lw=0, label='5 stars')\n",
    "    \n",
    "    plt.setp([ax.set_xlabel(xlab),ax.set_ylabel(ylab)],fontsize=11,color=tab['dark_grey'])\n",
    "    plt.setp([ax.get_xticklines(),ax.get_yticklines()],color=tab['light_grey'])\n",
    "    plt.setp([ax.get_xticklabels(),ax.get_yticklabels()],color=tab['med2_grey'],fontsize=9)\n",
    "    \n",
    "    leg = plt.legend(loc='lower right',fontsize=11, numpoints=1)\n",
    "    leg.get_frame().set_edgecolor(tab['light_grey'])\n",
    "    for text in leg.get_texts():\n",
    "        plt.setp(text,color=tab['med3_grey'])\n",
    "    \n",
    "    #Change just one axis\n",
    "    #ax.spines['bottom'].set_color((tab['light_grey']))\n",
    "    \n",
    "    plt.draw()\n",
    "    plt.show()\n",
    "    return"
   ]
  },
  {
   "cell_type": "code",
   "execution_count": 22,
   "metadata": {
    "collapsed": false
   },
   "outputs": [
    {
     "name": "stdout",
     "output_type": "stream",
     "text": [
      "('\\nPCA: % Variance Explained: ', array([ 4.843,  4.593]))\n"
     ]
    },
    {
     "ename": "IndexError",
     "evalue": "index 294 is out of bounds for axis 0 with size 287",
     "output_type": "error",
     "traceback": [
      "\u001b[0;31m---------------------------------------------------------------------------\u001b[0m",
      "\u001b[0;31mIndexError\u001b[0m                                Traceback (most recent call last)",
      "\u001b[0;32m<ipython-input-22-5d15132d88de>\u001b[0m in \u001b[0;36m<module>\u001b[0;34m()\u001b[0m\n\u001b[1;32m     23\u001b[0m \u001b[0;34m\u001b[0m\u001b[0m\n\u001b[1;32m     24\u001b[0m \u001b[0mxlabel\u001b[0m\u001b[0;34m=\u001b[0m\u001b[0;34m'PCA 1'\u001b[0m\u001b[0;34m;\u001b[0m\u001b[0mylabel\u001b[0m\u001b[0;34m=\u001b[0m\u001b[0;34m'PCA 2'\u001b[0m\u001b[0;34m\u001b[0m\u001b[0m\n\u001b[0;32m---> 25\u001b[0;31m \u001b[0mpca_scatter\u001b[0m\u001b[0;34m(\u001b[0m\u001b[0mX_pca\u001b[0m\u001b[0;34m,\u001b[0m \u001b[0mstars\u001b[0m\u001b[0;34m,\u001b[0m \u001b[0mxlabel\u001b[0m\u001b[0;34m,\u001b[0m \u001b[0mylabel\u001b[0m\u001b[0;34m)\u001b[0m\u001b[0;34m\u001b[0m\u001b[0m\n\u001b[0m",
      "\u001b[0;32m<ipython-input-17-d4f308cd79af>\u001b[0m in \u001b[0;36mpca_scatter\u001b[0;34m(T, group, xlab, ylab)\u001b[0m\n\u001b[1;32m      3\u001b[0m     \u001b[0mtab\u001b[0m \u001b[0;34m=\u001b[0m \u001b[0mtableau10\u001b[0m\u001b[0;34m(\u001b[0m\u001b[0;34m)\u001b[0m\u001b[0;34m\u001b[0m\u001b[0m\n\u001b[1;32m      4\u001b[0m \u001b[0;34m\u001b[0m\u001b[0m\n\u001b[0;32m----> 5\u001b[0;31m     \u001b[0mx1\u001b[0m \u001b[0;34m=\u001b[0m \u001b[0mT\u001b[0m\u001b[0;34m[\u001b[0m\u001b[0mgroup\u001b[0m\u001b[0;34m==\u001b[0m\u001b[0;36m1\u001b[0m\u001b[0;34m,\u001b[0m\u001b[0;36m0\u001b[0m\u001b[0;34m]\u001b[0m\u001b[0;34m\u001b[0m\u001b[0m\n\u001b[0m\u001b[1;32m      6\u001b[0m     \u001b[0mx2\u001b[0m \u001b[0;34m=\u001b[0m \u001b[0mT\u001b[0m\u001b[0;34m[\u001b[0m\u001b[0mgroup\u001b[0m\u001b[0;34m==\u001b[0m\u001b[0;36m2\u001b[0m\u001b[0;34m,\u001b[0m\u001b[0;36m0\u001b[0m\u001b[0;34m]\u001b[0m\u001b[0;34m\u001b[0m\u001b[0m\n\u001b[1;32m      7\u001b[0m     \u001b[0mx3\u001b[0m \u001b[0;34m=\u001b[0m \u001b[0mT\u001b[0m\u001b[0;34m[\u001b[0m\u001b[0mgroup\u001b[0m\u001b[0;34m==\u001b[0m\u001b[0;36m3\u001b[0m\u001b[0;34m,\u001b[0m\u001b[0;36m0\u001b[0m\u001b[0;34m]\u001b[0m\u001b[0;34m\u001b[0m\u001b[0m\n",
      "\u001b[0;31mIndexError\u001b[0m: index 294 is out of bounds for axis 0 with size 287"
     ]
    }
   ],
   "source": [
    "# PCA - instantiate object and fit\n",
    "\n",
    "bid_df = pickle.load(open('bid_tmeans.p', 'rb'))#Made in LDA_Doctor_Topics\n",
    "#print bid_df.head(5)\n",
    "X = bid_df.ix[:,0:]\n",
    "X = X.values\n",
    "\n",
    "pca = PCA(n_components=2)\n",
    "\n",
    "X_norm = feature_normalize(X)\n",
    "pca.fit(X_norm)\n",
    "#pca.fit(norm_gammas)\n",
    "\n",
    "print('\\nPCA: % Variance Explained: ',np.round(pca.explained_variance_ratio_*100,3))\n",
    "\n",
    "# components are eigenvectors\n",
    "EV = np.round((pca.components_),5).T\n",
    "\n",
    "# PROJECTED GAMMAS\n",
    "# Use this d x k eigenvector matrix to transform the original samples onto the component subspace. \n",
    "# Arg for transform is projected on the principal components extracted from the training set\n",
    "X_pca = pca.transform(X_norm)# gammas mapped onto new feature space\n",
    "\n",
    "xlabel='PCA 1';ylabel='PCA 2'   \n",
    "pca_scatter(X_pca, stars, xlabel, ylabel)"
   ]
  },
  {
   "cell_type": "code",
   "execution_count": 62,
   "metadata": {
    "collapsed": false
   },
   "outputs": [
    {
     "name": "stdout",
     "output_type": "stream",
     "text": [
      "\n",
      "PCA Component Loadings (Eigenvectors): \n",
      "\n",
      "          0        1\n",
      "95  0.98595 -0.03669\n",
      "83 -0.00331  0.00229\n",
      "36 -0.00400  0.00279\n",
      "60 -0.00428  0.00300\n",
      "57 -0.00449  0.00315\n",
      "45 -0.00463  0.00326\n",
      "18 -0.00464  0.00326\n",
      "78 -0.00502  0.00355\n",
      "2  -0.00506  0.00372\n",
      "37 -0.00520  0.00369\n",
      "9  -0.00540  0.00384\n",
      "76 -0.00541  0.00385\n",
      "92 -0.00555  0.00395\n",
      "65 -0.00590  0.00422\n",
      "21 -0.00596  0.00427\n",
      "72 -0.00617  0.00443\n",
      "96 -0.00617  0.00443\n",
      "90 -0.00622  0.00447\n",
      "1  -0.00626  0.00450\n",
      "79 -0.00644  0.00464\n",
      "41 -0.00652  0.00471\n",
      "56 -0.00677  0.00491\n",
      "43 -0.00682  0.00495\n",
      "24 -0.00693  0.00504\n",
      "38 -0.00699  0.00508\n",
      "99 -0.00703  0.00512\n",
      "86 -0.00713  0.00520\n",
      "80 -0.00715  0.00522\n",
      "84 -0.00717  0.00523\n",
      "68 -0.00720  0.00526\n",
      "..      ...      ...\n",
      "52 -0.01418  0.01177\n",
      "34 -0.01500 -0.19635\n",
      "16 -0.01516  0.01285\n",
      "20 -0.01541  0.01313\n",
      "23 -0.01557  0.01331\n",
      "33 -0.01596  0.01375\n",
      "32 -0.01657  0.01447\n",
      "75 -0.01747  0.01557\n",
      "40 -0.01801  0.01623\n",
      "31 -0.01808  0.01632\n",
      "42 -0.01833  0.01667\n",
      "55 -0.01924  0.01784\n",
      "69 -0.01949  0.01818\n",
      "62 -0.01995  0.01880\n",
      "17 -0.02097  0.02027\n",
      "74 -0.02113  0.02050\n",
      "30 -0.02206  0.02189\n",
      "82 -0.02282  0.02309\n",
      "89 -0.02431  0.02556\n",
      "10 -0.02528  0.02729\n",
      "70 -0.02644  0.03862\n",
      "3  -0.03051  0.04513\n",
      "8  -0.03092  0.03948\n",
      "7  -0.03229  0.04314\n",
      "63 -0.03443  0.04961\n",
      "11 -0.03741  0.06054\n",
      "13 -0.03874  0.06633\n",
      "4  -0.03891  0.06713\n",
      "27 -0.04401  0.09787\n",
      "29 -0.06509 -0.95868\n",
      "\n",
      "[100 rows x 2 columns]\n"
     ]
    }
   ],
   "source": [
    "print '\\nPCA Component Loadings (Eigenvectors): \\n'\n",
    "#for i in range(0,len(EV)):\n",
    "    #print 'Topic: ',i,'   ',EV[i,:]\n",
    "\n",
    "EV_df = pd.DataFrame(EV[:,:]).sort(0, axis=0, ascending=False)\n",
    "print(EV_df)\n",
    "#print EV[:5,0]"
   ]
  },
  {
   "cell_type": "code",
   "execution_count": null,
   "metadata": {
    "collapsed": true
   },
   "outputs": [],
   "source": []
  }
 ],
 "metadata": {
  "kernelspec": {
   "display_name": "Python 2",
   "language": "python",
   "name": "python2"
  },
  "language_info": {
   "codemirror_mode": {
    "name": "ipython",
    "version": 2
   },
   "file_extension": ".py",
   "mimetype": "text/x-python",
   "name": "python",
   "nbconvert_exporter": "python",
   "pygments_lexer": "ipython2",
   "version": "2.7.10"
  }
 },
 "nbformat": 4,
 "nbformat_minor": 0
}
