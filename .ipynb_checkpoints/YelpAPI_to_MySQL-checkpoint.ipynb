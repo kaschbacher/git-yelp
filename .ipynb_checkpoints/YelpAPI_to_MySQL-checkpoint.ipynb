{
 "cells": [
  {
   "cell_type": "code",
   "execution_count": 8,
   "metadata": {
    "collapsed": false,
    "scrolled": false
   },
   "outputs": [],
   "source": [
    "# -*- coding: utf-8 -*-\n",
    "\"\"\"\n",
    "Yelp API v2.0 code sample.\n",
    "This program demonstrates the capability of the Yelp API version 2.0\n",
    "by using the Search API to query for businesses by a search term and location,\n",
    "and the Business API to query additional information about the top result\n",
    "from the search query.\n",
    "Please refer to http://www.yelp.com/developers/documentation for the API documentation.\n",
    "This program requires the Python oauth2 library, which you can install via:\n",
    "`pip install -r requirements.txt`.\n",
    "Sample usage of the program:\n",
    "`python sample.py --term=\"bars\" --location=\"San Francisco, CA\"`\n",
    "This program only works with python 2.7, not 3\n",
    "\"\"\"\n",
    "\n",
    "import argparse\n",
    "import json\n",
    "import pprint\n",
    "import sys\n",
    "import urllib\n",
    "import urllib2\n",
    "import oauth2\n",
    "import numpy as np\n",
    "from bs4 import BeautifulSoup\n",
    "import pprint as pp\n",
    "import lxml\n",
    "import pymysql\n",
    "\n",
    "\n",
    "# Global Variables\n",
    "API_HOST = 'api.yelp.com'\n",
    "DEFAULT_TERM = 'physicians'\n",
    "DEFAULT_LOCATION = 'San Francisco, CA'\n",
    "SEARCH_LIMIT = 20\n",
    "SEARCH_PATH = '/v2/search/'\n",
    "BUSINESS_PATH = '/v2/business/'\n",
    "\n",
    "# OAuth credential placeholders that must be filled in by users.\n",
    "CONSUMER_KEY = 'sN1u58mMljgThGKGwXS8tw'\n",
    "CONSUMER_SECRET = 'NT7JYxw2VJ3q0INTbZEgyS7SQ0I'\n",
    "TOKEN = 'a7V4mk5UGIuECu_MMrQxALvbsUSQsHrX'\n",
    "TOKEN_SECRET = 'H5r3RQRjOSPL7IgnuSBfvSZxoJU'"
   ]
  },
  {
   "cell_type": "code",
   "execution_count": 4,
   "metadata": {
    "collapsed": true
   },
   "outputs": [],
   "source": [
    "def request(host, path, url_params=None):\n",
    "    \"\"\"Prepares OAuth authentication and sends the request to the API.\n",
    "    Args:\n",
    "        host (str): The domain host of the API.\n",
    "        path (str): The path of the API after the domain.\n",
    "        url_params (dict): An optional set of query parameters in the request.\n",
    "    Returns:\n",
    "        dict: The JSON response from the request.\n",
    "    Raises:\n",
    "        urllib2.HTTPError: An error occurs from the HTTP request.\n",
    "    \"\"\"\n",
    "    url_params = url_params or {}\n",
    "    url = 'http://{0}{1}?'.format(host, urllib.quote(path.encode('utf8')))\n",
    "\n",
    "    consumer = oauth2.Consumer(CONSUMER_KEY, CONSUMER_SECRET)\n",
    "    oauth_request = oauth2.Request(method=\"GET\", url=url, parameters=url_params)\n",
    "\n",
    "    oauth_request.update(\n",
    "        {\n",
    "            'oauth_nonce': oauth2.generate_nonce(),\n",
    "            'oauth_timestamp': oauth2.generate_timestamp(),\n",
    "            'oauth_token': TOKEN,\n",
    "            'oauth_consumer_key': CONSUMER_KEY\n",
    "        }\n",
    "    )\n",
    "    token = oauth2.Token(TOKEN, TOKEN_SECRET)\n",
    "    oauth_request.sign_request(oauth2.SignatureMethod_HMAC_SHA1(), consumer, token)\n",
    "    signed_url = oauth_request.to_url()\n",
    "    \n",
    "    print (u'Querying {0} ...'.format(url))\n",
    "\n",
    "    conn = urllib2.urlopen(signed_url, None)\n",
    "    try:\n",
    "        response = json.loads(conn.read())\n",
    "    finally:\n",
    "        conn.close()\n",
    "\n",
    "    return response"
   ]
  },
  {
   "cell_type": "code",
   "execution_count": 5,
   "metadata": {
    "collapsed": false
   },
   "outputs": [],
   "source": [
    "def search(term, location, limit, offset):\n",
    "    \"\"\"Query the Search API by a search term and location.\n",
    "    Args:\n",
    "        term (str): The search term passed to the API.\n",
    "        location (str): The search location passed to the API.\n",
    "    Returns:\n",
    "        dict: The JSON response from the request.\n",
    "    \"\"\"\n",
    "    \n",
    "    url_params = {\n",
    "        'term': term.replace(' ', '+'),\n",
    "        'location': location.replace(' ', '+'),\n",
    "        'limit': SEARCH_LIMIT,\n",
    "        'offset': offset\n",
    "    }\n",
    "    return request(API_HOST, SEARCH_PATH, url_params=url_params)"
   ]
  },
  {
   "cell_type": "code",
   "execution_count": 6,
   "metadata": {
    "collapsed": true
   },
   "outputs": [],
   "source": [
    "def get_business(business_id):\n",
    "    \"\"\"Query the Business API by a business ID.\n",
    "    Args:\n",
    "        business_id (str): The ID of the business to query.\n",
    "    Returns:\n",
    "        dict: The JSON response from the request.\n",
    "    \"\"\"\n",
    "    business_path = BUSINESS_PATH + business_id\n",
    "\n",
    "    return request(API_HOST, business_path)"
   ]
  },
  {
   "cell_type": "code",
   "execution_count": 9,
   "metadata": {
    "collapsed": true
   },
   "outputs": [],
   "source": [
    "def query_api(term, location, limit, offset):\n",
    "    \"\"\"Queries the API by the input values from the user.\n",
    "    Args:\n",
    "        term (str): The search term to query.\n",
    "        location (str): The location of the business to query.\n",
    "    \"\"\"\n",
    "    response = search(term, location, limit, offset)\n",
    "#     pprint.pprint(response, indent=2)\n",
    "    return response"
   ]
  },
  {
   "cell_type": "code",
   "execution_count": 22,
   "metadata": {
    "collapsed": true
   },
   "outputs": [],
   "source": [
    "def get_business_from_API(response):\n",
    "    businesses = response.get('businesses')\n",
    "\n",
    "    if not businesses:\n",
    "        print u'No businesses for {0} in {1} found.'.format(term, location)\n",
    "        return\n",
    "    return businesses"
   ]
  },
  {
   "cell_type": "code",
   "execution_count": 48,
   "metadata": {
    "collapsed": true
   },
   "outputs": [],
   "source": [
    "def get_html(business_id):\n",
    "    \n",
    "    yelp_url = 'http://www.yelp.com/biz/'+business_id\n",
    "    response = urllib2.urlopen(yelp_url)\n",
    "    html = response.read()\n",
    "    return html"
   ]
  },
  {
   "cell_type": "code",
   "execution_count": 49,
   "metadata": {
    "collapsed": true
   },
   "outputs": [],
   "source": [
    "def save_myhtml(html_filename, html):\n",
    "    # Save the html file\n",
    "\n",
    "    with open(html_filename, 'wb') as f:\n",
    "        f.write(html)"
   ]
  },
  {
   "cell_type": "code",
   "execution_count": 50,
   "metadata": {
    "collapsed": true
   },
   "outputs": [],
   "source": [
    "def format_rating(a_rating):\n",
    "    # accepts one rating and returns a float btw 0.0 and 5.0\n",
    "    r = str(a_rating)\n",
    "    r = r.lstrip('<meta content=\"')\n",
    "    r = float(r[0:3])\n",
    "    return r"
   ]
  },
  {
   "cell_type": "code",
   "execution_count": 51,
   "metadata": {
    "collapsed": false
   },
   "outputs": [],
   "source": [
    "def scrape_reviews(html_filename):\n",
    "    # open the html file/object with beautiful soup\n",
    "    \n",
    "    print(html_filename)\n",
    "    soup = BeautifulSoup(open(html_filename))\n",
    "    #tag = soup.b# not relevant here\n",
    "\n",
    "    # Extract first 40 reviews per business (40 are listed on the page)\n",
    "    ptext = soup.find_all('p', {'itemprop': 'description'})\n",
    "    reviews = [ptext[i].get_text() for i in range(0,len(ptext))]\n",
    "    \n",
    "    # Extract star-rating and clean/align with the reviews\n",
    "    star_text = soup.find_all('meta', {'itemprop':'ratingValue'})\n",
    "    rating = [format_rating(star) for star in star_text]\n",
    "    overall_rating = rating[0]\n",
    "    rating_align = rating[1:-1]# for some unknown reason, there is an extra review that doesn't match up\n",
    "    #print(rating_align)\n",
    "\n",
    "    if len(rating_align)!=len(reviews):\n",
    "        print('Length of ratings and reviews for this doc on this page do not match.')\n",
    "\n",
    "    # Here I checked user-by-user that the star-ratings and reviews match up (at least on this page)\n",
    "    # for i in range(0,len(reviews)):\n",
    "    #     print(rating_clean[i],':',reviews[i],'\\n')\n",
    "    return reviews, rating_align"
   ]
  },
  {
   "cell_type": "code",
   "execution_count": 52,
   "metadata": {
    "collapsed": false
   },
   "outputs": [],
   "source": [
    "def insert_yelp_business(yelp_id, stars, reviews, city_id):\n",
    "    con = False\n",
    "    try:\n",
    "        con = pymysql.connect(host='localhost', port=3307, user='root', passwd='', db='yelpdata')\n",
    "        with con:\n",
    "            cur = con.cursor()\n",
    "            #print(type(yelp_id), type(stars), type(reviews)\n",
    "            myvalues = \"'\" + yelp_id+\"',\" + str(stars) + \",\" + str(reviews) + \",\" + \"1\"\n",
    "            sql = 'INSERT INTO business(yelp_id,stars,reviews,city_id) VALUES('+myvalues+')'\n",
    "            cur.execute(sql)\n",
    "            print sql\n",
    "    except pymysql.Error, e:\n",
    "        print \"Error %d: %s\" % (e.args[0],e.args[1])\n",
    "        sys.exit(1)\n",
    "    finally:\n",
    "        if con:\n",
    "            con.close()\n",
    "        "
   ]
  },
  {
   "cell_type": "code",
   "execution_count": 55,
   "metadata": {
    "collapsed": false
   },
   "outputs": [
    {
     "name": "stdout",
     "output_type": "stream",
     "text": [
      "Querying http://api.yelp.com/v2/search/? ...\n",
      "2671\n",
      "Result for business \"dan-kalshan-md-san-francisco-2\" found:\n",
      "dan-kalshan-md-san-francisco-2.html\n",
      "Length of ratings and reviews for this doc on this page do not match.\n",
      "Result for business \"dolhun-clinic-san-francisco-3\" found:\n",
      "dolhun-clinic-san-francisco-3.html\n"
     ]
    },
    {
     "ename": "IOError",
     "evalue": "[Errno 2] No such file or directory: u'dolhun-clinic-san-francisco-3.html'",
     "output_type": "error",
     "traceback": [
      "\u001b[0;31m---------------------------------------------------------------------------\u001b[0m",
      "\u001b[0;31mIOError\u001b[0m                                   Traceback (most recent call last)",
      "\u001b[0;32m<ipython-input-55-a79d2c6f4a5f>\u001b[0m in \u001b[0;36m<module>\u001b[0;34m()\u001b[0m\n\u001b[1;32m     43\u001b[0m \u001b[0;34m\u001b[0m\u001b[0m\n\u001b[1;32m     44\u001b[0m \u001b[0;32mif\u001b[0m \u001b[0m__name__\u001b[0m \u001b[0;34m==\u001b[0m \u001b[0;34m'__main__'\u001b[0m\u001b[0;34m:\u001b[0m\u001b[0;34m\u001b[0m\u001b[0m\n\u001b[0;32m---> 45\u001b[0;31m    \u001b[0mmain\u001b[0m\u001b[0;34m(\u001b[0m\u001b[0;34m)\u001b[0m\u001b[0;34m\u001b[0m\u001b[0m\n\u001b[0m",
      "\u001b[0;32m<ipython-input-55-a79d2c6f4a5f>\u001b[0m in \u001b[0;36mmain\u001b[0;34m()\u001b[0m\n\u001b[1;32m     33\u001b[0m         \u001b[0;31m# Save html file or use an existing one\u001b[0m\u001b[0;34m\u001b[0m\u001b[0;34m\u001b[0m\u001b[0m\n\u001b[1;32m     34\u001b[0m \u001b[0;31m#         save_myhtml(html_filename, html)\u001b[0m\u001b[0;34m\u001b[0m\u001b[0;34m\u001b[0m\u001b[0m\n\u001b[0;32m---> 35\u001b[0;31m         \u001b[0mreviews\u001b[0m\u001b[0;34m,\u001b[0m\u001b[0mratings\u001b[0m \u001b[0;34m=\u001b[0m \u001b[0mscrape_reviews\u001b[0m\u001b[0;34m(\u001b[0m\u001b[0mhtml_filename\u001b[0m\u001b[0;34m)\u001b[0m\u001b[0;34m\u001b[0m\u001b[0m\n\u001b[0m\u001b[1;32m     36\u001b[0m \u001b[0;34m\u001b[0m\u001b[0m\n\u001b[1;32m     37\u001b[0m         \u001b[0;31m#temp_url = 'total-care-plus-san-francisco.html'\u001b[0m\u001b[0;34m\u001b[0m\u001b[0;34m\u001b[0m\u001b[0m\n",
      "\u001b[0;32m<ipython-input-51-9e706fa22d9e>\u001b[0m in \u001b[0;36mscrape_reviews\u001b[0;34m(html_filename)\u001b[0m\n\u001b[1;32m      3\u001b[0m \u001b[0;34m\u001b[0m\u001b[0m\n\u001b[1;32m      4\u001b[0m     \u001b[0;32mprint\u001b[0m\u001b[0;34m(\u001b[0m\u001b[0mhtml_filename\u001b[0m\u001b[0;34m)\u001b[0m\u001b[0;34m\u001b[0m\u001b[0m\n\u001b[0;32m----> 5\u001b[0;31m     \u001b[0msoup\u001b[0m \u001b[0;34m=\u001b[0m \u001b[0mBeautifulSoup\u001b[0m\u001b[0;34m(\u001b[0m\u001b[0mopen\u001b[0m\u001b[0;34m(\u001b[0m\u001b[0mhtml_filename\u001b[0m\u001b[0;34m)\u001b[0m\u001b[0;34m)\u001b[0m\u001b[0;34m\u001b[0m\u001b[0m\n\u001b[0m\u001b[1;32m      6\u001b[0m     \u001b[0;31m#tag = soup.b# not relevant here\u001b[0m\u001b[0;34m\u001b[0m\u001b[0;34m\u001b[0m\u001b[0m\n\u001b[1;32m      7\u001b[0m \u001b[0;34m\u001b[0m\u001b[0m\n",
      "\u001b[0;31mIOError\u001b[0m: [Errno 2] No such file or directory: u'dolhun-clinic-san-francisco-3.html'"
     ]
    }
   ],
   "source": [
    "def main():\n",
    "#     parser = argparse.ArgumentParser()\n",
    "\n",
    "#     parser.add_argument('-q', '--term', dest='term', default=DEFAULT_TERM, type=str, help='Search term (default: %(default)s)')\n",
    "#     parser.add_argument('-l', '--location', dest='location', default=DEFAULT_LOCATION, type=str, help='Search location (default: %(default)s)')\n",
    "\n",
    "#     input_values = parser.parse_args()#This throws an error in Jupyter because there is no input to parse\n",
    "\n",
    "    try:\n",
    "        #query_api(input_values.term, input_values.location)\n",
    "        response = query_api(term=DEFAULT_TERM, location=DEFAULT_LOCATION, limit=20, offset=0)\n",
    "    except urllib2.HTTPError as error:\n",
    "        sys.exit('Encountered HTTP error {0}. Abort program.'.format(error.code))\n",
    "    \n",
    "    businesses = get_business_from_API(response)\n",
    "    total_nbusinesses = response.get('total')#number of businesses\n",
    "    print(total_nbusinesses)\n",
    "    \n",
    "    for i in range(0,20):# loop over 20 businesses on each YELP API query\n",
    "        business_id = businesses[i]['id']\n",
    "        bus_rating = businesses[i]['rating']\n",
    "        bus_nreviews = businesses[i]['review_count']#for each business\n",
    "        bus_categories = businesses[i]['categories']#e.g., Family Practice\n",
    "\n",
    "        print u'Result for business \"{0}\" found:'.format(business_id)\n",
    "        \n",
    "        # Add business info to MySQL table: business (others are city and review)\n",
    "        #insert_yelp_business(business_id, bus_rating, bus_nreviews, 1)\n",
    "    \n",
    "        html = get_html(business_id)\n",
    "        html_filename = business_id +'.html'\n",
    "    \n",
    "        # Save html file or use an existing one\n",
    "#         save_myhtml(html_filename, html)\n",
    "        reviews,ratings = scrape_reviews(html_filename)\n",
    "    \n",
    "        #temp_url = 'total-care-plus-san-francisco.html'\n",
    "#         temp_url = 'dan-kalshan-md-san-francisco-2.html'\n",
    "#         reviews,ratings = scrape_reviews(temp_url)\n",
    "    print(ratings)\n",
    "    print(reviews[3])\n",
    "\n",
    "    \n",
    "if __name__ == '__main__':\n",
    "   main()"
   ]
  },
  {
   "cell_type": "code",
   "execution_count": null,
   "metadata": {
    "collapsed": true
   },
   "outputs": [],
   "source": []
  },
  {
   "cell_type": "code",
   "execution_count": null,
   "metadata": {
    "collapsed": true
   },
   "outputs": [],
   "source": []
  }
 ],
 "metadata": {
  "kernelspec": {
   "display_name": "Python 2",
   "language": "python",
   "name": "python2"
  },
  "language_info": {
   "codemirror_mode": {
    "name": "ipython",
    "version": 2
   },
   "file_extension": ".py",
   "mimetype": "text/x-python",
   "name": "python",
   "nbconvert_exporter": "python",
   "pygments_lexer": "ipython2",
   "version": "2.7.10"
  }
 },
 "nbformat": 4,
 "nbformat_minor": 0
}
