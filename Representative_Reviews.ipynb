{
 "cells": [
  {
   "cell_type": "code",
   "execution_count": 117,
   "metadata": {
    "collapsed": false
   },
   "outputs": [],
   "source": [
    "# Select the review that bests represents a given topic\n",
    "# Select the business with the highest proportion of a given topic\n",
    "\n",
    "import cPickle as pickle\n",
    "from gensim import corpora, models, similarities, utils\n",
    "import numpy as np\n",
    "import pandas as pd\n",
    "from KAsql import query_SQL\n",
    "import pyLDAvis.gensim\n",
    "import pyLDAvis"
   ]
  },
  {
   "cell_type": "code",
   "execution_count": 118,
   "metadata": {
    "collapsed": true
   },
   "outputs": [],
   "source": [
    "#lda = pickle.load(open('lda.p','rb'))\n",
    "#lda.print_topics()"
   ]
  },
  {
   "cell_type": "code",
   "execution_count": 124,
   "metadata": {
    "collapsed": false
   },
   "outputs": [
    {
     "data": {
      "text/html": [
       "<div style=\"max-height:1000px;max-width:1500px;overflow:auto;\">\n",
       "<table border=\"1\" class=\"dataframe\">\n",
       "  <thead>\n",
       "    <tr style=\"text-align: right;\">\n",
       "      <th></th>\n",
       "      <th>1</th>\n",
       "      <th>2</th>\n",
       "      <th>3</th>\n",
       "      <th>4</th>\n",
       "      <th>5</th>\n",
       "      <th>6</th>\n",
       "      <th>7</th>\n",
       "      <th>8</th>\n",
       "      <th>9</th>\n",
       "      <th>10</th>\n",
       "    </tr>\n",
       "    <tr>\n",
       "      <th>BID</th>\n",
       "      <th></th>\n",
       "      <th></th>\n",
       "      <th></th>\n",
       "      <th></th>\n",
       "      <th></th>\n",
       "      <th></th>\n",
       "      <th></th>\n",
       "      <th></th>\n",
       "      <th></th>\n",
       "      <th></th>\n",
       "    </tr>\n",
       "  </thead>\n",
       "  <tbody>\n",
       "    <tr>\n",
       "      <th>189</th>\n",
       "      <td>0.026678</td>\n",
       "      <td>0.222100</td>\n",
       "      <td>0.016266</td>\n",
       "      <td>0.120362</td>\n",
       "      <td>0.126442</td>\n",
       "      <td>0.149261</td>\n",
       "      <td>0.026810</td>\n",
       "      <td>0.051409</td>\n",
       "      <td>0.113959</td>\n",
       "      <td>0.146712</td>\n",
       "    </tr>\n",
       "    <tr>\n",
       "      <th>190</th>\n",
       "      <td>0.060923</td>\n",
       "      <td>0.143381</td>\n",
       "      <td>0.022829</td>\n",
       "      <td>0.057863</td>\n",
       "      <td>0.090280</td>\n",
       "      <td>0.131948</td>\n",
       "      <td>0.098921</td>\n",
       "      <td>0.175391</td>\n",
       "      <td>0.049655</td>\n",
       "      <td>0.168808</td>\n",
       "    </tr>\n",
       "    <tr>\n",
       "      <th>191</th>\n",
       "      <td>0.041454</td>\n",
       "      <td>0.253812</td>\n",
       "      <td>0.043703</td>\n",
       "      <td>0.061581</td>\n",
       "      <td>0.110030</td>\n",
       "      <td>0.054151</td>\n",
       "      <td>0.136972</td>\n",
       "      <td>0.154059</td>\n",
       "      <td>0.064457</td>\n",
       "      <td>0.079781</td>\n",
       "    </tr>\n",
       "  </tbody>\n",
       "</table>\n",
       "</div>"
      ],
      "text/plain": [
       "           1         2         3         4         5         6         7   \\\n",
       "BID                                                                         \n",
       "189  0.026678  0.222100  0.016266  0.120362  0.126442  0.149261  0.026810   \n",
       "190  0.060923  0.143381  0.022829  0.057863  0.090280  0.131948  0.098921   \n",
       "191  0.041454  0.253812  0.043703  0.061581  0.110030  0.054151  0.136972   \n",
       "\n",
       "           8         9         10  \n",
       "BID                                \n",
       "189  0.051409  0.113959  0.146712  \n",
       "190  0.175391  0.049655  0.168808  \n",
       "191  0.154059  0.064457  0.079781  "
      ]
     },
     "execution_count": 124,
     "metadata": {},
     "output_type": "execute_result"
    }
   ],
   "source": [
    "# Load dfs with gammas for all reviews and averaged by business/doctor\n",
    "# All reviews\n",
    "ids_gammas_df = pickle.load(open('ids_gammas_df.p', 'rb'))#actually np array until I rerun NLP_all_reviews-LDA\n",
    "ids_gammas_df.head(3)\n",
    "\n",
    "# Avg gamma for each doctor/business\n",
    "bid_gmeans = pickle.load(open('bid_gmeans.p', 'rb'))\n",
    "bid_gmeans.head(3)"
   ]
  },
  {
   "cell_type": "code",
   "execution_count": 140,
   "metadata": {
    "collapsed": false
   },
   "outputs": [],
   "source": [
    "def three_representative_reviews(mytopic,ids_gammas_df):\n",
    "    \"\"\"What 3 reviews best represent a given topic?\n",
    "    Those with the highest gamma-weights on one topic\n",
    "    Revise to print top 3 reviews and see if they are consistent and validate with stars\n",
    "    - use these reviews to help define & validate each topic\"\"\"\n",
    "\n",
    "    #ids_gammas_df.head()#Check what df looks like prior to sorting\n",
    "\n",
    "    # Sort on a given topic\n",
    "    mysorted = ids_gammas_df.sort(mytopic, axis=0, ascending=False)\n",
    "    idx = mysorted.index[0:3]# get index of top-ranking review for mytopic\n",
    "\n",
    "    RID = mysorted.loc[idx]['RID']#Note that if you replace idx with 0, and print the results, it is not the same\n",
    "    RIDs = [str(int(value)) for value in RID.values]#list of strings (use int to get rid of decimal)\n",
    "\n",
    "    #For debugging\n",
    "    #print 'Topic: ',mytopic,'\\n'\n",
    "    #print 'Index: ',idx\n",
    "    print 'RID: ',RID.values,'\\n'#type Series\n",
    "    \n",
    "    # Pull 3 reviews, and see if they appear to represent one topic\n",
    "    #from KAsql import query_SQL\n",
    "\n",
    "    # SQL query uses my function\n",
    "    #from KAsql import query_SQL\n",
    "    sql = 'SELECT id, stars, comment FROM review WHERE id='+RIDs[0]+' or id='+RIDs[1]+' or id='+RIDs[2]+';'\n",
    "    rows = query_SQL(sql)\n",
    "\n",
    "    sqlRID=[];stars=[];comment=''\n",
    "    sqlRID = rows[:][0]\n",
    "    stars = rows[:][1]\n",
    "    comment = rows[:][2]\n",
    "\n",
    "    # Print Statements\n",
    "    print sql,'\\n'\n",
    "    print '\\nTop three reviews most related to topic: ',mytopic,'\\n'\n",
    "    print mysorted.head(3),'\\n'#Confirm RIDs match with sql data\n",
    "\n",
    "    # For some reason rows are printed in opposite order from listing\n",
    "    for row in rows:\n",
    "        print row[0],row[1],row[2],'\\n'"
   ]
  },
  {
   "cell_type": "code",
   "execution_count": 144,
   "metadata": {
    "collapsed": false
   },
   "outputs": [
    {
     "name": "stdout",
     "output_type": "stream",
     "text": [
      "RID:  [ 4263.  3964.  4058.] \n",
      "\n",
      "SELECT id, stars, comment FROM review WHERE id=4263 or id=3964 or id=4058; \n",
      "\n",
      "\n",
      "Top three reviews most related to topic:  2 \n",
      "\n",
      "       RID  BID         1         2         3         4         5         6  \\\n",
      "3594  4263  311  0.000224  0.997986  0.000224  0.000224  0.000224  0.000224   \n",
      "3295  3964  302  0.000230  0.997931  0.000230  0.000230  0.000230  0.000230   \n",
      "3389  4058  304  0.000246  0.997788  0.000246  0.000246  0.000246  0.000246   \n",
      "\n",
      "             7         8         9        10  \n",
      "3594  0.000224  0.000224  0.000224  0.000224  \n",
      "3295  0.000230  0.000230  0.000230  0.000230  \n",
      "3389  0.000246  0.000246  0.000246  0.000246   \n",
      "\n",
      "3964 2.0 I'm writing this review based on my personal experience at FDFAC and with Dr. Sanders. I am happy for those who have had good experiences at this center; however, I can't second that. My experience in terms of dealing with the staff at FDFAC and with Dr. Sanders directly was far from bad and in fact I will commend them for being really sweet and accommodating. However, bottom line is that I was misdiagnosed not once, but twice and I think it's important that I share this so other users can make informed decisions. I came in to FDFAC in July after my ankle swelled up and I felt excruciating pain all of a sudden while I was at work preface: I do wear heels and workout pretty hard. I typically do a lot of reviews and research on yelp before going ahead with a decision but in this case, I was desperate and was very happy they were able to take me in and see me. I wish I had read the bad reviews because it seems like there is a trend that can't be missed...Upon arrival  the gentleman who greeted me was pleasant; he requested me to fill out papers and arranged for me to elevate my ankle and even gave me chocolates as I was in pain sweet gesture. I was then led to the room by a nurse who questioned my symptoms etc and took down notes. Then I was taken in for xrays not sure why xrays were taken even before the doctor had seen me but, oh well. Dr. Sanders extremely friendly and personable arrived shortly after and was in the room with me for approximately 35 minutes. I am aware she is busy, but I would have felt much better if there was a more thorough examination done before her diagnosis. I think the biggest downfall for FDFAC is the 3 to 5 min doctorpatient interaction which could result in misdiagnosis. I was diagnosed with a stresshairline fracture and immediately put into a soft cast and told to wear boots for the next 6 to 8 weeks. I was also told I would need an MRI. I left FDFAC feeling really disheartened and a little confused as to how what felt like a sprain turned out to be a stress fracture. Anyway, they're the experts and in my mind I figured, better to be safe than sorry  and was hopeful that the MRI would be more telling. Surprise, surprise, I didn't really have to wait for the MRI because by nightfall, the pain i felt and the swelling had subsided. I still went in for the MRI as I trusted Dr. Sanders at that point uggh, Dr. Sanders had prescribe the MRI for the wrong ankle. Anyway, MRI done  I requested Health Diagnostics to send the results to Dr. Sanders that very day so I could have her let me know the results and move on along with my normal life i.e. workout, get out of the cast & boots etc. She said she couldn't read the MRI as she was super busy totally understandable and suggested I keep my appointment scheduled for the following week. Days went by and I felt fully fine  so I decided I would cancel my appointment. I got a call soon after and was told by Dr. Sanders that I didn't have a stress fracture but I had considerable swelling that is consistent with damage, injury, compression of the cartilage UGGGH and that she needed to see me. I immediately felt sick to my stomach  how can I feel fully fine and have such considerable damage as Dr. Sanders noted from my MRI. My gut reaction was to go and read all the yelp reviews again  and that's when I determined I needed a second opinion and that I didn't trust Dr. Sander's diagnosis. I received several calls from Dr. Sanders after that...but at this point, I questioned intent....so I didn't go back to her. So yes, at this point I am mentally uneasy Tip: don't google and try to self diagnose lol. I scheduled an appointment with another doctor who I will review after this Dr. Chueng. Drumroll....does anyone want to take a wild guess on what she said......Yup, nothing wrong with my ankle!!!!!!....Dr. Chueng looked hard for the cartilage damage in my MRI results and found nothing except some fluid that was a result of the swelling caused by the sprained ankle. I'm no doctor, but a simple sprain was misdiagnosed as a stress fracture and damage to cartilage by someone who is an expert and that's what is really troublesome. I am not as upset about the $$$ spent on the misdiagnosis but am really troubled that I would have been put through treatment that was not necessary and also for the psychological impact the experience had overall.I wanted to believe Dr. Sanders and team have their patients' best interest at heart but unfortunately, my experience makes me wonder. I am not concluding that Dr. Sanders purposely misdiagnosed me and wanted to make a quick buck  she could have genuinely made a mistake on her diagnosis  but I guess I will never really know and I'm not sure I want to find out..... Lessons learnt: read yelp reviews, listen to your body, get second opinions if you suspect you have been misdiagnosed, don't google and self diagnose..it will drive u mad, lol \n",
      "\n",
      "4058 5.0 I've spent many years pondering plastic surgery and interviewing for the best surgeon I had looked into probably about 1520 surgeons across the country, and I have to say Dr. Chow has far exceeded expectations in all fronts: his superb credentials UC Berkeley, UCSF, level of experience don't let his youthful appearance fool you as it did for me initially, talent as a doctor and surgeon, the painstaking detail and artistry he puts into his work, congenial bedside manner, and rarely might you hear this in combination with those listed above... reasonable price point.I was surprised to see relatively fewer Yelp reviews for him, given what an amazing plastic surgeon he is. When I asked him about it, he said he usually takes those things with a grain of salt. I believe he focuses all his energy on ensuring the highest quality of medical care to each of his patients rather than allocating any of his time to selfpromotion and advertising to simply pump up patient volume which can be timely and expensive for doctors who choose to pursue that route, often translating to lower quality, more expensive care for the consumer. He's also extremely modest  if I hadn't looked more closely into his credentials, which he didn't mention during our consultation  I would have totally overlooked him. While many practice's websites I looked at touted in capital letters at the top BOARDCERTIFIED, or even DOUBLE board certified, Dr. Chow is TRIPLE board certified by the American Board of Plastic Surgery, American Board of Facial Plastic Surgery, and Board of Head and Neck as well as a member with the American Society of Plastic Surgery, which he mentions quite inconspicuously at the bottom of his website. Now, I've looked at a lot of doctors, and very rarely have I seen all four of these credentials. You have to be a very talented doctor to be able to achieve all that. To further demonstrate his focus on quality rather than quantity, I remember I spoke with another doctor and I asked him how long a rhinoplasty would take, and he said with his years of experience, he could bang it out in about an hour. Forgive me, but this is my face we're talking about... I don't care if you're worldrenowned and have performed thousands of rhinoplasties, I want my surgeon to take all the time necessary to ensure that my expectations are met. And that is what Dr. Chow did. We've spent many consultations discussing rhinoplasty so he knew how particular I was about it  in surgery, he spent FIVE hours to painstaking detail on my nose alone and I am thrilled with the results. He didn't even charge me for the overtime in the operating room! Also about Dr. Chow: he can do CLOSED rhinoplasties. This is very difficult and requires a high degree of skill and dexterity of surgical hands. Very few plastic surgeons are capable of doing this well  they usually only can do open rhinoplasties, which as you can imagine, causes more bruising, scarring, and requires longer recovery time. With a closed rhinoplasty, there is absolutely no external scarring. I was also pleasantly surprised to find that Dr. Chow charged less for his closed rhinoplasties than most doctors who can only do open rhinos. The other great thing about Dr. Chow is that he doesn't charge consultation fees like many other doctors. I met with him three or four times over the length of about 810 months before finally deciding to have the surgery, all without being charged a penny. He will meet with you as many times as you need to get comfortable. And I never felt pressured to commit to surgery with him  he even encouraged me to take a couple more months to think about exactly what I wanted. I'm a very particular customer, so every time I went in, I usually had a list of about 1020 questions, which he always answered patiently, never making me feel rushed or like I was wasting his time. With our healthcare system in desperate need of a makeover, it's such a rare pleasure to find a doctor with the priorities of Dr. Chow. It was apparent to me through our interactions over time that he is genuinely passionate about medicine and helping his patients feel better about their appearance, and that monetary reward is tertiary. His staff, especially Cassandra, is also warm and fantastic. When I didn't have a ride home after the surgery, she offered to give me one. Little did I know that this was a much bigger favor than it seemed. After the surgery, she had to wait in the office until about 10pm while I spent several hours recovering from the anesthesia, which she did happily Here's some advice I'd like to share if you decide to meet with a plastic surgeon:  Bring pictures of yourself so you can specify what you may not like Pictures of friends or celebrities demonstrating your ideal, helping Dr. Chow understand your standard of beauty  Do your research  Speak to former patients \n",
      "\n",
      "4263 2.0 Pretty Sure This Wasn't A Corrective Experience, orHow I Was Dumped By Cameron YarbroughAnd Learned It Was All My FaultI was a client of Cameron Yarbrough's for a year and a 12, and, I sensed, a frustrating client.He said, I don't feel effective! several timeswith the exclamation point.Two weeks ago I asked Cameron if he wanted to continue therapy.He reassured me that he did. Thursday I began the session with, I wasn't going to come back but you looked sad. I had a difficult longterm issue. For a few days I considered leaving therapy to free me of itwhich of course it wouldn't.Cameron's whole demeanor changed, he became extremely alert, I didn't know you wanted to leave.That's because I don't.I was confused. I was referring to a feeling from last week, not now.His toneexpression threw me.I could see he wanted to take my remark as an intent to terminate.Cameron didn't ask questions.He didn't ask why I had felt like not coming back.He didn't ask what I meant by ...but you looked sad.We didn't discuss my feelings or thoughts at all.I said, I was, I am..., confused.He started ending it.Listening to him was surreal. I slipped back into feeling that leaving therapy would free me of pain. Talking about it would have helped; therapy triggered emotional flashbacks that felt like being lost in an undertow.Cameron shared his impressions of me: you're so critical and defensive, you scrutinize my words, you don't know how to relate to me, you flatten me out'you statements'; 'I statements' ugly brotherand, clearly hurt, you said it his caring was fake!Cameron is very proud of his caring huge part of his idealized self so I had profoundly offended him.He offered 3 sessions to wrap it up.My head was spinning and I said no. I can't make funeral plans when I haven't processed the death.I was literally born to rejection; going along while Cameron led me out the door came naturally.I followed his lead. I felt hopeless.That was it. I left.I was up all night. At 5 am I sent a text saying:That was disorienting...Last week I felt depressed and like ending therapy, but had a change of heart. I had no plan to end therapy yesterday, but when I told you I had meant to last week you immediately started ending it yourself. I felt shown to the door. I accept it...just wanted you to know my experience.That last line was a mistake, I was confused and minimizing.But I was sure Cameron would respond and we'd work it out.He didn't.I called and asked why.Cameron said that due to my last sentence he didn't think a response was required.disorienting...I had no plan to end therapy...I felt shown to the doorjust on a humane level, really? no response? After no reply to my text I knew Cameron wanted me gone.I felt so sad and stunned by my therapy abruptly ending that I requested those closure sessions even though I wanted to continue.Cameron, in a vm, again offered 3, that's what I think would work on my side now we have 'sides'? but refused to see me at my regular appt because he had already scheduled something in my place. I texted the day after my session that I hadn't planned to end, and Cameron still gave my next appt away; the one I'd had for a year and a 12.Maybe he hadn't, maybe he just said that, hoping that with all these hits I wouldn't return. It worked.Yesterday on the freeway I lost it. I pulled over and cried. I realized Cameron didn't know how devastated I was, so I left a message when I could talk, saying, I feel abandoned and traumatized. First time I ever let him hear me be that vulnerable.His vm in reply says, I can understand that it feels traumatizing to you...and yes, unfortunately I can't meet this week...He reiterated that it had to be next Thursday 9 days away and that he understood how destabilizing this ending was for me. No offer of a phone or Skype session.So he knew how devastated I was.Yes, it's destabilizing that you jumped on one sentence I began a session with to terminate my therapy.It's destabilizing that you didn't ask questions; you just took it and ran.It's destabilizing that you heard how upset I am and still refuse to see me for 9 days.It's destabilizing that you viewed my 'no plan to end' text as not requiring a response and were satisfied to let that be our final communication.I feel like I've been hit by a truck. A manipulative truck.When we spoke on the phone,Cameron quoted me from our last session, I wasn't going to come back... and said to him it meant I wanted to end. I said emphatically, I do not want to end my therapy. Do you want to end it?There was a pause, then very coldly, I don't know. In one session Cameron reassured me he wanted to continue and in the very next he does this. tl;dr went to Cameron for trauma and got it \n",
      "\n"
     ]
    }
   ],
   "source": [
    "three_representative_reviews(2,ids_gammas_df)"
   ]
  },
  {
   "cell_type": "code",
   "execution_count": 142,
   "metadata": {
    "collapsed": false
   },
   "outputs": [],
   "source": [
    "def most_representative_review(mytopic,ids_gammas_df):\n",
    "    \"\"\" What review best represents a given topic?\n",
    "    Selects the review with the highest gamma-weights on one topic.\n",
    "    Accepts mytopic (an int corresponding to topic #) and the Rev x G matrix with rid, bid and gammas\"\"\"\n",
    "\n",
    "    #print(ids_gammas_df.head())#Check what df looks like prior to sorting\n",
    "\n",
    "    # Sort on a given topic\n",
    "    mysorted = ids_gammas_df.sort(mytopic, axis=0, ascending=False)\n",
    "    idx = mysorted.index[0]# get index of top-ranking review for mytopic\n",
    "\n",
    "    RID = int(mysorted.loc[idx]['RID'])\n",
    "    print 'Index = ',idx, ' Starting RID: ',RID,' Topic: ',mytopic,'\\n'#Note that if you replace idx with 0, and print the results, it is not the same\n",
    "    #print(mysorted.loc[0]['RID'])# does not work\n",
    "\n",
    "    #from KAsql import query_SQL\n",
    "    sql = 'SELECT id, stars, comment FROM review WHERE id='+str(RID)+';'\n",
    "    rows = query_SQL(sql)\n",
    "\n",
    "    sqlid = rows[0][0]\n",
    "    stars = rows[0][1]\n",
    "    comment = rows[0][2]\n",
    "    \n",
    "    #Print statements\n",
    "    print sql,'\\n'\n",
    "    print '\\nTop review most related to topic: ',mytopic,'\\n'\n",
    "    print(mysorted.head(3))\n",
    "    print str(RID), sqlid, stars, comment"
   ]
  },
  {
   "cell_type": "code",
   "execution_count": 143,
   "metadata": {
    "collapsed": false
   },
   "outputs": [
    {
     "name": "stdout",
     "output_type": "stream",
     "text": [
      "Index =  3410  Starting RID:  4079  Topic:  3 \n",
      "\n",
      "SELECT id, stars, comment FROM review WHERE id=4079; \n",
      "\n",
      "\n",
      "Top review most related to topic:  3 \n",
      "\n",
      "       RID  BID         1         2         3         4         5         6  \\\n",
      "3410  4079  305  0.000565  0.000565  0.994914  0.000565  0.000565  0.000565   \n",
      "3190  3859  298  0.000641  0.000641  0.994229  0.000641  0.000641  0.000641   \n",
      "102    771  191  0.000769  0.000769  0.993075  0.000769  0.000769  0.000769   \n",
      "\n",
      "             7         8         9        10  \n",
      "3410  0.000565  0.000565  0.000565  0.000565  \n",
      "3190  0.000641  0.000641  0.000641  0.000641  \n",
      "102   0.000769  0.000769  0.000769  0.000769  \n",
      "4079 4079 5.0 If I could give more stars, then I would. I met Dr. Sloan on a Sunday on his day off! in the lobby of a hospital because I was stricken by shingles in the ear over the weekend that led to facial paralysis on the leftside of my face  a rare condition called Ramsay Hunt. Dr. Sloan is the best combination of a personal caring doctor with solid, practical medical advice. At the outset and throughout my condition, which has now fully healed, Dr. Sloan realized I needed personal attention, so he took his own personal time to meet with me, give me a full consultation, answer any questions I had, and, mainly, reassure me it was going to be a smooth, speedy recovery because I knew I had him in my corner. In the initial consultation where we met in a hospital lobby, he walked me into the hospital to show me how to properly tape up my left eyelid shut as the virus prevented my left eye from blinking or closing. My primary care doctor & ER doctor just recommended I use an eye patch to sleep with at nighttime, but an eye patch could scratch the cornea and eye. The taping method that Dr. Sloan took the time to show me and advise me about may have protected my lefteye over this monthlong period, as well as longtermmy lifetime! He also changed my dosage of steroids in this consultation and I believe this contributed to my full nerve regeneration and recovery. [Believe it or not, I never received a bill for this meeting.]In the office visits, Dr. Sloan was a careful and patient doctorENT and he made sure to assess any potential risks with my hearing, eye sight, and assess all options to get to a full recovery. He also gave me a personal recommendation to a hardtoreach UCSF doctor that he knew personally thank you!. It was also funny to see the photos of the famous people he took care of Steve Tyler in his office. He greatly encouraged me during this difficult process and I trusted his care, opinions, and directions  I will be forever indebted to him. He checked up on me routinely and let me contact him as many times as I like  Dr. Sloan is truly the best doctor I've ever met.\n"
     ]
    }
   ],
   "source": [
    "most_representative_review(3,ids_gammas_df)"
   ]
  },
  {
   "cell_type": "code",
   "execution_count": null,
   "metadata": {
    "collapsed": true
   },
   "outputs": [],
   "source": []
  }
 ],
 "metadata": {
  "kernelspec": {
   "display_name": "Python 2",
   "language": "python",
   "name": "python2"
  },
  "language_info": {
   "codemirror_mode": {
    "name": "ipython",
    "version": 2
   },
   "file_extension": ".py",
   "mimetype": "text/x-python",
   "name": "python",
   "nbconvert_exporter": "python",
   "pygments_lexer": "ipython2",
   "version": "2.7.10"
  }
 },
 "nbformat": 4,
 "nbformat_minor": 0
}
