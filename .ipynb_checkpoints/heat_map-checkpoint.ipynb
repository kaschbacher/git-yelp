{
 "cells": [
  {
   "cell_type": "code",
   "execution_count": 30,
   "metadata": {
    "collapsed": true
   },
   "outputs": [],
   "source": [
    "import KAsql2 as ka\n",
    "import pandas as pd\n",
    "import numpy as np\n",
    "import seaborn as sns"
   ]
  },
  {
   "cell_type": "code",
   "execution_count": 2,
   "metadata": {
    "collapsed": true
   },
   "outputs": [],
   "source": [
    "def get_stars():\n",
    "    sql = 'SELECT id, business_id, stars FROM ortho.review;' \n",
    "    rows = ka.query_SQL(sql)# extracts unique yelp_ids\n",
    "    df = pd.DataFrame(np.array(rows),columns=['RID','BID','rstars'])\n",
    "    return df"
   ]
  },
  {
   "cell_type": "code",
   "execution_count": 17,
   "metadata": {
    "collapsed": false
   },
   "outputs": [
    {
     "name": "stdout",
     "output_type": "stream",
     "text": [
      "USE ortho;\n",
      "     RID  BID  rstars\n",
      "0  20406  303       5\n",
      "1  20407  303       5\n",
      "2  20408  303       5\n",
      "       rstars\n",
      "BID          \n",
      "303  4.875000\n",
      "304  4.941176\n",
      "305  4.882353\n"
     ]
    }
   ],
   "source": [
    "# get Rstars\n",
    "star_df = get_stars()#queries MySQL for data\n",
    "print star_df.head(3)#debug\n",
    "\n",
    "star_bus_df = star_df.groupby('BID',axis=0).mean()\n",
    "star_bus_df.drop('RID',axis=1, inplace=True)\n",
    "print star_bus_df.head(3)"
   ]
  },
  {
   "cell_type": "code",
   "execution_count": 81,
   "metadata": {
    "collapsed": false
   },
   "outputs": [
    {
     "data": {
      "text/html": [
       "<div style=\"max-height:1000px;max-width:1500px;overflow:auto;\">\n",
       "<table border=\"1\" class=\"dataframe\">\n",
       "  <thead>\n",
       "    <tr style=\"text-align: right;\">\n",
       "      <th></th>\n",
       "      <th>rstars</th>\n",
       "      <th>0</th>\n",
       "      <th>1</th>\n",
       "      <th>2</th>\n",
       "      <th>3</th>\n",
       "      <th>4</th>\n",
       "      <th>5</th>\n",
       "      <th>6</th>\n",
       "      <th>7</th>\n",
       "      <th>8</th>\n",
       "      <th>...</th>\n",
       "      <th>20</th>\n",
       "      <th>21</th>\n",
       "      <th>22</th>\n",
       "      <th>23</th>\n",
       "      <th>24</th>\n",
       "      <th>25</th>\n",
       "      <th>26</th>\n",
       "      <th>27</th>\n",
       "      <th>28</th>\n",
       "      <th>29</th>\n",
       "    </tr>\n",
       "    <tr>\n",
       "      <th>BID</th>\n",
       "      <th></th>\n",
       "      <th></th>\n",
       "      <th></th>\n",
       "      <th></th>\n",
       "      <th></th>\n",
       "      <th></th>\n",
       "      <th></th>\n",
       "      <th></th>\n",
       "      <th></th>\n",
       "      <th></th>\n",
       "      <th></th>\n",
       "      <th></th>\n",
       "      <th></th>\n",
       "      <th></th>\n",
       "      <th></th>\n",
       "      <th></th>\n",
       "      <th></th>\n",
       "      <th></th>\n",
       "      <th></th>\n",
       "      <th></th>\n",
       "      <th></th>\n",
       "    </tr>\n",
       "  </thead>\n",
       "  <tbody>\n",
       "    <tr>\n",
       "      <th>303</th>\n",
       "      <td>4.875000</td>\n",
       "      <td>0.006797</td>\n",
       "      <td>0.022689</td>\n",
       "      <td>0.028716</td>\n",
       "      <td>0.000000</td>\n",
       "      <td>0.033555</td>\n",
       "      <td>0.024463</td>\n",
       "      <td>0.024660</td>\n",
       "      <td>0.029592</td>\n",
       "      <td>0.000000</td>\n",
       "      <td>...</td>\n",
       "      <td>0.000000</td>\n",
       "      <td>0.000000</td>\n",
       "      <td>0.075769</td>\n",
       "      <td>0.00000</td>\n",
       "      <td>0.131981</td>\n",
       "      <td>0.000000</td>\n",
       "      <td>0.024486</td>\n",
       "      <td>0.012419</td>\n",
       "      <td>0.00000</td>\n",
       "      <td>0.000000</td>\n",
       "    </tr>\n",
       "    <tr>\n",
       "      <th>304</th>\n",
       "      <td>4.941176</td>\n",
       "      <td>0.022664</td>\n",
       "      <td>0.054445</td>\n",
       "      <td>0.082333</td>\n",
       "      <td>0.029641</td>\n",
       "      <td>0.037260</td>\n",
       "      <td>0.027016</td>\n",
       "      <td>0.058164</td>\n",
       "      <td>0.000490</td>\n",
       "      <td>0.000490</td>\n",
       "      <td>...</td>\n",
       "      <td>0.000490</td>\n",
       "      <td>0.036989</td>\n",
       "      <td>0.035967</td>\n",
       "      <td>0.00049</td>\n",
       "      <td>0.150487</td>\n",
       "      <td>0.029528</td>\n",
       "      <td>0.028230</td>\n",
       "      <td>0.087413</td>\n",
       "      <td>0.00049</td>\n",
       "      <td>0.020098</td>\n",
       "    </tr>\n",
       "    <tr>\n",
       "      <th>305</th>\n",
       "      <td>4.882353</td>\n",
       "      <td>0.000000</td>\n",
       "      <td>0.073754</td>\n",
       "      <td>0.033184</td>\n",
       "      <td>0.000000</td>\n",
       "      <td>0.000000</td>\n",
       "      <td>0.058261</td>\n",
       "      <td>0.000000</td>\n",
       "      <td>0.075109</td>\n",
       "      <td>0.005459</td>\n",
       "      <td>...</td>\n",
       "      <td>0.057843</td>\n",
       "      <td>0.000000</td>\n",
       "      <td>0.057402</td>\n",
       "      <td>0.00000</td>\n",
       "      <td>0.230926</td>\n",
       "      <td>0.057891</td>\n",
       "      <td>0.000000</td>\n",
       "      <td>0.000000</td>\n",
       "      <td>0.00000</td>\n",
       "      <td>0.056718</td>\n",
       "    </tr>\n",
       "  </tbody>\n",
       "</table>\n",
       "<p>3 rows × 31 columns</p>\n",
       "</div>"
      ],
      "text/plain": [
       "       rstars         0         1         2         3         4         5  \\\n",
       "BID                                                                         \n",
       "303  4.875000  0.006797  0.022689  0.028716  0.000000  0.033555  0.024463   \n",
       "304  4.941176  0.022664  0.054445  0.082333  0.029641  0.037260  0.027016   \n",
       "305  4.882353  0.000000  0.073754  0.033184  0.000000  0.000000  0.058261   \n",
       "\n",
       "            6         7         8    ...           20        21        22  \\\n",
       "BID                                  ...                                    \n",
       "303  0.024660  0.029592  0.000000    ...     0.000000  0.000000  0.075769   \n",
       "304  0.058164  0.000490  0.000490    ...     0.000490  0.036989  0.035967   \n",
       "305  0.000000  0.075109  0.005459    ...     0.057843  0.000000  0.057402   \n",
       "\n",
       "          23        24        25        26        27       28        29  \n",
       "BID                                                                      \n",
       "303  0.00000  0.131981  0.000000  0.024486  0.012419  0.00000  0.000000  \n",
       "304  0.00049  0.150487  0.029528  0.028230  0.087413  0.00049  0.020098  \n",
       "305  0.00000  0.230926  0.057891  0.000000  0.000000  0.00000  0.056718  \n",
       "\n",
       "[3 rows x 31 columns]"
      ]
     },
     "execution_count": 81,
     "metadata": {},
     "output_type": "execute_result"
    }
   ],
   "source": [
    "bid_df = pd.read_pickle('bid_tmeans.p')#index of this df is the bid, but can't be indexed by 'BID'\n",
    "#print bid_df.head(3)\n",
    "#pd.merge(bid_df,star_bus_df,left_on=BID, right_on=BID, how='inner')\n",
    "star_top_df = pd.concat([star_bus_df,bid_df],axis=1)\n",
    "star_top_df.head(3)"
   ]
  },
  {
   "cell_type": "code",
   "execution_count": 121,
   "metadata": {
    "collapsed": false
   },
   "outputs": [],
   "source": [
    "from matplotlib import pyplot as plt\n",
    "%matplotlib inline\n",
    "\n",
    "#normal_data = np.random.randn(10, 12)\n",
    "features = star_top_df.columns[1:]\n",
    "\n",
    "#print star_top_df.rstars\n",
    "#ax = sns.heatmap(star_top_df.rstars, star_top_df[features].values)\n",
    "#star_array = np.asarray(star_top_df.rstars.tolist()\n",
    "\n",
    "#feat = star_top_df.corr()\n",
    "\n",
    "topics = star_top_df.iloc[10:16,1:]\n",
    "indices = [int(idx) for idx in topics.index]\n",
    "topics.index = indices\n",
    "topics = topics.apply(lambda x: np.round(x,2))"
   ]
  },
  {
   "cell_type": "code",
   "execution_count": 135,
   "metadata": {
    "collapsed": false
   },
   "outputs": [
    {
     "data": {
      "text/plain": [
       "[None,\n",
       " None,\n",
       " None,\n",
       " None,\n",
       " None,\n",
       " None,\n",
       " None,\n",
       " None,\n",
       " None,\n",
       " None,\n",
       " None,\n",
       " None,\n",
       " None,\n",
       " None,\n",
       " None,\n",
       " None,\n",
       " None,\n",
       " None,\n",
       " None,\n",
       " None,\n",
       " None,\n",
       " None,\n",
       " None,\n",
       " None,\n",
       " None,\n",
       " None,\n",
       " None,\n",
       " None,\n",
       " None,\n",
       " None]"
      ]
     },
     "execution_count": 135,
     "metadata": {},
     "output_type": "execute_result"
    },
    {
     "data": {
      "image/png": "[encoded data removed]",
      "text/plain": [
       "<matplotlib.figure.Figure at 0x113ef9890>"
      ]
     },
     "metadata": {},
     "output_type": "display_data"
    }
   ],
   "source": [
    "sns.set_context(\"talk\")\n",
    "plt.figure(figsize=(20,3))\n",
    "ax = sns.heatmap(topics,cmap=\"Blues\")\n",
    "#ax = sns.heatmap(topics,cmap=\"Blues\",annot=True)\n",
    "\n",
    "ax.set_xlabel('Topic Number', fontsize=22)\n",
    "ax.set_ylabel('Doctors', fontsize=22)\n",
    "plt.setp([ax.get_xticklabels()],visible=False)\n",
    "plt.setp([ax.get_yticklabels()],visible=False)\n",
    "#ax.set_xticklabels(topics.columns, visible=False)\n"
   ]
  },
  {
   "cell_type": "code",
   "execution_count": null,
   "metadata": {
    "collapsed": true
   },
   "outputs": [],
   "source": [
    "#sns.corrplot(star_top_df)"
   ]
  }
 ],
 "metadata": {
  "kernelspec": {
   "display_name": "Python 2",
   "language": "python",
   "name": "python2"
  },
  "language_info": {
   "codemirror_mode": {
    "name": "ipython",
    "version": 2
   },
   "file_extension": ".py",
   "mimetype": "text/x-python",
   "name": "python",
   "nbconvert_exporter": "python",
   "pygments_lexer": "ipython2",
   "version": "2.7.10"
  }
 },
 "nbformat": 4,
 "nbformat_minor": 0
}
