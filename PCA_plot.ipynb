{
 "cells": [
  {
   "cell_type": "code",
   "execution_count": 9,
   "metadata": {
    "collapsed": true
   },
   "outputs": [],
   "source": [
    "import numpy as np\n",
    "import matplotlib.pyplot as plt\n",
    "from sklearn import linear_model\n",
    "from sklearn.decomposition import PCA\n",
    "import cPickle as pickle"
   ]
  },
  {
   "cell_type": "code",
   "execution_count": 7,
   "metadata": {
    "collapsed": true
   },
   "outputs": [],
   "source": [
    "def convert_rgb(org_color):\n",
    "    \n",
    "    # org_color is type string: '174.199.232'\n",
    "    # Original values are scaled 1-255\n",
    "    # rgb_color is type tuple\n",
    "    # Final color is scaled 0-1: (0.643,0.416,0.894)\n",
    "    \n",
    "    str_vec = org_color.strip().split('.')#type list - of strings\n",
    "    num_vec = [float(s) for s in str_vec]#type list - of floats\n",
    "    rgb_scale = [(n/255) for n in num_vec]#type list - of scaled floats\n",
    "    \n",
    "    # Note: Tried a regular expression...\n",
    "    # It doesn't work - e.g.,:  t2 = [t[i] for i in t]\n",
    "    # TypeError: tuple indices must be integers, not float\n",
    "    rgb_tuple = (rgb_scale[0],rgb_scale[1],rgb_scale[2])\n",
    "    return rgb_tuple\n",
    "    "
   ]
  },
  {
   "cell_type": "code",
   "execution_count": 8,
   "metadata": {
    "collapsed": true
   },
   "outputs": [],
   "source": [
    "def tableau10():\n",
    "    # returns a dict with color names as keys and converted rgb tuples as values\n",
    "    #http://tableaufriction.blogspot.ro/2012/11/finally-you-can-use-tableau-data-colors.html\n",
    "\n",
    "    tableau={}#dict\n",
    "    color_key = [\n",
    "    'dark_grey','med_grey','med2_grey','med3_grey','med4_grey','light_grey',\n",
    "    'blue','orange','green','red','purple',\n",
    "    'turq','puke','brown','lav',\n",
    "    'dark_red','bright_red','fushia_red','salmon','blue_red',\n",
    "    'cool_blue','purp_blue','med_blue','med2_blue','med3_blue',\n",
    "    'lav_blue','sky_blue']\n",
    "    color_str = [\n",
    "    '50.50.50','75.75.75','100.100.100','125.125.125','150.150.150','200.200.200',\n",
    "    '31.119.180','255.127.14','44.160.44','214.39.40','148.103.189',\n",
    "    '23.190.207','188.189.34','140.86.75','227.119.194',\n",
    "    '177.3.24','240.39.32','189.10.54','242.108.100','177.3.74',\n",
    "    '44.105.176','144.158.206','107.163.214','137.183.214','95.158.209',\n",
    "    '181.200.226','177.213.240']\n",
    "    \n",
    "    for idx in range(0,len(color_key)):\n",
    "        #print(color_str[idx])\n",
    "        tup = convert_rgb(color_str[idx])\n",
    "        #tableau[color_key[idx]] = color_str[idx]\n",
    "        tableau[color_key[idx]] = tup\n",
    "    \n",
    "    #For Displaying/debugging\n",
    "    #print(tableau.items())\n",
    "    #print(tableau['dark_grey'])#access by color-name\n",
    "    return tableau"
   ]
  },
  {
   "cell_type": "code",
   "execution_count": 5,
   "metadata": {
    "collapsed": true
   },
   "outputs": [],
   "source": [
    "def pca_scatter(T,group,xlab,ylab):\n",
    "    \n",
    "    tab = tableau10()\n",
    "    \n",
    "    #fig = plt.figure()\n",
    "    ax = plt.axes()\n",
    "    plt.plot(T[group==0,0],T[group==0,1],color=tab['light_grey'],\n",
    "             marker='D',ms=6, mec=tab['med2_grey'],\n",
    "            linewidth=0, label='CTRL')\n",
    "    plt.plot(T[group==1,0],T[group==1,1],color=tab['purple'],\n",
    "             marker='D',ms=6, mec=tab['med2_grey'],lw=0, label='PTSD')\n",
    "    \n",
    "    plt.setp([ax.set_xlabel(xlab),ax.set_ylabel(ylab)],fontsize=11,color=tab['dark_grey'])\n",
    "    plt.setp([ax.get_xticklines(),ax.get_yticklines()],color=tab['light_grey'])\n",
    "    plt.setp([ax.get_xticklabels(),ax.get_yticklabels()],color=tab['med2_grey'],fontsize=9)\n",
    "    \n",
    "    leg = plt.legend(loc='upper center',fontsize=11, numpoints=1)\n",
    "    leg.get_frame().set_edgecolor(tab['light_grey'])\n",
    "    for text in leg.get_texts():\n",
    "        plt.setp(text,color=tab['med3_grey'])\n",
    "    \n",
    "    #Change just one axis\n",
    "    #ax.spines['bottom'].set_color((tab['light_grey']))\n",
    "    \n",
    "    plt.draw()\n",
    "    plt.show()\n",
    "    return"
   ]
  },
  {
   "cell_type": "code",
   "execution_count": 14,
   "metadata": {
    "collapsed": false
   },
   "outputs": [],
   "source": [
    "gammas = pickle.load(open('gammas.p','rb'))\n",
    "norm_gammas = pickle.load(open('norm_gammas.p','rb'))\n",
    "ids_gammas_df = pickle.load(open('ids_gammas_df.p','rb'))\n",
    "ids_ngammas_df = pickle.load(open('ids_ngammas_df.p','rb'))\n",
    "\n",
    "#ids_gammas_df.shape#(13081, 102)\n",
    "#ids_ngammas_df.shape#(13081, 102)\n",
    "\n"
   ]
  },
  {
   "cell_type": "code",
   "execution_count": 33,
   "metadata": {
    "collapsed": false
   },
   "outputs": [
    {
     "data": {
      "text/plain": [
       "(7320, 5)"
      ]
     },
     "execution_count": 33,
     "metadata": {},
     "output_type": "execute_result"
    }
   ],
   "source": [
    "# made in Extract_Reviews\n",
    "reviews_df = pickle.load(open('ortho_review_df.p','rb'))\n",
    "\n",
    "reviews_df.head(3)\n",
    "stars = reviews_df.loc[:,'stars']\n",
    "stars.shape\n",
    "reviews_df.shape"
   ]
  },
  {
   "cell_type": "code",
   "execution_count": null,
   "metadata": {
    "collapsed": true
   },
   "outputs": [],
   "source": [
    "# PCA - instantiate object and fit\n",
    "pca = PCA(n_components=2)\n",
    "pca.fit(ngammas)\n",
    "print('\\nPCA: % Variance Explained: ',np.round(pca.explained_variance_ratio_*100,3))\n",
    "\n",
    "# components are eigenvectors\n",
    "EV = np.round((pca.components_),5).T\n",
    "\n",
    "# PROJECTED GAMMAS\n",
    "# Use this d x k eigenvector matrix to transform the original samples onto the component subspace. \n",
    "# Arg for transform is projected on the principal components extracted from the training set\n",
    "X_pca = pca.transform(ngammas)# gammas mapped onto new feature space\n",
    "\n",
    "print('\\nPCA Component Loadings (Eigenvectors): \\n')\n",
    "for i in range(0,len(EV)):\n",
    "    print(EV[i,:],'   ','Topic: ',i)\n",
    "#print('\\nTransformed X: \\n', T[:6])\n",
    "xlabel='PCA 1';ylabel='PCA 2'\n",
    "    \n",
    "pca_scatter(X_pca, group, xlabel, ylabel)"
   ]
  }
 ],
 "metadata": {
  "kernelspec": {
   "display_name": "Python 2",
   "language": "python",
   "name": "python2"
  },
  "language_info": {
   "codemirror_mode": {
    "name": "ipython",
    "version": 2
   },
   "file_extension": ".py",
   "mimetype": "text/x-python",
   "name": "python",
   "nbconvert_exporter": "python",
   "pygments_lexer": "ipython2",
   "version": "2.7.10"
  }
 },
 "nbformat": 4,
 "nbformat_minor": 0
}
