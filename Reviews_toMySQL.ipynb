{
 "cells": [
  {
   "cell_type": "code",
   "execution_count": 3,
   "metadata": {
    "collapsed": false
   },
   "outputs": [],
   "source": [
    "import cPickle as pickle\n",
    "#import pyodbc\n",
    "# import pandas.io.sql as psql\n",
    "# import pandas as pd\n",
    "    \n",
    "import pandas as pd\n",
    "import mysql.connector\n",
    "from sqlalchemy import create_engine"
   ]
  },
  {
   "cell_type": "code",
   "execution_count": null,
   "metadata": {
    "collapsed": true
   },
   "outputs": [],
   "source": [
    "# Not using, but wanted it for reference\n",
    "def df_from_SQL():\n",
    "\n",
    "    cnxn = pyodbc.connect(connection_info) \n",
    "    cursor = cnxn.cursor()\n",
    "    sql = \"SELECT * FROM TABLE\"\n",
    "\n",
    "    df = psql.frame_query(sql, cnxn)\n",
    "    cnxn.close()\n",
    "    return df"
   ]
  },
  {
   "cell_type": "code",
   "execution_count": null,
   "metadata": {
    "collapsed": true
   },
   "outputs": [],
   "source": [
    "def df_to_SQL(df):\n",
    "\n",
    "    engine = create_engine('mysql+mysqlconnector://[user]:[pass]@[host]:[port]/[schema]', echo=False)\n",
    "    data.to_sql(name='sample_table2', con=engine, if_exists = 'append', index=False)"
   ]
  },
  {
   "cell_type": "code",
   "execution_count": null,
   "metadata": {
    "collapsed": true
   },
   "outputs": [],
   "source": [
    "def main():\n",
    "    \n",
    "    # Load the pickled DF of all reviews, which I want to load into MySQL\n",
    "    picklename = 'ortho_review_df.p'\n",
    "    ortho_review_df = pickle.load(open(picklename,'rb'))\n",
    "    df_to_SQL(ortho_review_df)\n",
    "\n",
    "if __name__==\"__main__\":\n",
    "    main()"
   ]
  }
 ],
 "metadata": {
  "kernelspec": {
   "display_name": "Python 2",
   "language": "python",
   "name": "python2"
  },
  "language_info": {
   "codemirror_mode": {
    "name": "ipython",
    "version": 2
   },
   "file_extension": ".py",
   "mimetype": "text/x-python",
   "name": "python",
   "nbconvert_exporter": "python",
   "pygments_lexer": "ipython2",
   "version": "2.7.10"
  }
 },
 "nbformat": 4,
 "nbformat_minor": 0
}
