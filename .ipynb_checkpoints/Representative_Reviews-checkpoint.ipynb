{
 "cells": [
  {
   "cell_type": "code",
   "execution_count": 34,
   "metadata": {
    "collapsed": false
   },
   "outputs": [],
   "source": [
    "# Select the review that bests represents a given topic\n",
    "# Select the business with the highest proportion of a given topic\n",
    "\n",
    "import cPickle as pickle\n",
    "from gensim import corpora, models, similarities, utils\n",
    "import numpy as np\n",
    "import pandas as pd\n",
    "from KAsql import query_SQL\n",
    "import pyLDAvis.gensim\n",
    "import pyLDAvis"
   ]
  },
  {
   "cell_type": "code",
   "execution_count": 2,
   "metadata": {
    "collapsed": false
   },
   "outputs": [
    {
     "data": {
      "text/plain": [
       "[u'0.010*time + 0.008*mri + 0.007*insurance + 0.006*injury + 0.005*need + 0.005*never + 0.005*going + 0.004*even + 0.004*call + 0.004*office',\n",
       " u'0.010*wrist + 0.008*great + 0.008*staff + 0.007*time + 0.006*didnt + 0.006*arm + 0.006*really + 0.005*ive + 0.005*appointment + 0.005*minutes',\n",
       " u'0.012*knee + 0.007*going + 0.007*right + 0.007*office + 0.005*time + 0.005*need + 0.005*feel + 0.005*didnt + 0.005*years + 0.005*many',\n",
       " u'0.007*even + 0.006*good + 0.005*office + 0.005*great + 0.005*appointment + 0.005*staff + 0.005*experience + 0.004*still + 0.004*time + 0.004*took',\n",
       " u'0.016*time + 0.005*good + 0.005*questions + 0.005*appointment + 0.004*day + 0.004*great + 0.004*even + 0.004*took + 0.004*years + 0.004*office',\n",
       " u'0.015*great + 0.009*staff + 0.008*office + 0.007*time + 0.006*good + 0.005*care + 0.005*able + 0.005*feel + 0.005*years + 0.005*hip',\n",
       " u'0.014*best + 0.013*care + 0.008*great + 0.008*staff + 0.008*time + 0.007*office + 0.006*feel + 0.006*years + 0.006*hip + 0.006*ive',\n",
       " u'0.008*hip + 0.007*good + 0.007*best + 0.006*recommend + 0.006*highly + 0.006*years + 0.006*amazing + 0.006*told + 0.005*manner + 0.005*really',\n",
       " u'0.006*work + 0.006*time + 0.005*first + 0.005*office + 0.005*review + 0.005*good + 0.005*staff + 0.005*know + 0.004*patients + 0.004*months',\n",
       " u'0.011*knee + 0.009*time + 0.009*acl + 0.007*years + 0.006*well + 0.006*great + 0.006*best + 0.006*feel + 0.005*never + 0.005*recommend']"
      ]
     },
     "execution_count": 2,
     "metadata": {},
     "output_type": "execute_result"
    }
   ],
   "source": [
    "lda = pickle.load(open('lda_ortho_30t_pos.p','rb'))\n",
    "lda.print_topics()"
   ]
  },
  {
   "cell_type": "code",
   "execution_count": 35,
   "metadata": {
    "collapsed": false
   },
   "outputs": [],
   "source": [
    "# Load dfs with gammas for all reviews and averaged by business/doctor\n",
    "# All reviews\n",
    "\n",
    "bid_df = pd.read_pickle('bid_tmeans.p')#index of this df is the bid, but can't be indexed by 'BID'\n",
    "Reviews_topics_df = pd.read_pickle('Review_topics_df.p')\n",
    "\n",
    "bid_topic_word_df = pd.read_pickle('bid_topic_word_df.p')\n",
    "topic_word_df = pd.read_pickle('topic_word_df.p')\n",
    "names_df = pd.read_pickle('names_df.p')"
   ]
  },
  {
   "cell_type": "code",
   "execution_count": 75,
   "metadata": {
    "collapsed": false
   },
   "outputs": [],
   "source": [
    "def three_representative_reviews(mytopic,Reviews_topics_df):\n",
    "    \"\"\"What 3 reviews best represent a given topic?\n",
    "    Those with the highest topic-weights on one topic\n",
    "    Revise to print top 3 reviews and see if they are consistent and validate with stars\n",
    "    - use these reviews to help define & validate each topic\"\"\"\n",
    "\n",
    "    #Check what df looks like prior to sorting\n",
    "\n",
    "    # Sort on a given topic\n",
    "    mysorted = Reviews_topics_df.sort(mytopic, axis=0, ascending=False)\n",
    "    idx = mysorted.index[0:3]# get index of top-ranking review for mytopic\n",
    "\n",
    "    RID = mysorted.loc[idx]['RID']#Note that if you replace idx with 0, and print the results, it is not the same\n",
    "    RIDs = [str(int(value)) for value in RID.values]#list of strings (use int to get rid of decimal)\n",
    "\n",
    "    #For debugging\n",
    "    #print 'Topic: ',mytopic,'\\n'\n",
    "    #print 'RID: ',RID.values,'\\n'#type Series\n",
    "    \n",
    "    # Pull 3 reviews, and see if they appear to represent one topic\n",
    "    #from KAsql import query_SQL\n",
    "\n",
    "    # SQL query uses my function\n",
    "    #from KAsql import query_SQL\n",
    "    sql = 'SELECT stars, comment FROM review WHERE id='+RIDs[0]+' or id='+RIDs[1]+' or id='+RIDs[2]+';'\n",
    "    rows = query_SQL(sql)\n",
    "\n",
    "    stars=[];comment=''\n",
    "    row0 = rows[:][0]\n",
    "    row1 = rows[:][1]\n",
    "    row2 = rows[:][2]\n",
    "    \n",
    "    rstars = row0[0],row1[0],row2[0]\n",
    "    texts = row0[1],row1[1],row2[1]\n",
    "    # Print Statements\n",
    "    #print '\\nTop three reviews most related to topic: ',mytopic,'\\n'\n",
    "    #print mysorted.head(3),'\\n'#Confirm RIDs match with sql data\n",
    "\n",
    "    # For some reason rows are printed in opposite order from listing\n",
    "#     texts=[]\n",
    "#     for i,row in enumerate(rows):\n",
    "#         texts.append([row[0],row[1]])\n",
    "    \n",
    "    #print row[2][:500]\n",
    "    return RID.values,rstars,texts\n",
    "    "
   ]
  },
  {
   "cell_type": "code",
   "execution_count": 93,
   "metadata": {
    "collapsed": false
   },
   "outputs": [
    {
     "name": "stdout",
     "output_type": "stream",
     "text": [
      "2 knee\n"
     ]
    }
   ],
   "source": [
    "#print Reviews_topics_df.head()#RID and BID are first two columns then topic weights\n",
    "\n",
    "#print bid_df.ix[309,:]\n",
    "\n",
    "#print bid_topic_word_df.BID\n",
    "#print Reviews_topics_df[Reviews_topics_df.BID==480]\n",
    "#print bid_topic_word_df\n",
    "\n",
    "top = bid_topic_word_df.Topic[bid_topic_word_df.BID==480].values[0]\n",
    "word = bid_topic_word_df.Word[bid_topic_word_df.BID==480].values[0]\n",
    "\n",
    "print top,word"
   ]
  },
  {
   "cell_type": "code",
   "execution_count": 116,
   "metadata": {
    "collapsed": false
   },
   "outputs": [
    {
     "name": "stdout",
     "output_type": "stream",
     "text": [
      "\n",
      "BID:  480\n",
      "USE ortho;\n",
      "text_index: -1 22549 5.0\n",
      "text_index: -1 22556 5.0\n",
      "text_index: -1 22548 4.0\n",
      "\n",
      "BID:  353\n",
      "USE ortho;\n",
      "text_index: 13 21350 5.0\n",
      "text_index: 11 21347 5.0\n",
      "text_index: 13 21355 5.0\n",
      "\n",
      "BID:  566\n",
      "USE ortho;\n",
      "text_index: -1 23145 5.0\n",
      "text_index: 267 23137 5.0\n",
      "Dr Brody did the surgery on both my thumbs as couple years ago, for trigger thumbs on both hands. It went perfectly and both thumbs are perfect today. TODAY I went to Dr Brody for trigger finger in my middle finger and I was stressing a bit about getting a cortisone injection, which seemed like the obvious first step. I know those are painful and simply unpleasant. Doctor Brody is a superstar when it comes to injections. Kudos to him for a nearly painless event that took hardly any time. I highly recommend Doctor Brody. Despite what some people have commented on Yelp, Doctor Brody was clear with his explanation and took all the time I needed for a few questions. I never felt 'rushed' or like the Doc didn't have time for me.\n",
      "text_index: -1 23138 5.0\n",
      "\n",
      "BID:  427\n",
      "USE ortho;\n",
      "text_index: 513 22088 5.0\n",
      "I moved away from Fremont to Oakland and had to find a new Orthopedic Surgeon. I was so grateful to get a referral from my new from Primary Physician. I was scared and very nervous because I thought my previous doctor of 8 years was the best ever and I did not believe I would find a doctor that was, at best, comparable. Well to my pleasant surprise Dr. Taylor exceeded my hope and expectations! Dr.Taylor is the most skilled, compassionate and thorough doctor in his field I have ever met! My knee and shoulder injections we so painless and effective and so much better than what I had received from my former doctor! The injections worked immediately and lasted much longer than the ones I had ever received in the past. Not only did I develop an instant trust in him but now I can comfortably have my knee replaced without procrastinating because of that trust.I would also like to comment on how wonderful and warm is staff treated me and other patients while I observed. The office is very clean, organized and esthetically designed. I am truly blessed to have found Dr. Scott Taylor.Thank you, sincerely!\n",
      "text_index: -1 22073 5.0\n",
      "text_index: -1 22074 5.0\n",
      "\n",
      "BID:  411\n",
      "USE ortho;\n",
      "text_index: -1 21864 5.0\n",
      "text_index: -1 21870 1.0\n",
      "text_index: -1 21865 2.0\n",
      "\n",
      "BID:  588\n",
      "USE ortho;\n",
      "text_index: -1 23350 5.0\n",
      "text_index: -1 23357 5.0\n",
      "text_index: 130 23362 2.0\n",
      "I trusted Dr. Saxena with the surgery, which was a limited success. He is a man of very few words. Office visits last less than 5 minutes, though the wait might be 30 minutes. He doesn't seem really interested in how I feel about things, what I'm experiencing, or what my questions might be. He answers questions with about 3 words, leaving me feeling like either I should ask the same question again, or just leave still wondering. He dismisses any concern over how your foot lookswill only talk about function. I believe he's a good surgeon, but his overall treatment of patients leaves something to be desired.\n",
      "Empty DataFrame\n",
      "Columns: []\n",
      "Index: []\n"
     ]
    }
   ],
   "source": [
    "# Find the three most representative reviews for a given topic\n",
    "\n",
    "Represent_Revs=pd.DataFrame()\n",
    "\n",
    "# Loop over BIDs\n",
    "for each_id in bid_topic_word_df.BID:\n",
    "    print '\\nBID: ',each_id\n",
    "    temp_df = Reviews_topics_df[Reviews_topics_df.BID==each_id]#a subset of reviews for this BID\n",
    "    temp_topic = bid_topic_word_df.Topic[bid_topic_word_df.BID==each_id]#extracts a series    \n",
    "    #print temp_topic.values[0]#extract the topic as an int value from the series\n",
    "    RIDS, rstars, texts= three_representative_reviews(temp_topic.values[0],temp_df)\n",
    "    \n",
    "    # Get the topic and word for this BID\n",
    "    top = bid_topic_word_df.Topic[bid_topic_word_df.BID==each_id].values[0]\n",
    "    word = bid_topic_word_df.Word[bid_topic_word_df.BID==each_id].values[0]\n",
    "    \n",
    "    #Does text contain the key-word?\n",
    "    #print 'topic',top,' word',word\n",
    "    for i, text in enumerate(texts):\n",
    "        outcome = text.find(word)\n",
    "        #print 'text_index:', outcome, RIDS[i], rstars[i]\n",
    "        if RIDS[i] in [23137,22088,23362]:\n",
    "            #print text\n",
    "        if outcome>-1 and word not in ['hip']:#word was found in review\n",
    "            rid_series = pd.Series([each_id, RIDS[i], rstars[i]])\n",
    "            Represent_Revs.append(rid_series, ignore_index=True)\n",
    "\n",
    "print Represent_Revs\n",
    "# print RIDS\n",
    "# print rstars\n",
    "# print texts[2]"
   ]
  },
  {
   "cell_type": "code",
   "execution_count": 101,
   "metadata": {
    "collapsed": false
   },
   "outputs": [
    {
     "name": "stdout",
     "output_type": "stream",
     "text": [
      "     RID  BID  0  1  2  3  4  5  6  7 ...  20  21  22  23        24  25  26  \\\n",
      "0  20406  303  0  0  0  0  0  0  0  0 ...   0   0   0   0  0.000000   0   0   \n",
      "1  20407  303  0  0  0  0  0  0  0  0 ...   0   0   0   0  0.539521   0   0   \n",
      "2  20408  303  0  0  0  0  0  0  0  0 ...   0   0   0   0  0.992267   0   0   \n",
      "\n",
      "   27  28  29  \n",
      "0   0   0   0  \n",
      "1   0   0   0  \n",
      "2   0   0   0  \n",
      "\n",
      "[3 rows x 32 columns]\n"
     ]
    }
   ],
   "source": []
  },
  {
   "cell_type": "code",
   "execution_count": 99,
   "metadata": {
    "collapsed": false
   },
   "outputs": [],
   "source": [
    "with open(\"Topic17_RR1.txt\", \"w\") as text_file:\n",
    "    text_file.write(write1)\n",
    "with open(\"Topic17_RR2.txt\", \"w\") as text_file:\n",
    "    text_file.write(write2)  "
   ]
  },
  {
   "cell_type": "code",
   "execution_count": 100,
   "metadata": {
    "collapsed": false
   },
   "outputs": [
    {
     "name": "stdout",
     "output_type": "stream",
     "text": [
      "[20609, 2.0, \"I had a lot of pain in my left leg, so I did some yelping, checked my medical plan, and made an appointment with Dr. Akizuki. The doctor spent as much time initially with me as seemed necessary. He didn't rush, and explained he thought I had a hip problem. I was to get an xrays and an MRI and call back.Once the MRI results were back, Dr. Akizuki and I began a game of phone tag. Finally in a voice mail message, he told me that my ankle was in pretty bad shape. We'd need an appointment to sort out what to do. It was a bit annoying to have to exchange two or three phone calls to get this information, and of course, I was a bit surprised that the diagnosis had changed from a hip problem to an ankle problem. In fact, I was sure a mix up had occurred. I made another appointment.Dr. Akizuki explained that yes it was a hip problem no explanation about the ankle message and that I was a bit young for hip replacement although he didn't rule that out. He said we could try cortisone to the hip which would require fluoroscopic needle guidance the hip joint is tricky to find unlike a knee. I guess Dr. A. had made a simple mistake the ankle call and still believed he was OK. We scheduled the procedure.The procedure went well. Dr. Akizuki was careful to explain everything he was doing and very careful to be sure I was comfortable and painless. He inserted some dye, found the joint, and gave me a shot of cortisone. All was fine.I had a good deal of pain that evening, but the doctor had warned of that. I took a vidodin left over from a wisdom tooth extraction, but the pain was gone the next day, and the hip worked pretty well.In the next few days, however, the inside of my leg got completely black and blue as if it had been terribly bruised. Yet, there was no pain. In fact it was a little numb. I didn't know if the discoloration was bruising or if it might be the dye. Fairly concerned as the discoloration worsened and spread over the next few days, I telephoned the doctor again and left a message about the problem. No response. I called again. Still no response. After a month of no response, I gave up. My final word is that I think Dr. Akizuki is a competent, maybe even skilled Orthopedist. But somehow we got into an impossibly poor communication loop. I believe that my time is as important as my doctor's time. I don't believe I should have to chase a doctor down to find out what's happening with my health once I've engaged the doctor. I've heard about some pretty cool hip replacement technology going on at UCSF, so I'm turning my energy to finding out about it, and choosing a different Orthopedist. Sorry Dr. A. Hope our experience was just an aberration.\"]\n"
     ]
    }
   ],
   "source": [
    "print write1"
   ]
  },
  {
   "cell_type": "code",
   "execution_count": 101,
   "metadata": {
    "collapsed": false
   },
   "outputs": [
    {
     "name": "stdout",
     "output_type": "stream",
     "text": [
      "[23355, 5.0, \"I took my son to Dr. Saxena following a ruptured achilles tendon. He is an elite level athlete with college opportunities slipping with every week off field. BUT walking the rest of his life without a limp is most important! I found Dr. Saxena confident in his diagnosis and matter of fact in his prognosis. It was in his bio online with Palo Alto Medical Foundation that he specialized in Achilles work. So though he was the only Dr. available for consult Friday morning, I believe he was the right doctor. He came in before his scheduled surgeries to meet with us. We raced to get there so we would not be the cause of a late doctor. He did not rush through his exam. He spoke to my son, directly! He understood that as a junior in high school he was lookng at college and asked which ones. I booked my son's surgery for the following Tuesday. As an anxious mom, I sought a second opinion from a highly regarded orthopedist. He was wonderful too. Nice. But no more conversational than Dr. Saxena. In the end, we opted for the surgeon that performs 34 of these operations per week rather than the one that does 34 every couple of months. The preop meeting left me totally confident in the hands to which we had placed our son.Our post op appt was today, Dr Saxena asked a little more about my son and continued to form a relationship. I believe that he is interested in my son and he is invested in his progression through this injury and healing process.I would recommend Dr. Saxena to patients who realize their injury will take more than one appointment to solve if they can get through it in one appt boy are you lucky! He is very interested in the healing process. I did my research based on his body of work, not my stressed out first meeting, although I left the office totally confident in my choice and really only sought a second opinion I could not answer questions that well meaning friends had asked. I understand the stress people are under when faced with physical challenges and would encourage you to do your research and select your medical care provider based on their experience, specialty and if you can discover it, their personal passion for the procedure you are about to undertake. By the way, I too feel it matters little what your feet look like as long as you can put one in front of the other! Scars are just another story to tell. Good luck if you are researching this, I know you need it.PSI really liked his assistant...she did everything I asked of her, changed pharmacy for prescriptions, sent attendance letter to son's school...did you ask anything of her? Or try to talk to her for any length of time? Slow down with the negativity people...\"]\n"
     ]
    }
   ],
   "source": [
    "print write2"
   ]
  },
  {
   "cell_type": "code",
   "execution_count": 92,
   "metadata": {
    "collapsed": false
   },
   "outputs": [
    {
     "name": "stdout",
     "output_type": "stream",
     "text": [
      "<type 'str'>\n",
      "[21156, 5.0, \"I had a total hip replacement with Dr Callander last year on 129, so I'm over 1 year post op. Having the total hip completely changed my life! I'm only in my 40's but have had two hip surgeries prior to the total hip prior surgeries were not done by Dr. Callander. I was diagnosed with congenital hip dysplasia in my late 20's it was never diagnosed when I was younger. It's important to note that growing up I was extremely athletic  soccer, softball, track, etc. so to go from very active to literally not being able to walk normal in my late 20's was horrific. I visited several doctors before I was correctly diagnosed. My first surgery was around age 30 and because I was so young they opted NOT to do a total hip at that time and did a Periacetabular Osteotmy. This actually made my following years very difficult. In the end I don't think that was the right surgery for me, as it completely limited my range of motion and I still walked with an extremely pronounced limp, 1 year after that first surgery I had 2nd to remove excess bone growth after the Osteotmy, but again didn't bring much relief. I moved into my mid30's just living with what I was dealt, still active when I could be, but near the amount I was. I had 2 kids as well  but after my 1st child my hips became worse although during pregnancy they were great and after my 2nd child I pretty much immediately went back to CPMC. The doctor who performed my first 2 surgeries retired  and I loved him so I did my research and I found Dr. Callander. Every appointment Dr. Callander answered questions and he was realistic with managing my expectations. Because I had these prior surgeries my fearconcern was that I would have a total hip and see no change, that I would still have a severe limp, and pain. I went into surgery with the hope that at least the total hip would alleviate pain. Dr Callander also was very clear with me that he would try and fix the leg length discrepancy but he really wouldn't know more until he was in surgery. The prior surgery left me with 3 pen length screws holding things together. I woke up from surgery and from there it was an instant game changer  I could tell I was going to get my life back. I was up the same day w a walker and the PT therapists were great in hospital. I was discharged but had home care come for a few weeks, and then had outpatient therapy to build back strength in my hipleg. This is the part that is not easy so It's important you follow direction, take care of yourself, and push yourself hard during physical therapy. I literally was pain free after surgery and the best news was that Dr Callander was able to correct my leg length issues completely. I know not everyone has the same results but for me I feel like he saved me and I will forever be grateful. His staff, Mara, was amazing. I actually know at some point I'll need to have my other hip done, and I will absolutely see Dr Callander for that as well. Hands down  top notch surgeon!\"]\n"
     ]
    }
   ],
   "source": [
    "with open(\"Topic22_RR2.txt\", \"r\") as text_file:\n",
    "    lines = text_file.read()  #type string\n",
    "print type(lines)\n",
    "print lines\n"
   ]
  },
  {
   "cell_type": "code",
   "execution_count": 83,
   "metadata": {
    "collapsed": false
   },
   "outputs": [],
   "source": [
    "def most_representative_review(mytopic,Reviews_topics_df):\n",
    "    \"\"\" What review best represents a given topic?\n",
    "    Selects the review with the highest gamma-weights on one topic.\n",
    "    Accepts mytopic (an int corresponding to topic #) and the Rev x G matrix with rid, bid and gammas\"\"\"\n",
    "\n",
    "    #print(ids_gammas_df.head())#Check what df looks like prior to sorting\n",
    "\n",
    "    # Sort on a given topic\n",
    "    mysorted = Reviews_topics_df.sort(mytopic, axis=0, ascending=False)\n",
    "    idx = mysorted.index[0]# get index of top-ranking review for mytopic\n",
    "\n",
    "    RID = int(mysorted.loc[idx]['RID'])\n",
    "    print 'Index = ',idx, ' Starting RID: ',RID,' Topic: ',mytopic,'\\n'#Note that if you replace idx with 0, and print the results, it is not the same\n",
    "    #print(mysorted.loc[0]['RID'])# does not work\n",
    "\n",
    "    #from KAsql import query_SQL\n",
    "    sql = 'SELECT id, stars, comment FROM review WHERE id='+str(RID)+';'\n",
    "    rows = query_SQL(sql)\n",
    "\n",
    "    sqlid = rows[0][0]\n",
    "    stars = rows[0][1]\n",
    "    comment = rows[0][2]\n",
    "    \n",
    "    #Print statements\n",
    "    print sql,'\\n'\n",
    "    print '\\nTop review most related to topic: ',mytopic,'\\n'\n",
    "    print(mysorted.head(3))\n",
    "    print str(RID), sqlid, stars, comment"
   ]
  },
  {
   "cell_type": "code",
   "execution_count": 84,
   "metadata": {
    "collapsed": false
   },
   "outputs": [
    {
     "name": "stdout",
     "output_type": "stream",
     "text": [
      "Index =  4901  Starting RID:  17987  Topic:  17 \n",
      "\n",
      "USE ortho;\n"
     ]
    },
    {
     "ename": "IndexError",
     "evalue": "tuple index out of range",
     "output_type": "error",
     "traceback": [
      "\u001b[0;31m---------------------------------------------------------------------------\u001b[0m",
      "\u001b[0;31mIndexError\u001b[0m                                Traceback (most recent call last)",
      "\u001b[0;32m<ipython-input-84-be575f8f4c0c>\u001b[0m in \u001b[0;36m<module>\u001b[0;34m()\u001b[0m\n\u001b[0;32m----> 1\u001b[0;31m \u001b[0mmost_representative_review\u001b[0m\u001b[0;34m(\u001b[0m\u001b[0;36m17\u001b[0m\u001b[0;34m,\u001b[0m\u001b[0mids_gammas_df\u001b[0m\u001b[0;34m)\u001b[0m\u001b[0;34m\u001b[0m\u001b[0m\n\u001b[0m",
      "\u001b[0;32m<ipython-input-83-abd790fc9ffa>\u001b[0m in \u001b[0;36mmost_representative_review\u001b[0;34m(mytopic, Reviews_topics_df)\u001b[0m\n\u001b[1;32m     18\u001b[0m     \u001b[0mrows\u001b[0m \u001b[0;34m=\u001b[0m \u001b[0mquery_SQL\u001b[0m\u001b[0;34m(\u001b[0m\u001b[0msql\u001b[0m\u001b[0;34m)\u001b[0m\u001b[0;34m\u001b[0m\u001b[0m\n\u001b[1;32m     19\u001b[0m \u001b[0;34m\u001b[0m\u001b[0m\n\u001b[0;32m---> 20\u001b[0;31m     \u001b[0msqlid\u001b[0m \u001b[0;34m=\u001b[0m \u001b[0mrows\u001b[0m\u001b[0;34m[\u001b[0m\u001b[0;36m0\u001b[0m\u001b[0;34m]\u001b[0m\u001b[0;34m[\u001b[0m\u001b[0;36m0\u001b[0m\u001b[0;34m]\u001b[0m\u001b[0;34m\u001b[0m\u001b[0m\n\u001b[0m\u001b[1;32m     21\u001b[0m     \u001b[0mstars\u001b[0m \u001b[0;34m=\u001b[0m \u001b[0mrows\u001b[0m\u001b[0;34m[\u001b[0m\u001b[0;36m0\u001b[0m\u001b[0;34m]\u001b[0m\u001b[0;34m[\u001b[0m\u001b[0;36m1\u001b[0m\u001b[0;34m]\u001b[0m\u001b[0;34m\u001b[0m\u001b[0m\n\u001b[1;32m     22\u001b[0m     \u001b[0mcomment\u001b[0m \u001b[0;34m=\u001b[0m \u001b[0mrows\u001b[0m\u001b[0;34m[\u001b[0m\u001b[0;36m0\u001b[0m\u001b[0;34m]\u001b[0m\u001b[0;34m[\u001b[0m\u001b[0;36m2\u001b[0m\u001b[0;34m]\u001b[0m\u001b[0;34m\u001b[0m\u001b[0m\n",
      "\u001b[0;31mIndexError\u001b[0m: tuple index out of range"
     ]
    }
   ],
   "source": [
    "most_representative_review(17,ids_gammas_df)"
   ]
  },
  {
   "cell_type": "code",
   "execution_count": 110,
   "metadata": {
    "collapsed": false
   },
   "outputs": [],
   "source": [
    "a = 1; b=['hip','knee','mri']\n",
    "word = 'mri'\n",
    "\n",
    "if a==1 and word not in b:\n",
    "    print 'true'"
   ]
  },
  {
   "cell_type": "code",
   "execution_count": null,
   "metadata": {
    "collapsed": true
   },
   "outputs": [],
   "source": []
  }
 ],
 "metadata": {
  "kernelspec": {
   "display_name": "Python 2",
   "language": "python",
   "name": "python2"
  },
  "language_info": {
   "codemirror_mode": {
    "name": "ipython",
    "version": 2
   },
   "file_extension": ".py",
   "mimetype": "text/x-python",
   "name": "python",
   "nbconvert_exporter": "python",
   "pygments_lexer": "ipython2",
   "version": "2.7.10"
  }
 },
 "nbformat": 4,
 "nbformat_minor": 0
}
