{
 "cells": [
  {
   "cell_type": "code",
   "execution_count": 522,
   "metadata": {
    "collapsed": true
   },
   "outputs": [],
   "source": [
    "from gensim import corpora, models, similarities, utils\n",
    "import numpy as np\n",
    "import pandas as pd\n",
    "import nltk\n",
    "import cPickle as pickle\n",
    "import re"
   ]
  },
  {
   "cell_type": "code",
   "execution_count": 523,
   "metadata": {
    "collapsed": false
   },
   "outputs": [],
   "source": [
    "NWORDS_SHOWN = 15\n",
    "SELECTED = [1,2,4,8,11,14,16,25]#topics to focus on\n",
    "\n",
    "lda = pickle.load(open('lda_ortho_30t.p','rb'))"
   ]
  },
  {
   "cell_type": "code",
   "execution_count": 524,
   "metadata": {
    "collapsed": false
   },
   "outputs": [],
   "source": [
    "# texts = corpora.Dictionary.load('orthopedists.dict')\n",
    "# print texts\n",
    "#corpus = [dictionary.doc2bow(text) for text in texts]"
   ]
  },
  {
   "cell_type": "code",
   "execution_count": 541,
   "metadata": {
    "collapsed": false
   },
   "outputs": [],
   "source": [
    "# Make topic_word_df matrix:  Without filtering on POS\n",
    "# Pull words lists for selected topics\n",
    "\n",
    "#Initialize\n",
    "\n",
    "topic_word_df=pd.DataFrame()\n",
    "str_list=[]\n",
    "words = []\n",
    "\n",
    "for sel_topic in SELECTED:\n",
    "    topic = lda.show_topic(sel_topic, NWORDS_SHOWN)#type list\n",
    "    str_list=pd.DataFrame([(tup[1].encode(\"utf-8\").replace(',','')) for tup in topic]).transpose() \n",
    "    str_list.insert(0,'Topic',sel_topic)\n",
    "    topic_word_df = topic_word_df.append([str_list],ignore_index=True)\n",
    "\n",
    "topic_word_df.ix[7,3]='image'#replace a name with a later word in this \n",
    "#print topic_word_df\n"
   ]
  },
  {
   "cell_type": "code",
   "execution_count": 542,
   "metadata": {
    "collapsed": false
   },
   "outputs": [],
   "source": [
    "def filter_POS(str_list, pos_tup):\n",
    "    # Remove less informative parts of speech from the topics, so word\n",
    "    # RB = AVB; CD = Cardinal Number; PRP/PRP$ = personal pronoun; RB=ADVERB; IN = Preposition\n",
    "    #print pos_tup,'\\n'\n",
    "\n",
    "    # dict of topic, word pairs \n",
    "    table_dict={}\n",
    "    \n",
    "    for c in str_list.columns:\n",
    "        if pos_tup[c][1]!='CD' and pos_tup[c][1]!='PRP' and pos_tup[c][1]!='IN' and pos_tup[c][1]!='RB' and pos_tup[c][1]!='CC':\n",
    "        #if pos_tup[c][1]== [stop for stop in pow_stop]:\n",
    "            table_dict[c+1]=str_list[c][0]#set key +1 because topics start at 1 not 0\n",
    "            \n",
    "    #pow_stop = ['CD','PRP','IN','RB']#tried to clean if statement with loop didn't work\n",
    "    return table_dict"
   ]
  },
  {
   "cell_type": "code",
   "execution_count": 543,
   "metadata": {
    "collapsed": false
   },
   "outputs": [
    {
     "name": "stdout",
     "output_type": "stream",
     "text": [
      "1       0     1     2    3          4           5    6         7      8   9   \\\n",
      "0  knees  knee  pain  hip  surgeries  orthopedic  one  surgeons  great   &   \n",
      "1    NNS   VBP    NN   NN        NNS          JJ   CD       NNS     JJ  CC   \n",
      "\n",
      "         10    11    12    13    14  \n",
      "0  patellas  time  left  i've  life  \n",
      "1       NNS    NN   VBN    JJ    NN   /n\n",
      "             0        1     2      3          4           5         6      7  \\\n",
      "0        knees     knee  pain    hip  surgeries  orthopedic  surgeons  great   \n",
      "0          hip     pain  knee   time        i'm        care      good    guy   \n",
      "0         time     care  best  staff    treated      office  shoulder   good   \n",
      "0         knee     pain  time  years    running  orthopedic       saw   work   \n",
      "0  appointment  minutes  time  staff    waiting         day      told    me,   \n",
      "\n",
      "             8           9      10       11      12   13  Topic #  \n",
      "0     patellas        time    left     i've    life  NaN        1  \n",
      "0       labrum         day    hips     left     NaN  NaN        2  \n",
      "0  appointment  orthopedic  always  patient   great  NaN        4  \n",
      "0         good        many    best     team     NaN  NaN        8  \n",
      "0         late       first     say     luke  office  mri       11  \n"
     ]
    }
   ],
   "source": [
    "# CREATE FINAL DF of FILTERED TOP-WORD MAPPINGS FOR TABLE ON WEBSITE\n",
    "\n",
    "# initialize\n",
    "Ftopic_word_df=pd.DataFrame()# FINAL FILTERED TOP-WORD MAPPING DATAFRAME FOR TABLE ON WEBSITE\n",
    "str_list=[]\n",
    "frames = []# list of \"topic-word map\" dataframes for each topic\n",
    "\n",
    "# loop over topics to get topic-word tuples\n",
    "for sel_topic in selected:\n",
    "    topic = lda.show_topic(sel_topic, NWORDS_SHOWN)#type list\n",
    "    str_list=pd.DataFrame([(tup[1].encode(\"utf-8\")) for tup in topic]).transpose() \n",
    "    #print(str_list)\n",
    "    \n",
    "    # Get Parts of Speech for that selected topic's words > pos DF\n",
    "    words = str_list.loc[0,:]\n",
    "    pos_tup = nltk.pos_tag(words)\n",
    "    # for debugging\n",
    "    if sel_topic==1:\n",
    "        pos = pd.DataFrame([t for t in pos_tup]).transpose()\n",
    "        print sel_topic, pos,'/n'\n",
    "\n",
    "    # Make a dict & DF that filters the topic-word tuples by POS\n",
    "    table_dict = filter_POS(str_list, pos_tup)\n",
    "    topics_filtered_df = pd.DataFrame([t for t in table_dict.values()])\n",
    "    topics_filtered_df = topics_filtered_df.transpose()\n",
    "    topics_filtered_df.index = np.arange(0,topics_filtered_df.shape[0])\n",
    "    topics_filtered_df.insert(0,'Topic #',sel_topic)\n",
    "    \n",
    "    #topics_filtered_df.insert(-1,'POS',pos_tup[:][1])\n",
    "    #print topics_filtered_df.head(5)\n",
    "    row_idx = selected.index(sel_topic)\n",
    "    frames.insert(row_idx, topics_filtered_df)\n",
    "\n",
    "Ftopic_word_df = pd.concat(frames)\n",
    "\n",
    "print Ftopic_word_df.head(5)"
   ]
  },
  {
   "cell_type": "code",
   "execution_count": 544,
   "metadata": {
    "collapsed": false
   },
   "outputs": [
    {
     "data": {
      "text/html": [
       "<div style=\"max-height:1000px;max-width:1500px;overflow:auto;\">\n",
       "<table border=\"1\" class=\"dataframe\">\n",
       "  <thead>\n",
       "    <tr style=\"text-align: right;\">\n",
       "      <th></th>\n",
       "      <th>Topic</th>\n",
       "      <th>0</th>\n",
       "      <th>1</th>\n",
       "      <th>2</th>\n",
       "      <th>3</th>\n",
       "      <th>4</th>\n",
       "      <th>5</th>\n",
       "      <th>6</th>\n",
       "      <th>7</th>\n",
       "      <th>8</th>\n",
       "      <th>9</th>\n",
       "      <th>10</th>\n",
       "      <th>11</th>\n",
       "      <th>12</th>\n",
       "      <th>13</th>\n",
       "      <th>14</th>\n",
       "    </tr>\n",
       "  </thead>\n",
       "  <tbody>\n",
       "    <tr>\n",
       "      <th>0</th>\n",
       "      <td>1</td>\n",
       "      <td>knees</td>\n",
       "      <td>knee</td>\n",
       "      <td>pain</td>\n",
       "      <td>hip</td>\n",
       "      <td>surgeries</td>\n",
       "      <td>orthopedic</td>\n",
       "      <td>one</td>\n",
       "      <td>surgeons</td>\n",
       "      <td>great</td>\n",
       "      <td>&amp;</td>\n",
       "      <td>patellas</td>\n",
       "      <td>time</td>\n",
       "      <td>left</td>\n",
       "      <td>i've</td>\n",
       "      <td>life</td>\n",
       "    </tr>\n",
       "    <tr>\n",
       "      <th>1</th>\n",
       "      <td>2</td>\n",
       "      <td>hip</td>\n",
       "      <td>pain</td>\n",
       "      <td>knee</td>\n",
       "      <td>time</td>\n",
       "      <td>right</td>\n",
       "      <td>back</td>\n",
       "      <td>i'm</td>\n",
       "      <td>care</td>\n",
       "      <td>good</td>\n",
       "      <td>guy</td>\n",
       "      <td>labrum</td>\n",
       "      <td>day</td>\n",
       "      <td>since</td>\n",
       "      <td>hips</td>\n",
       "      <td>left</td>\n",
       "    </tr>\n",
       "    <tr>\n",
       "      <th>2</th>\n",
       "      <td>4</td>\n",
       "      <td>time</td>\n",
       "      <td>really</td>\n",
       "      <td>care</td>\n",
       "      <td>like</td>\n",
       "      <td>best</td>\n",
       "      <td>staff</td>\n",
       "      <td>treated</td>\n",
       "      <td>office</td>\n",
       "      <td>shoulder</td>\n",
       "      <td>good</td>\n",
       "      <td>appointment</td>\n",
       "      <td>orthopedic</td>\n",
       "      <td>always</td>\n",
       "      <td>patient</td>\n",
       "      <td>great</td>\n",
       "    </tr>\n",
       "    <tr>\n",
       "      <th>3</th>\n",
       "      <td>8</td>\n",
       "      <td>knee</td>\n",
       "      <td>pain</td>\n",
       "      <td>much</td>\n",
       "      <td>time</td>\n",
       "      <td>years</td>\n",
       "      <td>running</td>\n",
       "      <td>orthopedic</td>\n",
       "      <td>saw</td>\n",
       "      <td>work</td>\n",
       "      <td>good</td>\n",
       "      <td>many</td>\n",
       "      <td>without</td>\n",
       "      <td>best</td>\n",
       "      <td>even</td>\n",
       "      <td>team</td>\n",
       "    </tr>\n",
       "    <tr>\n",
       "      <th>4</th>\n",
       "      <td>11</td>\n",
       "      <td>appointment</td>\n",
       "      <td>minutes</td>\n",
       "      <td>time</td>\n",
       "      <td>staff</td>\n",
       "      <td>waiting</td>\n",
       "      <td>day</td>\n",
       "      <td>told</td>\n",
       "      <td>one</td>\n",
       "      <td>me</td>\n",
       "      <td>late</td>\n",
       "      <td>first</td>\n",
       "      <td>say</td>\n",
       "      <td>luke</td>\n",
       "      <td>office</td>\n",
       "      <td>mri</td>\n",
       "    </tr>\n",
       "  </tbody>\n",
       "</table>\n",
       "</div>"
      ],
      "text/plain": [
       "   Topic            0        1     2      3          4           5  \\\n",
       "0      1        knees     knee  pain    hip  surgeries  orthopedic   \n",
       "1      2          hip     pain  knee   time      right        back   \n",
       "2      4         time   really  care   like       best       staff   \n",
       "3      8         knee     pain  much   time      years     running   \n",
       "4     11  appointment  minutes  time  staff    waiting         day   \n",
       "\n",
       "            6         7         8     9           10          11      12  \\\n",
       "0         one  surgeons     great     &     patellas        time    left   \n",
       "1         i'm      care      good   guy       labrum         day   since   \n",
       "2     treated    office  shoulder  good  appointment  orthopedic  always   \n",
       "3  orthopedic       saw      work  good         many     without    best   \n",
       "4        told       one        me  late        first         say    luke   \n",
       "\n",
       "        13     14  \n",
       "0     i've   life  \n",
       "1     hips   left  \n",
       "2  patient  great  \n",
       "3     even   team  \n",
       "4   office    mri  "
      ]
     },
     "execution_count": 544,
     "metadata": {},
     "output_type": "execute_result"
    }
   ],
   "source": [
    "topic_word_df.head(5)"
   ]
  },
  {
   "cell_type": "code",
   "execution_count": 545,
   "metadata": {
    "collapsed": false
   },
   "outputs": [
    {
     "data": {
      "text/html": [
       "<div style=\"max-height:1000px;max-width:1500px;overflow:auto;\">\n",
       "<table border=\"1\" class=\"dataframe\">\n",
       "  <thead>\n",
       "    <tr style=\"text-align: right;\">\n",
       "      <th></th>\n",
       "      <th>0</th>\n",
       "      <th>1</th>\n",
       "      <th>2</th>\n",
       "      <th>3</th>\n",
       "      <th>4</th>\n",
       "      <th>5</th>\n",
       "      <th>6</th>\n",
       "      <th>7</th>\n",
       "      <th>8</th>\n",
       "      <th>9</th>\n",
       "      <th>10</th>\n",
       "      <th>11</th>\n",
       "      <th>12</th>\n",
       "      <th>13</th>\n",
       "      <th>Topic #</th>\n",
       "    </tr>\n",
       "  </thead>\n",
       "  <tbody>\n",
       "    <tr>\n",
       "      <th>0</th>\n",
       "      <td>knees</td>\n",
       "      <td>knee</td>\n",
       "      <td>pain</td>\n",
       "      <td>hip</td>\n",
       "      <td>surgeries</td>\n",
       "      <td>orthopedic</td>\n",
       "      <td>surgeons</td>\n",
       "      <td>great</td>\n",
       "      <td>patellas</td>\n",
       "      <td>time</td>\n",
       "      <td>left</td>\n",
       "      <td>i've</td>\n",
       "      <td>life</td>\n",
       "      <td>NaN</td>\n",
       "      <td>1</td>\n",
       "    </tr>\n",
       "    <tr>\n",
       "      <th>0</th>\n",
       "      <td>hip</td>\n",
       "      <td>pain</td>\n",
       "      <td>knee</td>\n",
       "      <td>time</td>\n",
       "      <td>i'm</td>\n",
       "      <td>care</td>\n",
       "      <td>good</td>\n",
       "      <td>guy</td>\n",
       "      <td>labrum</td>\n",
       "      <td>day</td>\n",
       "      <td>hips</td>\n",
       "      <td>left</td>\n",
       "      <td>NaN</td>\n",
       "      <td>NaN</td>\n",
       "      <td>2</td>\n",
       "    </tr>\n",
       "    <tr>\n",
       "      <th>0</th>\n",
       "      <td>time</td>\n",
       "      <td>care</td>\n",
       "      <td>best</td>\n",
       "      <td>staff</td>\n",
       "      <td>treated</td>\n",
       "      <td>office</td>\n",
       "      <td>shoulder</td>\n",
       "      <td>good</td>\n",
       "      <td>appointment</td>\n",
       "      <td>orthopedic</td>\n",
       "      <td>always</td>\n",
       "      <td>patient</td>\n",
       "      <td>great</td>\n",
       "      <td>NaN</td>\n",
       "      <td>4</td>\n",
       "    </tr>\n",
       "    <tr>\n",
       "      <th>0</th>\n",
       "      <td>knee</td>\n",
       "      <td>pain</td>\n",
       "      <td>time</td>\n",
       "      <td>years</td>\n",
       "      <td>running</td>\n",
       "      <td>orthopedic</td>\n",
       "      <td>saw</td>\n",
       "      <td>work</td>\n",
       "      <td>good</td>\n",
       "      <td>many</td>\n",
       "      <td>best</td>\n",
       "      <td>team</td>\n",
       "      <td>NaN</td>\n",
       "      <td>NaN</td>\n",
       "      <td>8</td>\n",
       "    </tr>\n",
       "    <tr>\n",
       "      <th>0</th>\n",
       "      <td>appointment</td>\n",
       "      <td>minutes</td>\n",
       "      <td>time</td>\n",
       "      <td>staff</td>\n",
       "      <td>waiting</td>\n",
       "      <td>day</td>\n",
       "      <td>told</td>\n",
       "      <td>me,</td>\n",
       "      <td>late</td>\n",
       "      <td>first</td>\n",
       "      <td>say</td>\n",
       "      <td>luke</td>\n",
       "      <td>office</td>\n",
       "      <td>mri</td>\n",
       "      <td>11</td>\n",
       "    </tr>\n",
       "  </tbody>\n",
       "</table>\n",
       "</div>"
      ],
      "text/plain": [
       "             0        1     2      3          4           5         6      7  \\\n",
       "0        knees     knee  pain    hip  surgeries  orthopedic  surgeons  great   \n",
       "0          hip     pain  knee   time        i'm        care      good    guy   \n",
       "0         time     care  best  staff    treated      office  shoulder   good   \n",
       "0         knee     pain  time  years    running  orthopedic       saw   work   \n",
       "0  appointment  minutes  time  staff    waiting         day      told    me,   \n",
       "\n",
       "             8           9      10       11      12   13  Topic #  \n",
       "0     patellas        time    left     i've    life  NaN        1  \n",
       "0       labrum         day    hips     left     NaN  NaN        2  \n",
       "0  appointment  orthopedic  always  patient   great  NaN        4  \n",
       "0         good        many    best     team     NaN  NaN        8  \n",
       "0         late       first     say     luke  office  mri       11  "
      ]
     },
     "execution_count": 545,
     "metadata": {},
     "output_type": "execute_result"
    }
   ],
   "source": [
    "Ftopic_word_df.head(5)"
   ]
  },
  {
   "cell_type": "code",
   "execution_count": 488,
   "metadata": {
    "collapsed": false
   },
   "outputs": [],
   "source": [
    "### How to pull words out of dict\n",
    "#print table_dict.items()\n",
    "#mywords = table_dict.values()\n",
    "#print mywords"
   ]
  },
  {
   "cell_type": "code",
   "execution_count": 489,
   "metadata": {
    "collapsed": true
   },
   "outputs": [],
   "source": [
    "# save word df\n",
    "\n",
    "pickle_out = open('table_dict.p', 'wb')\n",
    "pickle.dump(table_dict, pickle_out)\n",
    "\n",
    "# pickle_out = open('topic_word_df.p', 'wb')\n",
    "# pickle.dump(topic_word_df, pickle_out)\n",
    "\n",
    "# pickle_out = open('Ftopic_word_df.p', 'wb')\n",
    "# pickle.dump(Ftopic_word_df, pickle_out)"
   ]
  },
  {
   "cell_type": "code",
   "execution_count": 320,
   "metadata": {
    "collapsed": false
   },
   "outputs": [
    {
     "ename": "TypeError",
     "evalue": "'newline' is an invalid keyword argument for this function",
     "output_type": "error",
     "traceback": [
      "\u001b[0;31m---------------------------------------------------------------------------\u001b[0m",
      "\u001b[0;31mTypeError\u001b[0m                                 Traceback (most recent call last)",
      "\u001b[0;32m<ipython-input-320-b7206e1a5607>\u001b[0m in \u001b[0;36m<module>\u001b[0;34m()\u001b[0m\n\u001b[1;32m      9\u001b[0m     \u001b[0;32mprint\u001b[0m\u001b[0;34m(\u001b[0m\u001b[0;34m'\\nCSV file saved.\\n'\u001b[0m\u001b[0;34m)\u001b[0m\u001b[0;34m\u001b[0m\u001b[0m\n\u001b[1;32m     10\u001b[0m \u001b[0;34m\u001b[0m\u001b[0m\n\u001b[0;32m---> 11\u001b[0;31m \u001b[0mwrite_csv\u001b[0m\u001b[0;34m(\u001b[0m\u001b[0;34m'table_dict.csv'\u001b[0m\u001b[0;34m,\u001b[0m \u001b[0mmywords\u001b[0m\u001b[0;34m)\u001b[0m\u001b[0;34m\u001b[0m\u001b[0m\n\u001b[0m",
      "\u001b[0;32m<ipython-input-320-b7206e1a5607>\u001b[0m in \u001b[0;36mwrite_csv\u001b[0;34m(filename, words)\u001b[0m\n\u001b[1;32m      2\u001b[0m \u001b[0;34m\u001b[0m\u001b[0m\n\u001b[1;32m      3\u001b[0m \u001b[0;32mdef\u001b[0m \u001b[0mwrite_csv\u001b[0m\u001b[0;34m(\u001b[0m\u001b[0mfilename\u001b[0m\u001b[0;34m,\u001b[0m \u001b[0mwords\u001b[0m\u001b[0;34m)\u001b[0m\u001b[0;34m:\u001b[0m\u001b[0;34m\u001b[0m\u001b[0m\n\u001b[0;32m----> 4\u001b[0;31m     \u001b[0;32mwith\u001b[0m \u001b[0mopen\u001b[0m\u001b[0;34m(\u001b[0m\u001b[0mfilename\u001b[0m\u001b[0;34m,\u001b[0m\u001b[0;34m'w'\u001b[0m\u001b[0;34m,\u001b[0m\u001b[0mnewline\u001b[0m\u001b[0;34m=\u001b[0m\u001b[0;34m''\u001b[0m\u001b[0;34m)\u001b[0m \u001b[0;32mas\u001b[0m \u001b[0mcsvfile\u001b[0m\u001b[0;34m:\u001b[0m\u001b[0;34m\u001b[0m\u001b[0m\n\u001b[0m\u001b[1;32m      5\u001b[0m         wr = csv.writer(csvfile, delimiter=',',\n\u001b[1;32m      6\u001b[0m                         quotechar='|',quoting=csv.QUOTE_MINIMAL, lineterminator='\\n')\n",
      "\u001b[0;31mTypeError\u001b[0m: 'newline' is an invalid keyword argument for this function"
     ]
    }
   ],
   "source": [
    "import csv\n",
    "\n",
    "def write_csv(filename, words):\n",
    "    with open(filename,'w',newline='') as csvfile:\n",
    "        wr = csv.writer(csvfile, delimiter=',',\n",
    "                        quotechar='|',quoting=csv.QUOTE_MINIMAL, lineterminator='\\n')\n",
    "        #wr.writerow(table_dict.keys())\n",
    "        wr.writerows(words) \n",
    "    print('\\nCSV file saved.\\n')\n",
    "    \n",
    "write_csv('table_dict.csv', mywords)"
   ]
  },
  {
   "cell_type": "code",
   "execution_count": 540,
   "metadata": {
    "collapsed": false
   },
   "outputs": [
    {
     "name": "stdout",
     "output_type": "stream",
     "text": [
      "[[0 1 2]\n",
      " [3 4 5]]\n",
      "\n",
      "Dataframe = \n",
      "   0  1  2\n",
      "0  0  1  2\n",
      "1  3  4  5\n",
      "\n",
      "Dataframe = \n",
      "   0  1  2\n",
      "3  0  1  2\n",
      "4  3  4  5\n"
     ]
    }
   ],
   "source": [
    "a = np.array([[0,1,2],[3,4,5]])\n",
    "print a\n",
    "temp = pd.DataFrame(a)\n",
    "print '\\nDataframe = \\n',temp\n",
    "\n",
    "temp.index = [3,4]\n",
    "print '\\nDataframe = \\n',temp"
   ]
  },
  {
   "cell_type": "code",
   "execution_count": null,
   "metadata": {
    "collapsed": true
   },
   "outputs": [],
   "source": []
  }
 ],
 "metadata": {
  "kernelspec": {
   "display_name": "Python 2",
   "language": "python",
   "name": "python2"
  },
  "language_info": {
   "codemirror_mode": {
    "name": "ipython",
    "version": 2
   },
   "file_extension": ".py",
   "mimetype": "text/x-python",
   "name": "python",
   "nbconvert_exporter": "python",
   "pygments_lexer": "ipython2",
   "version": "2.7.10"
  }
 },
 "nbformat": 4,
 "nbformat_minor": 0
}
