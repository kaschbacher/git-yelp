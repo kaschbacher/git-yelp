{
 "cells": [
  {
   "cell_type": "code",
   "execution_count": 117,
   "metadata": {
    "collapsed": false
   },
   "outputs": [],
   "source": [
    "# Select the review that bests represents a given topic\n",
    "# Select the business with the highest proportion of a given topic\n",
    "\n",
    "import cPickle as pickle\n",
    "from gensim import corpora, models, similarities, utils\n",
    "import numpy as np\n",
    "import pandas as pd\n",
    "from KAsql import query_SQL\n",
    "import pyLDAvis.gensim\n",
    "import pyLDAvis"
   ]
  },
  {
   "cell_type": "code",
   "execution_count": 118,
   "metadata": {
    "collapsed": true
   },
   "outputs": [],
   "source": [
    "#lda = pickle.load(open('lda.p','rb'))\n",
    "#lda.print_topics()"
   ]
  },
  {
   "cell_type": "code",
   "execution_count": 124,
   "metadata": {
    "collapsed": false
   },
   "outputs": [
    {
     "data": {
      "text/html": [
       "<div style=\"max-height:1000px;max-width:1500px;overflow:auto;\">\n",
       "<table border=\"1\" class=\"dataframe\">\n",
       "  <thead>\n",
       "    <tr style=\"text-align: right;\">\n",
       "      <th></th>\n",
       "      <th>1</th>\n",
       "      <th>2</th>\n",
       "      <th>3</th>\n",
       "      <th>4</th>\n",
       "      <th>5</th>\n",
       "      <th>6</th>\n",
       "      <th>7</th>\n",
       "      <th>8</th>\n",
       "      <th>9</th>\n",
       "      <th>10</th>\n",
       "    </tr>\n",
       "    <tr>\n",
       "      <th>BID</th>\n",
       "      <th></th>\n",
       "      <th></th>\n",
       "      <th></th>\n",
       "      <th></th>\n",
       "      <th></th>\n",
       "      <th></th>\n",
       "      <th></th>\n",
       "      <th></th>\n",
       "      <th></th>\n",
       "      <th></th>\n",
       "    </tr>\n",
       "  </thead>\n",
       "  <tbody>\n",
       "    <tr>\n",
       "      <th>189</th>\n",
       "      <td>0.026678</td>\n",
       "      <td>0.222100</td>\n",
       "      <td>0.016266</td>\n",
       "      <td>0.120362</td>\n",
       "      <td>0.126442</td>\n",
       "      <td>0.149261</td>\n",
       "      <td>0.026810</td>\n",
       "      <td>0.051409</td>\n",
       "      <td>0.113959</td>\n",
       "      <td>0.146712</td>\n",
       "    </tr>\n",
       "    <tr>\n",
       "      <th>190</th>\n",
       "      <td>0.060923</td>\n",
       "      <td>0.143381</td>\n",
       "      <td>0.022829</td>\n",
       "      <td>0.057863</td>\n",
       "      <td>0.090280</td>\n",
       "      <td>0.131948</td>\n",
       "      <td>0.098921</td>\n",
       "      <td>0.175391</td>\n",
       "      <td>0.049655</td>\n",
       "      <td>0.168808</td>\n",
       "    </tr>\n",
       "    <tr>\n",
       "      <th>191</th>\n",
       "      <td>0.041454</td>\n",
       "      <td>0.253812</td>\n",
       "      <td>0.043703</td>\n",
       "      <td>0.061581</td>\n",
       "      <td>0.110030</td>\n",
       "      <td>0.054151</td>\n",
       "      <td>0.136972</td>\n",
       "      <td>0.154059</td>\n",
       "      <td>0.064457</td>\n",
       "      <td>0.079781</td>\n",
       "    </tr>\n",
       "  </tbody>\n",
       "</table>\n",
       "</div>"
      ],
      "text/plain": [
       "           1         2         3         4         5         6         7   \\\n",
       "BID                                                                         \n",
       "189  0.026678  0.222100  0.016266  0.120362  0.126442  0.149261  0.026810   \n",
       "190  0.060923  0.143381  0.022829  0.057863  0.090280  0.131948  0.098921   \n",
       "191  0.041454  0.253812  0.043703  0.061581  0.110030  0.054151  0.136972   \n",
       "\n",
       "           8         9         10  \n",
       "BID                                \n",
       "189  0.051409  0.113959  0.146712  \n",
       "190  0.175391  0.049655  0.168808  \n",
       "191  0.154059  0.064457  0.079781  "
      ]
     },
     "execution_count": 124,
     "metadata": {},
     "output_type": "execute_result"
    }
   ],
   "source": [
    "# Load dfs with gammas for all reviews and averaged by business/doctor\n",
    "# All reviews\n",
    "ids_gammas_df = pickle.load(open('ids_gammas_df.p', 'rb'))#actually np array until I rerun NLP_all_reviews-LDA\n",
    "ids_gammas_df.head(3)\n",
    "\n",
    "# Avg gamma for each doctor/business\n",
    "bid_gmeans = pickle.load(open('bid_gmeans.p', 'rb'))\n",
    "bid_gmeans.head(3)"
   ]
  },
  {
   "cell_type": "code",
   "execution_count": 140,
   "metadata": {
    "collapsed": false
   },
   "outputs": [],
   "source": [
    "def three_representative_reviews(mytopic,ids_gammas_df):\n",
    "    \"\"\"What 3 reviews best represent a given topic?\n",
    "    Those with the highest gamma-weights on one topic\n",
    "    Revise to print top 3 reviews and see if they are consistent and validate with stars\n",
    "    - use these reviews to help define & validate each topic\"\"\"\n",
    "\n",
    "    #ids_gammas_df.head()#Check what df looks like prior to sorting\n",
    "\n",
    "    # Sort on a given topic\n",
    "    mysorted = ids_gammas_df.sort(mytopic, axis=0, ascending=False)\n",
    "    idx = mysorted.index[0:3]# get index of top-ranking review for mytopic\n",
    "\n",
    "    RID = mysorted.loc[idx]['RID']#Note that if you replace idx with 0, and print the results, it is not the same\n",
    "    RIDs = [str(int(value)) for value in RID.values]#list of strings (use int to get rid of decimal)\n",
    "\n",
    "    #For debugging\n",
    "    #print 'Topic: ',mytopic,'\\n'\n",
    "    #print 'Index: ',idx\n",
    "    print 'RID: ',RID.values,'\\n'#type Series\n",
    "    \n",
    "    # Pull 3 reviews, and see if they appear to represent one topic\n",
    "    #from KAsql import query_SQL\n",
    "\n",
    "    # SQL query uses my function\n",
    "    #from KAsql import query_SQL\n",
    "    sql = 'SELECT id, stars, comment FROM review WHERE id='+RIDs[0]+' or id='+RIDs[1]+' or id='+RIDs[2]+';'\n",
    "    rows = query_SQL(sql)\n",
    "\n",
    "    sqlRID=[];stars=[];comment=''\n",
    "    sqlRID = rows[:][0]\n",
    "    stars = rows[:][1]\n",
    "    comment = rows[:][2]\n",
    "\n",
    "    # Print Statements\n",
    "    print sql,'\\n'\n",
    "    print '\\nTop three reviews most related to topic: ',mytopic,'\\n'\n",
    "    print mysorted.head(3),'\\n'#Confirm RIDs match with sql data\n",
    "\n",
    "    # For some reason rows are printed in opposite order from listing\n",
    "    for row in rows:\n",
    "        print row[0],row[1],row[2],'\\n'"
   ]
  },
  {
   "cell_type": "code",
   "execution_count": 141,
   "metadata": {
    "collapsed": false
   },
   "outputs": [
    {
     "name": "stdout",
     "output_type": "stream",
     "text": [
      "RID:  [ 3097.  3719.  3273.] \n",
      "\n",
      "SELECT id, stars, comment FROM review WHERE id=3097 or id=3719 or id=3273; \n",
      "\n",
      "\n",
      "Top three reviews most related to topic:  1 \n",
      "\n",
      "       RID  BID         1         2         3         4         5         6  \\\n",
      "2428  3097  273  0.995908  0.000455  0.000455  0.000455  0.000455  0.000455   \n",
      "3050  3719  294  0.995908  0.000455  0.000455  0.000455  0.000455  0.000455   \n",
      "2604  3273  281  0.995832  0.000463  0.000463  0.000463  0.000463  0.000463   \n",
      "\n",
      "             7         8         9        10  \n",
      "2428  0.000455  0.000455  0.000455  0.000455  \n",
      "3050  0.000455  0.000455  0.000455  0.000455  \n",
      "2604  0.000463  0.000463  0.000463  0.000463   \n",
      "\n",
      "3097 5.0 In the past week, I've had two appointments with Christy Collinson for a Paraguard IUD consultation and insertion. My entire experience could not have been any better. Mind you, I say this as someone who, mere hours ago, was having the *inside* of her nevercarriedababy uterus measured by this woman. Such experiences make me marvel all the more that the human population has reached the size it is. If this is what uterine measurement is like, I honestly do not want to know what labor and baby kicking feel like. And now that I have an IUD I won't need to!I got my Paraguard this morning. Christy was mercifully swift and gentle: if the entire actual process was a full five minutes by stopwatch I'd be surprised. I went right to work and have been here all day with no problems and, magically, nary a cramp, though I expect they may make an appearance after the two morning Aleve I was told to take wear off.All of the front office and physician assistant service was well managed, polite and kindly. I got appointments with Christy quickly. Morning appointments were widely available, leaving most of my work day free, which I appreciate. During my IUD consultation, Christy answered all of my questions, did a thorough check of my medical history, walked me through everything, told me exactly what to expect and what the order of operations was, and gave me plenty of reading material.If you're considering an IUD, your insertion appointment will take place a few days into your period. It's easier on you that way because your uterus and cervix are softer and more open. Christy's schedule and front office know this and so it's not difficult to schedule, as it may sound. The evening before, you take one misoprostal to soften your cervix, and you take two Aleve or Advil in the morning before your appointment. All of this, together, works to make it easier, believe me. I had prepared myself for so much worse, and this was shorter than some of my pap smears. But don't read that the wrong way: Christy is careful and has never perforated a uterus, which with related infections is the source of most IUD issues women end up having. And the icing on the cake? For the first time, ever, no one here either assumed I want children or questioned me about why I don't, when I said I don't. My wishes were just respected right out of the gate. Amazing! It shouldn't be unusual, but it is.I'll update if I have any changes, but for now just couldn't be happier. \n",
      "\n",
      "3273 5.0 It has been a week since my visit with Dr. Mabrie and I am extremely happy with the results. As a stylist, I am very critical with details and suitability when it comes to determining the color, cut and style for my clients. Also, as a salon manager, I am also huge on professionalism and service. I was referred to Dr. Mabrie by a friend. I'm not new to facial aesthetics, and has been through enough disappointing experiences to develop a very meticulous eye for what looks right and what does not. The moment I was in Dr. Mabrie's chair, he examined my features and recommended certain services. The consultation was thorough and he instilled full confidence in me and that I was in good hands....Yes, he is pricey, but for quality work... its priceless. I guess I can relate to this because being a stylist, you have to understand the value behind the quality of service and results you are giving to your clients. Clients who complained about prices, usually don't appreciate great work... Although I had a budget in mind just for fillers, I wanted great results. I got restlayne and fillers, when I only had fillers on the agenda. But I needed it..... and the result speaks for itself. Dr.Mabrie also recommended voluma for my chin in the future and mentioned that great work can take time.... Sounds familiar!!! I tell this to clients who wants me to take them from dark colored hair to blonde over night or show a photograph of a fine hair celeb when they have coarse curly hair. Its bothersome to read reviews from patients complaining about their results, but they need to understand the face, body, hair etc... can only be or do what it can at a certain and will react different anytime youre alternating it's natural state. Only a true professional who values quality and integrity will tell you that. At check out, Dr. Mabrie and I had a misunderstanding about pricing but he and the receptionist worked with me to make sure its not a big deal....I knew the pricings and I knew what dr mabrie was using. It was I who miscalculated.. But regardless, I wouldn't feel right haggling about pricing. If that was issue, I wouldn't have sought dr mabrie in the first place. I had a cheaper rn for that, but I was not Impressed with her results. It has now been a week, all the swelling had dissipated, and the result is AMAZING!!! I look and feel more confident. Everyone around me notices my new refreshed self. I find myself mentioning Dr. Mabrie's name almost on a daily basis to co workers and clients and has referred a handful to Dr. Mabrie already. I will be returning for a follow up and highly recommend Dr. Mabrie.....he is truly an artist, you will not be disappointed!!! \n",
      "\n",
      "3719 1.0 This is the very WORST EXPERIENCE I've ever had in a doctor's office. Totally deceitful billing practices and a complete lack of customer service.The Doctor & VisitI went to see Dr. Dolev in late January, after confirming she was covered by my insurance. The visit was pretty mediocre and took approximately 15 minutes in total. I had a skin rash and wondered if it was allergyrelated and Dr. Dolev was somewhat dismissive of my observations. At the end she prescribed hydrocortisone and tried to convince me to buy a hypoallergenic cleanser and moisturizer from her office, each of which ran $50. I decided not to go back to her because I just felt like her practice had no interest in considering natural remedies or, more basically, trying to understand what was causing the problem in the first place. Plus I didn't want to pay money just to get a recommendation for hydrocortisone, which hadn't worked anyway. Maybe she just specializes in cosmetic procedures? Unauthorized Charges 5 months LaterFive months later, I see almost $300 in charges from her office appear on my credit card. Having never received a bill, I try to call the office to see what these charges are for. I am pretty civil, because I want to see if we can come to a resolution. The receptionist is completely dismissive, refuses to talk to me, and says that the billing person isn't in and that the billing person will call me when she gets a chance. I wait for days and never get any call back. I call again and the receptionist sounds hostile. I ask this time to talk to Dr. Dolev directly and she says that Dr. Dolev doesn't deal with patients. I wonder if Dolev ever deals with the reputation of her practice...Again the receptionist says she will have the billing person call. Now it's been over a week and I still have never received a call. I even tell the receptionist that I am considering reviewing the practice, as no one has taken the time to ever actually call me back, and she just reiterates that someone will call. A week goes by. Still nothing.I finally get a receipt for my credit card payment in the mail. One of the charges doesn't even have a description beside it so I can't resubmit it to the insurance company. The main charge is a $250 charge just for coming in as a new patient. It isn't that I don't want to see the doctor get paid whatever she is due, I just a. find it deceitful to charge patients without providing a bill,b. find the lack of customer service and open hostility to be abhorrentc. and find this practice to be completely not interested in the well being of their patients. \n",
      "\n"
     ]
    }
   ],
   "source": [
    "three_representative_reviews(2,ids_gammas_df)"
   ]
  },
  {
   "cell_type": "code",
   "execution_count": 142,
   "metadata": {
    "collapsed": false
   },
   "outputs": [],
   "source": [
    "def most_representative_review(mytopic,ids_gammas_df):\n",
    "    \"\"\" What review best represents a given topic?\n",
    "    Selects the review with the highest gamma-weights on one topic.\n",
    "    Accepts mytopic (an int corresponding to topic #) and the Rev x G matrix with rid, bid and gammas\"\"\"\n",
    "\n",
    "    #print(ids_gammas_df.head())#Check what df looks like prior to sorting\n",
    "\n",
    "    # Sort on a given topic\n",
    "    mysorted = ids_gammas_df.sort(mytopic, axis=0, ascending=False)\n",
    "    idx = mysorted.index[0]# get index of top-ranking review for mytopic\n",
    "\n",
    "    RID = int(mysorted.loc[idx]['RID'])\n",
    "    print 'Index = ',idx, ' Starting RID: ',RID,' Topic: ',mytopic,'\\n'#Note that if you replace idx with 0, and print the results, it is not the same\n",
    "    #print(mysorted.loc[0]['RID'])# does not work\n",
    "\n",
    "    #from KAsql import query_SQL\n",
    "    sql = 'SELECT id, stars, comment FROM review WHERE id='+str(RID)+';'\n",
    "    rows = query_SQL(sql)\n",
    "\n",
    "    sqlid = rows[0][0]\n",
    "    stars = rows[0][1]\n",
    "    comment = rows[0][2]\n",
    "    \n",
    "    #Print statements\n",
    "    print sql,'\\n'\n",
    "    print '\\nTop review most related to topic: ',mytopic,'\\n'\n",
    "    print(mysorted.head(3))\n",
    "    print str(RID), sqlid, stars, comment"
   ]
  },
  {
   "cell_type": "code",
   "execution_count": 143,
   "metadata": {
    "collapsed": false
   },
   "outputs": [
    {
     "name": "stdout",
     "output_type": "stream",
     "text": [
      "Index =  3410  Starting RID:  4079  Topic:  3 \n",
      "\n",
      "SELECT id, stars, comment FROM review WHERE id=4079; \n",
      "\n",
      "\n",
      "Top review most related to topic:  3 \n",
      "\n",
      "       RID  BID         1         2         3         4         5         6  \\\n",
      "3410  4079  305  0.000565  0.000565  0.994914  0.000565  0.000565  0.000565   \n",
      "3190  3859  298  0.000641  0.000641  0.994229  0.000641  0.000641  0.000641   \n",
      "102    771  191  0.000769  0.000769  0.993075  0.000769  0.000769  0.000769   \n",
      "\n",
      "             7         8         9        10  \n",
      "3410  0.000565  0.000565  0.000565  0.000565  \n",
      "3190  0.000641  0.000641  0.000641  0.000641  \n",
      "102   0.000769  0.000769  0.000769  0.000769  \n",
      "4079 4079 5.0 If I could give more stars, then I would. I met Dr. Sloan on a Sunday on his day off! in the lobby of a hospital because I was stricken by shingles in the ear over the weekend that led to facial paralysis on the leftside of my face  a rare condition called Ramsay Hunt. Dr. Sloan is the best combination of a personal caring doctor with solid, practical medical advice. At the outset and throughout my condition, which has now fully healed, Dr. Sloan realized I needed personal attention, so he took his own personal time to meet with me, give me a full consultation, answer any questions I had, and, mainly, reassure me it was going to be a smooth, speedy recovery because I knew I had him in my corner. In the initial consultation where we met in a hospital lobby, he walked me into the hospital to show me how to properly tape up my left eyelid shut as the virus prevented my left eye from blinking or closing. My primary care doctor & ER doctor just recommended I use an eye patch to sleep with at nighttime, but an eye patch could scratch the cornea and eye. The taping method that Dr. Sloan took the time to show me and advise me about may have protected my lefteye over this monthlong period, as well as longtermmy lifetime! He also changed my dosage of steroids in this consultation and I believe this contributed to my full nerve regeneration and recovery. [Believe it or not, I never received a bill for this meeting.]In the office visits, Dr. Sloan was a careful and patient doctorENT and he made sure to assess any potential risks with my hearing, eye sight, and assess all options to get to a full recovery. He also gave me a personal recommendation to a hardtoreach UCSF doctor that he knew personally thank you!. It was also funny to see the photos of the famous people he took care of Steve Tyler in his office. He greatly encouraged me during this difficult process and I trusted his care, opinions, and directions  I will be forever indebted to him. He checked up on me routinely and let me contact him as many times as I like  Dr. Sloan is truly the best doctor I've ever met.\n"
     ]
    }
   ],
   "source": [
    "most_representative_review(3,ids_gammas_df)"
   ]
  },
  {
   "cell_type": "code",
   "execution_count": null,
   "metadata": {
    "collapsed": true
   },
   "outputs": [],
   "source": []
  }
 ],
 "metadata": {
  "kernelspec": {
   "display_name": "Python 2",
   "language": "python",
   "name": "python2"
  },
  "language_info": {
   "codemirror_mode": {
    "name": "ipython",
    "version": 2
   },
   "file_extension": ".py",
   "mimetype": "text/x-python",
   "name": "python",
   "nbconvert_exporter": "python",
   "pygments_lexer": "ipython2",
   "version": "2.7.10"
  }
 },
 "nbformat": 4,
 "nbformat_minor": 0
}
