{
 "cells": [
  {
   "cell_type": "code",
   "execution_count": 35,
   "metadata": {
    "collapsed": true
   },
   "outputs": [],
   "source": [
    "import pandas as pd"
   ]
  },
  {
   "cell_type": "code",
   "execution_count": 36,
   "metadata": {
    "collapsed": true
   },
   "outputs": [],
   "source": [
    "def find_top_body_topic(body_word, topic_word_df):\n",
    "    #Find topic number for highest rating of hip\n",
    "    ###   body_word = e.g., 'ankle' or 'knee'\n",
    "    # topic_word_df:  30 topics by 10 words (top 10)\n",
    "    \n",
    "    body_index=-1\n",
    "    body_topic=-1\n",
    "    body_word_col = -1\n",
    "    \n",
    "    for col in topic_word_df.columns[1:]:#column 0 is the topic number\n",
    "        words = topic_word_df[col].tolist()\n",
    "        found = -1\n",
    "        for i,word in enumerate(words):\n",
    "            found = word.find(body_word)#found is the index at which the given str was found in word. if not found: -1\n",
    "            if found>=0 and body_topic==-1:\n",
    "                #print found,word,i\n",
    "                body_topic = i\n",
    "                body_word_col = col\n",
    "    #print \"myword: \",body_word, '.  topic: ',body_topic, '.  word column: ',body_word_col\n",
    "    return body_topic,body_word_col"
   ]
  },
  {
   "cell_type": "code",
   "execution_count": 37,
   "metadata": {
    "collapsed": false
   },
   "outputs": [],
   "source": [
    "# Given a body part, find the 3 doctors most \"talked about\" with respect to that body part\n",
    "def top_body_docs(body_topic, bid_df):\n",
    "    # Given the topic # (body_topic) find the top three bids (doctors) who have the highest scores on this topic\n",
    "    # Return a series where index = BID and values are topic weights/\"scores\" for the body key-word (e.g., \"hip\")\n",
    "    mysorted = bid_df.sort(body_topic, axis=0, ascending=False)#21-hip-visdata\n",
    "    idx = mysorted.index[0:3]#idx is the BID in this case\n",
    "    #print mysorted[0:3]\n",
    "    body_score = mysorted.loc[idx,body_topic]\n",
    "    return body_score"
   ]
  },
  {
   "cell_type": "code",
   "execution_count": 58,
   "metadata": {
    "collapsed": false
   },
   "outputs": [
    {
     "name": "stdout",
     "output_type": "stream",
     "text": [
      "myword:  knee .  topic:  2 .  word column:  0\n",
      "BID\n",
      "553    0.556416\n",
      "384    0.474561\n",
      "396    0.388731\n",
      "Name: 2, dtype: float64\n",
      "myword:  hip .  topic:  0 .  word column:  0\n",
      "BID\n",
      "409    0.574580\n",
      "608    0.487607\n",
      "546    0.478030\n",
      "Name: 0, dtype: float64\n",
      "myword:  wrist .  topic:  19 .  word column:  0\n",
      "BID\n",
      "611    0.494630\n",
      "483    0.493379\n",
      "390    0.449710\n",
      "Name: 19, dtype: float64\n",
      "myword:  injection .  topic:  16 .  word column:  4\n",
      "BID\n",
      "577    0.966667\n",
      "363    0.163379\n",
      "325    0.154822\n",
      "Name: 16, dtype: float64\n",
      "myword:  mri .  topic:  3 .  word column:  1\n",
      "BID\n",
      "387    0.520715\n",
      "586    0.247783\n",
      "511    0.246338\n",
      "Name: 3, dtype: float64\n",
      "myword:  acl .  topic:  24 .  word column:  2\n",
      "BID\n",
      "404    0.961333\n",
      "406    0.912121\n",
      "385    0.879167\n",
      "Name: 24, dtype: float64\n",
      "myword:  best .  topic:  21 .  word column:  0\n",
      "BID\n",
      "578    0.981410\n",
      "549    0.861905\n",
      "603    0.493556\n",
      "Name: 21, dtype: float64\n",
      "myword:  care .  topic:  21 .  word column:  1\n",
      "BID\n",
      "578    0.981410\n",
      "549    0.861905\n",
      "603    0.493556\n",
      "Name: 21, dtype: float64\n",
      "myword:  minute .  topic:  11 .  word column:  1\n",
      "BID\n",
      "495    0.975833\n",
      "459    0.493882\n",
      "572    0.490333\n",
      "Name: 11, dtype: float64\n",
      "    Topic            0            1            2            3            4  \\\n",
      "0       0          hip         good         best    recommend       highly   \n",
      "1       1  appointment       office         time         knee        didnt   \n",
      "2       2         knee        staff       office    recommend    excellent   \n",
      "3       3         time          mri    insurance       injury         need   \n",
      "4       4        great        staff       office         time         good   \n",
      "5       5         knee         good        great         time        still   \n",
      "6       6         time          hes         good    treatment        staff   \n",
      "7       7       office         time        great      another       injury   \n",
      "8       8         work         time        first       office       review   \n",
      "9       9         even         good       office        great  appointment   \n",
      "10     10         told         said  appointment         time       called   \n",
      "11     11         time      minutes  appointment         wait        didnt   \n",
      "12     12        staff  appointment         know    recommend        first   \n",
      "13     13         knee         time        staff       office       highly   \n",
      "14     14         time         well         able        staff        great   \n",
      "15     15       office         time         told  appointment         even   \n",
      "16     16         feel        staff       office         work   injections   \n",
      "17     17         knee         time        great       really   experience   \n",
      "18     18         said       office        great         care        didnt   \n",
      "19     19        wrist        great        staff         time        didnt   \n",
      "20     20         knee        going        right       office         time   \n",
      "21     21         best         care        great        staff         time   \n",
      "22     22          ive          hip        never         time        staff   \n",
      "23     23         work         best        staff       office          put   \n",
      "24     24         knee         time          acl        years         well   \n",
      "25     25         time         good    questions  appointment          day   \n",
      "26     26         time         told       office        first        years   \n",
      "27     27        shoes         time         knee      running        first   \n",
      "28     28        years       office         time         knee        staff   \n",
      "29     29         even         time      problem          mri         told   \n",
      "\n",
      "              5           6            7            8          9  \n",
      "0         years     amazing         told       manner     really  \n",
      "1        really       first         said        great  questions  \n",
      "2         great       never         time    questions     better  \n",
      "3         never       going         even         call     office  \n",
      "4          care        able         feel        years        hip  \n",
      "5          best        much   experience        weeks        day  \n",
      "6          best        dont         need        first      great  \n",
      "7           mri      months        weeks        going       told  \n",
      "8          good       staff         know     patients     months  \n",
      "9         staff  experience        still         time       took  \n",
      "10    insurance      office          mri        didnt     really  \n",
      "11      patient      office        staff        never      great  \n",
      "12       office     minutes         dont      patient       told  \n",
      "13    recommend  experience        first     friendly       care  \n",
      "14        first       years          day         knee       took  \n",
      "15        staff        dont         care         said     really  \n",
      "16        visit        well          way    recommend       said  \n",
      "17        staff        good    recommend       injury        hip  \n",
      "18    insurance       staff         even         well       time  \n",
      "19          arm      really          ive  appointment    minutes  \n",
      "20         need        feel        didnt        years       many  \n",
      "21       office        feel        years          hip        ive  \n",
      "22         even       great        first         care        hes  \n",
      "23         time   recommend         good        great     highly  \n",
      "24        great        best         feel        never  recommend  \n",
      "25        great        even         took        years     office  \n",
      "26        didnt        much         knee         said       last  \n",
      "27  appointment       right        staff         best      great  \n",
      "28       really        work  appointment    questions       best  \n",
      "29  appointment       right         much      another     better  \n"
     ]
    }
   ],
   "source": [
    "def main():\n",
    "       \n",
    "    #Load Data\n",
    "    bid_df = pd.read_pickle('bid_tmeans.p')#index of this df is the bid, but can't be indexed by 'BID'\n",
    "    topic_word_df = pd.read_pickle('topic_word_df.p')\n",
    "    names_df = pd.read_pickle('names_df.p')\n",
    "    \n",
    "    # Given the topic-word matrix, find the topic in which a body part (hip) is most highly ranked.\n",
    "    body_key = ['knee','hip','wrist','injection','mri','acl','best','care','minute','ive']\n",
    "    \n",
    "    for key in body_key:\n",
    "        #Gets row/topic and col/word_num in topic_word_df where the first instance of that body word occurs\n",
    "        [body_topic,body_word_num] = find_top_body_topic(key, topic_word_df)\n",
    "        #print 'validate: ',topic_word_df.ix[body_topic,body_word_num]\n",
    "        print \"myword: \",key, '.  topic: ',body_topic, '.  word column: ',body_word_num\n",
    "        \n",
    "        # get the top three BIDs for this topic\n",
    "        body_score = top_body_docs(body_topic,bid_df)\n",
    "        first_bid = body_score.index[0],'\\n'\n",
    "        print body_score\n",
    "        \n",
    "    print topic_word_df\n",
    "        #print names_df.loc[first_bid,'yelp_id']\n",
    "        \n",
    "#         yelp = names_df.loc[names_df['bid']==first_bid,'yelp_id'].values[0]\n",
    "#         print yelp\n",
    "    \n",
    "    # Given the topic # (hip_topic) find the top three bids (doctors) who have the highest scores on this topic\n",
    "    # Return a series where index = BID and values are topic weights/\"scores\" for the body key-word (e.g., \"hip\")\n",
    "   \n",
    "if __name__==\"__main__\":\n",
    "    main()"
   ]
  },
  {
   "cell_type": "code",
   "execution_count": 80,
   "metadata": {
    "collapsed": false
   },
   "outputs": [
    {
     "name": "stdout",
     "output_type": "stream",
     "text": [
      "[21156, 5.0, \"I had a total hip replacement with Dr Callander last year on 129, so I'm over 1 year post op. Having the total hip completely changed my life! I'm only in my 40's but have had two hip surgeries prior to the total hip prior surgeries were not done by Dr. Callander. I was diagnosed with congenital hip dysplasia in my late 20's it was never diagnosed when I was younger. It's important to note that growing up I was extremely athletic  soccer, softball, track, etc. so to go from very active to literally not being able to walk normal in my late 20's was horrific. I visited several doctors before I was correctly diagnosed. My first surgery was around age 30 and because I was so young they opted NOT to do a total hip at that time and did a Periacetabular Osteotmy. This actually made my following years very difficult. In the end I don't think that was the right surgery for me, as it completely limited my range of motion and I still walked with an extremely pronounced limp, 1 year after that first surgery I had 2nd to remove excess bone growth after the Osteotmy, but again didn't bring much relief. I moved into my mid30's just living with what I was dealt, still active when I could be, but near the amount I was. I had 2 kids as well  but after my 1st child my hips became worse although during pregnancy they were great and after my 2nd child I pretty much immediately went back to CPMC. The doctor who performed my first 2 surgeries retired  and I loved him so I did my research and I found Dr. Callander. Every appointment Dr. Callander answered questions and he was realistic with managing my expectations. Because I had these prior surgeries my fearconcern was that I would have a total hip and see no change, that I would still have a severe limp, and pain. I went into surgery with the hope that at least the total hip would alleviate pain. Dr Callander also was very clear with me that he would try and fix the leg length discrepancy but he really wouldn't know more until he was in surgery. The prior surgery left me with 3 pen length screws holding things together. I woke up from surgery and from there it was an instant game changer  I could tell I was going to get my life back. I was up the same day w a walker and the PT therapists were great in hospital. I was discharged but had home care come for a few weeks, and then had outpatient therapy to build back strength in my hipleg. This is the part that is not easy so It's important you follow direction, take care of yourself, and push yourself hard during physical therapy. I literally was pain free after surgery and the best news was that Dr Callander was able to correct my leg length issues completely. I know not everyone has the same results but for me I feel like he saved me and I will forever be grateful. His staff, Mara, was amazing. I actually know at some point I'll need to have my other hip done, and I will absolutely see Dr Callander for that as well. Hands down  top notch surgeon!\"]\n"
     ]
    }
   ],
   "source": [
    "with open(\"Topic22_RR2.txt\", \"r\") as text_file:\n",
    "    lines = text_file.read()  \n",
    "print lines"
   ]
  },
  {
   "cell_type": "code",
   "execution_count": 63,
   "metadata": {
    "collapsed": false
   },
   "outputs": [
    {
     "data": {
      "text/plain": [
       "u'/Users/kaschbacher/insightproject/yelp/git-yelp'"
      ]
     },
     "execution_count": 63,
     "metadata": {},
     "output_type": "execute_result"
    }
   ],
   "source": [
    "pwd\n"
   ]
  },
  {
   "cell_type": "code",
   "execution_count": null,
   "metadata": {
    "collapsed": true
   },
   "outputs": [],
   "source": []
  }
 ],
 "metadata": {
  "kernelspec": {
   "display_name": "Python 2",
   "language": "python",
   "name": "python2"
  },
  "language_info": {
   "codemirror_mode": {
    "name": "ipython",
    "version": 2
   },
   "file_extension": ".py",
   "mimetype": "text/x-python",
   "name": "python",
   "nbconvert_exporter": "python",
   "pygments_lexer": "ipython2",
   "version": "2.7.10"
  }
 },
 "nbformat": 4,
 "nbformat_minor": 0
}
