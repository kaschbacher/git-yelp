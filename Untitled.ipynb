{
 "cells": [
  {
   "cell_type": "code",
   "execution_count": 4,
   "metadata": {
    "collapsed": false
   },
   "outputs": [
    {
     "name": "stdout",
     "output_type": "stream",
     "text": [
      "<open file '/Users/kaschbacher/insightproject/yelp/git-yelp/lsi.dict', mode 'r' at 0x10be62f60>\n"
     ]
    }
   ],
   "source": [
    "from gensim import corpora, models, similarities\n",
    "import numpy as np\n",
    "\n",
    "lsi = open('/Users/kaschbacher/insightproject/yelp/git-yelp/lsi.dict')\n",
    "\n",
    "print(lsi)\n",
    "# print(np.shape(lsi.print_topics()))#(5,)\n",
    "# lsi.print_topics()"
   ]
  },
  {
   "cell_type": "code",
   "execution_count": null,
   "metadata": {
    "collapsed": true
   },
   "outputs": [],
   "source": []
  }
 ],
 "metadata": {
  "kernelspec": {
   "display_name": "Python 2",
   "language": "python",
   "name": "python2"
  },
  "language_info": {
   "codemirror_mode": {
    "name": "ipython",
    "version": 2
   },
   "file_extension": ".py",
   "mimetype": "text/x-python",
   "name": "python",
   "nbconvert_exporter": "python",
   "pygments_lexer": "ipython2",
   "version": "2.7.10"
  }
 },
 "nbformat": 4,
 "nbformat_minor": 0
}
