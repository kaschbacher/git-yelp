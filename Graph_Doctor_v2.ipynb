{
 "cells": [
  {
   "cell_type": "code",
   "execution_count": 1,
   "metadata": {
    "collapsed": false
   },
   "outputs": [],
   "source": [
    "import numpy as np\n",
    "import pandas as pd\n",
    "import matplotlib.pyplot as plt\n",
    "import doctor_graph as doc\n",
    "\n",
    "%matplotlib inline"
   ]
  },
  {
   "cell_type": "code",
   "execution_count": 2,
   "metadata": {
    "collapsed": false
   },
   "outputs": [],
   "source": [
    "def get_topics(bid, bid_df):\n",
    "    \"\"\"Given arguments: a bid (doctor ID) and the bid_df (dataframe), \n",
    "    Extract and return a sorted series for one bid with the top 10 topics\n",
    "    Eventually, extend this to include the doctor's name. \"\"\"\n",
    "    \n",
    "    all_topics = bid_df.ix[bid,:]#type Series\n",
    "    all_topics.sort(axis=0, ascending=False)\n",
    "    doc_topics = all_topics[:5]\n",
    "    \n",
    "    return doc_topics"
   ]
  },
  {
   "cell_type": "code",
   "execution_count": 3,
   "metadata": {
    "collapsed": true
   },
   "outputs": [],
   "source": [
    "def save_fig(name, fig):\n",
    "    #path = 'Users/kaschbacher/insightproject/yelp/website/app/static/img/'\n",
    "    # path above doesn't work maybe because jupter is running inside yelp/git-yelp and this path is outside that\n",
    "    path=''\n",
    "    filename = name+'.png'\n",
    "    fig.savefig((path+filename))\n",
    "    "
   ]
  },
  {
   "cell_type": "code",
   "execution_count": 4,
   "metadata": {
    "collapsed": false
   },
   "outputs": [
    {
     "data": {
      "image/png": "[encoded data removed]",
      "text/plain": [
       "<matplotlib.figure.Figure at 0x1062ba490>"
      ]
     },
     "metadata": {},
     "output_type": "display_data"
    }
   ],
   "source": [
    "def main():\n",
    "       \n",
    "    #Load Data\n",
    "    bid_df = pd.read_pickle('bid_tmeans.p')#index of this df is the bid, but can't be indexed by 'BID'\n",
    "    topic_word_df = pd.read_pickle('topic_word_df.p')\n",
    "    names_df = pd.read_pickle('names_df.p')\n",
    "    \n",
    "    # local_id passed to views by input.html\n",
    "    local_id = \"dr-mohammad-diab-md-san-francisco\"\n",
    "    str_bid = names_df.loc[names_df['yelp_id']==local_id,'BID'].values[0]\n",
    "    doc_bid = int(str_bid)\n",
    "    \n",
    "    # Extract the top 10 topics for given doctor\n",
    "    doc_topics = get_topics(doc_bid, bid_df)#returns series of 10 topics in sorted order\n",
    "    selected = doc_topics.index\n",
    "    \n",
    "    # Make a bar graph\n",
    "    palette = doc.colors() \n",
    "    fig = doc.dr_bar_graph(doc_topics, palette)\n",
    "    \n",
    "    #doc_name passed to views_py by input.html\n",
    "    doc_name = \"bid\"+str(doc_bid)\n",
    "    save_fig(doc_name, fig)\n",
    "    \n",
    "    # Make a Topic-Word Table\n",
    "    table = topic_word_df.loc[selected,:]\n",
    "    words_lol = table.values.tolist()\n",
    "    \n",
    "    \n",
    "if __name__==\"__main__\":\n",
    "    main()\n",
    " "
   ]
  },
  {
   "cell_type": "code",
   "execution_count": 19,
   "metadata": {
    "collapsed": false
   },
   "outputs": [
    {
     "data": {
      "text/plain": [
       "'0.16.1'"
      ]
     },
     "execution_count": 19,
     "metadata": {},
     "output_type": "execute_result"
    }
   ],
   "source": [
    "pd.version.version"
   ]
  },
  {
   "cell_type": "code",
   "execution_count": 20,
   "metadata": {
    "collapsed": false
   },
   "outputs": [
    {
     "data": {
      "text/plain": [
       "304"
      ]
     },
     "execution_count": 20,
     "metadata": {},
     "output_type": "execute_result"
    }
   ],
   "source": [
    "a = \"304\"\n",
    "int(a)"
   ]
  },
  {
   "cell_type": "code",
   "execution_count": null,
   "metadata": {
    "collapsed": true
   },
   "outputs": [],
   "source": []
  }
 ],
 "metadata": {
  "kernelspec": {
   "display_name": "Python 2",
   "language": "python",
   "name": "python2"
  },
  "language_info": {
   "codemirror_mode": {
    "name": "ipython",
    "version": 2
   },
   "file_extension": ".py",
   "mimetype": "text/x-python",
   "name": "python",
   "nbconvert_exporter": "python",
   "pygments_lexer": "ipython2",
   "version": "2.7.10"
  }
 },
 "nbformat": 4,
 "nbformat_minor": 0
}
