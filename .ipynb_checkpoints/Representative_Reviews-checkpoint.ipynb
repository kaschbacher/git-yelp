{
 "cells": [
  {
   "cell_type": "code",
   "execution_count": 17,
   "metadata": {
    "collapsed": false
   },
   "outputs": [],
   "source": [
    "# Select the review that bests represents a given topic\n",
    "# Select the business with the highest proportion of a given topic\n",
    "\n",
    "import cPickle as pickle\n",
    "from gensim import corpora, models, similarities, utils\n",
    "import numpy as np\n",
    "import pandas as pd\n",
    "from KAsql import query_SQL\n",
    "import pyLDAvis.gensim\n",
    "import pyLDAvis"
   ]
  },
  {
   "cell_type": "code",
   "execution_count": 18,
   "metadata": {
    "collapsed": false
   },
   "outputs": [
    {
     "data": {
      "text/html": [
       "<div style=\"max-height:1000px;max-width:1500px;overflow:auto;\">\n",
       "<table border=\"1\" class=\"dataframe\">\n",
       "  <thead>\n",
       "    <tr style=\"text-align: right;\">\n",
       "      <th></th>\n",
       "      <th>1</th>\n",
       "      <th>2</th>\n",
       "      <th>3</th>\n",
       "      <th>4</th>\n",
       "      <th>5</th>\n",
       "      <th>6</th>\n",
       "      <th>7</th>\n",
       "      <th>8</th>\n",
       "      <th>9</th>\n",
       "      <th>10</th>\n",
       "    </tr>\n",
       "    <tr>\n",
       "      <th>BID</th>\n",
       "      <th></th>\n",
       "      <th></th>\n",
       "      <th></th>\n",
       "      <th></th>\n",
       "      <th></th>\n",
       "      <th></th>\n",
       "      <th></th>\n",
       "      <th></th>\n",
       "      <th></th>\n",
       "      <th></th>\n",
       "    </tr>\n",
       "  </thead>\n",
       "  <tbody>\n",
       "    <tr>\n",
       "      <th>189</th>\n",
       "      <td>0.026678</td>\n",
       "      <td>0.222100</td>\n",
       "      <td>0.016266</td>\n",
       "      <td>0.120362</td>\n",
       "      <td>0.126442</td>\n",
       "      <td>0.149261</td>\n",
       "      <td>0.026810</td>\n",
       "      <td>0.051409</td>\n",
       "      <td>0.113959</td>\n",
       "      <td>0.146712</td>\n",
       "    </tr>\n",
       "    <tr>\n",
       "      <th>190</th>\n",
       "      <td>0.060923</td>\n",
       "      <td>0.143381</td>\n",
       "      <td>0.022829</td>\n",
       "      <td>0.057863</td>\n",
       "      <td>0.090280</td>\n",
       "      <td>0.131948</td>\n",
       "      <td>0.098921</td>\n",
       "      <td>0.175391</td>\n",
       "      <td>0.049655</td>\n",
       "      <td>0.168808</td>\n",
       "    </tr>\n",
       "    <tr>\n",
       "      <th>191</th>\n",
       "      <td>0.041454</td>\n",
       "      <td>0.253812</td>\n",
       "      <td>0.043703</td>\n",
       "      <td>0.061581</td>\n",
       "      <td>0.110030</td>\n",
       "      <td>0.054151</td>\n",
       "      <td>0.136972</td>\n",
       "      <td>0.154059</td>\n",
       "      <td>0.064457</td>\n",
       "      <td>0.079781</td>\n",
       "    </tr>\n",
       "    <tr>\n",
       "      <th>192</th>\n",
       "      <td>0.073466</td>\n",
       "      <td>0.077338</td>\n",
       "      <td>0.137567</td>\n",
       "      <td>0.154810</td>\n",
       "      <td>0.134146</td>\n",
       "      <td>0.125238</td>\n",
       "      <td>0.036700</td>\n",
       "      <td>0.038520</td>\n",
       "      <td>0.070588</td>\n",
       "      <td>0.151628</td>\n",
       "    </tr>\n",
       "    <tr>\n",
       "      <th>193</th>\n",
       "      <td>0.096313</td>\n",
       "      <td>0.178394</td>\n",
       "      <td>0.068506</td>\n",
       "      <td>0.080365</td>\n",
       "      <td>0.058381</td>\n",
       "      <td>0.103825</td>\n",
       "      <td>0.223467</td>\n",
       "      <td>0.079842</td>\n",
       "      <td>0.075387</td>\n",
       "      <td>0.035520</td>\n",
       "    </tr>\n",
       "  </tbody>\n",
       "</table>\n",
       "</div>"
      ],
      "text/plain": [
       "           1         2         3         4         5         6         7   \\\n",
       "BID                                                                         \n",
       "189  0.026678  0.222100  0.016266  0.120362  0.126442  0.149261  0.026810   \n",
       "190  0.060923  0.143381  0.022829  0.057863  0.090280  0.131948  0.098921   \n",
       "191  0.041454  0.253812  0.043703  0.061581  0.110030  0.054151  0.136972   \n",
       "192  0.073466  0.077338  0.137567  0.154810  0.134146  0.125238  0.036700   \n",
       "193  0.096313  0.178394  0.068506  0.080365  0.058381  0.103825  0.223467   \n",
       "\n",
       "           8         9         10  \n",
       "BID                                \n",
       "189  0.051409  0.113959  0.146712  \n",
       "190  0.175391  0.049655  0.168808  \n",
       "191  0.154059  0.064457  0.079781  \n",
       "192  0.038520  0.070588  0.151628  \n",
       "193  0.079842  0.075387  0.035520  "
      ]
     },
     "execution_count": 18,
     "metadata": {},
     "output_type": "execute_result"
    }
   ],
   "source": [
    "# Load df\n",
    "\n",
    "lda = pickle.load(open('lda.p','rb'))\n",
    "ids_gammas_df = pickle.load(open('ids_gammas_df.p', 'rb'))#actually np array until I rerun NLP_all_reviews-LDA\n",
    "bid_gmeans = pickle.load(open('bid_gmeans.p', 'rb'))\n",
    "#print\n",
    "bid_gmeans.head(5)"
   ]
  },
  {
   "cell_type": "code",
   "execution_count": 63,
   "metadata": {
    "collapsed": false
   },
   "outputs": [
    {
     "name": "stdout",
     "output_type": "stream",
     "text": [
      "SELECT stars, comment FROM review WHERE id>3673.0 and id<3677.0;\n"
     ]
    }
   ],
   "source": [
    "#lda.print_topics()\n"
   ]
  },
  {
   "cell_type": "code",
   "execution_count": 106,
   "metadata": {
    "collapsed": false
   },
   "outputs": [
    {
     "name": "stdout",
     "output_type": "stream",
     "text": [
      "Topic:  3 \n",
      "\n",
      "Index:  Int64Index([3410, 3190, 102], dtype='int64')\n",
      "RID:  [ 4079.  3859.   771.] \n",
      "\n",
      "SELECT id, stars, comment FROM review WHERE id=4079 or id=3859 or id=771;\n",
      "       RID  BID         1         2         3         4         5         6  \\\n",
      "3410  4079  305  0.000565  0.000565  0.994914  0.000565  0.000565  0.000565   \n",
      "3190  3859  298  0.000641  0.000641  0.994229  0.000641  0.000641  0.000641   \n",
      "102    771  191  0.000769  0.000769  0.993075  0.000769  0.000769  0.000769   \n",
      "3581  4250  311  0.000775  0.000776  0.993021  0.000775  0.000775  0.000775   \n",
      "2356  3025  270  0.000781  0.000782  0.992967  0.000781  0.000781  0.000781   \n",
      "\n",
      "             7         8         9        10  \n",
      "3410  0.000565  0.000565  0.000565  0.000565  \n",
      "3190  0.000641  0.000641  0.000641  0.000641  \n",
      "102   0.000769  0.000769  0.000769  0.000769  \n",
      "3581  0.000775  0.000775  0.000775  0.000775  \n",
      "2356  0.000781  0.000781  0.000781  0.000781  \n"
     ]
    }
   ],
   "source": [
    "# What reviews best represent a given topic?\n",
    "# Those with the highest gamma-weights on one topic\n",
    "# Revise to print top 3 reviews and see if they are consistent - use them to name the topic\n",
    "\n",
    "#print(ids_gammas_df.head())#Check what df looks like prior to sorting\n",
    "\n",
    "# Sort on a given topic\n",
    "# T1= happy, T2 = unhappy - validate with rstars???\n",
    "mytopic = 3\n",
    "mysorted = ids_gammas_df.sort(mytopic, axis=0, ascending=False)\n",
    "idx = mysorted.index[0:3]# get index of top-ranking review for mytopic\n",
    "\n",
    "RID = mysorted.loc[idx]['RID']#Note that if you replace idx with 0, and print the results, it is not the same\n",
    "print 'Topic: ',mytopic,'\\n'\n",
    "print 'Index: ',idx\n",
    "print 'RID: ',RID.values,'\\n'#type Series\n",
    "RIDs = [str(int(value)) for value in RID.values]#list of strings (get rid of decimal first)\n",
    "\n",
    "# check that idx and RED, and sorting of topics looks right\n",
    "print(mysorted.head())"
   ]
  },
  {
   "cell_type": "code",
   "execution_count": 114,
   "metadata": {
    "collapsed": false
   },
   "outputs": [
    {
     "name": "stdout",
     "output_type": "stream",
     "text": [
      "\n",
      "Top three reviews most related to topic:  3 \n",
      "\n",
      "SELECT id, stars, comment FROM review WHERE id=771 or id=3859 or id=4079; \n",
      "\n",
      "       RID  BID         1         2         3         4         5         6  \\\n",
      "3410  4079  305  0.000565  0.000565  0.994914  0.000565  0.000565  0.000565   \n",
      "3190  3859  298  0.000641  0.000641  0.994229  0.000641  0.000641  0.000641   \n",
      "102    771  191  0.000769  0.000769  0.993075  0.000769  0.000769  0.000769   \n",
      "3581  4250  311  0.000775  0.000776  0.993021  0.000775  0.000775  0.000775   \n",
      "2356  3025  270  0.000781  0.000782  0.992967  0.000781  0.000781  0.000781   \n",
      "\n",
      "             7         8         9        10  \n",
      "3410  0.000565  0.000565  0.000565  0.000565  \n",
      "3190  0.000641  0.000641  0.000641  0.000641  \n",
      "102   0.000769  0.000769  0.000769  0.000769  \n",
      "3581  0.000775  0.000775  0.000775  0.000775  \n",
      "2356  0.000781  0.000781  0.000781  0.000781   \n",
      "\n",
      "771 5.0 Dr. Lee is a lifesaver. He diagnosed and treated a condition I've had for a dog's age and nearly ruined vacations I've had around the world. I always thought I was just a wuss and prone to getting colds several times a year but factors such as cold air, smoke, dust etc. seem to trigger severe coughing bouts. I finally decided to bring this up to a doctor after the latest round made me want to strangle myself; I was so annoyed with hearing my own constant coughing and other's sympathy only goes so far when their ears are being incessantly assailed. I am so glad I chose Dr. Lee as my first and hopefully only: adult practitioner. I believe anyone else wouldn't have brought his level of attention, education and discernment to my issues and gotten down to the nitty gritty in discovering I have asthma. I'm used to getting brushed off by physician's at Kaiser or lowlevel clinics. I'm ecstatic I am now capable of seeing a stellar doctor! Now after a panel of tests and being under Dr. Lee's outstanding care, my recently unknown asthma issue should be under control when I go into environments that trigger it. Yah, no more ruined holidays and people giving me the evil eye while I'm hacking my lungs out!! I don't have swine flu, people: chill out. Thank you Dr. Lee!! Oh, and the doctor's offices are pretty and make this former Medical kid feel special. \n",
      "\n",
      "3859 5.0 Dr. Markison is a true healer, clearly an expert and beyond that, keenly interested in his work, and enhancing the human essence, translated into manual dexterity. I have been a patient of his off an on for over 10 years, starting when I tore the tendons in both wrists in a car accident. Conservative and pinpoint knowledgeable care retrieved full function then. Heavy labor over the years brought me back for other reasons, and every time I knew I was getting his full attention, and the best options for my needs. And every time I was brought back to either full or better functionality than before. Further, Dr. Markison has an open mind, and if an alternative therapy or modality works, or might work, he is willing to study it and implement it. He is willing to have ideas, and discuss yours without evident judgement. I never felt I was asking a stupid question.  Not because they weren't in fact stupid, because they well may have been...but because Dr. Markison was open to discussing them, and studying up on them and reporting back on his findings.. His commitment to the result makes him refreshingly egoless, which is not a characteristic of many surgeons.  My husband recently did have to have surgery, and while prepping, I noted that Dr. Markison took time to greet every one of the surgical nursing staff by name, and make personal detailed inquiries about them as well.He clearly knew and respected his team, they knew and respected his in return and all of that showed in the excellent result. I have usually been disappointed in the medical profession, with Doctors that seem more interested in deciding what code they can assign to the visit so they can call the 5 minute session a complex visit justifying 6 different billings. That most definitely is NOT Dr. Marksion.If the use of your hands is at all important to you, and if you are having issuesconcerns with them, go to Dr. Markison. \n",
      "\n",
      "4079 5.0 If I could give more stars, then I would. I met Dr. Sloan on a Sunday on his day off! in the lobby of a hospital because I was stricken by shingles in the ear over the weekend that led to facial paralysis on the leftside of my face  a rare condition called Ramsay Hunt. Dr. Sloan is the best combination of a personal caring doctor with solid, practical medical advice. At the outset and throughout my condition, which has now fully healed, Dr. Sloan realized I needed personal attention, so he took his own personal time to meet with me, give me a full consultation, answer any questions I had, and, mainly, reassure me it was going to be a smooth, speedy recovery because I knew I had him in my corner. In the initial consultation where we met in a hospital lobby, he walked me into the hospital to show me how to properly tape up my left eyelid shut as the virus prevented my left eye from blinking or closing. My primary care doctor & ER doctor just recommended I use an eye patch to sleep with at nighttime, but an eye patch could scratch the cornea and eye. The taping method that Dr. Sloan took the time to show me and advise me about may have protected my lefteye over this monthlong period, as well as longtermmy lifetime! He also changed my dosage of steroids in this consultation and I believe this contributed to my full nerve regeneration and recovery. [Believe it or not, I never received a bill for this meeting.]In the office visits, Dr. Sloan was a careful and patient doctorENT and he made sure to assess any potential risks with my hearing, eye sight, and assess all options to get to a full recovery. He also gave me a personal recommendation to a hardtoreach UCSF doctor that he knew personally thank you!. It was also funny to see the photos of the famous people he took care of Steve Tyler in his office. He greatly encouraged me during this difficult process and I trusted his care, opinions, and directions  I will be forever indebted to him. He checked up on me routinely and let me contact him as many times as I like  Dr. Sloan is truly the best doctor I've ever met. \n",
      "\n"
     ]
    }
   ],
   "source": [
    "print '\\nTop three reviews most related to topic: ',mytopic,'\\n'\n",
    "#from KAsql import query_SQL\n",
    "\n",
    "sql = 'SELECT id, stars, comment FROM review WHERE id='+RIDs[0]+' or id='+RIDs[1]+' or id='+RIDs[2]+';'\n",
    "rows = query_SQL(sql)\n",
    "\n",
    "sqlRID=[];stars=[];comment=''\n",
    "sqlRID = rows[:][0]\n",
    "stars = rows[:][1]\n",
    "comment = rows[:][2]\n",
    "\n",
    "print sql,'\\n'\n",
    "print mysorted.head(),'\\n'#Confirm RIDs match with sql data\n",
    "\n",
    "# For some reason rows are printed in opposite order from listing\n",
    "for row in rows:\n",
    "    print row[0],row[1],row[2],'\\n'"
   ]
  },
  {
   "cell_type": "code",
   "execution_count": 93,
   "metadata": {
    "collapsed": false
   },
   "outputs": [
    {
     "name": "stdout",
     "output_type": "stream",
     "text": [
      "Index =  3410 . Starting RID:  4079.0  Topic:  3 \n",
      "\n",
      "       RID  BID         1         2         3         4         5         6  \\\n",
      "3410  4079  305  0.000565  0.000565  0.994914  0.000565  0.000565  0.000565   \n",
      "3190  3859  298  0.000641  0.000641  0.994229  0.000641  0.000641  0.000641   \n",
      "102    771  191  0.000769  0.000769  0.993075  0.000769  0.000769  0.000769   \n",
      "3581  4250  311  0.000775  0.000776  0.993021  0.000775  0.000775  0.000775   \n",
      "2356  3025  270  0.000781  0.000782  0.992967  0.000781  0.000781  0.000781   \n",
      "\n",
      "             7         8         9        10  \n",
      "3410  0.000565  0.000565  0.000565  0.000565  \n",
      "3190  0.000641  0.000641  0.000641  0.000641  \n",
      "102   0.000769  0.000769  0.000769  0.000769  \n",
      "3581  0.000775  0.000775  0.000775  0.000775  \n",
      "2356  0.000781  0.000781  0.000781  0.000781  \n",
      "\n",
      "Top three reviews most related to topic:  3 \n",
      "\n",
      "4079 5.0 If I could give more stars, then I would. I met Dr. Sloan on a Sunday on his day off! in the lobby of a hospital because I was stricken by shingles in the ear over the weekend that led to facial paralysis on the leftside of my face  a rare condition called Ramsay Hunt. Dr. Sloan is the best combination of a personal caring doctor with solid, practical medical advice. At the outset and throughout my condition, which has now fully healed, Dr. Sloan realized I needed personal attention, so he took his own personal time to meet with me, give me a full consultation, answer any questions I had, and, mainly, reassure me it was going to be a smooth, speedy recovery because I knew I had him in my corner. In the initial consultation where we met in a hospital lobby, he walked me into the hospital to show me how to properly tape up my left eyelid shut as the virus prevented my left eye from blinking or closing. My primary care doctor & ER doctor just recommended I use an eye patch to sleep with at nighttime, but an eye patch could scratch the cornea and eye. The taping method that Dr. Sloan took the time to show me and advise me about may have protected my lefteye over this monthlong period, as well as longtermmy lifetime! He also changed my dosage of steroids in this consultation and I believe this contributed to my full nerve regeneration and recovery. [Believe it or not, I never received a bill for this meeting.]In the office visits, Dr. Sloan was a careful and patient doctorENT and he made sure to assess any potential risks with my hearing, eye sight, and assess all options to get to a full recovery. He also gave me a personal recommendation to a hardtoreach UCSF doctor that he knew personally thank you!. It was also funny to see the photos of the famous people he took care of Steve Tyler in his office. He greatly encouraged me during this difficult process and I trusted his care, opinions, and directions  I will be forever indebted to him. He checked up on me routinely and let me contact him as many times as I like  Dr. Sloan is truly the best doctor I've ever met. \n",
      "\n",
      "4080 5.0 Best ENT doctor in SF! I have been going to Dr. Sloan for a few years now and highly recommend him. Besides being extremely knowledgeable in his field, he is extremely personable and funny added bonus for a doctor. I go to Dr. Sloan for professional ear cleaning and he is extremely gentle throughout the entire process. It always amazes me that Dr. Sloan always remembers me I don't go that often and always is interested in what's going on with my life  so nice of him. The office staff is also great. Making an appointment is very easy. If you're looking for a great ENT doctor, go see Dr. Sloan! \n",
      "\n",
      "4081 1.0 OMG, bad experience! Apart from, he doesn't explain what he is doing first, just starts sticking tubes up your nose. Didn't want patients history, don't need it      I am God, do not question me, look I see celebritiesNo call backs, promised to mail prescription, didn't, very incomplete diagnoses, rude, arrogant & no apology after the fact! Look anywhere else for an ENT, run from this one. \n",
      "\n"
     ]
    }
   ],
   "source": [
    "# What reviews best represent a given topic?\n",
    "# Those with the highest gamma-weights on one topic\n",
    "# Revise to print top 3 reviews and see if they are consistent - use them to name the topic\n",
    "\n",
    "#print(ids_gammas_df.head())#Check what df looks like prior to sorting\n",
    "\n",
    "# Sort on a given topic\n",
    "# T1= happy, T2 = unhappy - validate with rstars???\n",
    "mytopic = 3\n",
    "mysorted = ids_gammas_df.sort(mytopic, axis=0, ascending=False)\n",
    "idx = mysorted.index[0]# get index of top-ranking review for mytopic\n",
    "\n",
    "RID = mysorted.loc[idx]['RID']\n",
    "print 'Index = ',idx, '. Starting RID: ',RID,' Topic: ',mytopic,'\\n'#Note that if you replace idx with 0, and print the results, it is not the same\n",
    "#print(mysorted.loc[0]['RID'])# does not work\n",
    "\n",
    "# check that idx and RED, and sorting of topics looks right\n",
    "print(mysorted.head())\n",
    "\n",
    "print '\\nTop three reviews most related to topic: ',mytopic,'\\n'\n",
    "#from KAsql import query_SQL\n",
    "\n",
    "#sql = 'SELECT stars, comment FROM review WHERE id='+str(RID)+';'\n",
    "# rows = query_SQL(sql)\n",
    "# stars = rows[0][0]\n",
    "# comment = rows[0][1]\n",
    "\n",
    "sql = 'SELECT id, stars, comment FROM review WHERE id>'+str(RID-1)+' and id<'+str(RID+3)+';'\n",
    "id=[];stars=[];comment=''\n",
    "rows = query_SQL(sql)\n",
    "id = rows[:][0]\n",
    "stars = rows[:][1]\n",
    "comment = rows[:][2]\n",
    "# print(stars,comment)\n",
    "for row in rows:\n",
    "    print row[0],row[1],row[2],'\\n'"
   ]
  },
  {
   "cell_type": "code",
   "execution_count": null,
   "metadata": {
    "collapsed": true
   },
   "outputs": [],
   "source": []
  }
 ],
 "metadata": {
  "kernelspec": {
   "display_name": "Python 2",
   "language": "python",
   "name": "python2"
  },
  "language_info": {
   "codemirror_mode": {
    "name": "ipython",
    "version": 2
   },
   "file_extension": ".py",
   "mimetype": "text/x-python",
   "name": "python",
   "nbconvert_exporter": "python",
   "pygments_lexer": "ipython2",
   "version": "2.7.10"
  }
 },
 "nbformat": 4,
 "nbformat_minor": 0
}
