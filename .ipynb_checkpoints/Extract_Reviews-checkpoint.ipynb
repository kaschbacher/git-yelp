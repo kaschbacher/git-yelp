{
 "cells": [
  {
   "cell_type": "code",
   "execution_count": 1,
   "metadata": {
    "collapsed": true
   },
   "outputs": [],
   "source": [
    "import urllib\n",
    "import urllib2\n",
    "import oauth2\n",
    "\n",
    "from bs4 import BeautifulSoup\n",
    "import lxml\n",
    "import string\n",
    "import pandas as pd\n",
    "import numpy as np\n",
    "\n",
    "import cPickle as pickle\n",
    "import pymysql\n",
    "#from KAsql import query_SQL"
   ]
  },
  {
   "cell_type": "code",
   "execution_count": 2,
   "metadata": {
    "collapsed": false
   },
   "outputs": [],
   "source": [
    "# class ReturnValue(object):\n",
    "#     # Facilitates returning two values without a tuple or dict. Instead returns a class object\n",
    "#     def __init__(self, html, filename):\n",
    "#         self.html = html\n",
    "#         self.filename = filename\n",
    "#         print(self.filename)"
   ]
  },
  {
   "cell_type": "code",
   "execution_count": 3,
   "metadata": {
    "collapsed": true
   },
   "outputs": [],
   "source": [
    "def get_html(yelp_id):\n",
    "    yelp_url = 'http://www.yelp.com/biz/'+yelp_id\n",
    "    #print(yelp_url)\n",
    "    response = urllib2.urlopen(yelp_url)\n",
    "    html_obj = response.read()\n",
    "    return html_obj"
   ]
  },
  {
   "cell_type": "code",
   "execution_count": 4,
   "metadata": {
    "collapsed": true
   },
   "outputs": [],
   "source": [
    "def save_myhtml(html_filename, html):\n",
    "    # Save the html file\n",
    "    with open(html_filename, 'wb') as f:\n",
    "        f.write(html)"
   ]
  },
  {
   "cell_type": "code",
   "execution_count": 5,
   "metadata": {
    "collapsed": true
   },
   "outputs": [],
   "source": [
    "def format_html(string,int):\n",
    "    # accepts a rating or date and returns a float btw 0.0 and 5.0, or date-string\n",
    "    s = str(string)\n",
    "    s = s.lstrip('[<meta content=\"')\n",
    "    if int==0:\n",
    "        s = float(s[0:3])#star ratings are always 3 characters long\n",
    "    elif int==1:\n",
    "        stop = s.find('\"')#date lengths could vary\n",
    "        s = s[0:stop]\n",
    "    else: \n",
    "        print('Wrong integer given to format_rating. Must be 0 for rating or 1 for date: ',int)\n",
    "    return s"
   ]
  },
  {
   "cell_type": "code",
   "execution_count": 6,
   "metadata": {
    "collapsed": true
   },
   "outputs": [],
   "source": [
    "# not working i don't know why\n",
    "def remove_backslash(review):\n",
    "    #review = review.replace(u'\\xa0','')\n",
    "    review = review.replace(u\"\\\\\",'')#This doesn't seem to work...\n",
    "    review = review.replace(u\"/\",'')\n",
    "    review = review.replace(u\"(\",'')\n",
    "    review = review.replace(u\")\",'')\n",
    "    review = review.replace(u\"-\",'')\n",
    "    review = review.replace(u'\"','')\n",
    "    return review"
   ]
  },
  {
   "cell_type": "code",
   "execution_count": 7,
   "metadata": {
    "collapsed": true
   },
   "outputs": [],
   "source": [
    "def scrape_reviews(html):\n",
    "    \n",
    "    # Save a temporary file - BeautifulSoup was not running well when passed an html object, needs a saved page\n",
    "    html_filename = 'temp.html'\n",
    "    save_myhtml(html_filename, html)\n",
    "    # open the html file/object with beautiful soup\n",
    "    soup = BeautifulSoup(open(html_filename), \"lxml\")\n",
    "\n",
    "    #pp.pprint(ptext)#<class 'bs4.element.ResultSet'>\n",
    "    ptext = soup.find_all('p', {'itemprop': 'description'})\n",
    "    reviews = [ptext[i].get_text() for i in range(0,len(ptext))]\n",
    "    reviews = [filter(lambda x: x in string.printable, review) for review in reviews]\n",
    "    reviews = [remove_backslash(review) for review in reviews]\n",
    "    \n",
    "    # Examples of what the html looks like:\n",
    "    # <meta itemprop=\"ratingValue\" content=\"5.0\">\n",
    "    # <meta itemprop=\"datePublished\" content=\"2013-03-27\">\n",
    "\n",
    "    # R-Stars and Dates: Note that R-stars are integers while B-stars (average of R-stars are rounded to X.5)\n",
    "    rstars =[];rdates=[]# Currently dates aren't going into the master database - no time for that\n",
    "    rstars =[pt.parent.find_all('meta', {'itemprop':'ratingValue'}) for pt in ptext]\n",
    "    rstars =[format_html(rstar,0) for rstar in rstars]\n",
    "    #rdates = [pt.parent.find_all('meta', {'itemprop':'datePublished'}) for pt in ptext]\n",
    "    #rdates =[format_html(rdate,1) for rdate in rdates]\n",
    "\n",
    "    # There's an overall rating on this page I could also get, but it should match bstars, and would therefore be redundant (hopefully)\n",
    "\n",
    "    # Ensure that ratings and reviews are vectors of the same length\n",
    "    if len(rstars)!=len(reviews):\n",
    "        print('Length of rstars and reviews on this page do not match.')\n",
    "        #print('rstars len: ',len(rstars),' reviews len: ',len(reviews))\n",
    "        rmin = min(len(rstars),len(reviews))\n",
    "        rstars = rstars[0,rmin]; reviews = reviews[0,rmin]; rdates = rdates[0,rmin]\n",
    "\n",
    "    #Here I manually verified that the star-ratings, reviews, and dates match up with a few pages\n",
    "#     for i in range(0,len(reviews)):\n",
    "#         print(rstars[i],rdates[i],reviews[i])\n",
    "        \n",
    "    return [rstars], [reviews]"
   ]
  },
  {
   "cell_type": "code",
   "execution_count": 8,
   "metadata": {
    "collapsed": true
   },
   "outputs": [],
   "source": [
    "def query_SQL():\n",
    "    # Get fields from business table that need to be used to populate reviews table (and also are reproduced in reviews table for convenience)\n",
    "    con = False\n",
    "    rows = []\n",
    "    try:\n",
    "        con = pymysql.connect(host='localhost', port=3307, user='root', passwd='', db='ortho')\n",
    "        with con:\n",
    "            cur = con.cursor()\n",
    "            sql = 'USE ortho;'\n",
    "            cur.execute(sql)\n",
    "            #sql = 'SELECT id,term_id,city_id FROM business WHERE yelp_id = \"'+yelp_business_id+'\";' \n",
    "            sql = 'SELECT id, yelp_id, term_id, city_id FROM business;' \n",
    "            #print(sql)\n",
    "            cur.execute(sql)\n",
    "            rows = cur.fetchall()\n",
    "    except pymysql.Error, e:\n",
    "        print \"Error %d: %s\" % (e.args[0],e.args[1])\n",
    "        sys.exit(1)\n",
    "    finally:\n",
    "        if con:\n",
    "            con.close()\n",
    "    return rows  "
   ]
  },
  {
   "cell_type": "code",
   "execution_count": 9,
   "metadata": {
    "collapsed": true
   },
   "outputs": [],
   "source": [
    "def insert_reviews_SQL(business_id, rstar, review):\n",
    "    con = False\n",
    "    try:\n",
    "        con = pymysql.connect(host='localhost', port=3307, user='root', passwd='', db='ortho')\n",
    "        with con:\n",
    "            cur = con.cursor()\n",
    "            #print('inserting into review db')\n",
    "            #print(type(business_id), type(rstar), type(review))\n",
    "            myvalues = \"'\" + str(business_id)+\"',\" + str(rstar) + \",\" + '\"'+review+'\"'\n",
    "            sql = 'INSERT INTO review(business_id,stars,comment) VALUES('+myvalues+')'\n",
    "            #print(sql)\n",
    "            cur.execute(sql)\n",
    "    except pymysql.Error, e:\n",
    "        print \"Error %d: %s\" % (e.args[0],e.args[1])\n",
    "        sys.exit(1)\n",
    "    finally:\n",
    "        if con:\n",
    "            con.close()"
   ]
  },
  {
   "cell_type": "code",
   "execution_count": 10,
   "metadata": {
    "collapsed": false
   },
   "outputs": [],
   "source": [
    "def make_bus_df(rows):\n",
    "    # receives as argument, the output of the MySQL query of ortho.business table\n",
    "    \n",
    "    # UNPACK ROWS - no matter which order you place these indices[][], if one is a : it will give you everything in the row indexed by the number you gave \n",
    "    bid=[];yid=[];tid=[];cid=[];\n",
    "    for row in rows:\n",
    "        #print row[0],row[1],row[2]\n",
    "        bid.append(row[0])\n",
    "        yid.append(row[1])\n",
    "        tid.append(row[2])\n",
    "        cid.append(row[3])\n",
    "    #print(bid[:5],yid[:5])\n",
    "    \n",
    "    # Make Pandas DataFrame:  business-level ids\n",
    "    bus_df = pd.DataFrame([bid,yid,tid,cid]).transpose()\n",
    "    bus_df.columns=['bid','yelp_id','term_id','city_id']\n",
    "    #print '\\n',bus_df.head(5)\n",
    "    return bus_df"
   ]
  },
  {
   "cell_type": "code",
   "execution_count": 11,
   "metadata": {
    "collapsed": true
   },
   "outputs": [],
   "source": [
    "def pickle_df(df,picklename): \n",
    "    # e.g., picklename = 'ids_gammas_df.p'\n",
    "    pickle_out = open(picklename, 'wb')\n",
    "    pickle.dump(df, pickle_out)\n",
    "    pickle_out.close()"
   ]
  },
  {
   "cell_type": "code",
   "execution_count": 12,
   "metadata": {
    "collapsed": true
   },
   "outputs": [],
   "source": [
    "def make_df_from_1bus_reviews(rstars,reviews):\n",
    "    # rstars and reviews are lists of lists.  e.g., rstars[0] is a list: one row of up to 40 stars\n",
    "    # we want to return a pandas dataframe with stars, reviews/comments as two columns\n",
    "    areview_df = pd.DataFrame([rstars[0],reviews[0]], index=[0,1])\n",
    "    areview_df = areview_df.T\n",
    "    areview_df.columns = ['stars','comment']\n",
    "    return areview_df"
   ]
  },
  {
   "cell_type": "code",
   "execution_count": 13,
   "metadata": {
    "collapsed": true
   },
   "outputs": [],
   "source": [
    "def insert_bus_ids(areview_df, bus_df, busrow):\n",
    "    \"\"\"Inserts three ids from the bus_df into the areview_df (rstars,reviews)\n",
    "    Recall that areview_df is a dataframe for all the rstars & reviews for a single business (doctor)\n",
    "    Therefore the bids are propogated (the same) for all rows\"\"\"\n",
    "    \n",
    "    indices = [0,1,2]\n",
    "    labels = ['bid','term_id','city_id']  \n",
    "    \n",
    "    for index in indices:\n",
    "        myvalue = bus_df.loc[busrow, labels[index]]\n",
    "        areview_df.insert(index, labels[index], myvalue)#values are automatically propogated across all rows\n",
    "        \n",
    "    return areview_df"
   ]
  },
  {
   "cell_type": "code",
   "execution_count": 14,
   "metadata": {
    "collapsed": false,
    "scrolled": true
   },
   "outputs": [
    {
     "name": "stdout",
     "output_type": "stream",
     "text": [
      "   bid                            yelp_id term_id city_id\n",
      "0  303      james-l-chen-md-san-francisco       1       1\n",
      "1  304    elly-s-laroque-md-san-francisco       1       1\n",
      "2  305  nicholas-colyvas-md-san-francisco       1       1\n",
      "3  306     c-benjamin-ma-md-san-francisco       1       1\n",
      "4  307   irene-minkowsky-md-san-francisco       1       1 \n",
      "\n",
      "   bid  term_id  city_id stars  \\\n",
      "0  303        1        1     5   \n",
      "1  303        1        1     5   \n",
      "2  303        1        1     5   \n",
      "3  303        1        1     5   \n",
      "4  303        1        1     5   \n",
      "5  303        1        1     5   \n",
      "\n",
      "                                             comment  \n",
      "0  Some background: I rolled my ankle and had a r...  \n",
      "1  Dr. Chen performed an ACL and meniscus repair ...  \n",
      "2  Excellent. Dr. Chen and everyone at his office...  \n",
      "3  In September of 2014, I suffered a complete ru...  \n",
      "4  Was referred to Dr. Chen by my trainer, extrem...  \n",
      "5  Dr Chen is the best in the business! I have ha...  \n"
     ]
    }
   ],
   "source": [
    "def main():\n",
    "    \n",
    "    #from ortho.business, returns: id, yelp_id, term_id, city_id (tuple in a tuple)\n",
    "    rows = query_SQL()#response is shape rev# x 4\n",
    "    business_df = make_bus_df(rows)\n",
    "    print business_df.head(5),'\\n'\n",
    "    \n",
    "    picklename = 'ortho_business_df.p'\n",
    "    pickle_df(business_df,picklename)\n",
    "        \n",
    "    #For each Business, make a review DF of their (<=40) reviews & r-stars\n",
    "    html_filename = 'temp.html'#Need a temp file saved in order for Beautiful Soup to work correctly\n",
    "    df_list = []# list of dfs for each business (40 reviews)\n",
    "    \n",
    "    # --- loop over rows in business table (by simple count), extracting yelp_id\n",
    "    for row_idx in range(0,business_df.shape[0]):\n",
    "        html = get_html(business_df.loc[row_idx,'yelp_id'])#yelp_id as argument\n",
    "        save_myhtml(html_filename, html)\n",
    "        rstars,reviews = scrape_reviews(html)\n",
    "        #Package into one dataframe per review\n",
    "        # review table contains in order: rid, bid, term, city, star, comment (note yelp_id is only in business table)\n",
    "        areview_df = make_df_from_1bus_reviews(rstars,reviews)\n",
    "        areview_df = insert_bus_ids(areview_df, business_df, row_idx)\n",
    "        df_list.insert(row_idx, areview_df)#make list of df, which I concat at end\n",
    "\n",
    "    # After done looping through businesses, concatenate all the review dataframes into one final dataframe\n",
    "    ortho_review_df = pd.concat(df_list)\n",
    "    print ortho_review_df.head(6)\n",
    "    \n",
    "    picklename = 'ortho_review_df.p'\n",
    "    pickle_df(ortho_review_df,picklename)\n",
    "    \n",
    "    # Push to mysql - note I did this in a separate program\n",
    "#     for row in ortho_review_df.iterrows():\n",
    "#         myvalues = row[1].values\n",
    "#         #print(myvalues)\n",
    "#         insert_reviews_SQL(business_id[0][0], rstars[0][i], reviews[0][i])        \n",
    "    \n",
    "if __name__ == '__main__':\n",
    "    main()"
   ]
  },
  {
   "cell_type": "code",
   "execution_count": null,
   "metadata": {
    "collapsed": true
   },
   "outputs": [],
   "source": []
  }
 ],
 "metadata": {
  "kernelspec": {
   "display_name": "Python 2",
   "language": "python",
   "name": "python2"
  },
  "language_info": {
   "codemirror_mode": {
    "name": "ipython",
    "version": 2
   },
   "file_extension": ".py",
   "mimetype": "text/x-python",
   "name": "python",
   "nbconvert_exporter": "python",
   "pygments_lexer": "ipython2",
   "version": "2.7.10"
  }
 },
 "nbformat": 4,
 "nbformat_minor": 0
}
