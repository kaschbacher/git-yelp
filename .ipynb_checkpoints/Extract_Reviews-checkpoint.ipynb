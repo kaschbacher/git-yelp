{
 "cells": [
  {
   "cell_type": "code",
   "execution_count": 3,
   "metadata": {
    "collapsed": true
   },
   "outputs": [],
   "source": [
    "import urllib\n",
    "import urllib2\n",
    "import oauth2\n",
    "\n",
    "from bs4 import BeautifulSoup\n",
    "import lxml\n",
    "import string\n",
    "\n",
    "import pandas as pd\n",
    "import numpy as np\n",
    "\n",
    "import pymysql\n",
    "#from KAsql import query_SQL"
   ]
  },
  {
   "cell_type": "code",
   "execution_count": 4,
   "metadata": {
    "collapsed": true
   },
   "outputs": [],
   "source": [
    "def get_html(business_id):\n",
    "    \n",
    "    yelp_url = 'http://www.yelp.com/biz/'+business_id\n",
    "    response = urllib2.urlopen(yelp_url)\n",
    "    html = response.read()\n",
    "    return html"
   ]
  },
  {
   "cell_type": "code",
   "execution_count": 5,
   "metadata": {
    "collapsed": true
   },
   "outputs": [],
   "source": [
    "def save_myhtml(html_filename, html):\n",
    "    # Save the html file\n",
    "    with open(html_filename, 'wb') as f:\n",
    "        f.write(html)"
   ]
  },
  {
   "cell_type": "code",
   "execution_count": 6,
   "metadata": {
    "collapsed": true
   },
   "outputs": [],
   "source": [
    "def query_SQL(yelp_business_id):\n",
    "    con = False\n",
    "    rows = []\n",
    "    try:\n",
    "        con = pymysql.connect(host='localhost', port=3307, user='root', passwd='', db='yelpdata')\n",
    "        with con:\n",
    "            cur = con.cursor()\n",
    "            sql = 'USE yelpdata;'\n",
    "            cur.execute(sql)\n",
    "            sql = 'SELECT id FROM business WHERE yelp_id = \"'+yelp_business_id+'\";' \n",
    "            #print(sql)\n",
    "            cur.execute(sql)\n",
    "            rows = cur.fetchall()\n",
    "            #print('business id from table: ',rows, type(rows))\n",
    "    except pymysql.Error, e:\n",
    "        print \"Error %d: %s\" % (e.args[0],e.args[1])\n",
    "        sys.exit(1)\n",
    "    finally:\n",
    "        if con:\n",
    "            con.close()\n",
    "    return rows  "
   ]
  },
  {
   "cell_type": "code",
   "execution_count": null,
   "metadata": {
    "collapsed": true
   },
   "outputs": [],
   "source": [
    "# def query_SQL(yelp_business_id):\n",
    "#     con = False\n",
    "#     rows = []\n",
    "#     try:\n",
    "#         con = pymysql.connect(host='localhost', port=3307, user='root', passwd='', db='yelpdata')\n",
    "#         with con:\n",
    "#             cur = con.cursor()\n",
    "#             sql = 'USE yelpdata;'\n",
    "#             cur.execute(sql)\n",
    "#             sql = 'SELECT id FROM business WHERE yelp_id = \"'+yelp_business_id+'\";' \n",
    "#             #print(sql)\n",
    "#             cur.execute(sql)\n",
    "#             rows = cur.fetchall()\n",
    "#             #print('business id from table: ',rows, type(rows))\n",
    "#     except pymysql.Error, e:\n",
    "#         print \"Error %d: %s\" % (e.args[0],e.args[1])\n",
    "#         sys.exit(1)\n",
    "#     finally:\n",
    "#         if con:\n",
    "#             con.close()\n",
    "#     return rows   "
   ]
  },
  {
   "cell_type": "code",
   "execution_count": null,
   "metadata": {
    "collapsed": true
   },
   "outputs": [],
   "source": [
    "def get_business(business_id):\n",
    "    \"\"\"Query the Business API by a business ID.\n",
    "    Args:\n",
    "        business_id (str): The ID of the business to query.\n",
    "    Returns:\n",
    "        dict: The JSON response from the request.\n",
    "    \"\"\"\n",
    "    business_path = BUSINESS_PATH + business_id\n",
    "\n",
    "    return request(API_HOST, business_path)"
   ]
  },
  {
   "cell_type": "code",
   "execution_count": 7,
   "metadata": {
    "collapsed": true
   },
   "outputs": [],
   "source": [
    "def format_html(string,int):\n",
    "    # accepts a rating or date and returns a float btw 0.0 and 5.0, or date-string\n",
    "    s = str(string)\n",
    "    s = s.lstrip('[<meta content=\"')\n",
    "    if int==0:\n",
    "        s = float(s[0:3])#star ratings are always 3 characters long\n",
    "    elif int==1:\n",
    "        stop = s.find('\"')#date lengths could vary\n",
    "        s = s[0:stop]\n",
    "    else: \n",
    "        print('Wrong integer given to format_rating. Must be 0 for rating or 1 for date: ',int)\n",
    "    return s"
   ]
  },
  {
   "cell_type": "code",
   "execution_count": 8,
   "metadata": {
    "collapsed": true
   },
   "outputs": [],
   "source": [
    "# not working i don't know why\n",
    "def remove_backslash(review):\n",
    "    #review = review.replace(u'\\xa0','')\n",
    "    review = review.replace(u\"\\\\\",'')#This doesn't work because in many cases it is a combination of characters with the backslash that represents a one-byte thing??\n",
    "    review = review.replace(u\"/\",'')\n",
    "    review = review.replace(u\"(\",'')\n",
    "    review = review.replace(u\")\",'')\n",
    "    review = review.replace(u\"-\",'')\n",
    "    review = review.replace(u'\"','')\n",
    "    return review"
   ]
  },
  {
   "cell_type": "code",
   "execution_count": 9,
   "metadata": {
    "collapsed": true
   },
   "outputs": [],
   "source": [
    "def scrape_reviews(html_filename):\n",
    "\n",
    "    # open the html file/object with beautiful soup\n",
    "    \n",
    "    soup = BeautifulSoup(open(html_filename), \"lxml\")\n",
    "\n",
    "    #pp.pprint(ptext)#<class 'bs4.element.ResultSet'>\n",
    "    ptext = soup.find_all('p', {'itemprop': 'description'})\n",
    "    reviews = [ptext[i].get_text() for i in range(0,len(ptext))]\n",
    "    reviews = [filter(lambda x: x in string.printable, review) for review in reviews]\n",
    "    reviews = [remove_backslash(review) for review in reviews]\n",
    "    \n",
    "#     bads = [u'\\xa0',\"\\\\\"]\n",
    "#     reviews = [[review.replace(bad,'') for review in reviews]\n",
    "#                for bad in bads]\n",
    "    \n",
    "    # Examples of what the html looks like:\n",
    "    # <meta itemprop=\"ratingValue\" content=\"5.0\">\n",
    "    # <meta itemprop=\"datePublished\" content=\"2013-03-27\">\n",
    "\n",
    "    rstars =[];rdates=[]\n",
    "    rstars = [pt.parent.find_all('meta', {'itemprop':'ratingValue'}) for pt in ptext]\n",
    "    rdates = [pt.parent.find_all('meta', {'itemprop':'datePublished'}) for pt in ptext]\n",
    "    rstars =[format_html(rstar,0) for rstar in rstars]\n",
    "    rdates =[format_html(rdate,1) for rdate in rdates]\n",
    "\n",
    "    # There's an overall rating on this page I could also get, but it should match bstars\n",
    "\n",
    "    # Ensure that ratings and reviews are vectors of the same length\n",
    "    if len(rstars)!=len(reviews):\n",
    "        print('Length of rstars and reviews for ',html_filename[24:],' on this page do not match.')\n",
    "        #print('rstars len: ',len(rstars),' reviews len: ',len(reviews))\n",
    "        rmin = min(len(rstars),len(reviews))\n",
    "        rstars = rstars[0,rmin]; reviews = reviews[0,rmin]; rdates = rdates[0,rmin]\n",
    "\n",
    "    #Here I manually verified that the star-ratings, reviews, and dates match up with a few pages\n",
    "#     for i in range(0,len(reviews)):\n",
    "#         print(rstars[i],rdates[i],reviews[i])\n",
    "        \n",
    "    return [rstars], [reviews]"
   ]
  },
  {
   "cell_type": "code",
   "execution_count": 10,
   "metadata": {
    "collapsed": true
   },
   "outputs": [],
   "source": [
    "def insert_reviews_SQL(business_id, rstar, review):\n",
    "    con = False\n",
    "    try:\n",
    "        con = pymysql.connect(host='localhost', port=3307, user='root', passwd='', db='yelpdata')\n",
    "        with con:\n",
    "            cur = con.cursor()\n",
    "            #print('inserting into review db')\n",
    "            #print(type(business_id), type(rstar), type(review))\n",
    "            myvalues = \"'\" + str(business_id)+\"',\" + str(rstar) + \",\" + '\"'+review+'\"'\n",
    "            sql = 'INSERT INTO review(business_id,stars,comment) VALUES('+myvalues+')'\n",
    "            #print(sql)\n",
    "            cur.execute(sql)\n",
    "    except pymysql.Error, e:\n",
    "        print \"Error %d: %s\" % (e.args[0],e.args[1])\n",
    "        sys.exit(1)\n",
    "    finally:\n",
    "        if con:\n",
    "            con.close()"
   ]
  },
  {
   "cell_type": "code",
   "execution_count": 13,
   "metadata": {
    "collapsed": false
   },
   "outputs": [
    {
     "ename": "NameError",
     "evalue": "name 'yelp_business_id' is not defined",
     "output_type": "error",
     "traceback": [
      "\u001b[0;31m---------------------------------------------------------------------------\u001b[0m",
      "\u001b[0;31mNameError\u001b[0m                                 Traceback (most recent call last)",
      "\u001b[0;32m<ipython-input-13-d597bcf9d099>\u001b[0m in \u001b[0;36m<module>\u001b[0;34m()\u001b[0m\n\u001b[1;32m      1\u001b[0m \u001b[0;34m\u001b[0m\u001b[0m\n\u001b[0;32m----> 2\u001b[0;31m \u001b[0mbusiness_id\u001b[0m \u001b[0;34m=\u001b[0m \u001b[0mquery_SQL\u001b[0m\u001b[0;34m(\u001b[0m\u001b[0myelp_business_id\u001b[0m\u001b[0;34m)\u001b[0m\u001b[0;31m#business id is a tuple in a tuple\u001b[0m\u001b[0;34m\u001b[0m\u001b[0m\n\u001b[0m\u001b[1;32m      3\u001b[0m \u001b[0;34m\u001b[0m\u001b[0m\n\u001b[1;32m      4\u001b[0m \u001b[0;32mprint\u001b[0m \u001b[0;34m'business id = '\u001b[0m\u001b[0;34m,\u001b[0m\u001b[0mbusiness_id\u001b[0m\u001b[0;34m[\u001b[0m\u001b[0;36m0\u001b[0m\u001b[0;34m]\u001b[0m\u001b[0;34m[\u001b[0m\u001b[0;36m0\u001b[0m\u001b[0;34m]\u001b[0m\u001b[0;34m\u001b[0m\u001b[0m\n\u001b[1;32m      5\u001b[0m \u001b[0;34m\u001b[0m\u001b[0m\n",
      "\u001b[0;31mNameError\u001b[0m: name 'yelp_business_id' is not defined"
     ]
    }
   ],
   "source": [
    "def main():\n",
    "    \n",
    "    for i in range(0,20):# loop over 20 businesses on each YELP API query\n",
    "    #for i in range(0,1):# for debugging: loop over 1 business for each YELP API query\n",
    "    business_id = query_SQL(yelp_business_id)#business id is a tuple in a tuple\n",
    "\n",
    "    print 'business id = ',business_id[0][0]\n",
    "\n",
    "    # Save a temporary html file: soup breaks if you pass it html obj\n",
    "    #html_filename = yelp_business_id +'.html'\n",
    "    html = get_html(yelp_business_id)#returns an html page\n",
    "    html_filename = 'temp.html'\n",
    "    save_myhtml(html_filename, html)\n",
    "\n",
    "    #Get reviews & their stars - Beautiful Soup scrape\n",
    "    rstars,reviews = scrape_reviews(html_filename)\n",
    "\n",
    "    for i in range(0,np.shape(rstars)[1]):#np.shape of rstars is (1,40)\n",
    "    #for i in range(0,1):#np.shape of rstars is (1,40)\n",
    "        #print('SQL review input: ',business_id[0], rstars[0][i],reviews[0][i[:10]])\n",
    "        insert_reviews_SQL(business_id[0][0], rstars[0][i], reviews[0][i])\n",
    "        \n",
    "        \n",
    "        \n",
    "#         business_id = query_SQL(yelp_business_id)#business id is a tuple in a tuple\n",
    "    \n",
    "#         print('business id = ',business_id[0][0])\n",
    "\n",
    "#         # Save a temporary html file: soup breaks if you pass it html obj\n",
    "#         #html_filename = yelp_business_id +'.html'\n",
    "#         html = get_html(yelp_business_id)#returns an html page\n",
    "#         html_filename = 'temp.html'\n",
    "#         save_myhtml(html_filename, html)\n",
    "\n",
    "#         #Get reviews & their stars - Beautiful Soup scrape\n",
    "#         rstars,reviews = scrape_reviews(html_filename)\n",
    "\n",
    "#         for i in range(0,np.shape(rstars)[1]):#np.shape of rstars is (1,40)\n",
    "#         #for i in range(0,1):#np.shape of rstars is (1,40)\n",
    "#             #print('SQL review input: ',business_id[0], rstars[0][i],reviews[0][i[:10]])\n",
    "#             insert_reviews_SQL(business_id[0][0], rstars[0][i], reviews[0][i])\n",
    "\n",
    "            \n",
    "            #x = np.asarray([[business_id]*40]).T\n",
    "            #df = pd.DataFrame(rstars,reviews)\n",
    "            #print(df)\n",
    "\n",
    "#         DEGUGGING CODE ONLY\n",
    "#         temp_url = 'total-care-plus-san-francisco.html'\n",
    "#         temp_url = 'dan-kalshan-md-san-francisco-2.html'\n",
    "    \n",
    "\n",
    "if __name__ == '__main__':\n",
    "   main()"
   ]
  },
  {
   "cell_type": "code",
   "execution_count": null,
   "metadata": {
    "collapsed": true
   },
   "outputs": [],
   "source": []
  }
 ],
 "metadata": {
  "kernelspec": {
   "display_name": "Python 2",
   "language": "python",
   "name": "python2"
  },
  "language_info": {
   "codemirror_mode": {
    "name": "ipython",
    "version": 2
   },
   "file_extension": ".py",
   "mimetype": "text/x-python",
   "name": "python",
   "nbconvert_exporter": "python",
   "pygments_lexer": "ipython2",
   "version": "2.7.10"
  }
 },
 "nbformat": 4,
 "nbformat_minor": 0
}
