{
 "cells": [
  {
   "cell_type": "code",
   "execution_count": 9,
   "metadata": {
    "collapsed": true
   },
   "outputs": [],
   "source": [
    "# MAKE A DATABASE\n",
    "\n",
    "import pandas as pd\n",
    "import cPickle as pickle"
   ]
  },
  {
   "cell_type": "code",
   "execution_count": 10,
   "metadata": {
    "collapsed": false
   },
   "outputs": [
    {
     "name": "stdout",
     "output_type": "stream",
     "text": [
      "   BID Topic       Word\n",
      "0  480     2       knee\n",
      "1  353     0        hip\n",
      "2  566    16  injection\n",
      "3  427    16  injection\n",
      "4  411     3        MRI\n",
      "5  588    11     minute\n",
      "6  309     2       knee\n",
      "7  319     0        hip\n"
     ]
    }
   ],
   "source": [
    "BID = [480,353,566,427,411,588]\n",
    "topic = [2,0,16,16,3,11]\n",
    "word = ['knee','hip','injection','injection','MRI','minute']\n",
    "mycolumns=['BID','Topic','Word']\n",
    "\n",
    "bid_topic_word_df = pd.DataFrame([BID,topic,word]).transpose()\n",
    "bid_topic_word_df.columns = mycolumns\n",
    "\n",
    "bid_topic_word_df = bid_topic_word_df.append({'BID': 309, 'Topic': 2, 'Word': 'knee'},ignore_index=True)\n",
    "bid_topic_word_df = bid_topic_word_df.append({'BID': 319, 'Topic': 0, 'Word': 'hip'},ignore_index=True)\n",
    "\n",
    "print bid_topic_word_df"
   ]
  },
  {
   "cell_type": "code",
   "execution_count": 14,
   "metadata": {
    "collapsed": false
   },
   "outputs": [],
   "source": [
    "\n",
    "\n",
    "#bid_topic_word_df.to_pickle('doctopics/bid_topic_word_df.p')\n",
    "#bid_topic_word_df.to_pickle('bid_topic_word_df.p')\n",
    "\n",
    "btw = bid_topic_word_df.to_dict()\n",
    "btw_pickled = pickle.dumps(btw)\n",
    "f = open('btw_pickled', 'w')\n",
    "f.write(repr(btw_pickled))\n",
    "f.close()"
   ]
  },
  {
   "cell_type": "code",
   "execution_count": null,
   "metadata": {
    "collapsed": true
   },
   "outputs": [],
   "source": []
  },
  {
   "cell_type": "code",
   "execution_count": 17,
   "metadata": {
    "collapsed": false
   },
   "outputs": [
    {
     "name": "stdout",
     "output_type": "stream",
     "text": [
      "   BID Topic       Word\n",
      "0  480     2       Knee\n",
      "1  353     0        Hip\n",
      "2  566    16  Injection\n",
      "3  427    16  Injection\n",
      "4  411     3        MRI\n",
      "5  588    11     Minute\n"
     ]
    }
   ],
   "source": [
    "# DEBUGGING HOW TO CAPITALIZE\n",
    "keytopic = bid_topic_word_df.Word[bid_topic_word_df.BID==353].values[0]\n",
    "\n",
    "f = lambda word: word[0].upper()+word[1:]\n",
    "bid_topic_word_df.Word = bid_topic_word_df.Word.apply(f)\n",
    "\n",
    "print bid_topic_word_df"
   ]
  },
  {
   "cell_type": "code",
   "execution_count": null,
   "metadata": {
    "collapsed": true
   },
   "outputs": [],
   "source": []
  }
 ],
 "metadata": {
  "kernelspec": {
   "display_name": "Python 2",
   "language": "python",
   "name": "python2"
  },
  "language_info": {
   "codemirror_mode": {
    "name": "ipython",
    "version": 2
   },
   "file_extension": ".py",
   "mimetype": "text/x-python",
   "name": "python",
   "nbconvert_exporter": "python",
   "pygments_lexer": "ipython2",
   "version": "2.7.10"
  }
 },
 "nbformat": 4,
 "nbformat_minor": 0
}
