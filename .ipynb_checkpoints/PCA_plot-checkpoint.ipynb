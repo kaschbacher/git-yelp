{
 "cells": [
  {
   "cell_type": "code",
   "execution_count": 35,
   "metadata": {
    "collapsed": true
   },
   "outputs": [],
   "source": [
    "import numpy as np\n",
    "import matplotlib.pyplot as plt\n",
    "from sklearn import linear_model\n",
    "from sklearn.decomposition import PCA\n",
    "import cPickle as pickle"
   ]
  },
  {
   "cell_type": "code",
   "execution_count": 36,
   "metadata": {
    "collapsed": true
   },
   "outputs": [],
   "source": [
    "def convert_rgb(org_color):\n",
    "    \n",
    "    # org_color is type string: '174.199.232'\n",
    "    # Original values are scaled 1-255\n",
    "    # rgb_color is type tuple\n",
    "    # Final color is scaled 0-1: (0.643,0.416,0.894)\n",
    "    \n",
    "    str_vec = org_color.strip().split('.')#type list - of strings\n",
    "    num_vec = [float(s) for s in str_vec]#type list - of floats\n",
    "    rgb_scale = [(n/255) for n in num_vec]#type list - of scaled floats\n",
    "    \n",
    "    # Note: Tried a regular expression...\n",
    "    # It doesn't work - e.g.,:  t2 = [t[i] for i in t]\n",
    "    # TypeError: tuple indices must be integers, not float\n",
    "    rgb_tuple = (rgb_scale[0],rgb_scale[1],rgb_scale[2])\n",
    "    return rgb_tuple\n",
    "    "
   ]
  },
  {
   "cell_type": "code",
   "execution_count": 37,
   "metadata": {
    "collapsed": true
   },
   "outputs": [],
   "source": [
    "def tableau10():\n",
    "    # returns a dict with color names as keys and converted rgb tuples as values\n",
    "    #http://tableaufriction.blogspot.ro/2012/11/finally-you-can-use-tableau-data-colors.html\n",
    "\n",
    "    tableau={}#dict\n",
    "    color_key = [\n",
    "    'dark_grey','med_grey','med2_grey','med3_grey','med4_grey','light_grey',\n",
    "    'blue','orange','green','red','purple',\n",
    "    'turq','puke','brown','lav',\n",
    "    'dark_red','bright_red','fushia_red','salmon','blue_red',\n",
    "    'cool_blue','purp_blue','med_blue','med2_blue','med3_blue',\n",
    "    'lav_blue','sky_blue']\n",
    "    color_str = [\n",
    "    '50.50.50','75.75.75','100.100.100','125.125.125','150.150.150','200.200.200',\n",
    "    '31.119.180','255.127.14','44.160.44','214.39.40','148.103.189',\n",
    "    '23.190.207','188.189.34','140.86.75','227.119.194',\n",
    "    '177.3.24','240.39.32','189.10.54','242.108.100','177.3.74',\n",
    "    '44.105.176','144.158.206','107.163.214','137.183.214','95.158.209',\n",
    "    '181.200.226','177.213.240']\n",
    "    \n",
    "    for idx in range(0,len(color_key)):\n",
    "        #print(color_str[idx])\n",
    "        tup = convert_rgb(color_str[idx])\n",
    "        #tableau[color_key[idx]] = color_str[idx]\n",
    "        tableau[color_key[idx]] = tup\n",
    "    \n",
    "    #For Displaying/debugging\n",
    "    #print(tableau.items())\n",
    "    #print(tableau['dark_grey'])#access by color-name\n",
    "    return tableau"
   ]
  },
  {
   "cell_type": "code",
   "execution_count": 73,
   "metadata": {
    "collapsed": false
   },
   "outputs": [],
   "source": [
    "# gammas = pickle.load(open('gammas.p','rb'))\n",
    "# norm_gammas = pickle.load(open('norm_gammas.p','rb'))\n",
    "# ids_gammas_df = pickle.load(open('ids_gammas_df.p','rb'))\n",
    "# ids_ngammas_df = pickle.load(open('ids_ngammas_df.p','rb'))\n",
    "\n",
    "# ids_gammas_df.shape#(7320, 102)\n",
    "# ids_ngammas_df.shape#(7320, 102)\n"
   ]
  },
  {
   "cell_type": "code",
   "execution_count": 69,
   "metadata": {
    "collapsed": true
   },
   "outputs": [],
   "source": [
    "# made in Extract_Reviews\n",
    "# reviews_df = pickle.load(open('ortho_review_df.p','rb'))"
   ]
  },
  {
   "cell_type": "code",
   "execution_count": 70,
   "metadata": {
    "collapsed": false
   },
   "outputs": [
    {
     "name": "stdout",
     "output_type": "stream",
     "text": [
      "5.0\n"
     ]
    }
   ],
   "source": [
    "reviews_df.head(3)\n",
    "stars = reviews_df.loc[:,'stars']\n",
    "\n",
    "reviews_df.shape#(7320, 5)\n",
    "stars = np.asarray(stars)#(7320,)\n",
    "print stars[0]"
   ]
  },
  {
   "cell_type": "code",
   "execution_count": 76,
   "metadata": {
    "collapsed": true
   },
   "outputs": [],
   "source": [
    "def feature_normalize(X):\n",
    "    # X is an mxn numpy array    \n",
    "    \n",
    "    # Strangely, axis=0 is the mean over the columns\n",
    "    mu = np.mean(X,axis=0)\n",
    "    sd = np.std(X,axis=0)\n",
    "    X_norm = (X - mu)/sd\n",
    "\n",
    "    return X_norm"
   ]
  },
  {
   "cell_type": "code",
   "execution_count": 82,
   "metadata": {
    "collapsed": false
   },
   "outputs": [
    {
     "ename": "SyntaxError",
     "evalue": "invalid syntax (<ipython-input-82-aa357569985f>, line 16)",
     "output_type": "error",
     "traceback": [
      "\u001b[0;36m  File \u001b[0;32m\"<ipython-input-82-aa357569985f>\"\u001b[0;36m, line \u001b[0;32m16\u001b[0m\n\u001b[0;31m    plt.plot(x2+.03],T[group==2,1],color=tab['orange'],\u001b[0m\n\u001b[0m                   ^\u001b[0m\n\u001b[0;31mSyntaxError\u001b[0m\u001b[0;31m:\u001b[0m invalid syntax\n"
     ]
    }
   ],
   "source": [
    "def pca_scatter(T,group,xlab,ylab):\n",
    "    \n",
    "    tab = tableau10()\n",
    "    \n",
    "    x1 = T[group==1,0]\n",
    "    x2 = T[group==2,0]\n",
    "    x3 = T[group==3,0]\n",
    "    x4 = T[group==4,0]\n",
    "    x5 = T[group==5,0]\n",
    "    \n",
    "    #fig = plt.figure()\n",
    "    ax = plt.axes()\n",
    "    plt.plot(x1+.04,T[group==1,1],color=tab['red'],\n",
    "             marker='D',ms=6, mec=tab['med2_grey'],\n",
    "            linewidth=0, label='CTRL')\n",
    "    plt.plot(x2+.03,T[group==2,1],color=tab['orange'],\n",
    "             marker='D',ms=6, mec=tab['med2_grey'],lw=0, label='PTSD')\n",
    "    plt.plot(x3+.02,T[group==3,1],color=tab['green'],\n",
    "             marker='D',ms=6, mec=tab['med2_grey'],lw=0, label='PTSD')\n",
    "    plt.plot(x4+.01,T[group==4,1],color=tab['blue'],\n",
    "             marker='D',ms=6, mec=tab['med2_grey'],lw=0, label='PTSD')\n",
    "    plt.plot(x5,T[group==5,1],color=tab['purple'],\n",
    "             marker='D',ms=6, mec=tab['med2_grey'],lw=0, label='PTSD')\n",
    "    \n",
    "    plt.setp([ax.set_xlabel(xlab),ax.set_ylabel(ylab)],fontsize=11,color=tab['dark_grey'])\n",
    "    plt.setp([ax.get_xticklines(),ax.get_yticklines()],color=tab['light_grey'])\n",
    "    plt.setp([ax.get_xticklabels(),ax.get_yticklabels()],color=tab['med2_grey'],fontsize=9)\n",
    "    \n",
    "    leg = plt.legend(loc='upper center',fontsize=11, numpoints=1)\n",
    "    leg.get_frame().set_edgecolor(tab['light_grey'])\n",
    "    for text in leg.get_texts():\n",
    "        plt.setp(text,color=tab['med3_grey'])\n",
    "    \n",
    "    #Change just one axis\n",
    "    #ax.spines['bottom'].set_color((tab['light_grey']))\n",
    "    \n",
    "    plt.draw()\n",
    "    plt.show()\n",
    "    return"
   ]
  },
  {
   "cell_type": "code",
   "execution_count": null,
   "metadata": {
    "collapsed": false
   },
   "outputs": [],
   "source": [
    "# PCA - instantiate object and fit\n",
    "pca = PCA(n_components=2)\n",
    "\n",
    "feature_norm_gammas = feature_normalize(gammas)\n",
    "pca.fit(feature_norm_gammas)\n",
    "#pca.fit(norm_gammas)\n",
    "\n",
    "print('\\nPCA: % Variance Explained: ',np.round(pca.explained_variance_ratio_*100,3))\n",
    "\n",
    "# components are eigenvectors\n",
    "EV = np.round((pca.components_),5).T\n",
    "\n",
    "# PROJECTED GAMMAS\n",
    "# Use this d x k eigenvector matrix to transform the original samples onto the component subspace. \n",
    "# Arg for transform is projected on the principal components extracted from the training set\n",
    "X_pca = pca.transform(norm_gammas)# gammas mapped onto new feature space\n",
    "\n",
    "# print('\\nPCA Component Loadings (Eigenvectors): \\n')\n",
    "# for i in range(0,len(EV)):\n",
    "#     print 'Topic: ',i,'   ',EV[i,:]\n",
    "\n",
    "xlabel='PCA 1';ylabel='PCA 2'\n",
    "    \n",
    "pca_scatter(X_pca, stars, xlabel, ylabel)"
   ]
  },
  {
   "cell_type": "code",
   "execution_count": null,
   "metadata": {
    "collapsed": true
   },
   "outputs": [],
   "source": []
  }
 ],
 "metadata": {
  "kernelspec": {
   "display_name": "Python 2",
   "language": "python",
   "name": "python2"
  },
  "language_info": {
   "codemirror_mode": {
    "name": "ipython",
    "version": 2
   },
   "file_extension": ".py",
   "mimetype": "text/x-python",
   "name": "python",
   "nbconvert_exporter": "python",
   "pygments_lexer": "ipython2",
   "version": "2.7.10"
  }
 },
 "nbformat": 4,
 "nbformat_minor": 0
}
