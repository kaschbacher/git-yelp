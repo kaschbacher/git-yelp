{
 "cells": [
  {
   "cell_type": "code",
   "execution_count": 299,
   "metadata": {
    "collapsed": true
   },
   "outputs": [],
   "source": [
    "from gensim import corpora, models, similarities, utils\n",
    "import numpy as np\n",
    "import pandas as pd\n",
    "import nltk\n",
    "import cPickle as pickle\n",
    "import re"
   ]
  },
  {
   "cell_type": "code",
   "execution_count": 300,
   "metadata": {
    "collapsed": false
   },
   "outputs": [],
   "source": [
    "lda = pickle.load(open('lda_ortho_30t.p','rb'))"
   ]
  },
  {
   "cell_type": "code",
   "execution_count": 301,
   "metadata": {
    "collapsed": false
   },
   "outputs": [
    {
     "name": "stdout",
     "output_type": "stream",
     "text": [
      "Dictionary(985 unique tokens: [u'consider', u'rating', u'better,', u'keep', u'lack']...)\n"
     ]
    }
   ],
   "source": [
    "texts = corpora.Dictionary.load('orthopedists.dict')\n",
    "print texts\n",
    "#corpus = [dictionary.doc2bow(text) for text in texts]"
   ]
  },
  {
   "cell_type": "code",
   "execution_count": 302,
   "metadata": {
    "collapsed": false
   },
   "outputs": [
    {
     "name": "stdout",
     "output_type": "stream",
     "text": [
      "   Topic            0        1       2      3          4           5\n",
      "0      1        knees     knee    pain    hip  surgeries  orthopedic\n",
      "1      2          hip     pain    knee   time      right        back\n",
      "2      4         time   really    care   like       best       staff\n",
      "3      8         knee     pain    much   time      years     running\n",
      "4     11  appointment  minutes    time  staff    waiting         day\n",
      "5     14         best     time    he's   good    bedside    physical\n",
      "6     16        great      one    time   even     really       never\n",
      "7     25          mri   office  needed  image         us         one\n"
     ]
    }
   ],
   "source": [
    "# Pull words lists for selected topics\n",
    "selected = [1,2,4,8,11,14,16,25]\n",
    "#interpret = ['body part-surgery', ]\n",
    "\n",
    "topic_word_df=pd.DataFrame()\n",
    "str_list=[]\n",
    "\n",
    "for sel in selected:\n",
    "    topic = lda.show_topic(sel,6)#type list\n",
    "    str_list=pd.DataFrame([(tup[1].encode(\"utf-8\")) for tup in topic]).transpose() \n",
    "    str_list.insert(0,'Topic',sel)\n",
    "    topic_word_df = topic_word_df.append([str_list],ignore_index=True)\n",
    "\n",
    "topic_word_df.ix[7,3]='image'\n",
    "print word_df\n"
   ]
  },
  {
   "cell_type": "code",
   "execution_count": 303,
   "metadata": {
    "collapsed": true
   },
   "outputs": [],
   "source": [
    "# save word df\n",
    "# pickle_out = open('word_df.p', 'wb')\n",
    "# pickle.dump(word_df, pickle_out)"
   ]
  },
  {
   "cell_type": "code",
   "execution_count": 313,
   "metadata": {
    "collapsed": false
   },
   "outputs": [
    {
     "name": "stdout",
     "output_type": "stream",
     "text": [
      "['knees' 'knee' 'pain' 'hip' 'surgeries' 'orthopedic' 'one' 'surgeons'\n",
      " 'great' '&' 'patellas' 'time' 'left' \"i've\" 'life' 'explained' 'sure'\n",
      " 'since' 'next' 'problem']\n"
     ]
    }
   ],
   "source": [
    "# Pull words lists for selected topics\n",
    "selected = [1,2,4,8,11,14,16,25]\n",
    "#interpret = ['body part-surgery', ]\n",
    "words = str_list.loc[0,:].values\n",
    "print words\n",
    "#words = ['mri','office','needed']\n",
    "\n",
    "# Tag parts of speech, make a dataframe for words and POS\n",
    "pos_tup = nltk.pos_tag(words)\n",
    "pos = pd.DataFrame([t for t in pos_tup])\n",
    "#print pos"
   ]
  },
  {
   "cell_type": "code",
   "execution_count": 304,
   "metadata": {
    "collapsed": false
   },
   "outputs": [],
   "source": [
    "def filter_POS(str_list, pos_tup):\n",
    "    # Remove less informative parts of speech from the topics, so word\n",
    "    # RB = AVB; CD = Cardinal Number; PRP/PRP$ = personal pronoun; RB=ADVERB; IN = Preposition\n",
    "    #print pos_tup,'\\n'\n",
    "\n",
    "    # dict of topic, word pairs \n",
    "    table_dict={}\n",
    "    \n",
    "    for c in str_list.columns:\n",
    "        if pos_tup[c][1]!='CD' and pos_tup[c][1]!='PRP' and pos_tup[c][1]!='IN' and pos_tup[c][1]!='RB':\n",
    "        #if pos_tup[c][1]== [stop for stop in pow_stop]:\n",
    "            table_dict[c+1]=str_list[c][0]\n",
    "            \n",
    "    #pow_stop = ['CD','PRP','IN','RB']#tried to clean if statement with loop didn't work\n",
    "    return table_dict"
   ]
  },
  {
   "cell_type": "code",
   "execution_count": 314,
   "metadata": {
    "collapsed": false
   },
   "outputs": [
    {
     "name": "stdout",
     "output_type": "stream",
     "text": [
      "    Topic #  Word-IDX       Words\n",
      "0         1         1       knees\n",
      "1         1         2        knee\n",
      "2         1         3        pain\n",
      "3         1         4         hip\n",
      "4         1         5   surgeries\n",
      "5         1         6  orthopedic\n",
      "6         1         8    surgeons\n",
      "7         1         9       great\n",
      "8         1        10           &\n",
      "9         1        11    patellas\n",
      "10        1        12        time\n",
      "11        1        13        left\n",
      "12        1        14        i've\n",
      "13        1        15        life\n",
      "14        1        16   explained\n",
      "15        1        17        sure\n",
      "16        1        19        next\n",
      "17        1        20     problem\n",
      "    Topic #  Word-IDX      Words\n",
      "0         2         1        hip\n",
      "1         2         2       pain\n",
      "2         2         3       knee\n",
      "3         2         4       time\n",
      "4         2         5      right\n",
      "5         2         6       back\n",
      "6         2         8       care\n",
      "7         2         9       good\n",
      "8         2        10        guy\n",
      "9         2        11     labrum\n",
      "10        2        12        day\n",
      "11        2        13      since\n",
      "12        2        14       hips\n",
      "13        2        15       left\n",
      "14        2        16    without\n",
      "15        2        17  surgeries\n",
      "16        2        19       week\n",
      "17        2        20      years\n",
      "    Topic #  Word-IDX        Words\n",
      "0         4         1         time\n",
      "1         4         2       really\n",
      "2         4         3         care\n",
      "3         4         4         like\n",
      "4         4         5         best\n",
      "5         4         6        staff\n",
      "6         4         8       office\n",
      "7         4         9     shoulder\n",
      "8         4        10         good\n",
      "9         4        11  appointment\n",
      "10        4        12   orthopedic\n",
      "11        4        13       always\n",
      "12        4        14      patient\n",
      "13        4        15        great\n",
      "14        4        16          one\n",
      "15        4        17        hands\n",
      "16        4        19         said\n",
      "17        4        20     recovery\n",
      "    Topic #  Word-IDX    Words\n",
      "0         8         1     knee\n",
      "1         8         2     pain\n",
      "2         8         3     much\n",
      "3         8         4     time\n",
      "4         8         5    years\n",
      "5         8         6  running\n",
      "6         8         8      saw\n",
      "7         8         9     work\n",
      "8         8        10     good\n",
      "9         8        11     many\n",
      "10        8        12  without\n",
      "11        8        13     best\n",
      "12        8        14     even\n",
      "13        8        15     team\n",
      "14        8        16     well\n",
      "15        8        17     back\n",
      "16        8        19    great\n",
      "17        8        20      i'm\n",
      "    Topic #  Word-IDX        Words\n",
      "0        11         1  appointment\n",
      "1        11         2      minutes\n",
      "2        11         3         time\n",
      "3        11         4        staff\n",
      "4        11         5      waiting\n",
      "5        11         6          day\n",
      "6        11         8          one\n",
      "7        11         9          me,\n",
      "8        11        10         late\n",
      "9        11        11        first\n",
      "10       11        12          say\n",
      "11       11        13         luke\n",
      "12       11        14       office\n",
      "13       11        15          mri\n",
      "14       11        16         like\n",
      "15       11        17      patient\n",
      "16       11        19         room\n",
      "17       11        20        right\n",
      "    Topic #  Word-IDX       Words\n",
      "0        14         1        best\n",
      "1        14         2        time\n",
      "2        14         3        he's\n",
      "3        14         4        good\n",
      "4        14         5     bedside\n",
      "5        14         6    physical\n",
      "6        14         8        pain\n",
      "7        14         9        knee\n",
      "8        14        10         one\n",
      "9        14        11      months\n",
      "10       14        12   recommend\n",
      "11       14        13        even\n",
      "12       14        14     amazing\n",
      "13       14        15        care\n",
      "14       14        16      office\n",
      "15       14        17        well\n",
      "16       14        19  experience\n",
      "17       14        20      manner\n",
      "    Topic #  Word-IDX       Words\n",
      "0        16         1       great\n",
      "1        16         2         one\n",
      "2        16         3        time\n",
      "3        16         4        even\n",
      "4        16         5      really\n",
      "5        16         6       never\n",
      "6        16         8       every\n",
      "7        16         9  experience\n",
      "8        16        10        knee\n",
      "9        16        11       staff\n",
      "10       16        12       right\n",
      "11       16        13         i'm\n",
      "12       16        14   christina\n",
      "13       16        15        i've\n",
      "14       16        16        pain\n",
      "15       16        17        best\n",
      "16       16        19         way\n",
      "17       16        20        back\n",
      "    Topic #  Word-IDX     Words\n",
      "0        25         1       mri\n",
      "1        25         2    office\n",
      "2        25         3    needed\n",
      "3        25         4     atkin\n",
      "4        25         5        us\n",
      "5        25         6       one\n",
      "6        25         8  physical\n",
      "7        25         9   medical\n",
      "8        25        10    images\n",
      "9        25        11       new\n",
      "10       25        12    really\n",
      "11       25        13       day\n",
      "12       25        14       hip\n",
      "13       25        15     tried\n",
      "14       25        16     cposm\n",
      "15       25        17       top\n",
      "16       25        19    called\n",
      "17       25        20      time\n"
     ]
    }
   ],
   "source": [
    "# initialize\n",
    "Topic_word_map=pd.DataFrame()\n",
    "str_list=[]\n",
    "\n",
    "\n",
    "# loop over topics to get topic-word tuples\n",
    "for sel in selected:\n",
    "    which_topic =sel\n",
    "    topic = lda.show_topic(which_topic,20)#type list\n",
    "    str_list=pd.DataFrame([(tup[1].encode(\"utf-8\")) for tup in topic]).transpose() \n",
    "    #print(str_list)\n",
    "\n",
    "    # Make a dict & DF that filters the topic-word tuples by POS\n",
    "    table_dict = filter_POS(str_list, pos_tup)\n",
    "    topics_filtered = pd.DataFrame([t for t in table_dict.items()],columns = ['Word-IDX','Words'])\n",
    "    topics_filtered.insert(0,'Topic #',which_topic)\n",
    "    print topics_filtered\n",
    "\n",
    "# How to pull words out of dict\n",
    "#print table_dict.items()\n",
    "mywords = table_dict.values()\n",
    "#print mywords"
   ]
  },
  {
   "cell_type": "code",
   "execution_count": 231,
   "metadata": {
    "collapsed": true
   },
   "outputs": [],
   "source": [
    "pickle_out = open('table_dict.p', 'wb')\n",
    "pickle.dump(table_dict, pickle_out)"
   ]
  },
  {
   "cell_type": "code",
   "execution_count": 241,
   "metadata": {
    "collapsed": false
   },
   "outputs": [
    {
     "ename": "TypeError",
     "evalue": "'newline' is an invalid keyword argument for this function",
     "output_type": "error",
     "traceback": [
      "\u001b[0;31m---------------------------------------------------------------------------\u001b[0m",
      "\u001b[0;31mTypeError\u001b[0m                                 Traceback (most recent call last)",
      "\u001b[0;32m<ipython-input-241-b7206e1a5607>\u001b[0m in \u001b[0;36m<module>\u001b[0;34m()\u001b[0m\n\u001b[1;32m      9\u001b[0m     \u001b[0;32mprint\u001b[0m\u001b[0;34m(\u001b[0m\u001b[0;34m'\\nCSV file saved.\\n'\u001b[0m\u001b[0;34m)\u001b[0m\u001b[0;34m\u001b[0m\u001b[0m\n\u001b[1;32m     10\u001b[0m \u001b[0;34m\u001b[0m\u001b[0m\n\u001b[0;32m---> 11\u001b[0;31m \u001b[0mwrite_csv\u001b[0m\u001b[0;34m(\u001b[0m\u001b[0;34m'table_dict.csv'\u001b[0m\u001b[0;34m,\u001b[0m \u001b[0mmywords\u001b[0m\u001b[0;34m)\u001b[0m\u001b[0;34m\u001b[0m\u001b[0m\n\u001b[0m",
      "\u001b[0;32m<ipython-input-241-b7206e1a5607>\u001b[0m in \u001b[0;36mwrite_csv\u001b[0;34m(filename, words)\u001b[0m\n\u001b[1;32m      2\u001b[0m \u001b[0;34m\u001b[0m\u001b[0m\n\u001b[1;32m      3\u001b[0m \u001b[0;32mdef\u001b[0m \u001b[0mwrite_csv\u001b[0m\u001b[0;34m(\u001b[0m\u001b[0mfilename\u001b[0m\u001b[0;34m,\u001b[0m \u001b[0mwords\u001b[0m\u001b[0;34m)\u001b[0m\u001b[0;34m:\u001b[0m\u001b[0;34m\u001b[0m\u001b[0m\n\u001b[0;32m----> 4\u001b[0;31m     \u001b[0;32mwith\u001b[0m \u001b[0mopen\u001b[0m\u001b[0;34m(\u001b[0m\u001b[0mfilename\u001b[0m\u001b[0;34m,\u001b[0m\u001b[0;34m'w'\u001b[0m\u001b[0;34m,\u001b[0m\u001b[0mnewline\u001b[0m\u001b[0;34m=\u001b[0m\u001b[0;34m''\u001b[0m\u001b[0;34m)\u001b[0m \u001b[0;32mas\u001b[0m \u001b[0mcsvfile\u001b[0m\u001b[0;34m:\u001b[0m\u001b[0;34m\u001b[0m\u001b[0m\n\u001b[0m\u001b[1;32m      5\u001b[0m         wr = csv.writer(csvfile, delimiter=',',\n\u001b[1;32m      6\u001b[0m                         quotechar='|',quoting=csv.QUOTE_MINIMAL, lineterminator='\\n')\n",
      "\u001b[0;31mTypeError\u001b[0m: 'newline' is an invalid keyword argument for this function"
     ]
    }
   ],
   "source": [
    "import csv\n",
    "\n",
    "def write_csv(filename, words):\n",
    "    with open(filename,'w',newline='') as csvfile:\n",
    "        wr = csv.writer(csvfile, delimiter=',',\n",
    "                        quotechar='|',quoting=csv.QUOTE_MINIMAL, lineterminator='\\n')\n",
    "        #wr.writerow(table_dict.keys())\n",
    "        wr.writerows(words) \n",
    "    print('\\nCSV file saved.\\n')\n",
    "    \n",
    "write_csv('table_dict.csv', mywords)"
   ]
  },
  {
   "cell_type": "code",
   "execution_count": null,
   "metadata": {
    "collapsed": true
   },
   "outputs": [],
   "source": []
  },
  {
   "cell_type": "code",
   "execution_count": null,
   "metadata": {
    "collapsed": true
   },
   "outputs": [],
   "source": []
  }
 ],
 "metadata": {
  "kernelspec": {
   "display_name": "Python 2",
   "language": "python",
   "name": "python2"
  },
  "language_info": {
   "codemirror_mode": {
    "name": "ipython",
    "version": 2
   },
   "file_extension": ".py",
   "mimetype": "text/x-python",
   "name": "python",
   "nbconvert_exporter": "python",
   "pygments_lexer": "ipython2",
   "version": "2.7.10"
  }
 },
 "nbformat": 4,
 "nbformat_minor": 0
}
