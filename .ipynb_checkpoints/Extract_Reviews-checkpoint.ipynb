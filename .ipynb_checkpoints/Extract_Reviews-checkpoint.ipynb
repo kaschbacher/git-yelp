{
 "cells": [
  {
   "cell_type": "code",
   "execution_count": 160,
   "metadata": {
    "collapsed": true
   },
   "outputs": [],
   "source": [
    "import urllib\n",
    "import urllib2\n",
    "import oauth2\n",
    "\n",
    "from bs4 import BeautifulSoup\n",
    "import lxml\n",
    "import string\n",
    "import pandas as pd\n",
    "import numpy as np\n",
    "\n",
    "import pymysql\n",
    "#from KAsql import query_SQL"
   ]
  },
  {
   "cell_type": "code",
   "execution_count": 178,
   "metadata": {
    "collapsed": false
   },
   "outputs": [],
   "source": [
    "# class ReturnValue(object):\n",
    "#     # Facilitates returning two values without a tuple or dict. Instead returns a class object\n",
    "#     def __init__(self, html, filename):\n",
    "#         self.html = html\n",
    "#         self.filename = filename\n",
    "#         print(self.filename)"
   ]
  },
  {
   "cell_type": "code",
   "execution_count": 179,
   "metadata": {
    "collapsed": true
   },
   "outputs": [],
   "source": [
    "def get_html(yelp_id):\n",
    "    yelp_url = 'http://www.yelp.com/biz/'+yelp_id\n",
    "    #print(yelp_url)\n",
    "    response = urllib2.urlopen(yelp_url)\n",
    "    html_obj = response.read()\n",
    "    return html_obj"
   ]
  },
  {
   "cell_type": "code",
   "execution_count": 180,
   "metadata": {
    "collapsed": true
   },
   "outputs": [],
   "source": [
    "def save_myhtml(html_filename, html):\n",
    "    # Save the html file\n",
    "    with open(html_filename, 'wb') as f:\n",
    "        f.write(html)"
   ]
  },
  {
   "cell_type": "code",
   "execution_count": 181,
   "metadata": {
    "collapsed": true
   },
   "outputs": [],
   "source": [
    "def format_html(string,int):\n",
    "    # accepts a rating or date and returns a float btw 0.0 and 5.0, or date-string\n",
    "    s = str(string)\n",
    "    s = s.lstrip('[<meta content=\"')\n",
    "    if int==0:\n",
    "        s = float(s[0:3])#star ratings are always 3 characters long\n",
    "    elif int==1:\n",
    "        stop = s.find('\"')#date lengths could vary\n",
    "        s = s[0:stop]\n",
    "    else: \n",
    "        print('Wrong integer given to format_rating. Must be 0 for rating or 1 for date: ',int)\n",
    "    return s"
   ]
  },
  {
   "cell_type": "code",
   "execution_count": 182,
   "metadata": {
    "collapsed": true
   },
   "outputs": [],
   "source": [
    "# not working i don't know why\n",
    "def remove_backslash(review):\n",
    "    #review = review.replace(u'\\xa0','')\n",
    "    review = review.replace(u\"\\\\\",'')#This doesn't seem to work...\n",
    "    review = review.replace(u\"/\",'')\n",
    "    review = review.replace(u\"(\",'')\n",
    "    review = review.replace(u\")\",'')\n",
    "    review = review.replace(u\"-\",'')\n",
    "    review = review.replace(u'\"','')\n",
    "    return review"
   ]
  },
  {
   "cell_type": "code",
   "execution_count": 210,
   "metadata": {
    "collapsed": true
   },
   "outputs": [],
   "source": [
    "def scrape_reviews(html):\n",
    "    \n",
    "    # Save a temporary file - BeautifulSoup was not running well when passed an html object, needs a saved page\n",
    "    html_filename = 'temp.html'\n",
    "    save_myhtml(html_filename, html)\n",
    "    # open the html file/object with beautiful soup\n",
    "    soup = BeautifulSoup(open(html_filename), \"lxml\")\n",
    "\n",
    "    #pp.pprint(ptext)#<class 'bs4.element.ResultSet'>\n",
    "    ptext = soup.find_all('p', {'itemprop': 'description'})\n",
    "    reviews = [ptext[i].get_text() for i in range(0,len(ptext))]\n",
    "    reviews = [filter(lambda x: x in string.printable, review) for review in reviews]\n",
    "    reviews = [remove_backslash(review) for review in reviews]\n",
    "    \n",
    "    # Examples of what the html looks like:\n",
    "    # <meta itemprop=\"ratingValue\" content=\"5.0\">\n",
    "    # <meta itemprop=\"datePublished\" content=\"2013-03-27\">\n",
    "\n",
    "    # R-Stars and Dates: Note that R-stars are integers while B-stars (average of R-stars are rounded to X.5)\n",
    "    rstars =[];rdates=[]# Currently dates aren't going into the master database - no time for that\n",
    "    rstars =[pt.parent.find_all('meta', {'itemprop':'ratingValue'}) for pt in ptext]\n",
    "    rstars =[format_html(rstar,0) for rstar in rstars]\n",
    "    #rdates = [pt.parent.find_all('meta', {'itemprop':'datePublished'}) for pt in ptext]\n",
    "    #rdates =[format_html(rdate,1) for rdate in rdates]\n",
    "\n",
    "    # There's an overall rating on this page I could also get, but it should match bstars, and would therefore be redundant (hopefully)\n",
    "\n",
    "    # Ensure that ratings and reviews are vectors of the same length\n",
    "    if len(rstars)!=len(reviews):\n",
    "        print('Length of rstars and reviews on this page do not match.')\n",
    "        #print('rstars len: ',len(rstars),' reviews len: ',len(reviews))\n",
    "        rmin = min(len(rstars),len(reviews))\n",
    "        rstars = rstars[0,rmin]; reviews = reviews[0,rmin]; rdates = rdates[0,rmin]\n",
    "\n",
    "    #Here I manually verified that the star-ratings, reviews, and dates match up with a few pages\n",
    "#     for i in range(0,len(reviews)):\n",
    "#         print(rstars[i],rdates[i],reviews[i])\n",
    "        \n",
    "    return [rstars], [reviews]"
   ]
  },
  {
   "cell_type": "code",
   "execution_count": 205,
   "metadata": {
    "collapsed": true
   },
   "outputs": [],
   "source": [
    "def query_SQL():\n",
    "    # Get fields from business table that need to be used to populate reviews table (and also are reproduced in reviews table for convenience)\n",
    "    con = False\n",
    "    rows = []\n",
    "    try:\n",
    "        con = pymysql.connect(host='localhost', port=3307, user='root', passwd='', db='ortho')\n",
    "        with con:\n",
    "            cur = con.cursor()\n",
    "            sql = 'USE ortho;'\n",
    "            cur.execute(sql)\n",
    "            #sql = 'SELECT id,term_id,city_id FROM business WHERE yelp_id = \"'+yelp_business_id+'\";' \n",
    "            sql = 'SELECT id, yelp_id, term_id, city_id FROM business;' \n",
    "            #print(sql)\n",
    "            cur.execute(sql)\n",
    "            rows = cur.fetchall()\n",
    "            #print('business id from table: ',rows, type(rows))\n",
    "    except pymysql.Error, e:\n",
    "        print \"Error %d: %s\" % (e.args[0],e.args[1])\n",
    "        sys.exit(1)\n",
    "    finally:\n",
    "        if con:\n",
    "            con.close()\n",
    "    return rows  "
   ]
  },
  {
   "cell_type": "code",
   "execution_count": 206,
   "metadata": {
    "collapsed": true
   },
   "outputs": [],
   "source": [
    "def insert_reviews_SQL(business_id, rstar, review):\n",
    "    con = False\n",
    "    try:\n",
    "        con = pymysql.connect(host='localhost', port=3307, user='root', passwd='', db='yelpdata')\n",
    "        with con:\n",
    "            cur = con.cursor()\n",
    "            #print('inserting into review db')\n",
    "            #print(type(business_id), type(rstar), type(review))\n",
    "            myvalues = \"'\" + str(business_id)+\"',\" + str(rstar) + \",\" + '\"'+review+'\"'\n",
    "            sql = 'INSERT INTO review(business_id,stars,comment) VALUES('+myvalues+')'\n",
    "            #print(sql)\n",
    "            cur.execute(sql)\n",
    "    except pymysql.Error, e:\n",
    "        print \"Error %d: %s\" % (e.args[0],e.args[1])\n",
    "        sys.exit(1)\n",
    "    finally:\n",
    "        if con:\n",
    "            con.close()"
   ]
  },
  {
   "cell_type": "code",
   "execution_count": 286,
   "metadata": {
    "collapsed": false
   },
   "outputs": [
    {
     "name": "stdout",
     "output_type": "stream",
     "text": [
      "([3, 4, 5, 6, 7], ['james-l-chen-md-san-francisco', 'elly-s-laroque-md-san-francisco', 'nicholas-colyvas-md-san-francisco', 'c-benjamin-ma-md-san-francisco', 'irene-minkowsky-md-san-francisco'])\n",
      "\n",
      "  bid                            yelp_id term_id city_id\n",
      "0   3      james-l-chen-md-san-francisco       1       1\n",
      "1   4    elly-s-laroque-md-san-francisco       1       1\n",
      "2   5  nicholas-colyvas-md-san-francisco       1       1\n",
      "3   6     c-benjamin-ma-md-san-francisco       1       1\n",
      "4   7   irene-minkowsky-md-san-francisco       1       1\n",
      "(40, 3) [[6 1 1]\n",
      " [6 1 1]\n",
      " [6 1 1]\n",
      " [6 1 1]\n",
      " [6 1 1]\n",
      " [6 1 1]\n",
      " [6 1 1]\n",
      " [6 1 1]\n",
      " [6 1 1]\n",
      " [6 1 1]\n",
      " [6 1 1]\n",
      " [6 1 1]\n",
      " [6 1 1]\n",
      " [6 1 1]\n",
      " [6 1 1]\n",
      " [6 1 1]\n",
      " [6 1 1]\n",
      " [6 1 1]\n",
      " [6 1 1]\n",
      " [6 1 1]\n",
      " [6 1 1]\n",
      " [6 1 1]\n",
      " [6 1 1]\n",
      " [6 1 1]\n",
      " [6 1 1]\n",
      " [6 1 1]\n",
      " [6 1 1]\n",
      " [6 1 1]\n",
      " [6 1 1]\n",
      " [6 1 1]\n",
      " [6 1 1]\n",
      " [6 1 1]\n",
      " [6 1 1]\n",
      " [6 1 1]\n",
      " [6 1 1]\n",
      " [6 1 1]\n",
      " [6 1 1]\n",
      " [6 1 1]\n",
      " [6 1 1]\n",
      " [6 1 1]]\n"
     ]
    }
   ],
   "source": [
    "def main():\n",
    "    \n",
    "    #from ortho.business, returns: id, yelp_id, term_id, city_id (tuple in a tuple)\n",
    "    rows = query_SQL()#response is shape rev# x 4\n",
    "    #print rows[0][:]\n",
    "    \n",
    "    # UNPACK ROWS - no matter which order you place these indices, if one is a : it will give you everything in the row indexed by the number you gave \n",
    "    bid=[];yid=[];tid=[];cid=[];\n",
    "    for row in rows:\n",
    "        #print row[0],row[1],row[2]\n",
    "        bid.append(row[0])\n",
    "        yid.append(row[1])\n",
    "        tid.append(row[2])\n",
    "        cid.append(row[3])\n",
    "    print(bid[:5],yid[:5])\n",
    "    \n",
    "    # Make Pandas DataFrame\n",
    "    df = pd.DataFrame([bid,yid,tid,cid]).transpose()\n",
    "    df.columns=['bid','yelp_id','term_id','city_id']\n",
    "    print '\\n',df.head(5)\n",
    "        \n",
    "    #Get reviews & their stars - Beautiful Soup scrape\n",
    "    # --- loop over df rows in business table, extracting yelp_id - although could be a pythonic loop over a yelp_id series, i want access to other row items for SQL insert\n",
    "#     html_filename = 'temp.html'#I don't want to keep all the html files in my folder, but I need a replacable saved file in order for Beautiful Soup to work correctly\n",
    "#     for row in range(0,df.shape[0]):#works assuming df.index starts at 0\n",
    "#         html = get_html(df.loc[row,'yelp_id'])#yelp_id as argument\n",
    "#         save_myhtml(html_filename, html)\n",
    "#         rstars,reviews = scrape_reviews(html)\n",
    "        \n",
    "        #Package into one dataframe per review\n",
    "        # review table contains in order: rid, bid, term, city, star, comment (note yelp_id is only in business table)\n",
    "        #revs_perbid_df = make_review_dataframe(rstars,reviews)\n",
    "    \n",
    "    \n",
    "    temp_yid = 'dan-kalshan-md-san-francisco-2'\n",
    "    html = get_html(temp_yid)\n",
    "    save_myhtml('temp.html',html)\n",
    "    rstars,reviews = scrape_reviews(html)#rstars np.shape (1,40); rstars and revs for all 40 reviews\n",
    "    \n",
    "    # Make stacked array of ids for review table\n",
    "    ids_row =  np.asarray(df.loc[3,['bid','term_id','city_id']].values)\n",
    "    stacked_ids = ids_row#Can't vstack if stacked_ids starts empty - Can only vstack two arrays of same dimensions[1]\n",
    "    no_reviews = np.shape(rstars)[1]\n",
    "    for i in range(1, no_reviews):\n",
    "        stacked_ids = np.vstack((stacked_ids,ids_row))#vstack takes 1 arg - a tuple\n",
    "    \n",
    "    print(type(rstars[0]))\n",
    "    # debug shape\n",
    "#     print '3 star: ',rstars[0][:3]#rstars np.shape (1,40)\n",
    "#     print 'one review: ',reviews[0][0]\n",
    "    \n",
    "    #Package into one dataframe per review\n",
    "    #revs_perbid_df = pd.DataFrame()\n",
    "    \n",
    "    \n",
    "    # concatenate review level databases vertically into one big review database\n",
    "    #insert_reviews_SQL(business_id[0][0], rstars[0][i], reviews[0][i])\n",
    "        \n",
    "    \n",
    "if __name__ == '__main__':\n",
    "    main()"
   ]
  },
  {
   "cell_type": "code",
   "execution_count": 284,
   "metadata": {
    "collapsed": false
   },
   "outputs": [
    {
     "name": "stdout",
     "output_type": "stream",
     "text": [
      "[[6 1 1]] \n",
      "\n",
      "[[6 1 1]\n",
      " [6 1 1]\n",
      " [6 1 1]\n",
      " [6 1 1]\n",
      " [6 1 1]\n",
      " [6 1 1]]\n"
     ]
    }
   ],
   "source": [
    "arr = np.array([[6, 1, 1]])\n",
    "print arr,'\\n'\n",
    "\n",
    "stack = arr\n",
    "#new = np.concatenate((arr, arr), axis=0)\n",
    "for i in range (0,5):\n",
    "    stack = np.vstack((stack,arr))\n",
    "print stack\n"
   ]
  },
  {
   "cell_type": "code",
   "execution_count": 264,
   "metadata": {
    "collapsed": false
   },
   "outputs": [
    {
     "name": "stdout",
     "output_type": "stream",
     "text": [
      "0    6\n",
      "1    1\n",
      "2    1\n",
      "dtype: int64\n",
      "[   0  1  2\n",
      "0  6  1  1,    0  1  2\n",
      "0  6  1  1,    0  1  2\n",
      "0  6  1  1,    0  1  2\n",
      "0  6  1  1,    0  1  2\n",
      "0  6  1  1]\n"
     ]
    }
   ],
   "source": [
    "arr = pd.Series([6, 1, 1])\n",
    "print arr\n",
    "\n",
    "ids_df = pd.DataFrame()\n",
    "ids_df = [ids_df.append(arr, ignore_index=True) for i in range(0,5)]\n",
    "#ids_df = [ids_df.append(arr) for i in range(0,5)]\n",
    "print ids_df\n"
   ]
  },
  {
   "cell_type": "code",
   "execution_count": null,
   "metadata": {
    "collapsed": true
   },
   "outputs": [],
   "source": []
  }
 ],
 "metadata": {
  "kernelspec": {
   "display_name": "Python 2",
   "language": "python",
   "name": "python2"
  },
  "language_info": {
   "codemirror_mode": {
    "name": "ipython",
    "version": 2
   },
   "file_extension": ".py",
   "mimetype": "text/x-python",
   "name": "python",
   "nbconvert_exporter": "python",
   "pygments_lexer": "ipython2",
   "version": "2.7.10"
  }
 },
 "nbformat": 4,
 "nbformat_minor": 0
}
