{
 "cells": [
  {
   "cell_type": "code",
   "execution_count": 5,
   "metadata": {
    "collapsed": true
   },
   "outputs": [],
   "source": [
    "import cPickle as pickle\n",
    "import numpy as np\n",
    "import pandas as pd\n",
    "import matplotlib.pyplot as plt\n",
    "from gensim import corpora, models\n",
    "#import nltk\n",
    "\n",
    "%matplotlib inline"
   ]
  },
  {
   "cell_type": "code",
   "execution_count": 6,
   "metadata": {
    "collapsed": true
   },
   "outputs": [],
   "source": [
    "# NWORDS_SHOWN = 15# Number of words per topic to extract\n",
    "# SELECTED = [1,2,4,6,8,11,14,25]#Numbers of the topics that I will include in the table"
   ]
  },
  {
   "cell_type": "code",
   "execution_count": 7,
   "metadata": {
    "collapsed": false
   },
   "outputs": [],
   "source": [
    "def get_topics(bid, bid_df):\n",
    "    \"\"\"Given arguments: a bid (doctor ID) and the bid_df (dataframe), \n",
    "    Extract and return a sorted series for one bid with the top 10 topics\n",
    "    Eventually, extend this to include the doctor's name. \"\"\"\n",
    "    \n",
    "    all_topics = bid_df.ix[bid,:]#type Series\n",
    "    all_topics.sort(axis=0, ascending=False)\n",
    "    doc_topics = all_topics[:10]\n",
    "    \n",
    "    return doc_topics"
   ]
  },
  {
   "cell_type": "code",
   "execution_count": 8,
   "metadata": {
    "collapsed": true
   },
   "outputs": [],
   "source": [
    "def convert_rgb(org_color):   \n",
    "    \"\"\"org_color is type string: '174.199.232'\n",
    "    # Original values are scaled 1-255\n",
    "    # rgb_color is type tuple\n",
    "    # Final color is scaled 0-1: (0.643,0.416,0.894)\"\"\"\n",
    "    \n",
    "    str_vec = org_color.strip().split('.')#type list - of strings\n",
    "    num_vec = [float(s) for s in str_vec]#type list - of floats\n",
    "    rgb_scale = [(n/255) for n in num_vec]#type list - of scaled floats\n",
    "    \n",
    "    # Note: Tried a regular expression...\n",
    "    # It doesn't work - e.g.,:  t2 = [t[i] for i in t]\n",
    "    # TypeError: tuple indices must be integers, not float\n",
    "    rgb_tuple = (rgb_scale[0],rgb_scale[1],rgb_scale[2])\n",
    "    return rgb_tuple"
   ]
  },
  {
   "cell_type": "code",
   "execution_count": 9,
   "metadata": {
    "collapsed": true
   },
   "outputs": [],
   "source": [
    "def tableau10():\n",
    "    \"\"\" returns a dict with color names as keys and converted rgb tuples as values\n",
    "    #http://tableaufriction.blogspot.ro/2012/11/finally-you-can-use-tableau-data-colors.html\n",
    "    #References convert_rgb()\"\"\"\n",
    "\n",
    "    tableau={}#dict\n",
    "    color_key = [\n",
    "    'dark_grey','med_grey','med2_grey','med3_grey','med4_grey','light_grey',\n",
    "    'blue','orange','green','red','purple',\n",
    "    'turq','puke','med_puke','light_puke',\n",
    "    'brown','lav',\n",
    "    'dark_red','bright_red','fushia_red','salmon','blue_red','light_red',\n",
    "    'cool_blue','purp_blue','med_blue','med2_blue','med3_blue',\n",
    "    'lav_blue','sky_blue','light_cool_blue']\n",
    "    color_str = [\n",
    "    '50.50.50','75.75.75','100.100.100','125.125.125','150.150.150','200.200.200',\n",
    "    '31.119.180','255.127.14','44.160.44','214.39.40','148.103.189',\n",
    "    '23.190.207','188.189.34','205.204.93','219.219.141',\n",
    "    '140.86.75','227.119.194',\n",
    "    '177.3.24','240.39.32','189.10.54','242.108.100','177.3.74','254.69.70',\n",
    "    '44.105.176','144.158.206','107.163.214','137.183.214','95.158.209',\n",
    "    '181.200.226','177.213.240','94.155.225']\n",
    "    \n",
    "    for idx in range(0,len(color_key)):\n",
    "        #print(color_str[idx])\n",
    "        tup = convert_rgb(color_str[idx])\n",
    "        #tableau[color_key[idx]] = color_str[idx]\n",
    "        tableau[color_key[idx]] = tup\n",
    "    \n",
    "    #For Displaying/debugging\n",
    "    #print(tableau.items())\n",
    "    #print(tableau['dark_grey'])#access by color-name\n",
    "    return tableau"
   ]
  },
  {
   "cell_type": "code",
   "execution_count": 10,
   "metadata": {
    "collapsed": true
   },
   "outputs": [],
   "source": [
    "class colors:\n",
    "    \"\"\" Class that defines colors in a palette for a bar graph\"\"\"\n",
    "    t = tableau10()#color settings\n",
    "\n",
    "    c = [ t['purple'],t['cool_blue'],t['light_cool_blue'],t['turq'],t['green'],\n",
    "         t['med_puke'],t['orange'],t['salmon'],t['light_red'],t['fushia_red'] ]#10 bar colors\n",
    "    \n",
    "    err = [ t['med2_grey'],t['med2_grey'] ]#error bar color\n",
    "    edge = [ t['med2_grey'] ]\n",
    "    \n",
    "    xlb = t['dark_grey']; ylb = t['dark_grey']#labels\n",
    "    xtk = t['med3_grey']; ytk = t['med3_grey']#ticks\n",
    "    ytl = t['med3_grey']#ticklines\n",
    "    leg = t['med3_grey']#legend box\n",
    "    box = t['med4_grey']"
   ]
  },
  {
   "cell_type": "code",
   "execution_count": 11,
   "metadata": {
    "collapsed": true
   },
   "outputs": [],
   "source": [
    "def save_fig(name, fig):\n",
    "    #path = 'Users/kaschbacher/insightproject/yelp/website/app/static/img/'\n",
    "    # path above doesn't work maybe because jupter is running inside yelp/git-yelp and this path is outside that\n",
    "    path=''\n",
    "    filename = name+'.png'\n",
    "    fig.savefig((path+filename))\n",
    "    "
   ]
  },
  {
   "cell_type": "code",
   "execution_count": 20,
   "metadata": {
    "collapsed": true
   },
   "outputs": [],
   "source": [
    "def dr_bar_graph(topics, c, name):\n",
    "    \"\"\"Make a bar graph for a given doctor\n",
    "    Argument: topics = Series of 10 topic weights to graph. name = doctor's name as title.\n",
    "              topics series indices correspond to topic numbers = x-axis labels\n",
    "    Returns: figure object with the bar graph\n",
    "    \"\"\"\n",
    "    \n",
    "    ind = np.arange(len(topics))#This may throw error if emmeans has only one DV\n",
    "    width = 0.75\n",
    "    \n",
    "    # Instatiate objects\n",
    "    fig, ax = plt.subplots()\n",
    "    \n",
    "    # Plot data as bars\n",
    "    rects1 = ax.bar(ind, topics, width, color=c.c,edgecolor=c.edge)\n",
    "    #print(plt.getp(rects1))# A way to inspect the properties of an artist object\n",
    "    \n",
    "    # Format axes labels, ticks, and lines\n",
    "    plt.rc('axes',ec=c.box)\n",
    "    ax.set_xlabel('Topic Number', fontsize=14, color=c.xlb)\n",
    "    ax.set_ylabel('Topic Distribution', fontsize=14, color=c.ylb)\n",
    "    #ax.set_title(name, fontsize=16)\n",
    "    \n",
    "    ax.set_xticks(ind+(width/2))\n",
    "    ax.set_xticklabels(ind+1,fontsize=11, color=c.xtk)\n",
    "    plt.setp([ax.get_yticklabels()],color=c.ytk)\n",
    "    \n",
    "    plt.setp([ax.get_xticklines()], visible=False)\n",
    "    plt.setp([ax.get_yticklines()], color=c.ytl)\n",
    "    \n",
    "    # Limits of y axis\n",
    "    plt.ylim([0, np.max(topics)*1.2])#good to start with\n",
    "    \n",
    "    ax.margins(0.05)\n",
    "    plt.show()\n",
    "    \n",
    "    return fig"
   ]
  },
  {
   "cell_type": "code",
   "execution_count": 21,
   "metadata": {
    "collapsed": false
   },
   "outputs": [
    {
     "data": {
      "image/png": "[encoded data removed]",
      "text/plain": [
       "<matplotlib.figure.Figure at 0x10eb3d750>"
      ]
     },
     "metadata": {},
     "output_type": "display_data"
    }
   ],
   "source": [
    "def main():\n",
    "       \n",
    "    #Load Data\n",
    "    #lda = pickle.load(open('lda_ortho_30t_filter.p','rb'))#Made in LDA_Doctor_Topics\n",
    "    bid_df = pickle.load(open('bid_tmeans.p', 'rb'))#Made in LDA_Doctor_Topics\n",
    "    topic_word_df = pickle.load(open('topic_word_df.p','rb'))#Made in Get_words\n",
    "    names_df = pd.read_pickle('names_df.p')\n",
    "    \n",
    "    #doc_name passed to views_py by input.html\n",
    "    doc_bid = 607# eventually, either bid_df will contain name, or name and bid will be passed from input.html\n",
    "    doc_name = \"bid\"+str(doc_bid)\n",
    "    \n",
    "    # Extract the top 10 topics for given doctor\n",
    "    doc_topics = get_topics(doc_bid, bid_df)#returns series of 10 topics in sorted order\n",
    "    selected = doc_topics.index\n",
    "    #print doc_topics\n",
    "    \n",
    "    # Make a bar graph\n",
    "    palette = colors() \n",
    "    fig = dr_bar_graph(doc_topics[:5], palette, doc_name)\n",
    "    save_fig(doc_name, fig)\n",
    "    \n",
    "    # Make a Topic-Word Table\n",
    "    table = topic_word_df.loc[selected,:]\n",
    "    words_lol = table.values.tolist()\n",
    "    \n",
    "    for words in words_lol:\n",
    "         for word in words:\n",
    "                pass\n",
    "                #print word\n",
    "    #print table\n",
    "    \n",
    "if __name__==\"__main__\":\n",
    "    main()\n",
    " "
   ]
  },
  {
   "cell_type": "code",
   "execution_count": null,
   "metadata": {
    "collapsed": true
   },
   "outputs": [],
   "source": []
  },
  {
   "cell_type": "code",
   "execution_count": null,
   "metadata": {
    "collapsed": true
   },
   "outputs": [],
   "source": []
  }
 ],
 "metadata": {
  "kernelspec": {
   "display_name": "Python 2",
   "language": "python",
   "name": "python2"
  },
  "language_info": {
   "codemirror_mode": {
    "name": "ipython",
    "version": 2
   },
   "file_extension": ".py",
   "mimetype": "text/x-python",
   "name": "python",
   "nbconvert_exporter": "python",
   "pygments_lexer": "ipython2",
   "version": "2.7.10"
  }
 },
 "nbformat": 4,
 "nbformat_minor": 0
}
