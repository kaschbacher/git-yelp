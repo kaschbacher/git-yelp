{
 "cells": [
  {
   "cell_type": "code",
   "execution_count": 44,
   "metadata": {
    "collapsed": true
   },
   "outputs": [],
   "source": [
    "import pandas as pd"
   ]
  },
  {
   "cell_type": "code",
   "execution_count": 48,
   "metadata": {
    "collapsed": true
   },
   "outputs": [],
   "source": [
    "def find_top_body_topic(body_word, topic_word_df):\n",
    "    #Find topic number for highest rating of hip\n",
    "    ###   body_word = e.g., 'ankle' or 'knee'\n",
    "    # topic_word_df:  30 topics by 10 words (top 10)\n",
    "    \n",
    "    body_index=-1\n",
    "    body_topic=-1\n",
    "    body_word_col = -1\n",
    "    \n",
    "    for col in topic_word_df.columns[1:]:#column 0 is the topic number\n",
    "        words = topic_word_df[col].tolist()\n",
    "        found = -1\n",
    "        for i,word in enumerate(words):\n",
    "            found = word.find(body_word)#found is the index at which the given str was found in word. if not found: -1\n",
    "            if found>=0 and body_topic==-1:\n",
    "                #print found,word,i\n",
    "                body_topic = i\n",
    "                body_word_col = col\n",
    "    #print \"myword: \",body_word, '.  topic: ',body_topic, '.  word column: ',body_word_col\n",
    "    return body_topic,body_word_col"
   ]
  },
  {
   "cell_type": "code",
   "execution_count": 49,
   "metadata": {
    "collapsed": false
   },
   "outputs": [],
   "source": [
    "# Given a body part, find the 3 doctors most \"talked about\" with respect to that body part\n",
    "def top_body_docs(body_topic, bid_df):\n",
    "    # Given the topic # (body_topic) find the top three bids (doctors) who have the highest scores on this topic\n",
    "    # Return a series where index = BID and values are topic weights/\"scores\" for the body key-word (e.g., \"hip\")\n",
    "    mysorted = bid_df.sort(body_topic, axis=0, ascending=False)#21-hip-visdata\n",
    "    idx = mysorted.index[0:3]#idx is the BID in this case\n",
    "    #print mysorted[0:3]\n",
    "    body_score = mysorted.loc[idx,body_topic]\n",
    "    return body_score"
   ]
  },
  {
   "cell_type": "code",
   "execution_count": 71,
   "metadata": {
    "collapsed": false
   },
   "outputs": [
    {
     "name": "stdout",
     "output_type": "stream",
     "text": [
      "myword:  wrist .  topic:  19 .  word column:  0\n",
      "   Topic            0       1          2          3          4       5  \\\n",
      "0      0          hip    good       best  recommend     highly   years   \n",
      "1      1  appointment  office       time       knee      didnt  really   \n",
      "2      2         knee   staff     office  recommend  excellent   great   \n",
      "3      3         time     mri  insurance     injury       need   never   \n",
      "4      4        great   staff     office       time       good    care   \n",
      "\n",
      "         6     7          8          9  \n",
      "0  amazing  told     manner     really  \n",
      "1    first  said      great  questions  \n",
      "2    never  time  questions     better  \n",
      "3    going  even       call     office  \n",
      "4     able  feel      years        hip  \n",
      "19\n"
     ]
    }
   ],
   "source": [
    "def main():\n",
    "       \n",
    "    #Load Data\n",
    "    bid_df = pd.read_pickle('bid_tmeans.p')#index of this df is the bid, but can't be indexed by 'BID'\n",
    "    topic_word_df = pd.read_pickle('topic_word_df.p')\n",
    "    names_df = pd.read_pickle('names_df.p')\n",
    "    \n",
    "    # step 1, given the topic-word matrix, find the topic in which a body part (hip) is most highly ranked.\n",
    "    #body_topics = {}\n",
    "    body_key = ['knee','hip','wrist','injection','mri']\n",
    "    #body_topics[body_key[i]] = topic# topic will be the topic number with the highest rating for this body_key\n",
    "    \n",
    "    #Gets row/topic and col/word_num in topic_word_df where the first instance of that body word occurs\n",
    "    [body_topic,body_word_num] = find_top_body_topic(body_key[2], topic_word_df)\n",
    "    #print 'validate: ',topic_word_df.ix[body_topic,body_word_num]\n",
    "    print \"myword: \",body_key[2], '.  topic: ',body_topic, '.  word column: ',body_word_num\n",
    "    \n",
    "    # Given the topic # (hip_topic) find the top three bids (doctors) who have the highest scores on this topic\n",
    "    # Return a series where index = BID and values are topic weights/\"scores\" for the body key-word (e.g., \"hip\")\n",
    "    \n",
    "    print topic_word_df.head(5)\n",
    "    print body_topic\n",
    "    body_score = top_body_docs(body_topic,bid_df)\n",
    "    \n",
    "#     print body_score#index is BID, score is topic weight\n",
    "    \n",
    "    # Return a dict with their names and the hip_score\n",
    "    \n",
    "    \n",
    "if __name__==\"__main__\":\n",
    "    main()"
   ]
  },
  {
   "cell_type": "code",
   "execution_count": null,
   "metadata": {
    "collapsed": true
   },
   "outputs": [],
   "source": []
  },
  {
   "cell_type": "code",
   "execution_count": null,
   "metadata": {
    "collapsed": true
   },
   "outputs": [],
   "source": []
  }
 ],
 "metadata": {
  "kernelspec": {
   "display_name": "Python 2",
   "language": "python",
   "name": "python2"
  },
  "language_info": {
   "codemirror_mode": {
    "name": "ipython",
    "version": 2
   },
   "file_extension": ".py",
   "mimetype": "text/x-python",
   "name": "python",
   "nbconvert_exporter": "python",
   "pygments_lexer": "ipython2",
   "version": "2.7.10"
  }
 },
 "nbformat": 4,
 "nbformat_minor": 0
}
