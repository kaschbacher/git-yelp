{
 "cells": [
  {
   "cell_type": "code",
   "execution_count": 6,
   "metadata": {
    "collapsed": true
   },
   "outputs": [],
   "source": [
    "import pymysql\n",
    "import pandas as pd"
   ]
  },
  {
   "cell_type": "code",
   "execution_count": 7,
   "metadata": {
    "collapsed": true
   },
   "outputs": [],
   "source": [
    "def query_SQL():\n",
    "    # Get fields from business table that need to be used to populate reviews table (and also are reproduced in reviews table for convenience)\n",
    "    con = False\n",
    "    rows = []\n",
    "    try:\n",
    "        con = pymysql.connect(host='localhost', port=3307, user='root', passwd='', db='ortho')\n",
    "        with con:\n",
    "            cur = con.cursor()\n",
    "            sql = 'USE ortho;'\n",
    "            cur.execute(sql)\n",
    "            #sql = 'SELECT id,term_id,city_id FROM business WHERE yelp_id = \"'+yelp_business_id+'\";' \n",
    "            sql = 'SELECT id, yelp_id, term_id, city_id FROM business;' \n",
    "            #print(sql)\n",
    "            cur.execute(sql)\n",
    "            rows = cur.fetchall()\n",
    "    except pymysql.Error, e:\n",
    "        print \"Error %d: %s\" % (e.args[0],e.args[1])\n",
    "        sys.exit(1)\n",
    "    finally:\n",
    "        if con:\n",
    "            con.close()\n",
    "    return rows  "
   ]
  },
  {
   "cell_type": "code",
   "execution_count": 8,
   "metadata": {
    "collapsed": true
   },
   "outputs": [],
   "source": [
    "def make_bus_df(rows):\n",
    "    # receives as argument, the output of the MySQL query of ortho.business table\n",
    "    \n",
    "    # UNPACK ROWS - no matter which order you place these indices[][], if one is a : it will give you everything in the row indexed by the number you gave \n",
    "    bid=[];yid=[];tid=[];cid=[];\n",
    "    for row in rows:\n",
    "        #print row[0],row[1],row[2]\n",
    "        bid.append(row[0])\n",
    "        yid.append(row[1])\n",
    "        tid.append(row[2])\n",
    "        cid.append(row[3])\n",
    "    #print(bid[:5],yid[:5])\n",
    "    \n",
    "    # Make Pandas DataFrame:  business-level ids\n",
    "    bus_df = pd.DataFrame([bid,yid,tid,cid]).transpose()\n",
    "    bus_df.columns=['bid','yelp_id','term_id','city_id']\n",
    "    #print '\\n',bus_df.head(5)\n",
    "    return bus_df"
   ]
  },
  {
   "cell_type": "code",
   "execution_count": 43,
   "metadata": {
    "collapsed": false
   },
   "outputs": [
    {
     "name": "stdout",
     "output_type": "stream",
     "text": [
      "     bid                                       yelp_id\n",
      "200  503     peninsula-orthopedic-associates-daly-city\n",
      "207  510                     khan-a-shabi-md-daly-city\n",
      "217  520                  kenneth-hunt-md-redwood-city\n",
      "218  521                  allan-k-mishra-md-menlo-park\n",
      "219  522                jason-l-dragoo-md-redwood-city\n",
      "224  527                wall-michael-s-md-redwood-city\n",
      "225  528  stanford-sports-medicine-clinic-redwood-city\n",
      "233  536                bradley-p-graw-md-redwood-city\n",
      "234  537                 gary-s-fanton-md-redwood-city\n",
      "238  541                robert-millard-md-redwood-city\n",
      "248  551                paul-eliot-hughes-md-san-mateo\n",
      "253  556                 marc-r-safran-md-redwood-city\n",
      "257  560     stanford-orthopaedic-surgery-redwood-city\n",
      "278  581               hazelrig-paul-e-jr-md-san-mateo\n",
      "286  589                   don-young-park-md-san-mateo\n",
      "288  591  san-mateo-orthopedic-medical-group-san-mateo\n",
      "289  592             liza-reichenberger-pa-c-san-mateo\n",
      "290  593                     aileen-shieu-md-san-mateo\n",
      "292  595                     edward-c-sun-md-san-mateo\n",
      "293  596                  al-ghamgosar-dpm-san-mateo-5\n",
      "294  597                  hazelrig-paul-e-md-san-mateo\n",
      "295  598                    dr-felix-chen-md-san-mateo\n",
      "307  610                    walter-r-pyka-md-san-mateo\n",
      "309  612                 finnesey-kevin-s-md-san-mateo\n",
      "310  613                diefendorf-dirk-r-md-san-mateo\n"
     ]
    }
   ],
   "source": [
    "def main():\n",
    "    rows = query_SQL()#response is shape rev# x 4\n",
    "    business_df = make_bus_df(rows)\n",
    "    \n",
    "    #print business_df.head(5),'\\n'\n",
    "    \n",
    "    dups = business_df.duplicated(subset=\"yelp_id\")\n",
    "    \n",
    "    count=0\n",
    "    dup_idx = []\n",
    "    for dup in dups:\n",
    "        if dup==True:\n",
    "            #print count\n",
    "            dup_idx.append(count)\n",
    "        count+=1\n",
    "    #print dup_idx\n",
    "    \n",
    "    print business_df.ix[dup_idx,['bid','yelp_id']]\n",
    "\n",
    "    \n",
    "if __name__==\"__main__\":\n",
    "    main()"
   ]
  },
  {
   "cell_type": "code",
   "execution_count": null,
   "metadata": {
    "collapsed": true
   },
   "outputs": [],
   "source": []
  }
 ],
 "metadata": {
  "kernelspec": {
   "display_name": "Python 2",
   "language": "python",
   "name": "python2"
  },
  "language_info": {
   "codemirror_mode": {
    "name": "ipython",
    "version": 2
   },
   "file_extension": ".py",
   "mimetype": "text/x-python",
   "name": "python",
   "nbconvert_exporter": "python",
   "pygments_lexer": "ipython2",
   "version": "2.7.10"
  }
 },
 "nbformat": 4,
 "nbformat_minor": 0
}
