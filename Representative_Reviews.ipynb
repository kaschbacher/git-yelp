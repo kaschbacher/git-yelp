{
 "cells": [
  {
   "cell_type": "code",
   "execution_count": 1,
   "metadata": {
    "collapsed": false
   },
   "outputs": [],
   "source": [
    "# Select the review that bests represents a given topic\n",
    "# Select the business with the highest proportion of a given topic\n",
    "\n",
    "import cPickle as pickle\n",
    "from gensim import corpora, models, similarities, utils\n",
    "import numpy as np\n",
    "import pandas as pd\n",
    "from KAsql import query_SQL\n",
    "import pyLDAvis.gensim\n",
    "import pyLDAvis"
   ]
  },
  {
   "cell_type": "code",
   "execution_count": 2,
   "metadata": {
    "collapsed": false
   },
   "outputs": [
    {
     "data": {
      "text/plain": [
       "[u'0.010*knee + 0.010*staff + 0.008*office + 0.008*recommend + 0.008*excellent + 0.007*great + 0.007*never + 0.006*time + 0.006*questions + 0.006*better',\n",
       " u'0.008*ive + 0.007*hip + 0.007*never + 0.007*time + 0.006*staff + 0.006*even + 0.006*great + 0.006*first + 0.005*care + 0.005*hes',\n",
       " u'0.010*years + 0.008*office + 0.008*time + 0.007*knee + 0.005*staff + 0.005*really + 0.005*work + 0.005*appointment + 0.005*questions + 0.005*best',\n",
       " u'0.010*wrist + 0.008*great + 0.008*staff + 0.007*time + 0.006*didnt + 0.006*arm + 0.006*really + 0.005*ive + 0.005*appointment + 0.005*minutes',\n",
       " u'0.013*knee + 0.010*time + 0.009*staff + 0.008*office + 0.008*highly + 0.008*recommend + 0.007*experience + 0.005*first + 0.005*friendly + 0.005*care',\n",
       " u'0.009*office + 0.007*time + 0.007*great + 0.006*another + 0.006*injury + 0.005*mri + 0.005*months + 0.005*weeks + 0.005*going + 0.004*told',\n",
       " u'0.011*time + 0.008*hes + 0.007*good + 0.007*treatment + 0.006*staff + 0.006*best + 0.005*dont + 0.005*need + 0.005*first + 0.005*great',\n",
       " u'0.016*time + 0.005*good + 0.005*questions + 0.005*appointment + 0.004*day + 0.004*great + 0.004*even + 0.004*took + 0.004*years + 0.004*office',\n",
       " u'0.007*even + 0.006*good + 0.005*office + 0.005*great + 0.005*appointment + 0.005*staff + 0.005*experience + 0.004*still + 0.004*time + 0.004*took',\n",
       " u'0.017*office + 0.016*time + 0.008*told + 0.008*appointment + 0.007*even + 0.007*staff + 0.006*dont + 0.006*care + 0.006*said + 0.006*really']"
      ]
     },
     "execution_count": 2,
     "metadata": {},
     "output_type": "execute_result"
    }
   ],
   "source": [
    "lda = pickle.load(open('lda_ortho_30t_pos.p','rb'))\n",
    "lda.print_topics()"
   ]
  },
  {
   "cell_type": "code",
   "execution_count": 15,
   "metadata": {
    "collapsed": false
   },
   "outputs": [],
   "source": [
    "# Load dfs with gammas for all reviews and averaged by business/doctor\n",
    "# All reviews\n",
    "\n",
    "bid_df = pd.read_pickle('bid_tmeans.p')#index of this df is the bid, but can't be indexed by 'BID'\n",
    "Reviews_topics_df = pd.read_pickle('Review_topics_df.p')\n",
    "\n",
    "topic_word_df = pd.read_pickle('topic_word_df.p')\n",
    "names_df = pd.read_pickle('names_df.p')"
   ]
  },
  {
   "cell_type": "code",
   "execution_count": 37,
   "metadata": {
    "collapsed": false
   },
   "outputs": [
    {
     "name": "stdout",
     "output_type": "stream",
     "text": [
      "     RID  BID  0  1  2  3  4  5  6  7 ...  20  21        22  23        24  25  \\\n",
      "0  20406  303  0  0  0  0  0  0  0  0 ...   0   0  0.000000   0  0.000000   0   \n",
      "1  20407  303  0  0  0  0  0  0  0  0 ...   0   0  0.000000   0  0.539521   0   \n",
      "2  20408  303  0  0  0  0  0  0  0  0 ...   0   0  0.000000   0  0.992267   0   \n",
      "3  20409  303  0  0  0  0  0  0  0  0 ...   0   0  0.989139   0  0.000000   0   \n",
      "4  20410  303  0  0  0  0  0  0  0  0 ...   0   0  0.000000   0  0.000000   0   \n",
      "\n",
      "   26  27  28  29  \n",
      "0   0   0   0   0  \n",
      "1   0   0   0   0  \n",
      "2   0   0   0   0  \n",
      "3   0   0   0   0  \n",
      "4   0   0   0   0  \n",
      "\n",
      "[5 rows x 32 columns]\n"
     ]
    }
   ],
   "source": [
    "print Reviews_topics_df.head()#RID and BID are first two columns then topic weights\n",
    "\n",
    "#print bid_df.ix[309,:]\n",
    "#print bid_df#bid is the index and the topic numbers are columns - topic weights are values\n"
   ]
  },
  {
   "cell_type": "code",
   "execution_count": 95,
   "metadata": {
    "collapsed": false
   },
   "outputs": [],
   "source": [
    "def three_representative_reviews(mytopic,Reviews_topics_df):\n",
    "    \"\"\"What 3 reviews best represent a given topic?\n",
    "    Those with the highest topic-weights on one topic\n",
    "    Revise to print top 3 reviews and see if they are consistent and validate with stars\n",
    "    - use these reviews to help define & validate each topic\"\"\"\n",
    "\n",
    "    #Check what df looks like prior to sorting\n",
    "\n",
    "    # Sort on a given topic\n",
    "    mysorted = Reviews_topics_df.sort(mytopic, axis=0, ascending=False)\n",
    "    idx = mysorted.index[0:3]# get index of top-ranking review for mytopic\n",
    "\n",
    "    RID = mysorted.loc[idx]['RID']#Note that if you replace idx with 0, and print the results, it is not the same\n",
    "    RIDs = [str(int(value)) for value in RID.values]#list of strings (use int to get rid of decimal)\n",
    "\n",
    "    #For debugging\n",
    "    print 'Topic: ',mytopic,'\\n'\n",
    "    print 'Index: ',idx\n",
    "    print 'RID: ',RID.values,'\\n'#type Series\n",
    "    \n",
    "    # Pull 3 reviews, and see if they appear to represent one topic\n",
    "    #from KAsql import query_SQL\n",
    "\n",
    "    # SQL query uses my function\n",
    "    #from KAsql import query_SQL\n",
    "    sql = 'SELECT id, stars, comment FROM review WHERE id='+RIDs[0]+' or id='+RIDs[1]+' or id='+RIDs[2]+';'\n",
    "    rows = query_SQL(sql)\n",
    "\n",
    "    sqlRID=[];stars=[];comment=''\n",
    "    sqlRID = rows[:][0]\n",
    "    stars = rows[:][1]\n",
    "    comment = rows[:][2]\n",
    "\n",
    "    # Print Statements\n",
    "    print sql,'\\n'\n",
    "    print '\\nTop three reviews most related to topic: ',mytopic,'\\n'\n",
    "    print mysorted.head(3),'\\n'#Confirm RIDs match with sql data\n",
    "\n",
    "    # For some reason rows are printed in opposite order from listing\n",
    "    texts=[]\n",
    "    for i,row in enumerate(rows):\n",
    "        texts.append([row[0],row[1],row[2]])\n",
    "    \n",
    "    #print row[2][:500]\n",
    "    return texts\n",
    "    "
   ]
  },
  {
   "cell_type": "code",
   "execution_count": 102,
   "metadata": {
    "collapsed": false
   },
   "outputs": [
    {
     "name": "stdout",
     "output_type": "stream",
     "text": [
      "Topic:  19 \n",
      "\n",
      "Index:  Int64Index([667, 1178, 59], dtype='int64')\n",
      "RID:  [21073 21584 20465] \n",
      "\n",
      "USE ortho;\n",
      "SELECT id, stars, comment FROM review WHERE id=21073 or id=21584 or id=20465; \n",
      "\n",
      "\n",
      "Top three reviews most related to topic:  19 \n",
      "\n",
      "        RID  BID  0  1  2  3  4  5  6  7 ...  20  21  22  23  24  25  26  27  \\\n",
      "667   21073  330  0  0  0  0  0  0  0  0 ...   0   0   0   0   0   0   0   0   \n",
      "1178  21584  379  0  0  0  0  0  0  0  0 ...   0   0   0   0   0   0   0   0   \n",
      "59    20465  304  0  0  0  0  0  0  0  0 ...   0   0   0   0   0   0   0   0   \n",
      "\n",
      "      28  29  \n",
      "667    0   0  \n",
      "1178   0   0  \n",
      "59     0   0  \n",
      "\n",
      "[3 rows x 32 columns] \n",
      "\n",
      "[[20465, 5.0, \"dr. laroque is awesome!i broke my wrist in a bike race. a hairline fracture on the ulna, nondisplaced, it doesn't hurt, it's barely swollen  it doesn't seem like a big deal, i only went to see a doctor because it seemed a little odd that i couldn't rotate my arm much or use much force with my hand. i went to see my pcp at pamf in mountain view who referred me to the orthopedic department. i was surprised to hear that the orthopedic surgeon wanted to put my arm in a cast! that seems great for the 1800s, but hasn't science evolved more than that? i understand that they may still have their place in the world, but for such a simple fracture as mine you'd think there would be options. he allowed me to wear a splint instead but didn't like it. i didn't like the splint either, it didn't fit well, cut off my blood supply and made my hand swell when it hadn't before.then i heard about dr. laroque from a friend who had also broken her wrist. she got a custom splint instead of a cast. score!i made an appointment with dr. laroque for the following morning. a cast was not an option for her, and she didn't like my splint either  it wouldn't give much support, she said. she explained everything i needed to know, answered all my questions, and it didn't feel rushed at all. she took care to check out my finger as well while the previous doctor had just said that it might be broken but that it didn't matter. dr. laroque carefully checked out the xrays and examined my finger, concluded that it was probably sprained but she would double check the xrays with a radiologist to make sure. she also understood that, as a bike racer, i want to ride my bike and train as soon as possible and said i could go for short rides with some precautions. yay!then she referred me to hand therapy of san francisco where i got a lightweight custom splint in plastic for my arm, buddy splints for my sprained finger, stuff to wrap my wrist with for bike rides, and all the instruction i could ever need. the splint is super comfortable, yet very stable.also, supposedly dr. laroque specializes in women's sports injuries. i'm not sure how women's sports injuries are different from those of men, but as a woman with a sports injury i'm thrilled!\"], [21073, 4.0, \"This review may be a tad presumptuous but nonetheless I feel compelled to write on.I was seen earlier this afternoon at the Stone clinic and was made to wait an hour. 30 minutes into the wait I heard the frazzled receptionist start to call people and inform them of the wait. I wish I had received this call since I had to arrange my whole day around this appointment and the bus, however, I tried to think that meant they are busy and he will hopefully spend just as much time with me. When I was taken back they asked if I had brought my shorts to change into. ?I had no idea I needed this. I brought my MRI, Xrays,and reports, but nobody told me to bring shorts so I had to wear their loaners. A tad embarrassing but so is walking with a cane and a limp.The staff was really nice, aside from being stressed with their slammed schedules. Dr.Stone came in , got straight to the point, felt my knees, stretched around and then found what I call,the sweet spota click. And very nonchalantly, expressed it was a meniscus tear and something was catching on my fat band. He showed me on a fake knee what was happening that was causing my pain. I have been to at least 6 different Kaiser doctors and they all told me something different from each other! And most of them agreed I would have to live with it and manage my pain with physical therapy and drugs!!! RIDICULOUS!!!Dr.Stone proceeded to go over what surgical options there are and how they are performed and why. Love the details. He lead me into the physical therapy room where I was met by David.I think I waited for a table for 15 minutes not bad but since I had already been there for 1.5 hours I was a bit annoyed. David was AWESOME!! Along with wishing someone had told me about the shorts, I wish someone had told me to shave my legs! David, the PT dude, got the low down from Dr.Stone and went to work. He had my leg doing crazy things it hasn't done in a year and a half! He broke up all kinds of hardened fibrotic tissue, loosened my IT band, stretched me quads and hip flexors.. everything hurt so good. I felt really comfortable and great! As a female, I would typically feel uncomfortable having a male work on my hairy white legs, but the level of professionalism and expertise here put me at ease and had me book my next 2 PT sessions. After 30 mins of physical therapy I headed to the desk to be checked out. When I talked to the receptionist while making my original appointment I got a very rough draft quote that was a bit different then what I ended up being billed for. I actually expected to pay a little bit more than half of what I did. I brought my own imaging, received a great consult with Dr.Stone, and had amazing PT with David =$335.Office visit was $275 and physical therapy was $60. It is not cheap.. I did not think it would be, I just thought it would be less.With that said, it was totally worth it. That is what I pay monthly for my crappy Kaiser. The Stone Clinic was a good experience and it was great to finally get some answers and be a step closer to recovery.I know it's a bit soon to predict, but I am optimistic about their physical therapy program and will update my review as I progress.It might be worth noting I have a friend, and a client who have had surgery here and both of their outcomes were extraordinarily positive.\"], [21584, 1.0, \"Dr. Patrick Lang mistreated me. He should not be practicing medicine. His blatant, flagrant negligence caused damage to me and put me at risk for even more damage. I went to the SF Hand Clinic to see Dr. Patrick O. Lang for two injuries. The first was an injury on my left arm. For that, he had an xray taken and noticed two bits of debris in the arm. I explained the issues and problems with that wrist, and how it impeded me. Despite showing it to him up close, Patrick didn't acknowledge the problems that I showed to him with my wrist. The problems seem readily apparent to me, and to everyone who has seen them, including the other doctor who positively addressed them and performed surgery on me. Despite not seeing these problems, Patrick had me do physical therapy. The physical therapist he sent me to see also noticed the problems that Patrick couldn't see.Doing physical therapy while there was glass embedded in my arm hurt. It caused more pain and damage to my arm during the two or three weeks or so that I participated in it. During the period of time that I was doing physical therapy for my left wrist, I had physical imbalance and increased difficulty using my left hand. Then, I broke my other arm the radius of the right arm.When I broke my radius, I went in again to SF Hand Clinic to get an exam. Dr. Patrick Lang said that I had not broken my arm, but sprained my wrist. He didn't seem to really examine it. I told him that he was wrong and I asked for an XRay. I was very persistent about getting an XRay for it. But he refused. I asked again and again and he would not do it. I was pretty sure Dr. Lang was wrong: I did not sprain my wrist. I've suffered many sprains, and this was no sprain! Based on the injury, I thought it was likely fractured.I saw another doctor and got proper diagnosis of the fractured radius that Pat refused to get an XRay of. I stopped doing the physical therapy and the other doctor removed the glass in surgery. Just a week after glass has been removed, and some of the worst problems with that wrist are gone. Because of the other doctor, I am no longer causing myself damage by using the wrist with those big pieces of glass in it. Patrick failed to perform proper examination of my broken arm. Because of his failure to diagnose my broken arm, Pat put me at risk to have a displaced fracture. If I'd had a proper treatment for the left wrist, I might not have broken the right radius at all. I can't say for sure...Pat also failed to assess the issue with the glass impeding my normal activity. I was mistreated and misdiagnosed, either on purpose or out of incompetence. Dr. Patrick Lang is negligent, unethical and unprofessional. He should not be practicing medicine.\"]]\n"
     ]
    }
   ],
   "source": [
    "# Kenneth Akizuki, bid 309\n",
    "# High on topics 17 and 11 and 22, although well-rounded\n",
    "texts= three_representative_reviews(19,Reviews_topics_df)\n",
    "\n",
    "write1 = str(texts[0])\n",
    "write2 = str(texts[2])\n",
    "\n",
    "\n",
    "print texts\n"
   ]
  },
  {
   "cell_type": "code",
   "execution_count": 99,
   "metadata": {
    "collapsed": false
   },
   "outputs": [],
   "source": [
    "with open(\"Topic17_RR1.txt\", \"w\") as text_file:\n",
    "    text_file.write(write1)\n",
    "with open(\"Topic17_RR2.txt\", \"w\") as text_file:\n",
    "    text_file.write(write2)  "
   ]
  },
  {
   "cell_type": "code",
   "execution_count": 100,
   "metadata": {
    "collapsed": false
   },
   "outputs": [
    {
     "name": "stdout",
     "output_type": "stream",
     "text": [
      "[20609, 2.0, \"I had a lot of pain in my left leg, so I did some yelping, checked my medical plan, and made an appointment with Dr. Akizuki. The doctor spent as much time initially with me as seemed necessary. He didn't rush, and explained he thought I had a hip problem. I was to get an xrays and an MRI and call back.Once the MRI results were back, Dr. Akizuki and I began a game of phone tag. Finally in a voice mail message, he told me that my ankle was in pretty bad shape. We'd need an appointment to sort out what to do. It was a bit annoying to have to exchange two or three phone calls to get this information, and of course, I was a bit surprised that the diagnosis had changed from a hip problem to an ankle problem. In fact, I was sure a mix up had occurred. I made another appointment.Dr. Akizuki explained that yes it was a hip problem no explanation about the ankle message and that I was a bit young for hip replacement although he didn't rule that out. He said we could try cortisone to the hip which would require fluoroscopic needle guidance the hip joint is tricky to find unlike a knee. I guess Dr. A. had made a simple mistake the ankle call and still believed he was OK. We scheduled the procedure.The procedure went well. Dr. Akizuki was careful to explain everything he was doing and very careful to be sure I was comfortable and painless. He inserted some dye, found the joint, and gave me a shot of cortisone. All was fine.I had a good deal of pain that evening, but the doctor had warned of that. I took a vidodin left over from a wisdom tooth extraction, but the pain was gone the next day, and the hip worked pretty well.In the next few days, however, the inside of my leg got completely black and blue as if it had been terribly bruised. Yet, there was no pain. In fact it was a little numb. I didn't know if the discoloration was bruising or if it might be the dye. Fairly concerned as the discoloration worsened and spread over the next few days, I telephoned the doctor again and left a message about the problem. No response. I called again. Still no response. After a month of no response, I gave up. My final word is that I think Dr. Akizuki is a competent, maybe even skilled Orthopedist. But somehow we got into an impossibly poor communication loop. I believe that my time is as important as my doctor's time. I don't believe I should have to chase a doctor down to find out what's happening with my health once I've engaged the doctor. I've heard about some pretty cool hip replacement technology going on at UCSF, so I'm turning my energy to finding out about it, and choosing a different Orthopedist. Sorry Dr. A. Hope our experience was just an aberration.\"]\n"
     ]
    }
   ],
   "source": [
    "print write1"
   ]
  },
  {
   "cell_type": "code",
   "execution_count": 101,
   "metadata": {
    "collapsed": false
   },
   "outputs": [
    {
     "name": "stdout",
     "output_type": "stream",
     "text": [
      "[23355, 5.0, \"I took my son to Dr. Saxena following a ruptured achilles tendon. He is an elite level athlete with college opportunities slipping with every week off field. BUT walking the rest of his life without a limp is most important! I found Dr. Saxena confident in his diagnosis and matter of fact in his prognosis. It was in his bio online with Palo Alto Medical Foundation that he specialized in Achilles work. So though he was the only Dr. available for consult Friday morning, I believe he was the right doctor. He came in before his scheduled surgeries to meet with us. We raced to get there so we would not be the cause of a late doctor. He did not rush through his exam. He spoke to my son, directly! He understood that as a junior in high school he was lookng at college and asked which ones. I booked my son's surgery for the following Tuesday. As an anxious mom, I sought a second opinion from a highly regarded orthopedist. He was wonderful too. Nice. But no more conversational than Dr. Saxena. In the end, we opted for the surgeon that performs 34 of these operations per week rather than the one that does 34 every couple of months. The preop meeting left me totally confident in the hands to which we had placed our son.Our post op appt was today, Dr Saxena asked a little more about my son and continued to form a relationship. I believe that he is interested in my son and he is invested in his progression through this injury and healing process.I would recommend Dr. Saxena to patients who realize their injury will take more than one appointment to solve if they can get through it in one appt boy are you lucky! He is very interested in the healing process. I did my research based on his body of work, not my stressed out first meeting, although I left the office totally confident in my choice and really only sought a second opinion I could not answer questions that well meaning friends had asked. I understand the stress people are under when faced with physical challenges and would encourage you to do your research and select your medical care provider based on their experience, specialty and if you can discover it, their personal passion for the procedure you are about to undertake. By the way, I too feel it matters little what your feet look like as long as you can put one in front of the other! Scars are just another story to tell. Good luck if you are researching this, I know you need it.PSI really liked his assistant...she did everything I asked of her, changed pharmacy for prescriptions, sent attendance letter to son's school...did you ask anything of her? Or try to talk to her for any length of time? Slow down with the negativity people...\"]\n"
     ]
    }
   ],
   "source": [
    "print write2"
   ]
  },
  {
   "cell_type": "code",
   "execution_count": 92,
   "metadata": {
    "collapsed": false
   },
   "outputs": [
    {
     "name": "stdout",
     "output_type": "stream",
     "text": [
      "<type 'str'>\n",
      "[21156, 5.0, \"I had a total hip replacement with Dr Callander last year on 129, so I'm over 1 year post op. Having the total hip completely changed my life! I'm only in my 40's but have had two hip surgeries prior to the total hip prior surgeries were not done by Dr. Callander. I was diagnosed with congenital hip dysplasia in my late 20's it was never diagnosed when I was younger. It's important to note that growing up I was extremely athletic  soccer, softball, track, etc. so to go from very active to literally not being able to walk normal in my late 20's was horrific. I visited several doctors before I was correctly diagnosed. My first surgery was around age 30 and because I was so young they opted NOT to do a total hip at that time and did a Periacetabular Osteotmy. This actually made my following years very difficult. In the end I don't think that was the right surgery for me, as it completely limited my range of motion and I still walked with an extremely pronounced limp, 1 year after that first surgery I had 2nd to remove excess bone growth after the Osteotmy, but again didn't bring much relief. I moved into my mid30's just living with what I was dealt, still active when I could be, but near the amount I was. I had 2 kids as well  but after my 1st child my hips became worse although during pregnancy they were great and after my 2nd child I pretty much immediately went back to CPMC. The doctor who performed my first 2 surgeries retired  and I loved him so I did my research and I found Dr. Callander. Every appointment Dr. Callander answered questions and he was realistic with managing my expectations. Because I had these prior surgeries my fearconcern was that I would have a total hip and see no change, that I would still have a severe limp, and pain. I went into surgery with the hope that at least the total hip would alleviate pain. Dr Callander also was very clear with me that he would try and fix the leg length discrepancy but he really wouldn't know more until he was in surgery. The prior surgery left me with 3 pen length screws holding things together. I woke up from surgery and from there it was an instant game changer  I could tell I was going to get my life back. I was up the same day w a walker and the PT therapists were great in hospital. I was discharged but had home care come for a few weeks, and then had outpatient therapy to build back strength in my hipleg. This is the part that is not easy so It's important you follow direction, take care of yourself, and push yourself hard during physical therapy. I literally was pain free after surgery and the best news was that Dr Callander was able to correct my leg length issues completely. I know not everyone has the same results but for me I feel like he saved me and I will forever be grateful. His staff, Mara, was amazing. I actually know at some point I'll need to have my other hip done, and I will absolutely see Dr Callander for that as well. Hands down  top notch surgeon!\"]\n"
     ]
    }
   ],
   "source": [
    "with open(\"Topic22_RR2.txt\", \"r\") as text_file:\n",
    "    lines = text_file.read()  #type string\n",
    "print type(lines)\n",
    "print lines\n"
   ]
  },
  {
   "cell_type": "code",
   "execution_count": 83,
   "metadata": {
    "collapsed": false
   },
   "outputs": [],
   "source": [
    "def most_representative_review(mytopic,Reviews_topics_df):\n",
    "    \"\"\" What review best represents a given topic?\n",
    "    Selects the review with the highest gamma-weights on one topic.\n",
    "    Accepts mytopic (an int corresponding to topic #) and the Rev x G matrix with rid, bid and gammas\"\"\"\n",
    "\n",
    "    #print(ids_gammas_df.head())#Check what df looks like prior to sorting\n",
    "\n",
    "    # Sort on a given topic\n",
    "    mysorted = Reviews_topics_df.sort(mytopic, axis=0, ascending=False)\n",
    "    idx = mysorted.index[0]# get index of top-ranking review for mytopic\n",
    "\n",
    "    RID = int(mysorted.loc[idx]['RID'])\n",
    "    print 'Index = ',idx, ' Starting RID: ',RID,' Topic: ',mytopic,'\\n'#Note that if you replace idx with 0, and print the results, it is not the same\n",
    "    #print(mysorted.loc[0]['RID'])# does not work\n",
    "\n",
    "    #from KAsql import query_SQL\n",
    "    sql = 'SELECT id, stars, comment FROM review WHERE id='+str(RID)+';'\n",
    "    rows = query_SQL(sql)\n",
    "\n",
    "    sqlid = rows[0][0]\n",
    "    stars = rows[0][1]\n",
    "    comment = rows[0][2]\n",
    "    \n",
    "    #Print statements\n",
    "    print sql,'\\n'\n",
    "    print '\\nTop review most related to topic: ',mytopic,'\\n'\n",
    "    print(mysorted.head(3))\n",
    "    print str(RID), sqlid, stars, comment"
   ]
  },
  {
   "cell_type": "code",
   "execution_count": 84,
   "metadata": {
    "collapsed": false
   },
   "outputs": [
    {
     "name": "stdout",
     "output_type": "stream",
     "text": [
      "Index =  4901  Starting RID:  17987  Topic:  17 \n",
      "\n",
      "USE ortho;\n"
     ]
    },
    {
     "ename": "IndexError",
     "evalue": "tuple index out of range",
     "output_type": "error",
     "traceback": [
      "\u001b[0;31m---------------------------------------------------------------------------\u001b[0m",
      "\u001b[0;31mIndexError\u001b[0m                                Traceback (most recent call last)",
      "\u001b[0;32m<ipython-input-84-be575f8f4c0c>\u001b[0m in \u001b[0;36m<module>\u001b[0;34m()\u001b[0m\n\u001b[0;32m----> 1\u001b[0;31m \u001b[0mmost_representative_review\u001b[0m\u001b[0;34m(\u001b[0m\u001b[0;36m17\u001b[0m\u001b[0;34m,\u001b[0m\u001b[0mids_gammas_df\u001b[0m\u001b[0;34m)\u001b[0m\u001b[0;34m\u001b[0m\u001b[0m\n\u001b[0m",
      "\u001b[0;32m<ipython-input-83-abd790fc9ffa>\u001b[0m in \u001b[0;36mmost_representative_review\u001b[0;34m(mytopic, Reviews_topics_df)\u001b[0m\n\u001b[1;32m     18\u001b[0m     \u001b[0mrows\u001b[0m \u001b[0;34m=\u001b[0m \u001b[0mquery_SQL\u001b[0m\u001b[0;34m(\u001b[0m\u001b[0msql\u001b[0m\u001b[0;34m)\u001b[0m\u001b[0;34m\u001b[0m\u001b[0m\n\u001b[1;32m     19\u001b[0m \u001b[0;34m\u001b[0m\u001b[0m\n\u001b[0;32m---> 20\u001b[0;31m     \u001b[0msqlid\u001b[0m \u001b[0;34m=\u001b[0m \u001b[0mrows\u001b[0m\u001b[0;34m[\u001b[0m\u001b[0;36m0\u001b[0m\u001b[0;34m]\u001b[0m\u001b[0;34m[\u001b[0m\u001b[0;36m0\u001b[0m\u001b[0;34m]\u001b[0m\u001b[0;34m\u001b[0m\u001b[0m\n\u001b[0m\u001b[1;32m     21\u001b[0m     \u001b[0mstars\u001b[0m \u001b[0;34m=\u001b[0m \u001b[0mrows\u001b[0m\u001b[0;34m[\u001b[0m\u001b[0;36m0\u001b[0m\u001b[0;34m]\u001b[0m\u001b[0;34m[\u001b[0m\u001b[0;36m1\u001b[0m\u001b[0;34m]\u001b[0m\u001b[0;34m\u001b[0m\u001b[0m\n\u001b[1;32m     22\u001b[0m     \u001b[0mcomment\u001b[0m \u001b[0;34m=\u001b[0m \u001b[0mrows\u001b[0m\u001b[0;34m[\u001b[0m\u001b[0;36m0\u001b[0m\u001b[0;34m]\u001b[0m\u001b[0;34m[\u001b[0m\u001b[0;36m2\u001b[0m\u001b[0;34m]\u001b[0m\u001b[0;34m\u001b[0m\u001b[0m\n",
      "\u001b[0;31mIndexError\u001b[0m: tuple index out of range"
     ]
    }
   ],
   "source": [
    "most_representative_review(17,ids_gammas_df)"
   ]
  },
  {
   "cell_type": "code",
   "execution_count": 10,
   "metadata": {
    "collapsed": false
   },
   "outputs": [
    {
     "data": {
      "text/plain": [
       "u'/Users/kaschbacher/insightproject/yelp/git-yelp'"
      ]
     },
     "execution_count": 10,
     "metadata": {},
     "output_type": "execute_result"
    }
   ],
   "source": [
    "pwd"
   ]
  },
  {
   "cell_type": "code",
   "execution_count": null,
   "metadata": {
    "collapsed": true
   },
   "outputs": [],
   "source": []
  }
 ],
 "metadata": {
  "kernelspec": {
   "display_name": "Python 2",
   "language": "python",
   "name": "python2"
  },
  "language_info": {
   "codemirror_mode": {
    "name": "ipython",
    "version": 2
   },
   "file_extension": ".py",
   "mimetype": "text/x-python",
   "name": "python",
   "nbconvert_exporter": "python",
   "pygments_lexer": "ipython2",
   "version": "2.7.10"
  }
 },
 "nbformat": 4,
 "nbformat_minor": 0
}
