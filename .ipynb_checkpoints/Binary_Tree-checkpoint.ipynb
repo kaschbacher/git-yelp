{
 "cells": [
  {
   "cell_type": "code",
   "execution_count": 7,
   "metadata": {
    "collapsed": false
   },
   "outputs": [],
   "source": [
    "# tree debug\n",
    "\n",
    "myTree = ['a', #root\n",
    "          ['b', ['d',[],[]], ['e',[],[]] ],#child 1/ left subtree\n",
    "          ['c', ['f',[],[]], []] ]# child 2"
   ]
  },
  {
   "cell_type": "code",
   "execution_count": 15,
   "metadata": {
    "collapsed": false
   },
   "outputs": [
    {
     "name": "stdout",
     "output_type": "stream",
     "text": [
      "['b', ['d', [], []], ['e', [], []]]\n",
      "3\n"
     ]
    }
   ],
   "source": [
    "#print myTree\n",
    "\n",
    "print myTree[1]# print child 1 - left subtree\n",
    "print len(myTree[1])# subtree has three nodes"
   ]
  },
  {
   "cell_type": "code",
   "execution_count": 20,
   "metadata": {
    "collapsed": false
   },
   "outputs": [],
   "source": [
    "# Construct a list for a root node with two children\n",
    "\n",
    "def BinaryTree(r):\n",
    "    return [r, [], []]\n",
    "\n",
    "#print BinaryTree(2)"
   ]
  },
  {
   "cell_type": "code",
   "execution_count": 21,
   "metadata": {
    "collapsed": false
   },
   "outputs": [
    {
     "name": "stdout",
     "output_type": "stream",
     "text": [
      "a\n",
      "['b', ['d', [], []], ['e', [], []]]\n"
     ]
    }
   ],
   "source": [
    "# Build functions to easily access the nodes\n",
    "\n",
    "def get_RootVal(root):\n",
    "    return root[0]\n",
    "def get_LeftChild(root):\n",
    "    return root[1]\n",
    "def get_RightChild(root):\n",
    "    return root[2]\n",
    "\n",
    "print get_RootVal(myTree)\n",
    "print get_LeftChild(myTree)"
   ]
  },
  {
   "cell_type": "code",
   "execution_count": null,
   "metadata": {
    "collapsed": true
   },
   "outputs": [],
   "source": [
    "# To add a left subtree to the root of a tree, we need to insert a new list into the \n",
    "# second position of the root list. We must be careful. If the list already has something \n",
    "# in the second position, we need to keep track of it and push it down the tree as the left child \n",
    "# of the list we are adding.\n",
    "\n",
    "def InsertLeft(root, newBranch):\n",
    "    t=root.pop(1)#because myTree[1] is the left child of the root\n",
    "    if len(t)>1:\n",
    "        root.insert(1,[newBranch, t,[]])\n",
    "    else:\n",
    "        root.insert(1,[newBranch, [],[]])"
   ]
  }
 ],
 "metadata": {
  "kernelspec": {
   "display_name": "Python 2",
   "language": "python",
   "name": "python2"
  },
  "language_info": {
   "codemirror_mode": {
    "name": "ipython",
    "version": 2
   },
   "file_extension": ".py",
   "mimetype": "text/x-python",
   "name": "python",
   "nbconvert_exporter": "python",
   "pygments_lexer": "ipython2",
   "version": "2.7.10"
  }
 },
 "nbformat": 4,
 "nbformat_minor": 0
}
