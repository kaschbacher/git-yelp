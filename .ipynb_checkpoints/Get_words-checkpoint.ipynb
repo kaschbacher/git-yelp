{
 "cells": [
  {
   "cell_type": "code",
   "execution_count": 6,
   "metadata": {
    "collapsed": true
   },
   "outputs": [],
   "source": [
    "from gensim import models\n",
    "import numpy as np\n",
    "import pandas as pd\n",
    "import cPickle as pickle"
   ]
  },
  {
   "cell_type": "code",
   "execution_count": 7,
   "metadata": {
    "collapsed": false
   },
   "outputs": [],
   "source": [
    "# Load LDA model object\n",
    "lda = pickle.load(open('lda_ortho_30t_pos.p','rb'))"
   ]
  },
  {
   "cell_type": "code",
   "execution_count": 8,
   "metadata": {
    "collapsed": true
   },
   "outputs": [],
   "source": [
    "# CREATE FINAL DF of FILTERED TOP-WORD MAPPINGS FOR TABLE ON WEBSITE\n",
    "# \n",
    "# Pull words lists for selected topics - output for website\n",
    "\n",
    "#Initialize\n",
    "SELECTED = np.arange(0,30)\n",
    "NWORDS_SHOWN = 10\n",
    "topic_word_df=pd.DataFrame()#unfiltered by POS\n",
    "\n",
    "#temp_df is a df containing words for a single topic, which gets appended to final df, and reused for each loop cycle\n",
    "\n",
    "for sel_topic in SELECTED:\n",
    "    topic = lda.show_topic(sel_topic, NWORDS_SHOWN)#type list\n",
    "    temp_df=pd.DataFrame([(tup[1].encode(\"utf-8\").replace(',','')) for tup in topic]).transpose()#got strange error trying to make transpose a separate line of code... \n",
    "    \n",
    "    # Add the Topic # in a column at the beginning, and append to master DF\n",
    "    #temp_df.insert(0,'Topic',sel_topic)\n",
    "    topic_word_df = topic_word_df.append([temp_df],ignore_index=True)\n",
    "\n",
    "topic_word_df.insert(0,'Topic',SELECTED)"
   ]
  },
  {
   "cell_type": "code",
   "execution_count": 9,
   "metadata": {
    "collapsed": false
   },
   "outputs": [
    {
     "name": "stdout",
     "output_type": "stream",
     "text": [
      "    Topic            0            1            2            3            4  \\\n",
      "0       0          hip         good         best    recommend       highly   \n",
      "1       1  appointment       office         time         knee        didnt   \n",
      "2       2         knee        staff       office    recommend    excellent   \n",
      "3       3         time          mri    insurance       injury         need   \n",
      "4       4        great        staff       office         time         good   \n",
      "5       5         knee         good        great         time        still   \n",
      "6       6         time          hes         good    treatment        staff   \n",
      "7       7       office         time        great      another       injury   \n",
      "8       8         work         time        first       office       review   \n",
      "9       9         even         good       office        great  appointment   \n",
      "10     10         told         said  appointment         time       called   \n",
      "11     11         time      minutes  appointment         wait        didnt   \n",
      "12     12        staff  appointment         know    recommend        first   \n",
      "13     13         knee         time        staff       office       highly   \n",
      "14     14         time         well         able        staff        great   \n",
      "15     15       office         time         told  appointment         even   \n",
      "16     16         feel        staff       office         work   injections   \n",
      "17     17         knee         time        great       really   experience   \n",
      "18     18         said       office        great         care        didnt   \n",
      "19     19        wrist        great        staff         time        didnt   \n",
      "20     20         knee        going        right       office         time   \n",
      "21     21         best         care        great        staff         time   \n",
      "22     22          ive          hip        never         time        staff   \n",
      "23     23         work         best        staff       office          put   \n",
      "24     24         knee         time          acl        years         well   \n",
      "25     25         time         good    questions  appointment          day   \n",
      "26     26         time         told       office        first        years   \n",
      "27     27        shoes         time         knee      running        first   \n",
      "28     28        years       office         time         knee        staff   \n",
      "29     29         even         time      problem          mri         told   \n",
      "\n",
      "              5           6            7            8          9  \n",
      "0         years     amazing         told       manner     really  \n",
      "1        really       first         said        great  questions  \n",
      "2         great       never         time    questions     better  \n",
      "3         never       going         even         call     office  \n",
      "4          care        able         feel        years        hip  \n",
      "5          best        much   experience        weeks        day  \n",
      "6          best        dont         need        first      great  \n",
      "7           mri      months        weeks        going       told  \n",
      "8          good       staff         know     patients     months  \n",
      "9         staff  experience        still         time       took  \n",
      "10    insurance      office          mri        didnt     really  \n",
      "11      patient      office        staff        never      great  \n",
      "12       office     minutes         dont      patient       told  \n",
      "13    recommend  experience        first     friendly       care  \n",
      "14        first       years          day         knee       took  \n",
      "15        staff        dont         care         said     really  \n",
      "16        visit        well          way    recommend       said  \n",
      "17        staff        good    recommend       injury        hip  \n",
      "18    insurance       staff         even         well       time  \n",
      "19          arm      really          ive  appointment    minutes  \n",
      "20         need        feel        didnt        years       many  \n",
      "21       office        feel        years          hip        ive  \n",
      "22         even       great        first         care        hes  \n",
      "23         time   recommend         good        great     highly  \n",
      "24        great        best         feel        never  recommend  \n",
      "25        great        even         took        years     office  \n",
      "26        didnt        much         knee         said       last  \n",
      "27  appointment       right        staff         best      great  \n",
      "28       really        work  appointment    questions       best  \n",
      "29  appointment       right         much      another     better  \n"
     ]
    }
   ],
   "source": [
    "print topic_word_df"
   ]
  },
  {
   "cell_type": "code",
   "execution_count": 10,
   "metadata": {
    "collapsed": true
   },
   "outputs": [],
   "source": [
    "# save word dfs & dict\n",
    "# pickle_out = open('topic_word_df.p', 'wb')\n",
    "# pickle.dump(topic_word_df, pickle_out)\n",
    "topic_word_df = pd.to_pickle('topic_word_df.p')"
   ]
  },
  {
   "cell_type": "code",
   "execution_count": 605,
   "metadata": {
    "collapsed": false
   },
   "outputs": [
    {
     "name": "stdout",
     "output_type": "stream",
     "text": [
      "\n",
      "CSV file saved.\n",
      "\n"
     ]
    }
   ],
   "source": [
    "import csv\n",
    "\n",
    "def write_csv(filename, words):\n",
    "    with open(filename,'w') as csvfile:\n",
    "        wr = csv.writer(csvfile, delimiter=',',\n",
    "                        quotechar='|',quoting=csv.QUOTE_MINIMAL, lineterminator='\\n')\n",
    "        #wr.writerow(table_dict.keys())\n",
    "        wr.writerows(words) \n",
    "    print('\\nCSV file saved.\\n')\n",
    "    \n",
    "write_csv('table_dict.csv', mywords)"
   ]
  },
  {
   "cell_type": "code",
   "execution_count": null,
   "metadata": {
    "collapsed": true
   },
   "outputs": [],
   "source": []
  }
 ],
 "metadata": {
  "kernelspec": {
   "display_name": "Python 2",
   "language": "python",
   "name": "python2"
  },
  "language_info": {
   "codemirror_mode": {
    "name": "ipython",
    "version": 2
   },
   "file_extension": ".py",
   "mimetype": "text/x-python",
   "name": "python",
   "nbconvert_exporter": "python",
   "pygments_lexer": "ipython2",
   "version": "2.7.10"
  }
 },
 "nbformat": 4,
 "nbformat_minor": 0
}
