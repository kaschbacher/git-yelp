{
 "cells": [
  {
   "cell_type": "code",
   "execution_count": 1,
   "metadata": {
    "collapsed": false
   },
   "outputs": [],
   "source": [
    "# Select the review that bests represents a given topic\n",
    "# Select the business with the highest proportion of a given topic\n",
    "\n",
    "import cPickle as pickle\n",
    "from gensim import corpora, models, similarities, utils\n",
    "import numpy as np\n",
    "import pandas as pd\n",
    "from KAsql import query_SQL\n",
    "import pyLDAvis.gensim\n",
    "import pyLDAvis"
   ]
  },
  {
   "cell_type": "code",
   "execution_count": 2,
   "metadata": {
    "collapsed": false
   },
   "outputs": [
    {
     "data": {
      "text/plain": [
       "[u'0.012*time + 0.008*well + 0.006*able + 0.006*staff + 0.006*great + 0.006*first + 0.005*years + 0.005*day + 0.005*knee + 0.005*took',\n",
       " u'0.012*knee + 0.007*going + 0.007*right + 0.007*office + 0.005*time + 0.005*need + 0.005*feel + 0.005*didnt + 0.005*years + 0.005*many',\n",
       " u'0.011*staff + 0.008*appointment + 0.007*know + 0.007*recommend + 0.007*first + 0.007*office + 0.006*minutes + 0.006*dont + 0.005*patient + 0.005*told',\n",
       " u'0.013*knee + 0.010*time + 0.009*staff + 0.008*office + 0.008*highly + 0.008*recommend + 0.007*experience + 0.005*first + 0.005*friendly + 0.005*care',\n",
       " u'0.017*office + 0.016*time + 0.008*told + 0.008*appointment + 0.007*even + 0.007*staff + 0.006*dont + 0.006*care + 0.006*said + 0.006*really',\n",
       " u'0.011*told + 0.009*said + 0.009*appointment + 0.009*time + 0.007*called + 0.007*insurance + 0.007*office + 0.007*mri + 0.006*didnt + 0.006*really',\n",
       " u'0.010*time + 0.008*mri + 0.007*insurance + 0.006*injury + 0.005*need + 0.005*never + 0.005*going + 0.004*even + 0.004*call + 0.004*office',\n",
       " u'0.012*knee + 0.010*good + 0.008*great + 0.007*time + 0.005*still + 0.005*best + 0.005*much + 0.005*experience + 0.005*weeks + 0.005*day',\n",
       " u'0.021*knee + 0.011*time + 0.010*great + 0.008*really + 0.007*experience + 0.007*staff + 0.007*good + 0.006*recommend + 0.005*injury + 0.005*hip',\n",
       " u'0.011*knee + 0.009*time + 0.009*acl + 0.007*years + 0.006*well + 0.006*great + 0.006*best + 0.006*feel + 0.005*never + 0.005*recommend']"
      ]
     },
     "execution_count": 2,
     "metadata": {},
     "output_type": "execute_result"
    }
   ],
   "source": [
    "lda = pickle.load(open('lda_ortho_30t_pos.p','rb'))\n",
    "lda.print_topics()"
   ]
  },
  {
   "cell_type": "code",
   "execution_count": 3,
   "metadata": {
    "collapsed": false
   },
   "outputs": [],
   "source": [
    "# Load dfs with gammas for all reviews and averaged by business/doctor\n",
    "# All reviews\n",
    "\n",
    "bid_df = pd.read_pickle('bid_tmeans.p')#index of this df is the bid, but can't be indexed by 'BID'\n",
    "Reviews_topics_df = pd.read_pickle('Review_topics_df.p')\n",
    "\n",
    "bid_topic_word_df = pd.read_pickle('bid_topic_word_df.p')\n",
    "topic_word_df = pd.read_pickle('topic_word_df.p')\n",
    "names_df = pd.read_pickle('names_df.p')"
   ]
  },
  {
   "cell_type": "code",
   "execution_count": 4,
   "metadata": {
    "collapsed": false
   },
   "outputs": [],
   "source": [
    "def three_representative_reviews(mytopic,Reviews_topics_df):\n",
    "    \"\"\"What 3 reviews best represent a given topic?\n",
    "    Those with the highest topic-weights on one topic\n",
    "    Revise to print top 3 reviews and see if they are consistent and validate with stars\n",
    "    - use these reviews to help define & validate each topic\"\"\"\n",
    "\n",
    "    # Sort on a given topic\n",
    "    mysorted = Reviews_topics_df.sort(mytopic, axis=0, ascending=False)\n",
    "    idx = mysorted.index[0:3]# get index of top-ranking reviews for mytopic (integer)\n",
    "\n",
    "    RID = mysorted.loc[idx]['RID']\n",
    "    RIDs = [str(int(value)) for value in RID.values]#list of strings (use int to get rid of decimal)\n",
    "\n",
    "    #For debugging\n",
    "    #print 'Topic: ',mytopic,'\\n'\n",
    "    #print 'RID: ',RID.values,'\\n'#type Series\n",
    "    \n",
    "    # Pull 3 reviews, and see if they appear to represent one topic\n",
    "    # SQL query uses KAsql2 function\n",
    "    sql = 'SELECT stars, comment FROM review WHERE id='+RIDs[0]+' or id='+RIDs[1]+' or id='+RIDs[2]+';'\n",
    "    rows = query_SQL(sql)\n",
    "\n",
    "    stars=[];comment=''\n",
    "    row0 = rows[:][0]\n",
    "    row1 = rows[:][1]\n",
    "    row2 = rows[:][2]\n",
    "    \n",
    "    rstars = row0[0],row1[0],row2[0]\n",
    "    texts = row0[1],row1[1],row2[1]\n",
    "    \n",
    "    # Print Statements\n",
    "    #print '\\nTop three reviews most related to topic: ',mytopic,'\\n'\n",
    "    #print mysorted.head(3),'\\n'#Confirm RIDs match with sql data\n",
    "\n",
    "    # For some reason rows are printed in opposite order from listing\n",
    "#     texts=[]\n",
    "#     for i,row in enumerate(rows):\n",
    "#         texts.append([row[0],row[1]])\n",
    "    \n",
    "    #print row[2][:500]\n",
    "    return RID.values,rstars,texts\n",
    "    "
   ]
  },
  {
   "cell_type": "code",
   "execution_count": 221,
   "metadata": {
    "collapsed": false
   },
   "outputs": [],
   "source": [
    "#print Reviews_topics_df.head()#RID and BID are first two columns then topic weights\n",
    "\n",
    "#print bid_df.ix[309,:]\n",
    "\n",
    "#print bid_topic_word_df.BID\n",
    "#print Reviews_topics_df[Reviews_topics_df.BID==480]\n",
    "#print bid_topic_word_df\n",
    "\n",
    "# top = bid_topic_word_df.Topic[bid_topic_word_df.BID==480].values[0]\n",
    "# word = bid_topic_word_df.Word[bid_topic_word_df.BID==480].values[0]\n",
    "\n",
    "#print top,word"
   ]
  },
  {
   "cell_type": "code",
   "execution_count": 229,
   "metadata": {
    "collapsed": true
   },
   "outputs": [],
   "source": [
    "def save_txt(filename, text):\n",
    "    with open(filename, \"w\") as text_file:\n",
    "    #with open(\"Topic17_RR1.txt\", \"w\") as text_file:\n",
    "        text_file.write(text)"
   ]
  },
  {
   "cell_type": "code",
   "execution_count": 5,
   "metadata": {
    "collapsed": false
   },
   "outputs": [
    {
     "name": "stdout",
     "output_type": "stream",
     "text": [
      "USE ortho;\n",
      "USE ortho;\n",
      "353 21350 5.0 temptop 0 top 0 hip\n",
      "I need a new hip and my primary care doctor told me if he was to have this surgery he would have Doctor Gilbert do it. I went there and was so surprised to have a doctor who spent over an hour with me and seemed concerned about me.  I am so confident that after this surgery the end of December I will once again be able to walk without the current bone on bone pain which I am experiencing. The staff was so friendly and all the magazines in the waiting room were new. He also has called me twice to see how I am coping.\n",
      "/Users/kaschbacher/insightproject/yelp/git-yelp/doctopics/BID353_Topic0_RID21350.txt \n",
      "\n",
      "353 21347 5.0 temptop 0 top 0 hip\n",
      "Had a left hip revision and he was amazing. We went over the many options and I wanted to be aggressive and take out my 17 year old hip and put in one of the newer models. He convinced me otherwise which it turns out it was the right thing to do because my hip was so grown in it would have destroyed the surrounding bone. Really nice man and good bedside manner. One of the best in the state if not in all of the US.\n",
      "/Users/kaschbacher/insightproject/yelp/git-yelp/doctopics/BID353_Topic0_RID21347.txt \n",
      "\n",
      "353 21355 5.0 temptop 0 top 0 hip\n",
      "I need a new hip ,Dr. Gilbert ,Highly skilled, knowledgeable, and busy orthopedic surgeon specializing in the replacement of joints  knees and hips. If you are selecting surgeons, go with someone with several hundred surgeries, Gilbert Robert J MD is great..., And the staff is so good, Now I am walking again, Thanks all\n",
      "/Users/kaschbacher/insightproject/yelp/git-yelp/doctopics/BID353_Topic0_RID21355.txt \n",
      "\n",
      "USE ortho;\n",
      "566 23137 5.0 temptop 16 top 16 injection\n",
      "Dr Brody did the surgery on both my thumbs as couple years ago, for trigger thumbs on both hands. It went perfectly and both thumbs are perfect today. TODAY I went to Dr Brody for trigger finger in my middle finger and I was stressing a bit about getting a cortisone injection, which seemed like the obvious first step. I know those are painful and simply unpleasant. Doctor Brody is a superstar when it comes to injections. Kudos to him for a nearly painless event that took hardly any time. I highly recommend Doctor Brody. Despite what some people have commented on Yelp, Doctor Brody was clear with his explanation and took all the time I needed for a few questions. I never felt 'rushed' or like the Doc didn't have time for me.\n",
      "/Users/kaschbacher/insightproject/yelp/git-yelp/doctopics/BID566_Topic16_RID23137.txt \n",
      "\n",
      "USE ortho;\n",
      "427 22088 5.0 temptop 16 top 16 injection\n",
      "I moved away from Fremont to Oakland and had to find a new Orthopedic Surgeon. I was so grateful to get a referral from my new from Primary Physician. I was scared and very nervous because I thought my previous doctor of 8 years was the best ever and I did not believe I would find a doctor that was, at best, comparable. Well to my pleasant surprise Dr. Taylor exceeded my hope and expectations! Dr.Taylor is the most skilled, compassionate and thorough doctor in his field I have ever met! My knee and shoulder injections we so painless and effective and so much better than what I had received from my former doctor! The injections worked immediately and lasted much longer than the ones I had ever received in the past. Not only did I develop an instant trust in him but now I can comfortably have my knee replaced without procrastinating because of that trust.I would also like to comment on how wonderful and warm is staff treated me and other patients while I observed. The office is very clean, organized and esthetically designed. I am truly blessed to have found Dr. Scott Taylor.Thank you, sincerely!\n",
      "/Users/kaschbacher/insightproject/yelp/git-yelp/doctopics/BID427_Topic16_RID22088.txt \n",
      "\n",
      "USE ortho;\n",
      "USE ortho;\n",
      "588 23362 2.0 temptop 11 top 11 minute\n",
      "I trusted Dr. Saxena with the surgery, which was a limited success. He is a man of very few words. Office visits last less than 5 minutes, though the wait might be 30 minutes. He doesn't seem really interested in how I feel about things, what I'm experiencing, or what my questions might be. He answers questions with about 3 words, leaving me feeling like either I should ask the same question again, or just leave still wondering. He dismisses any concern over how your foot lookswill only talk about function. I believe he's a good surgeon, but his overall treatment of patients leaves something to be desired.\n",
      "/Users/kaschbacher/insightproject/yelp/git-yelp/doctopics/BID588_Topic11_RID23362.txt \n",
      "\n",
      "USE ortho;\n",
      "309 20583 5.0 temptop 2 top 2 knee\n",
      "Best Ortho Surgeon there is, period. He has done 4 of my 8 knee surgeries and I could not recommend anyone better. He is the team Dr for the SF Giants, he fixed Buster Posey need I say more! All the reviewers that complained he cancelled their appts because of baseball season, get your facts straight, he had to be on the road with Giants for post season play. Those are the breaks when you chose a surgeon who is the team Doctor for a winning ball club. Yes, his office staff is sometimes hard to get a hold of, however, this is a doctors office not a spa or Neiman Marucs, just call back if you desperately need to speak with some. one. From personnel experience the after hours call center has always been spot on and connected me with Zuk. He even called me at 2am on a Sat night to make sure I was 'Ok'. I have been a patient for 5+ years and always get a call back from the staff with in 24 hrs. His bedside manner is calming and funny and he is a highly skilled surgeon, who only recommends surgery and invasive procedures as needed. He's overall a great dude and I do trust him with my life!\n",
      "/Users/kaschbacher/insightproject/yelp/git-yelp/doctopics/BID309_Topic2_RID20583.txt \n",
      "\n",
      "309 20603 5.0 temptop 2 top 2 knee\n",
      "Make no bones about it, Dr. Kenneth Akizuki is a knee and leg God. And I have always had great experiences with the people in his office. If I could give 10 stars, I would!\n",
      "/Users/kaschbacher/insightproject/yelp/git-yelp/doctopics/BID309_Topic2_RID20603.txt \n",
      "\n",
      "USE ortho;\n",
      "   BID    RID rstars Topic       Word\n",
      "0  353  21350      5     0        hip\n",
      "1  353  21347      5     0        hip\n",
      "2  353  21355      5     0        hip\n",
      "3  566  23137      5    16  injection\n",
      "4  427  22088      5    16  injection\n",
      "5  588  23362      2    11     minute\n",
      "6  309  20583      5     2       knee\n",
      "7  309  20603      5     2       knee\n",
      "8  319  20802      4    22        hip\n",
      "9  309  20609      4    17       knee\n"
     ]
    }
   ],
   "source": [
    "# Find the three most representative reviews for a given topic\n",
    "\n",
    "Represent_Revs=pd.DataFrame()\n",
    "series_list=[]\n",
    "path = '/Users/kaschbacher/insightproject/yelp/git-yelp/doctopics/'\n",
    "\n",
    "# Loop over BIDs\n",
    "for each_id in bid_topic_word_df.BID:\n",
    "    #print '\\nBID: ',each_id\n",
    "    temp_df = Reviews_topics_df[Reviews_topics_df.BID==each_id]#a subset of reviews for this BID\n",
    "    temp_topic = bid_topic_word_df.Topic[bid_topic_word_df.BID==each_id]#extracts a series    \n",
    "    #print temp_topic.values[0]#extract the topic as an int value from the series\n",
    "    RIDS, rstars, texts= three_representative_reviews(temp_topic.values[0],temp_df)\n",
    "    \n",
    "    # Get the topic and word for this BID\n",
    "    top = bid_topic_word_df.Topic[bid_topic_word_df.BID==each_id].values[0]\n",
    "    word = bid_topic_word_df.Word[bid_topic_word_df.BID==each_id].values[0]\n",
    "    \n",
    "    #Does text contain the key-word?\n",
    "    #print 'topic',top,' word',word\n",
    "    for i, text in enumerate(texts):\n",
    "        outcome = text.find(word)\n",
    "        #print 'text_index:', outcome, RIDS[i], rstars[i]\n",
    "#         if RIDS[i] in [23137,22088,23362]:\n",
    "#             #pass\n",
    "#             print text\n",
    "        if outcome>-1:\n",
    "        #if outcome>-1 and word not in ['hip']:#word was found in review\n",
    "            print each_id, RIDS[i], rstars[i], 'top',top, word\n",
    "            print text\n",
    "            rid_series = pd.Series([each_id, RIDS[i], rstars[i], top, word])\n",
    "            series_list.append(rid_series)\n",
    "            filename = 'BID'+str(each_id)+'_Topic'+str(top)+'_RID'+str(RIDS[i])+'.txt'\n",
    "            print path+filename,'\\n'\n",
    "            #save_txt(path+filename, text)\n",
    "\n",
    "Represent_Revs = pd.concat(series_list, axis=1).transpose()\n",
    "Represent_Revs.columns = ['BID',\"RID\",'rstars','Topic','Word']\n",
    "\n",
    "# Adding a couple hand-selected physicians\n",
    "#Dickenson\n",
    "Represent_Revs = Represent_Revs.append({'BID':319,'RID':20802,'rstars':4,'Topic':22,'Word':'hip'},ignore_index=True)\n",
    "#Akizuki\n",
    "Represent_Revs = Represent_Revs.append({'BID':309,'RID':20609,'rstars':4,'Topic':17,'Word':'knee'},ignore_index=True)\n",
    "print Represent_Revs\n",
    "#print new_df\n"
   ]
  },
  {
   "cell_type": "code",
   "execution_count": 239,
   "metadata": {
    "collapsed": false
   },
   "outputs": [],
   "source": [
    "Represent_Revs.to_pickle('Represent_Revs.p')\n",
    "Represent_Revs.to_pickle('doctopics/Represent_Revs.p')"
   ]
  },
  {
   "cell_type": "code",
   "execution_count": 7,
   "metadata": {
    "collapsed": true
   },
   "outputs": [],
   "source": [
    "# Work around because AWS pandas version is outdated and can't read pickles\n",
    "# create dict, and reads the dict - converting back to DF in views.py\n",
    "rr = Represent_Revs.to_dict()\n",
    "rr_pickled = pickle.dumps(rr)\n",
    "f = open('rr_pickled', 'w')\n",
    "f.write(repr(rr_pickled))\n",
    "f.close()"
   ]
  },
  {
   "cell_type": "code",
   "execution_count": 215,
   "metadata": {
    "collapsed": false
   },
   "outputs": [
    {
     "name": "stdout",
     "output_type": "stream",
     "text": [
      "20609\n",
      "11\n"
     ]
    }
   ],
   "source": [
    "print Represent_Revs.RID[Represent_Revs.BID==309].values[0]\n",
    "\n",
    "print bid_topic_word_df.Topic[bid_topic_word_df.BID==588].values[0]"
   ]
  },
  {
   "cell_type": "code",
   "execution_count": 238,
   "metadata": {
    "collapsed": false
   },
   "outputs": [
    {
     "name": "stdout",
     "output_type": "stream",
     "text": [
      "'static/img/BID566_Topic16_RID23137.txt'\n"
     ]
    }
   ],
   "source": [
    "myrev1 = \"BID566_Topic16_RID23137.txt'\"\n",
    "path = \"'static/img/\"\n",
    "print path+myrev1"
   ]
  },
  {
   "cell_type": "code",
   "execution_count": 154,
   "metadata": {
    "collapsed": false
   },
   "outputs": [],
   "source": []
  },
  {
   "cell_type": "code",
   "execution_count": 155,
   "metadata": {
    "collapsed": false
   },
   "outputs": [],
   "source": [
    "# with open(\"Topic22_RR2.txt\", \"r\") as text_file:\n",
    "#     lines = text_file.read()  #type string\n",
    "# print type(lines)\n",
    "# print lines\n"
   ]
  },
  {
   "cell_type": "code",
   "execution_count": 83,
   "metadata": {
    "collapsed": false
   },
   "outputs": [],
   "source": [
    "def most_representative_review(mytopic,Reviews_topics_df):\n",
    "    \"\"\" What review best represents a given topic?\n",
    "    Selects the review with the highest gamma-weights on one topic.\n",
    "    Accepts mytopic (an int corresponding to topic #) and the Rev x G matrix with rid, bid and gammas\"\"\"\n",
    "\n",
    "    #print(ids_gammas_df.head())#Check what df looks like prior to sorting\n",
    "\n",
    "    # Sort on a given topic\n",
    "    mysorted = Reviews_topics_df.sort(mytopic, axis=0, ascending=False)\n",
    "    idx = mysorted.index[0]# get index of top-ranking review for mytopic\n",
    "\n",
    "    RID = int(mysorted.loc[idx]['RID'])\n",
    "    print 'Index = ',idx, ' Starting RID: ',RID,' Topic: ',mytopic,'\\n'#Note that if you replace idx with 0, and print the results, it is not the same\n",
    "    #print(mysorted.loc[0]['RID'])# does not work\n",
    "\n",
    "    #from KAsql import query_SQL\n",
    "    sql = 'SELECT id, stars, comment FROM review WHERE id='+str(RID)+';'\n",
    "    rows = query_SQL(sql)\n",
    "\n",
    "    sqlid = rows[0][0]\n",
    "    stars = rows[0][1]\n",
    "    comment = rows[0][2]\n",
    "    \n",
    "    #Print statements\n",
    "    print sql,'\\n'\n",
    "    print '\\nTop review most related to topic: ',mytopic,'\\n'\n",
    "    print(mysorted.head(3))\n",
    "    print str(RID), sqlid, stars, comment"
   ]
  }
 ],
 "metadata": {
  "kernelspec": {
   "display_name": "Python 2",
   "language": "python",
   "name": "python2"
  },
  "language_info": {
   "codemirror_mode": {
    "name": "ipython",
    "version": 2
   },
   "file_extension": ".py",
   "mimetype": "text/x-python",
   "name": "python",
   "nbconvert_exporter": "python",
   "pygments_lexer": "ipython2",
   "version": "2.7.10"
  }
 },
 "nbformat": 4,
 "nbformat_minor": 0
}
