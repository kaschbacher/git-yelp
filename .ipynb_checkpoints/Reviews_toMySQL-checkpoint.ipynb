{
 "cells": [
  {
   "cell_type": "code",
   "execution_count": 86,
   "metadata": {
    "collapsed": false
   },
   "outputs": [],
   "source": [
    "import cPickle as pickle\n",
    "#import pyodbc\n",
    "# import pandas.io.sql as psql\n",
    "# import pandas as pd\n",
    "import sys\n",
    "import pandas as pd\n",
    "import mysql.connector\n",
    "from sqlalchemy import create_engine\n",
    "\n",
    "import pymysql"
   ]
  },
  {
   "cell_type": "code",
   "execution_count": 87,
   "metadata": {
    "collapsed": true
   },
   "outputs": [],
   "source": [
    "def df_to_SQL(df):\n",
    "    # didn't get this to work\n",
    "    db='ortho'\n",
    "    host='localhost'\n",
    "    port=3307\n",
    "    user='root'\n",
    "    passwd='';\n",
    "\n",
    "    path = 'mysql+mysqlconnector://'+user+':'+passwd+'@'+host+':'+str(port) \n",
    "    print path\n",
    "    engine = create_engine(path, echo=False)\n",
    "    df.to_sql(name='review', con=engine, if_exists = 'append', index=False)"
   ]
  },
  {
   "cell_type": "code",
   "execution_count": 88,
   "metadata": {
    "collapsed": false
   },
   "outputs": [
    {
     "name": "stdout",
     "output_type": "stream",
     "text": [
      "INSERT INTO review(business_id,term_id,city_id,stars,comment) VALUES('6','1','1','5.0',\"Mr. Chao was great.\")\n"
     ]
    }
   ],
   "source": [
    "# debugging only\n",
    "# ortho.review table contains in order: rid, bid, term, city, star, comment (note yelp_id is only in business table)\n",
    "\n",
    "bid = 6\n",
    "tid = 1\n",
    "cid = 1\n",
    "rstar = 5.0\n",
    "review = 'Mr. Chao was great.'\n",
    "\n",
    "# rid - autopopulates\n",
    "part1 = \"'\"+str(bid)+\"',\" + \"'\"+str(tid)+\"',\" +\"'\"+str(cid)+\"',\"\n",
    "part2 = \"'\"+str(rstar)+\"',\" + '\"'+review+'\"'\n",
    "myvalues = part1+part2\n",
    "\n",
    "#print myvalues\n",
    "sql = 'INSERT INTO review(business_id,term_id,city_id,stars,comment) VALUES('+myvalues+')'\n",
    "print(sql)\n"
   ]
  },
  {
   "cell_type": "code",
   "execution_count": 89,
   "metadata": {
    "collapsed": true
   },
   "outputs": [],
   "source": [
    "def insert_reviews_SQL(bid, tid, cid, rstar, review):\n",
    "    # ortho.review table contains in order: rid, bid, term, city, star, comment (note yelp_id is only in business table)\n",
    "    con = False\n",
    "    try:\n",
    "        con = pymysql.connect(host='localhost', port=3307, user='root', passwd='', db='yelpdata')\n",
    "        with con:\n",
    "            cur = con.cursor()\n",
    "            #myvalues = \"'\" + str(bid)+\"',\" + str(rstar) + \",\" + '\"'+review+'\"'\n",
    "            part1 = \"'\"+str(bid)+\"',\" + \"'\"+str(tid)+\"',\" +\"'\"+str(cid)+\"',\"\n",
    "            part2 = \"'\"+str(rstar)+\"',\" + '\"'+review+'\"'\n",
    "            myvalues = part1+part2         \n",
    "            #sql = 'INSERT INTO review(business_id,stars,comment) VALUES('+myvalues+')'\n",
    "            sql = 'INSERT INTO review(business_id,term_id,city_id,stars,comment) VALUES('+myvalues+')'\n",
    "            print(sql)\n",
    "            cur.execute(sql)\n",
    "    except pymysql.Error, e:\n",
    "        print \"Error %d: %s\" % (e.args[0],e.args[1])\n",
    "        sys.exit(1)\n",
    "    finally:\n",
    "        if con:\n",
    "            con.close()"
   ]
  },
  {
   "cell_type": "code",
   "execution_count": 90,
   "metadata": {
    "collapsed": false
   },
   "outputs": [
    {
     "name": "stdout",
     "output_type": "stream",
     "text": [
      "INSERT INTO review(business_id,term_id,city_id,stars,comment) VALUES('302','1','1','5.0',\"Mr. Chao was great.\")\n",
      "Error 1054: Unknown column 'term_id' in 'field list'\n"
     ]
    },
    {
     "ename": "SystemExit",
     "evalue": "1",
     "output_type": "error",
     "traceback": [
      "An exception has occurred, use %tb to see the full traceback.\n",
      "\u001b[0;31mSystemExit\u001b[0m\u001b[0;31m:\u001b[0m 1\n"
     ]
    },
    {
     "name": "stderr",
     "output_type": "stream",
     "text": [
      "To exit: use 'exit', 'quit', or Ctrl-D.\n"
     ]
    }
   ],
   "source": [
    "def main():\n",
    "    \n",
    "    # Load the pickled DF of all reviews, which I want to load into MySQL\n",
    "    picklename = 'ortho_review_df.p'\n",
    "    ortho_review_df = pickle.load(open(picklename,'rb'))\n",
    "    #print ortho_review_df.head(5)\n",
    "    \n",
    "    # review table contains in order: rid, bid, term, city, star, comment (note yelp_id is only in business table)\n",
    "    for row in ortho_review_df.iterrows():\n",
    "        myvalues = row[1].values\n",
    "        print(myvalues)\n",
    "    \n",
    "    bid = myvalues[0]\n",
    "    tid = myvalues[1]\n",
    "    cid = myvalues[2]\n",
    "    rstar = 5.0\n",
    "    review = 'Mr. Chao was great.'\n",
    "    \n",
    "    #insert_reviews_SQL(bid, tid, cid, rstar, review)\n",
    "    \n",
    "#     df_to_SQL(ortho_review_df)#not working yet\n",
    "\n",
    "if __name__==\"__main__\":\n",
    "    main()"
   ]
  },
  {
   "cell_type": "code",
   "execution_count": null,
   "metadata": {
    "collapsed": true
   },
   "outputs": [],
   "source": [
    "# Not using, but wanted it for reference\n",
    "def df_from_SQL():\n",
    "\n",
    "    cnxn = pyodbc.connect(connection_info) \n",
    "    cursor = cnxn.cursor()\n",
    "    sql = \"SELECT * FROM TABLE\"\n",
    "\n",
    "    df = psql.frame_query(sql, cnxn)\n",
    "    cnxn.close()\n",
    "    return df"
   ]
  }
 ],
 "metadata": {
  "kernelspec": {
   "display_name": "Python 2",
   "language": "python",
   "name": "python2"
  },
  "language_info": {
   "codemirror_mode": {
    "name": "ipython",
    "version": 2
   },
   "file_extension": ".py",
   "mimetype": "text/x-python",
   "name": "python",
   "nbconvert_exporter": "python",
   "pygments_lexer": "ipython2",
   "version": "2.7.10"
  }
 },
 "nbformat": 4,
 "nbformat_minor": 0
}
