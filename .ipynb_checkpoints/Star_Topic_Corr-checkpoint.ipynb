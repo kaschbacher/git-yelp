{
 "cells": [
  {
   "cell_type": "code",
   "execution_count": 398,
   "metadata": {
    "collapsed": false
   },
   "outputs": [],
   "source": [
    "import pandas as pd\n",
    "import numpy as np\n",
    "import KAsql2 as ka\n",
    "\n",
    "import seaborn as sns\n",
    "from scipy.stats import kendalltau\n",
    "from matplotlib import pyplot as plt\n",
    "from pandas.tools.plotting import scatter_matrix\n",
    "\n",
    "import statsmodels.api as sm\n",
    "from sklearn.decomposition import PCA\n",
    "#from sklearn import linear_model\n",
    "\n",
    "import cPickle as pickle\n",
    "from gensim import models\n",
    "\n",
    "%matplotlib inline"
   ]
  },
  {
   "cell_type": "code",
   "execution_count": 386,
   "metadata": {
    "collapsed": true
   },
   "outputs": [],
   "source": [
    "def get_stars():\n",
    "    sql = 'SELECT id, business_id, stars FROM ortho.review;' \n",
    "    rows = ka.query_SQL(sql)# extracts unique yelp_ids\n",
    "    df = pd.DataFrame(np.array(rows),columns=['RID','BID','rstars'])\n",
    "    return df"
   ]
  },
  {
   "cell_type": "code",
   "execution_count": 387,
   "metadata": {
    "collapsed": false
   },
   "outputs": [],
   "source": [
    "def regress(df):  \n",
    "    # Fit a regression model of topics predicting stars\n",
    "    y = df.rstars\n",
    "    topics = df.columns.values.tolist()[3:]\n",
    "    X = df.loc[:,topics]\n",
    "    X = sm.tools.tools.add_constant(X,True)\n",
    "    regr = sm.OLS(y, X).fit()# get reg object    \n",
    "    return regr"
   ]
  },
  {
   "cell_type": "code",
   "execution_count": 388,
   "metadata": {
    "collapsed": true
   },
   "outputs": [],
   "source": [
    "def find_sign_predictors(regr):\n",
    "    sign_topics = []#print 'Topic, Beta, p-value'\n",
    "    for i in range(0,30):\n",
    "        B = np.round(regr.params[i], decimals=3)\n",
    "        p = np.round(regr.pvalues[i], decimals=3)\n",
    "        if p<=.05:\n",
    "            #print i, B, p \n",
    "            sign_topics.append([i,B,p])\n",
    "    return sign_topics"
   ]
  },
  {
   "cell_type": "code",
   "execution_count": 389,
   "metadata": {
    "collapsed": true
   },
   "outputs": [],
   "source": [
    "def load_lda():\n",
    "    lda = pickle.load(open('lda_ortho_30t_pos.p','rb'))\n",
    "    #lda.show_topics(5)\n",
    "    return lda"
   ]
  },
  {
   "cell_type": "code",
   "execution_count": 390,
   "metadata": {
    "collapsed": true
   },
   "outputs": [],
   "source": [
    "def topic_num_to_word(lda):\n",
    "    # Obtain the words that characterize each topic (using the lda model object)\n",
    "    \n",
    "    #Initialize\n",
    "    SELECTED = np.arange(0,30)#all 30 topics\n",
    "    NWORDS_SHOWN = 10#limit to top ten words\n",
    "    topic_word_df=pd.DataFrame()\n",
    "\n",
    "    #temp_df is a df containing words for a single topic, which gets appended to final df, and reused for each loop cycle\n",
    "    for sel_topic in SELECTED:\n",
    "        topic = lda.show_topic(sel_topic, NWORDS_SHOWN)#type list\n",
    "        temp_df=pd.DataFrame([(tup[1].encode(\"utf-8\").replace(',','')) for tup in topic]).transpose()#got strange error trying to make transpose a separate line of code... \n",
    "\n",
    "        # Add the Topic # in a column at the beginning, and append to master DF\n",
    "        topic_word_df = topic_word_df.append([temp_df],ignore_index=True)\n",
    "\n",
    "    topic_word_df.insert(0,'Topic',SELECTED)\n",
    "    return topic_word_df "
   ]
  },
  {
   "cell_type": "code",
   "execution_count": 391,
   "metadata": {
    "collapsed": true
   },
   "outputs": [],
   "source": [
    "def get_lowstar_words(topic_word_df, sign_topics):\n",
    "    topics = []\n",
    "    words_df = pd.DataFrame()\n",
    "    for st in sign_topics:\n",
    "        words = topic_word_df.loc[st[0],:]\n",
    "        words_df =words_df.append(words, ignore_index=True)\n",
    "        topics.append(st[0])\n",
    "    return words_df, topics"
   ]
  },
  {
   "cell_type": "code",
   "execution_count": 409,
   "metadata": {
    "collapsed": true
   },
   "outputs": [],
   "source": [
    "def convert_rgb(org_color):   \n",
    "    \"\"\"org_color is type string: '174.199.232'\n",
    "    # Original values are scaled 1-255\n",
    "    # rgb_color is type tuple\n",
    "    # Final color is scaled 0-1: (0.643,0.416,0.894)\"\"\"\n",
    "    \n",
    "    str_vec = org_color.strip().split('.')#type list - of strings\n",
    "    num_vec = [float(s) for s in str_vec]#type list - of floats\n",
    "    rgb_scale = [(n/255) for n in num_vec]#type list - of scaled floats\n",
    "    \n",
    "    # Note: Tried a regular expression...\n",
    "    # It doesn't work - e.g.,:  t2 = [t[i] for i in t]\n",
    "    # TypeError: tuple indices must be integers, not float\n",
    "    rgb_tuple = (rgb_scale[0],rgb_scale[1],rgb_scale[2])\n",
    "    return rgb_tuple\n",
    "    "
   ]
  },
  {
   "cell_type": "code",
   "execution_count": 417,
   "metadata": {
    "collapsed": true
   },
   "outputs": [],
   "source": [
    "def tableau():\n",
    "    \"\"\" returns a dict with color names as keys and converted rgb tuples as values\n",
    "    #http://tableaufriction.blogspot.ro/2012/11/finally-you-can-use-tableau-data-colors.html\n",
    "    #References convert_rgb()\"\"\"\n",
    "\n",
    "    tableau={}#dict\n",
    "    color_key = [\n",
    "    'dark_grey','med_grey','med2_grey','med3_grey','med4_grey','light_grey',\n",
    "    'blue','orange','green','red','purple',\n",
    "    'turq','puke','med_puke','light_puke',\n",
    "    'brown','lav',\n",
    "    'dark_red','bright_red','fushia_red','salmon','blue_red','light_red',\n",
    "    'cool_blue','purp_blue','med_blue','med2_blue','med3_blue',\n",
    "    'lav_blue','sky_blue','light_cool_blue']\n",
    "    color_str = [\n",
    "    '50.50.50','75.75.75','100.100.100','125.125.125','150.150.150','200.200.200',\n",
    "    '31.119.180','255.127.14','44.160.44','214.39.40','148.103.189',\n",
    "    '23.190.207','188.189.34','205.204.93','219.219.141',\n",
    "    '140.86.75','227.119.194',\n",
    "    '177.3.24','240.39.32','189.10.54','242.108.100','177.3.74','254.69.70',\n",
    "    '44.105.176','144.158.206','107.163.214','137.183.214','95.158.209',\n",
    "    '181.200.226','177.213.240','94.155.225']\n",
    "    \n",
    "    for idx in range(0,len(color_key)):\n",
    "        #print(color_str[idx])\n",
    "        tup = convert_rgb(color_str[idx])\n",
    "        #tableau[color_key[idx]] = color_str[idx]\n",
    "        tableau[color_key[idx]] = tup\n",
    "    \n",
    "    #For Displaying/debugging\n",
    "    #print(tableau.items())\n",
    "    #print(tableau['dark_grey'])#access by color-name\n",
    "    return tableau"
   ]
  },
  {
   "cell_type": "code",
   "execution_count": 463,
   "metadata": {
    "collapsed": true
   },
   "outputs": [],
   "source": [
    "class color:\n",
    "    \"\"\" Class that defines colors in a palette for a bar graph\"\"\"\n",
    "    t = tableau()#color settings\n",
    "\n",
    "    c = [ t['cool_blue'],t['red'] ]#marker color: 0=healthy/control and 1=sick/target groups\n",
    "    err = [ t['med2_grey'],t['med2_grey'] ]#error bar color\n",
    "    edge = [ t['med2_grey'] ]\n",
    "    \n",
    "    xlb = t['dark_grey']; ylb = t['dark_grey']#labels\n",
    "    xtk = t['med2_grey']; ytk = t['med2_grey']#ticks\n",
    "    ytl = t['med2_grey']#ticklines\n",
    "    leg = t['dark_grey']#legend box\n",
    "    box = t['med4_grey']"
   ]
  },
  {
   "cell_type": "code",
   "execution_count": 452,
   "metadata": {
    "collapsed": true
   },
   "outputs": [],
   "source": [
    "#     # Reduce dimensionality of four topics into 1 factor using PCA\n",
    "#     pca = PCA(n_components=1)\n",
    "#     pca.fit(low_star_top)\n",
    "#     print('\\nPCA: % Variance Explained: ',np.round(pca.explained_variance_ratio_*100,3))\n",
    "#     # components are eigenvectors\n",
    "#     EV = np.round((pca.components_),5).T\n",
    "\n",
    "#     # PROJECTED Topics\n",
    "#     # Use this d x k eigenvector matrix to transform the original samples onto the component subspace. \n",
    "#     # Arg for transform is projected on the principal components extracted from the training set\n",
    "#     X_pca = pca.transform(low_star_top)# topics mapped onto new feature space\n",
    "    \n",
    "    # Plot topic by Rstars\n",
    "    #xlabel='PCA 1';ylabel='Rstars'   "
   ]
  },
  {
   "cell_type": "code",
   "execution_count": 453,
   "metadata": {
    "collapsed": true
   },
   "outputs": [],
   "source": [
    "#     # Transform columns sign associated with low stars to improve distribution\n",
    "#     low_star_top = np.asarray(Reviews_topics_df.loc[:,topics])\n",
    "#     low_star_top_T = np.log(low_star_top*100)\n",
    "#     print low_star_top_T\n",
    "#     print 'shapes: ',np.shape(low_star_top), np.shape(low_star_top_T)\n",
    "#     print'hist'\n",
    "#     fig = np.histogram(low_star_top_T, bins=10)\n",
    "#     plt.show()"
   ]
  },
  {
   "cell_type": "code",
   "execution_count": 454,
   "metadata": {
    "collapsed": true
   },
   "outputs": [],
   "source": [
    "    ### PLOTS\n",
    "    # Histograms/boxplots\n",
    "#     fig1 = merge_df.boxplot(column=[10], by=['rstars'], figsize=(6,3))\n",
    "#     plt.show()\n",
    "    \n",
    "#     fig2 = Reviews_topics_df.loc[:,topics].plot(kind='hist',alpha=.5, stacked=True)\n",
    "#     plt.show()\n",
    "    \n",
    "    # Scatterplot\n",
    "#     X=Reviews_topics_df.loc[:,10].values\n",
    "#     Y=merge_df.rstars.values\n",
    "#     ax = sns.regplot(x=X, y=Y, marker='+',color='b')\n",
    "#     ax.set_xlabel('Topic: Time/Appointment-Based Hassles')\n",
    "#     ax.set_ylabel('Review Stars')\n",
    "\n",
    "    # There work but they aren't nice looking\n",
    "    #df.plot(x='ht0',y='wt0',marker='o',lw=0)\n",
    "    #seaborn_graph(X,Y)"
   ]
  },
  {
   "cell_type": "code",
   "execution_count": 455,
   "metadata": {
    "collapsed": true
   },
   "outputs": [],
   "source": [
    "def dichtomoize_stars(merge_df, topics):\n",
    "    # Return \n",
    "    low_idx = merge_df[merge_df.rstars.values<=2].index\n",
    "    high_idx = merge_df[merge_df.rstars.values>=4].index\n",
    "    \n",
    "    col= [t+3 for t in topics]#offset otherwise it chooses col-index, which doesn't match topic number\n",
    "    low = merge_df.loc[low_idx, col]\n",
    "    low.insert(0,'dstar','low')\n",
    "    high = merge_df.loc[high_idx, col]\n",
    "    high.insert(0,'dstar','high')\n",
    "    \n",
    "    dstar_df = pd.concat([low,high], axis=0, join='outer', ignore_index=False)\n",
    "\n",
    "    return dstar_df"
   ]
  },
  {
   "cell_type": "code",
   "execution_count": 456,
   "metadata": {
    "collapsed": true
   },
   "outputs": [],
   "source": [
    "def seaborn_graph(x,y):\n",
    "    print('My first graph\\n')\n",
    "    sns.set(style=\"ticks\")\n",
    "    \n",
    "    fig = sns.jointplot(x, y, kind=\"hex\", stat_func=kendalltau, color=\"#008A00\")   \n",
    "    fig.set_axis_labels('Topics','Stars', fontsize=30)\n",
    "    plt.show()"
   ]
  },
  {
   "cell_type": "code",
   "execution_count": 469,
   "metadata": {
    "collapsed": false
   },
   "outputs": [],
   "source": [
    "# def seaborn_bar(dstar_df):\n",
    "#     Bar Plot\n",
    "#     ax = sns.barplot(x='dstar',y=15, data=dstar_df)\n",
    "#     ax2 = sns.barplot(x=dstar_df.dstar, y=dstar_df.loc[:,3], palette=\"RdBu_r\")\n",
    "#     ax2.set_xlabel(\"Low versus High Stars\")\n",
    "#     ax2.set_ylabel(\"Topic Score: Hassles - Time/Insurance\", fontsize=16)\n",
    "#     #sns.despine(bottom=True)"
   ]
  },
  {
   "cell_type": "code",
   "execution_count": 482,
   "metadata": {
    "collapsed": true
   },
   "outputs": [],
   "source": [
    "def ka_bar(dstar_df, c, ka_labels, topics, legend_labels, p):\n",
    "    \"\"\"Plot a bar-graph of two groups with multiple DVs\"\"\"\n",
    "    ind = np.arange(4)#This may throw error if emmeans has only one DV\n",
    "    width = .35\n",
    "    \n",
    "    # Instatiate objects\n",
    "    fig, ax = plt.subplots()\n",
    "    \n",
    "    # Means and SEM\n",
    "    low_means = dstar_df[dstar_df.dstar=='low'].mean()\n",
    "    high_means = dstar_df[dstar_df.dstar=='high'].mean()\n",
    "    low_sem = dstar_df[dstar_df.dstar=='low'].sem()\n",
    "    high_sem = dstar_df[dstar_df.dstar=='high'].sem()\n",
    "\n",
    "    # Plot data as bars\n",
    "    rects1 = ax.bar(ind, low_means, width, color=c.c[0],yerr=low_sem ,ecolor = c.err[0],edgecolor=c.edge)\n",
    "    rects2 = ax.bar(ind+width, high_means, width, color=c.c[1],yerr=high_sem,ecolor=c.err[1], edgecolor=c.edge)\n",
    "    \n",
    "    # Format axes labels, ticks, and lines\n",
    "    plt.rc('axes',ec=c.box)\n",
    "    ax.set_xlabel(ka_labels[0], fontsize=16, color=c.xlb)\n",
    "    ax.set_ylabel(ka_labels[1], fontsize=16, color=c.ylb)\n",
    "    #ax.set_title('FA Means by Group')\n",
    "    ax.set_xticks(ind+width)\n",
    "    ax.set_xticklabels(topics,fontsize=12, color=c.xtk)\n",
    "    plt.setp([ax.get_yticklabels()], fontsize=12, color=c.ytk)\n",
    "    \n",
    "    plt.setp([ax.get_xticklines()], visible=False)\n",
    "    plt.setp([ax.get_yticklines()], visible=False)\n",
    "    \n",
    "    # Max & min values for Y-axis\n",
    "    #plt.ylim([np.min(X), np.max(X)])#good to start with\n",
    "    \n",
    "    # Set Legend\n",
    "    leg = ax.legend( (rects1[0], rects2[0]), (legend_labels[0],legend_labels[1]), loc=\"upper left\", fontsize=14)\n",
    "    leg.get_frame().set_edgecolor(c.box)\n",
    "    for text in leg.get_texts():\n",
    "        plt.setp(text, color=c.leg)\n",
    "    \n",
    "    # Add p-values as a text annotation\n",
    "#     for i in range(0, 4):  \n",
    "#         # These if statements just help me tailor the placement of these p-values\n",
    "#         # otherwise, they can be commented out\n",
    "#         if i==0: ypad = 2.1\n",
    "#         else: ypad = 3\n",
    "#         xpad = 0\n",
    "#         #xpad = .3*width\n",
    "#         #yloc_p = max(low_means,high_means) + (ypad*max(low_sem,high_sem))\n",
    "#         ax.text(ind[i]+xpad, .90, p[i], fontsize=8.5, color=c.xtk)\n",
    "    \n",
    "    #ax.margins(0.05)\n",
    "    plt.show()\n",
    "    return fig"
   ]
  },
  {
   "cell_type": "code",
   "execution_count": 483,
   "metadata": {
    "collapsed": false
   },
   "outputs": [
    {
     "name": "stdout",
     "output_type": "stream",
     "text": [
      "USE ortho;\n",
      "[[3, -2.069, 0.048000000000000001], [10, -3.3679999999999999, 0.001], [11, -2.6179999999999999, 0.012], [15, -2.8500000000000001, 0.0060000000000000001]] \n",
      "\n",
      "        0        1            2            3       4          5       6  \\\n",
      "0    time      mri    insurance       injury    need      never   going   \n",
      "1    told     said  appointment         time  called  insurance  office   \n",
      "2    time  minutes  appointment         wait   didnt    patient  office   \n",
      "3  office     time         told  appointment    even      staff    dont   \n",
      "\n",
      "       7      8       9  Topic  \n",
      "0   even   call  office      3  \n",
      "1    mri  didnt  really     10  \n",
      "2  staff  never   great     11  \n",
      "3   care   said  really     15   \n",
      "\n"
     ]
    },
    {
     "ename": "TypeError",
     "evalue": "get_xticklines() takes exactly 1 argument (2 given)",
     "output_type": "error",
     "traceback": [
      "\u001b[0;31m---------------------------------------------------------------------------\u001b[0m",
      "\u001b[0;31mTypeError\u001b[0m                                 Traceback (most recent call last)",
      "\u001b[0;32m<ipython-input-483-bf724fca5ca1>\u001b[0m in \u001b[0;36m<module>\u001b[0;34m()\u001b[0m\n\u001b[1;32m     36\u001b[0m \u001b[0;34m\u001b[0m\u001b[0m\n\u001b[1;32m     37\u001b[0m \u001b[0;32mif\u001b[0m \u001b[0m__name__\u001b[0m\u001b[0;34m==\u001b[0m\u001b[0;34m\"__main__\"\u001b[0m\u001b[0;34m:\u001b[0m\u001b[0;34m\u001b[0m\u001b[0m\n\u001b[0;32m---> 38\u001b[0;31m     \u001b[0mmain\u001b[0m\u001b[0;34m(\u001b[0m\u001b[0;34m)\u001b[0m\u001b[0;34m\u001b[0m\u001b[0m\n\u001b[0m",
      "\u001b[0;32m<ipython-input-483-bf724fca5ca1>\u001b[0m in \u001b[0;36mmain\u001b[0;34m()\u001b[0m\n\u001b[1;32m     33\u001b[0m     \u001b[0mp\u001b[0m \u001b[0;34m=\u001b[0m \u001b[0;34m[\u001b[0m\u001b[0;34m'.048*'\u001b[0m\u001b[0;34m,\u001b[0m\u001b[0;34m'.001**'\u001b[0m\u001b[0;34m,\u001b[0m\u001b[0;34m'.012*'\u001b[0m\u001b[0;34m,\u001b[0m\u001b[0;34m'.006**'\u001b[0m\u001b[0;34m]\u001b[0m\u001b[0;34m\u001b[0m\u001b[0m\n\u001b[1;32m     34\u001b[0m \u001b[0;34m\u001b[0m\u001b[0m\n\u001b[0;32m---> 35\u001b[0;31m     \u001b[0mka_bar\u001b[0m\u001b[0;34m(\u001b[0m\u001b[0mdstar_df\u001b[0m\u001b[0;34m,\u001b[0m \u001b[0mpalette\u001b[0m\u001b[0;34m,\u001b[0m \u001b[0maxis_labels\u001b[0m\u001b[0;34m,\u001b[0m \u001b[0mtopics\u001b[0m\u001b[0;34m,\u001b[0m \u001b[0mlegend_labels\u001b[0m\u001b[0;34m,\u001b[0m \u001b[0mp\u001b[0m\u001b[0;34m)\u001b[0m\u001b[0;34m\u001b[0m\u001b[0m\n\u001b[0m\u001b[1;32m     36\u001b[0m \u001b[0;34m\u001b[0m\u001b[0m\n\u001b[1;32m     37\u001b[0m \u001b[0;32mif\u001b[0m \u001b[0m__name__\u001b[0m\u001b[0;34m==\u001b[0m\u001b[0;34m\"__main__\"\u001b[0m\u001b[0;34m:\u001b[0m\u001b[0;34m\u001b[0m\u001b[0m\n",
      "\u001b[0;32m<ipython-input-482-15d06dd6d130>\u001b[0m in \u001b[0;36mka_bar\u001b[0;34m(dstar_df, c, ka_labels, topics, legend_labels, p)\u001b[0m\n\u001b[1;32m     26\u001b[0m     \u001b[0mplt\u001b[0m\u001b[0;34m.\u001b[0m\u001b[0msetp\u001b[0m\u001b[0;34m(\u001b[0m\u001b[0;34m[\u001b[0m\u001b[0max\u001b[0m\u001b[0;34m.\u001b[0m\u001b[0mget_yticklabels\u001b[0m\u001b[0;34m(\u001b[0m\u001b[0;34m)\u001b[0m\u001b[0;34m]\u001b[0m\u001b[0;34m,\u001b[0m \u001b[0mfontsize\u001b[0m\u001b[0;34m=\u001b[0m\u001b[0;36m12\u001b[0m\u001b[0;34m,\u001b[0m \u001b[0mcolor\u001b[0m\u001b[0;34m=\u001b[0m\u001b[0mc\u001b[0m\u001b[0;34m.\u001b[0m\u001b[0mytk\u001b[0m\u001b[0;34m)\u001b[0m\u001b[0;34m\u001b[0m\u001b[0m\n\u001b[1;32m     27\u001b[0m \u001b[0;34m\u001b[0m\u001b[0m\n\u001b[0;32m---> 28\u001b[0;31m     \u001b[0mplt\u001b[0m\u001b[0;34m.\u001b[0m\u001b[0msetp\u001b[0m\u001b[0;34m(\u001b[0m\u001b[0;34m[\u001b[0m\u001b[0max\u001b[0m\u001b[0;34m.\u001b[0m\u001b[0mget_xticklines\u001b[0m\u001b[0;34m(\u001b[0m\u001b[0mnp\u001b[0m\u001b[0;34m.\u001b[0m\u001b[0marange\u001b[0m\u001b[0;34m(\u001b[0m\u001b[0;36m0\u001b[0m\u001b[0;34m,\u001b[0m\u001b[0;36m.16\u001b[0m\u001b[0;34m,\u001b[0m\u001b[0;36m.4\u001b[0m\u001b[0;34m)\u001b[0m\u001b[0;34m)\u001b[0m\u001b[0;34m]\u001b[0m\u001b[0;34m,\u001b[0m \u001b[0mvisible\u001b[0m\u001b[0;34m=\u001b[0m\u001b[0mFalse\u001b[0m\u001b[0;34m)\u001b[0m\u001b[0;34m\u001b[0m\u001b[0m\n\u001b[0m\u001b[1;32m     29\u001b[0m     \u001b[0mplt\u001b[0m\u001b[0;34m.\u001b[0m\u001b[0msetp\u001b[0m\u001b[0;34m(\u001b[0m\u001b[0;34m[\u001b[0m\u001b[0max\u001b[0m\u001b[0;34m.\u001b[0m\u001b[0mget_yticklines\u001b[0m\u001b[0;34m(\u001b[0m\u001b[0;34m)\u001b[0m\u001b[0;34m]\u001b[0m\u001b[0;34m,\u001b[0m \u001b[0mvisible\u001b[0m\u001b[0;34m=\u001b[0m\u001b[0mFalse\u001b[0m\u001b[0;34m)\u001b[0m\u001b[0;34m\u001b[0m\u001b[0m\n\u001b[1;32m     30\u001b[0m \u001b[0;34m\u001b[0m\u001b[0m\n",
      "\u001b[0;31mTypeError\u001b[0m: get_xticklines() takes exactly 1 argument (2 given)"
     ]
    },
    {
     "data": {
      "image/png": "[encoded data removed]",
      "text/plain": [
       "<matplotlib.figure.Figure at 0x1137912d0>"
      ]
     },
     "metadata": {},
     "output_type": "display_data"
    }
   ],
   "source": [
    "def main():   \n",
    "    \n",
    "    # Load data with RID, BID and topic weights - merge with review-stars\n",
    "    Reviews_topics_df = pd.read_pickle('Review_topics_df.p')\n",
    "    star_df = get_stars()#queries MySQL for review star data\n",
    "    #merge_df = pd.concat([star_df,Reviews_topics_df], axis=1)# this duplicates the ID columns\n",
    "    merge_df = star_df.merge(Reviews_topics_df, how='inner', on=['RID','BID'], left_index=True, copy=True)\n",
    "    merge_df.to_csv('Stars_topics.csv')\n",
    "    \n",
    "    # Fit regression model of topics predicting stars\n",
    "    regr = regress(merge_df)\n",
    "    #print regr.summary()\n",
    "    \n",
    "    #Determine what words correspond to topics that are negatively correlated with stars\n",
    "    lda = load_lda()\n",
    "    topic_word_df = topic_num_to_word(lda)#print 'Topic, Beta, p-value'\n",
    "    sign_topics = find_sign_predictors(regr)# sign_topics is a list of lists: each list - topic, beta, p-value\n",
    "    print sign_topics,'\\n'\n",
    "    \n",
    "    # For interpretation: Create a DF of the words related to topics negatively related to stars\n",
    "    words_df, topics = get_lowstar_words(topic_word_df,sign_topics)\n",
    "    print words_df,'\\n'\n",
    "\n",
    "    # dichotomize stars\n",
    "    dstar_df = dichtomoize_stars(merge_df, topics)\n",
    "    \n",
    "    # Bar Graph\n",
    "    t = tableau()\n",
    "    palette = color() \n",
    "    palette.c = [ t['dark_red'], t['cool_blue'] ]\n",
    "    axis_labels = [\"Star-Rating on Reviews\",\"Hassle Score\"]\n",
    "    legend_labels = [\"Low Stars\",\"High Stars\"]\n",
    "    p = ['.048*','.001**','.012*','.006**']\n",
    "    \n",
    "    ka_bar(dstar_df, palette, axis_labels, topics, legend_labels, p)\n",
    "    \n",
    "if __name__==\"__main__\":\n",
    "    main()"
   ]
  },
  {
   "cell_type": "code",
   "execution_count": null,
   "metadata": {
    "collapsed": true
   },
   "outputs": [],
   "source": []
  },
  {
   "cell_type": "code",
   "execution_count": null,
   "metadata": {
    "collapsed": true
   },
   "outputs": [],
   "source": []
  }
 ],
 "metadata": {
  "kernelspec": {
   "display_name": "Python 2",
   "language": "python",
   "name": "python2"
  },
  "language_info": {
   "codemirror_mode": {
    "name": "ipython",
    "version": 2
   },
   "file_extension": ".py",
   "mimetype": "text/x-python",
   "name": "python",
   "nbconvert_exporter": "python",
   "pygments_lexer": "ipython2",
   "version": "2.7.10"
  }
 },
 "nbformat": 4,
 "nbformat_minor": 0
}
