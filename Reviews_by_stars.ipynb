{
 "cells": [
  {
   "cell_type": "code",
   "execution_count": 3,
   "metadata": {
    "collapsed": true
   },
   "outputs": [],
   "source": [
    "import matplotlib.pyplot as plt\n",
    "import seaborn as sns\n",
    "from scipy.stats import kendalltau\n",
    "from pylab import rcParams\n",
    "import pymysql\n",
    "import numpy as np\n",
    "import pandas as pd\n",
    "\n",
    "%matplotlib inline"
   ]
  },
  {
   "cell_type": "code",
   "execution_count": 4,
   "metadata": {
    "collapsed": false
   },
   "outputs": [],
   "source": [
    "def call_mysql():\n",
    "    con = False\n",
    "    rows = np.nan\n",
    "    try:\n",
    "        con = pymysql.connect(host='localhost', port=3307, user='root', passwd='', db='yelpdata')\n",
    "        with con:\n",
    "            cur = con.cursor()\n",
    "            #myvalues = \"'\" + yelp_id+\"',\" + str(stars) + \",\" + str(reviews) + \",\" + \"1\"\n",
    "            sql = 'USE yelpdata;'\n",
    "            cur.execute(sql)\n",
    "            sql = 'SELECT stars,reviews FROM business;' \n",
    "            #print(sql)\n",
    "            cur.execute(sql)\n",
    "            rows = cur.fetchall()\n",
    "#             for row in rows:\n",
    "#                 print(row)\n",
    "    except pymysql.Error, e:\n",
    "        print \"Error %d: %s\" % (e.args[0],e.args[1])\n",
    "        sys.exit(1)\n",
    "    finally:\n",
    "        if con:\n",
    "            con.close()\n",
    "    return rows     "
   ]
  },
  {
   "cell_type": "code",
   "execution_count": 36,
   "metadata": {
    "collapsed": true
   },
   "outputs": [],
   "source": [
    "def first_graph(array):\n",
    "    print('My first graph\\n')\n",
    "    sns.set(style=\"ticks\")\n",
    "    \n",
    "#     rs = np.random.RandomState(11)\n",
    "#     x = rs.gamma(2, size=1000)\n",
    "#     y = -.5 * x + rs.normal(size=1000)\n",
    "\n",
    "    x = array[:,0]\n",
    "    y = array[:,1]\n",
    "    #sns.set_xlabels['stars']\n",
    "    \n",
    "    #xtick = plt.xtick(np.array(1,5,.5))\n",
    "    fig = sns.jointplot(x, y, kind=\"hex\", stat_func=kendalltau, color=\"#FFB894\")\n",
    "#     fig.xlabel('Reviews')\n",
    "#     fig.ylabel('Stars')\n",
    "    \n",
    "    fig.set_axis_labels('Stars','Reviews', fontsize=16)"
   ]
  },
  {
   "cell_type": "code",
   "execution_count": 37,
   "metadata": {
    "collapsed": true
   },
   "outputs": [],
   "source": [
    "def second_graph(array):\n",
    "    \n",
    "    x = array[:,0]\n",
    "    y = array[:,1]\n",
    "    fig = plt.figure(figsize = (5,5))\n",
    "    ax = plt.axes()\n",
    "    fig = plt.plot(x, y, marker='d', ms=8, mew=.5,lw=0)\n",
    "    \n",
    "    plt.setp([ax.set_xlabel('Reviews'),ax.set_ylabel('Stars')],fontsize=16)\n",
    "    ax.margins(0.05)"
   ]
  },
  {
   "cell_type": "code",
   "execution_count": 38,
   "metadata": {
    "collapsed": false
   },
   "outputs": [
    {
     "name": "stdout",
     "output_type": "stream",
     "text": [
      "My first graph\n",
      "\n"
     ]
    },
    {
     "data": {
      "image/png": "[encoded data removed]",
      "text/plain": [
       "<matplotlib.figure.Figure at 0x115457d50>"
      ]
     },
     "metadata": {},
     "output_type": "display_data"
    }
   ],
   "source": [
    "def main():\n",
    "    data = call_mysql()\n",
    "    df = np.array([])\n",
    "    \n",
    "    #ultimate solution mysql-> DF is probably this\n",
    "    #df = pd.read_sql\n",
    "    \n",
    "    for d in data:\n",
    "        #print(d)\n",
    "        df = np.append(df, d, axis=0)\n",
    "    rows = np.size(df)/2\n",
    "    #print(rows)\n",
    "    df = np.reshape(df,(rows,2))\n",
    "    #print(df)\n",
    "    \n",
    "    first_graph(df)\n",
    "    #second_graph(df)\n",
    "    \n",
    "    \n",
    "if __name__=='__main__':\n",
    "    main()"
   ]
  },
  {
   "cell_type": "code",
   "execution_count": null,
   "metadata": {
    "collapsed": true
   },
   "outputs": [],
   "source": []
  },
  {
   "cell_type": "code",
   "execution_count": null,
   "metadata": {
    "collapsed": true
   },
   "outputs": [],
   "source": []
  }
 ],
 "metadata": {
  "kernelspec": {
   "display_name": "Python 2",
   "language": "python",
   "name": "python2"
  },
  "language_info": {
   "codemirror_mode": {
    "name": "ipython",
    "version": 2
   },
   "file_extension": ".py",
   "mimetype": "text/x-python",
   "name": "python",
   "nbconvert_exporter": "python",
   "pygments_lexer": "ipython2",
   "version": "2.7.10"
  }
 },
 "nbformat": 4,
 "nbformat_minor": 0
}
