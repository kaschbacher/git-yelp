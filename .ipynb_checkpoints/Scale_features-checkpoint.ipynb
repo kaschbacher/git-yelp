{
 "cells": [
  {
   "cell_type": "code",
   "execution_count": null,
   "metadata": {
    "collapsed": true
   },
   "outputs": [],
   "source": [
    "def sci_minmax(df_col):\n",
    "   minmax_scale = pp.MinMaxScaler(feature_range=(0, 1), copy=True)\n",
    "   minmax_scale_fit = minmax_scale.fit(df_col)\n",
    "   return minmax_scale_fit.transform(df_col), minmax_scale_fit\n",
    "\n",
    "\n",
    "def pp_standard_scaler(X):\n",
    "   standard_scale = pp.StandardScaler()\n",
    "   standard_scale_fit = standard_scale.fit(X)\n",
    "   return standard_scale_fit.transform(X), standard_scale_fit\n",
    "\n",
    "\n",
    "def scale_features(df):\n",
    "   df_prescaled = df.copy().astype(float)\n",
    "   df_scaled = df_prescaled.copy()\n",
    "   features = list(df.columns.values)\n",
    "   #prescale the features\n",
    "   prescaled, minmax_scale_fit = sci_minmax(df_scaled[features])\n",
    "   #Center feature values around zero and make them all have variance on the same order.\n",
    "   df_scaled_array, standard_scale_fit = pp_standard_scaler(prescaled)\n",
    "   df_scaled = pd.DataFrame(df_scaled_array, columns = features)\n",
    "   index_col = df.index\n",
    "   df_scaled.set_index(index_col, inplace = True)\n",
    "   return df_scaled, features, minmax_scale_fit, standard_scale_fit"
   ]
  }
 ],
 "metadata": {
  "kernelspec": {
   "display_name": "Python 2",
   "language": "python",
   "name": "python2"
  },
  "language_info": {
   "codemirror_mode": {
    "name": "ipython",
    "version": 2
   },
   "file_extension": ".py",
   "mimetype": "text/x-python",
   "name": "python",
   "nbconvert_exporter": "python",
   "pygments_lexer": "ipython2",
   "version": "2.7.10"
  }
 },
 "nbformat": 4,
 "nbformat_minor": 0
}
