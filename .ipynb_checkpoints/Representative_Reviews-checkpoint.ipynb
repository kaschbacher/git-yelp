{
 "cells": [
  {
   "cell_type": "code",
   "execution_count": 17,
   "metadata": {
    "collapsed": false
   },
   "outputs": [],
   "source": [
    "# Select the review that bests represents a given topic\n",
    "# Select the business with the highest proportion of a given topic\n",
    "\n",
    "import cPickle as pickle\n",
    "from gensim import corpora, models, similarities, utils\n",
    "import numpy as np\n",
    "import pandas as pd\n",
    "from KAsql import query_SQL\n",
    "import pyLDAvis.gensim\n",
    "import pyLDAvis"
   ]
  },
  {
   "cell_type": "code",
   "execution_count": 18,
   "metadata": {
    "collapsed": false
   },
   "outputs": [
    {
     "data": {
      "text/html": [
       "<div style=\"max-height:1000px;max-width:1500px;overflow:auto;\">\n",
       "<table border=\"1\" class=\"dataframe\">\n",
       "  <thead>\n",
       "    <tr style=\"text-align: right;\">\n",
       "      <th></th>\n",
       "      <th>1</th>\n",
       "      <th>2</th>\n",
       "      <th>3</th>\n",
       "      <th>4</th>\n",
       "      <th>5</th>\n",
       "      <th>6</th>\n",
       "      <th>7</th>\n",
       "      <th>8</th>\n",
       "      <th>9</th>\n",
       "      <th>10</th>\n",
       "    </tr>\n",
       "    <tr>\n",
       "      <th>BID</th>\n",
       "      <th></th>\n",
       "      <th></th>\n",
       "      <th></th>\n",
       "      <th></th>\n",
       "      <th></th>\n",
       "      <th></th>\n",
       "      <th></th>\n",
       "      <th></th>\n",
       "      <th></th>\n",
       "      <th></th>\n",
       "    </tr>\n",
       "  </thead>\n",
       "  <tbody>\n",
       "    <tr>\n",
       "      <th>189</th>\n",
       "      <td>0.026678</td>\n",
       "      <td>0.222100</td>\n",
       "      <td>0.016266</td>\n",
       "      <td>0.120362</td>\n",
       "      <td>0.126442</td>\n",
       "      <td>0.149261</td>\n",
       "      <td>0.026810</td>\n",
       "      <td>0.051409</td>\n",
       "      <td>0.113959</td>\n",
       "      <td>0.146712</td>\n",
       "    </tr>\n",
       "    <tr>\n",
       "      <th>190</th>\n",
       "      <td>0.060923</td>\n",
       "      <td>0.143381</td>\n",
       "      <td>0.022829</td>\n",
       "      <td>0.057863</td>\n",
       "      <td>0.090280</td>\n",
       "      <td>0.131948</td>\n",
       "      <td>0.098921</td>\n",
       "      <td>0.175391</td>\n",
       "      <td>0.049655</td>\n",
       "      <td>0.168808</td>\n",
       "    </tr>\n",
       "    <tr>\n",
       "      <th>191</th>\n",
       "      <td>0.041454</td>\n",
       "      <td>0.253812</td>\n",
       "      <td>0.043703</td>\n",
       "      <td>0.061581</td>\n",
       "      <td>0.110030</td>\n",
       "      <td>0.054151</td>\n",
       "      <td>0.136972</td>\n",
       "      <td>0.154059</td>\n",
       "      <td>0.064457</td>\n",
       "      <td>0.079781</td>\n",
       "    </tr>\n",
       "    <tr>\n",
       "      <th>192</th>\n",
       "      <td>0.073466</td>\n",
       "      <td>0.077338</td>\n",
       "      <td>0.137567</td>\n",
       "      <td>0.154810</td>\n",
       "      <td>0.134146</td>\n",
       "      <td>0.125238</td>\n",
       "      <td>0.036700</td>\n",
       "      <td>0.038520</td>\n",
       "      <td>0.070588</td>\n",
       "      <td>0.151628</td>\n",
       "    </tr>\n",
       "    <tr>\n",
       "      <th>193</th>\n",
       "      <td>0.096313</td>\n",
       "      <td>0.178394</td>\n",
       "      <td>0.068506</td>\n",
       "      <td>0.080365</td>\n",
       "      <td>0.058381</td>\n",
       "      <td>0.103825</td>\n",
       "      <td>0.223467</td>\n",
       "      <td>0.079842</td>\n",
       "      <td>0.075387</td>\n",
       "      <td>0.035520</td>\n",
       "    </tr>\n",
       "  </tbody>\n",
       "</table>\n",
       "</div>"
      ],
      "text/plain": [
       "           1         2         3         4         5         6         7   \\\n",
       "BID                                                                         \n",
       "189  0.026678  0.222100  0.016266  0.120362  0.126442  0.149261  0.026810   \n",
       "190  0.060923  0.143381  0.022829  0.057863  0.090280  0.131948  0.098921   \n",
       "191  0.041454  0.253812  0.043703  0.061581  0.110030  0.054151  0.136972   \n",
       "192  0.073466  0.077338  0.137567  0.154810  0.134146  0.125238  0.036700   \n",
       "193  0.096313  0.178394  0.068506  0.080365  0.058381  0.103825  0.223467   \n",
       "\n",
       "           8         9         10  \n",
       "BID                                \n",
       "189  0.051409  0.113959  0.146712  \n",
       "190  0.175391  0.049655  0.168808  \n",
       "191  0.154059  0.064457  0.079781  \n",
       "192  0.038520  0.070588  0.151628  \n",
       "193  0.079842  0.075387  0.035520  "
      ]
     },
     "execution_count": 18,
     "metadata": {},
     "output_type": "execute_result"
    }
   ],
   "source": [
    "# Load df\n",
    "\n",
    "lda = pickle.load(open('lda.p','rb'))\n",
    "ids_gammas_df = pickle.load(open('ids_gammas_df.p', 'rb'))#actually np array until I rerun NLP_all_reviews-LDA\n",
    "bid_gmeans = pickle.load(open('bid_gmeans.p', 'rb'))\n",
    "#print\n",
    "bid_gmeans.head(5)"
   ]
  },
  {
   "cell_type": "code",
   "execution_count": 9,
   "metadata": {
    "collapsed": false
   },
   "outputs": [],
   "source": [
    "#lda.print_topics()"
   ]
  },
  {
   "cell_type": "code",
   "execution_count": 45,
   "metadata": {
    "collapsed": false
   },
   "outputs": [
    {
     "name": "stdout",
     "output_type": "stream",
     "text": [
      "('index = ', 3594)\n",
      "('RID for that index: ', 4263.0)\n",
      "       RID  BID         1         2         3         4         5         6  \\\n",
      "3594  4263  311  0.000224  0.997986  0.000224  0.000224  0.000224  0.000224   \n",
      "3295  3964  302  0.000230  0.997931  0.000230  0.000230  0.000230  0.000230   \n",
      "3389  4058  304  0.000246  0.997788  0.000246  0.000246  0.000246  0.000246   \n",
      "1289  1958  229  0.000252  0.997733  0.000252  0.000252  0.000252  0.000252   \n",
      "1293  1962  229  0.000256  0.997692  0.000256  0.000256  0.000256  0.000256   \n",
      "\n",
      "             7         8         9        10  \n",
      "3594  0.000224  0.000224  0.000224  0.000224  \n",
      "3295  0.000230  0.000230  0.000230  0.000230  \n",
      "3389  0.000246  0.000246  0.000246  0.000246  \n",
      "1289  0.000252  0.000252  0.000252  0.000252  \n",
      "1293  0.000256  0.000256  0.000256  0.000256  \n",
      "('Review most related to topic ', 2, ': ')\n",
      "((\"Pretty Sure This Wasn't A Corrective Experience, orHow I Was Dumped By Cameron YarbroughAnd Learned It Was All My FaultI was a client of Cameron Yarbrough's for a year and a 12, and, I sensed, a frustrating client.He said, I don't feel effective! several timeswith the exclamation point.Two weeks ago I asked Cameron if he wanted to continue therapy.He reassured me that he did. Thursday I began the session with, I wasn't going to come back but you looked sad. I had a difficult longterm issue. For a few days I considered leaving therapy to free me of itwhich of course it wouldn't.Cameron's whole demeanor changed, he became extremely alert, I didn't know you wanted to leave.That's because I don't.I was confused. I was referring to a feeling from last week, not now.His toneexpression threw me.I could see he wanted to take my remark as an intent to terminate.Cameron didn't ask questions.He didn't ask why I had felt like not coming back.He didn't ask what I meant by ...but you looked sad.We didn't discuss my feelings or thoughts at all.I said, I was, I am..., confused.He started ending it.Listening to him was surreal. I slipped back into feeling that leaving therapy would free me of pain. Talking about it would have helped; therapy triggered emotional flashbacks that felt like being lost in an undertow.Cameron shared his impressions of me: you're so critical and defensive, you scrutinize my words, you don't know how to relate to me, you flatten me out'you statements'; 'I statements' ugly brotherand, clearly hurt, you said it his caring was fake!Cameron is very proud of his caring huge part of his idealized self so I had profoundly offended him.He offered 3 sessions to wrap it up.My head was spinning and I said no. I can't make funeral plans when I haven't processed the death.I was literally born to rejection; going along while Cameron led me out the door came naturally.I followed his lead. I felt hopeless.That was it. I left.I was up all night. At 5 am I sent a text saying:That was disorienting...Last week I felt depressed and like ending therapy, but had a change of heart. I had no plan to end therapy yesterday, but when I told you I had meant to last week you immediately started ending it yourself. I felt shown to the door. I accept it...just wanted you to know my experience.That last line was a mistake, I was confused and minimizing.But I was sure Cameron would respond and we'd work it out.He didn't.I called and asked why.Cameron said that due to my last sentence he didn't think a response was required.disorienting...I had no plan to end therapy...I felt shown to the doorjust on a humane level, really? no response? After no reply to my text I knew Cameron wanted me gone.I felt so sad and stunned by my therapy abruptly ending that I requested those closure sessions even though I wanted to continue.Cameron, in a vm, again offered 3, that's what I think would work on my side now we have 'sides'? but refused to see me at my regular appt because he had already scheduled something in my place. I texted the day after my session that I hadn't planned to end, and Cameron still gave my next appt away; the one I'd had for a year and a 12.Maybe he hadn't, maybe he just said that, hoping that with all these hits I wouldn't return. It worked.Yesterday on the freeway I lost it. I pulled over and cried. I realized Cameron didn't know how devastated I was, so I left a message when I could talk, saying, I feel abandoned and traumatized. First time I ever let him hear me be that vulnerable.His vm in reply says, I can understand that it feels traumatizing to you...and yes, unfortunately I can't meet this week...He reiterated that it had to be next Thursday 9 days away and that he understood how destabilizing this ending was for me. No offer of a phone or Skype session.So he knew how devastated I was.Yes, it's destabilizing that you jumped on one sentence I began a session with to terminate my therapy.It's destabilizing that you didn't ask questions; you just took it and ran.It's destabilizing that you heard how upset I am and still refuse to see me for 9 days.It's destabilizing that you viewed my 'no plan to end' text as not requiring a response and were satisfied to let that be our final communication.I feel like I've been hit by a truck. A manipulative truck.When we spoke on the phone,Cameron quoted me from our last session, I wasn't going to come back... and said to him it meant I wanted to end. I said emphatically, I do not want to end my therapy. Do you want to end it?There was a pause, then very coldly, I don't know. In one session Cameron reassured me he wanted to continue and in the very next he does this. tl;dr went to Cameron for trauma and got it\",),)\n"
     ]
    }
   ],
   "source": [
    "# What reviews best represent a given topic?\n",
    "# Those with the highest gamma-weights on one topic\n",
    "# Revise to print top 3 reviews and see if they are consistent - use them to name the topic\n",
    "\n",
    "#print(ids_gammas_df.head())#Check what df looks like prior to sorting\n",
    "\n",
    "# Sort on a given topic\n",
    "mytopic = 2\n",
    "mysorted = ids_gammas_df.sort(mytopic, axis=0, ascending=False)\n",
    "idx = mysorted.index[0]# get index of top-ranking review for mytopic\n",
    "\n",
    "print('index = ',idx)\n",
    "RID = mysorted.loc[idx]['RID']\n",
    "print('RID for that index: ',RID)#Note that if you replace idx with 0, and print the results, it is not the same\n",
    "#print(mysorted.loc[0]['RID'])# does not work\n",
    "\n",
    "# check that idx and RED, and sorting of topics looks right\n",
    "print(mysorted.head())\n",
    "\n",
    "print('Review most related to topic ',(mytopic),': ')\n",
    "#from KAsql import query_SQL\n",
    "sql = 'SELECT comment FROM review WHERE id='+str(RID)+';'\n",
    "rows = query_SQL(sql)\n",
    "\n",
    "print(rows)"
   ]
  },
  {
   "cell_type": "code",
   "execution_count": null,
   "metadata": {
    "collapsed": true
   },
   "outputs": [],
   "source": [
    "# What reviews best represent a given topic?\n",
    "# Those with the highest gamma-weights on one topic (and the lowest cross-vocality on other topics)\n",
    "\n",
    "#print('Original matrix:',norm_gammas_df.loc[:5,:5])\n",
    "# Sort on a given topic\n",
    "col = 1\n",
    "mysorted = norm_gammas_df.sort(col, axis=0, ascending=False)\n",
    "print('Top 5 documents related to topic ',(col+1),': ')\n",
    "#print(mysorted.loc[:2,:5])\n",
    "idx = mysorted.index[0]\n",
    "print('Index of document with the top score on a given topic (from col): ',idx)\n",
    "\n",
    "# index in the dataframe is not equivalent to id in the review table. 669 is the first ID\n",
    "review_id = str(669+idx)\n",
    "print(review_id)\n",
    "sql = 'SELECT comment FROM review WHERE id='+review_id+';'\n",
    "rows = query_SQL(sql)\n",
    "\n",
    "print(rows)"
   ]
  }
 ],
 "metadata": {
  "kernelspec": {
   "display_name": "Python 2",
   "language": "python",
   "name": "python2"
  },
  "language_info": {
   "codemirror_mode": {
    "name": "ipython",
    "version": 2
   },
   "file_extension": ".py",
   "mimetype": "text/x-python",
   "name": "python",
   "nbconvert_exporter": "python",
   "pygments_lexer": "ipython2",
   "version": "2.7.10"
  }
 },
 "nbformat": 4,
 "nbformat_minor": 0
}
