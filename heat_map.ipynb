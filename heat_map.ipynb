{
 "cells": [
  {
   "cell_type": "code",
   "execution_count": 10,
   "metadata": {
    "collapsed": true
   },
   "outputs": [],
   "source": [
    "import KAsql2 as ka\n",
    "import pandas as pd\n",
    "import numpy as np\n",
    "import seaborn as sns\n",
    "from matplotlib import pyplot as plt\n",
    "\n",
    "%matplotlib inline"
   ]
  },
  {
   "cell_type": "code",
   "execution_count": 11,
   "metadata": {
    "collapsed": true
   },
   "outputs": [],
   "source": [
    "def get_stars():\n",
    "    sql = 'SELECT id, business_id, stars FROM ortho.review;' \n",
    "    rows = ka.query_SQL(sql)# extracts unique yelp_ids\n",
    "    df = pd.DataFrame(np.array(rows),columns=['RID','BID','rstars'])\n",
    "    return df"
   ]
  },
  {
   "cell_type": "code",
   "execution_count": 12,
   "metadata": {
    "collapsed": false
   },
   "outputs": [],
   "source": [
    "def make_bid_star_db(star_df):\n",
    "    # Obtain average Rstar rating (based on scraped reviews) for each doctor (BID)\n",
    "    star_bus_df = star_df.groupby('BID',axis=0).mean()\n",
    "    star_bus_df.drop('RID',axis=1, inplace=True)# the average RID has no meaning\n",
    "    return star_bus_df"
   ]
  },
  {
   "cell_type": "code",
   "execution_count": 13,
   "metadata": {
    "collapsed": false
   },
   "outputs": [],
   "source": [
    "def heat_map_data(star_top_df):\n",
    "    #features = star_top_df.columns[1:]\n",
    "    topics = star_top_df.iloc[10:16,1:]\n",
    "    indices = [int(idx) for idx in topics.index]\n",
    "    topics.index = indices\n",
    "    topics = topics.apply(lambda x: np.round(x,2))\n",
    "    return topics"
   ]
  },
  {
   "cell_type": "code",
   "execution_count": 21,
   "metadata": {
    "collapsed": false
   },
   "outputs": [],
   "source": [
    "def make_heat_map(topics):\n",
    "    sns.set_context(\"talk\")\n",
    "    plt.figure(figsize=(18,3))\n",
    "    ax = sns.heatmap(topics,cmap=\"Blues\")\n",
    "    #ax = sns.heatmap(topics,cmap=\"Blues\",annot=True)# put values inside squares\n",
    "\n",
    "    ax.set_xlabel('Topic Number', fontsize=24)\n",
    "    ax.set_ylabel('Doctors', fontsize=24)\n",
    "    plt.setp([ax.get_xticklabels()],visible=False)\n",
    "    plt.setp([ax.get_yticklabels()],visible=False)\n",
    "    #ax.set_xticklabels(topics.columns, visible=False)\n"
   ]
  },
  {
   "cell_type": "code",
   "execution_count": 22,
   "metadata": {
    "collapsed": true
   },
   "outputs": [],
   "source": [
    "# TRY A CORRELATION PLOT - STARS BY TOPICS\n",
    "\n",
    "#sns.corrplot(star_top_df)\n",
    "#print star_top_df.rstars\n",
    "#star_array = np.asarray(star_top_df.rstars.tolist()\n",
    "#feat = star_top_df.corr()"
   ]
  },
  {
   "cell_type": "code",
   "execution_count": 23,
   "metadata": {
    "collapsed": false
   },
   "outputs": [
    {
     "name": "stdout",
     "output_type": "stream",
     "text": [
      "USE ortho;\n",
      "     RID  BID  rstars\n",
      "0  20406  303       5\n",
      "1  20407  303       5\n",
      "2  20408  303       5\n",
      "       rstars\n",
      "BID          \n",
      "303  4.875000\n",
      "304  4.941176\n",
      "305  4.882353\n"
     ]
    },
    {
     "data": {
      "image/png": "[encoded data removed]",
      "text/plain": [
       "<matplotlib.figure.Figure at 0x10b0948d0>"
      ]
     },
     "metadata": {},
     "output_type": "display_data"
    }
   ],
   "source": [
    "def main():\n",
    "    \"\"\"This function will graph a heat map of topics over doctors (BID) and \n",
    "    (eventually) examine the correlation between stars and topics\n",
    "    If I just want the heatmap, I don't strictly need the stars or the merged df\"\"\"\n",
    "    \n",
    "    # get Rstars from MySQL\n",
    "    star_df = get_stars()#queries MySQL for data\n",
    "    print star_df.head(3)#debug\n",
    "    \n",
    "    # Average over each doctor, drop RID\n",
    "    star_bus_df = make_bid_star_db(star_df)\n",
    "    print star_bus_df.head(3)\n",
    "    \n",
    "    # Load BID-topic weight database as pickled DF\n",
    "    bid_df = pd.read_pickle('bid_tmeans.p')#index of this df is the bid, but can't be indexed by 'BID'\n",
    "    #print bid_df.head(3)\n",
    "    #pd.merge(bid_df,star_bus_df,left_on=BID, right_on=BID, how='inner')# doesn't work\n",
    "    star_top_df = pd.concat([star_bus_df,bid_df],axis=1)\n",
    "    star_top_df.head(3)\n",
    "    \n",
    "    topics = heat_map_data(star_top_df)\n",
    "    make_heat_map(topics)\n",
    "    \n",
    "if __name__==\"__main__\":\n",
    "    main()"
   ]
  },
  {
   "cell_type": "code",
   "execution_count": null,
   "metadata": {
    "collapsed": true
   },
   "outputs": [],
   "source": []
  }
 ],
 "metadata": {
  "kernelspec": {
   "display_name": "Python 2",
   "language": "python",
   "name": "python2"
  },
  "language_info": {
   "codemirror_mode": {
    "name": "ipython",
    "version": 2
   },
   "file_extension": ".py",
   "mimetype": "text/x-python",
   "name": "python",
   "nbconvert_exporter": "python",
   "pygments_lexer": "ipython2",
   "version": "2.7.10"
  }
 },
 "nbformat": 4,
 "nbformat_minor": 0
}
