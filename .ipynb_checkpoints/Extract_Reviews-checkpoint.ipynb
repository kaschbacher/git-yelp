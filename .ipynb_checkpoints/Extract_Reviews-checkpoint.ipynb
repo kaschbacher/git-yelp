{
 "cells": [
  {
   "cell_type": "code",
   "execution_count": 160,
   "metadata": {
    "collapsed": true
   },
   "outputs": [],
   "source": [
    "import urllib\n",
    "import urllib2\n",
    "import oauth2\n",
    "\n",
    "from bs4 import BeautifulSoup\n",
    "import lxml\n",
    "import string\n",
    "import pandas as pd\n",
    "import numpy as np\n",
    "\n",
    "import pymysql\n",
    "#from KAsql import query_SQL"
   ]
  },
  {
   "cell_type": "code",
   "execution_count": 178,
   "metadata": {
    "collapsed": false
   },
   "outputs": [],
   "source": [
    "# class ReturnValue(object):\n",
    "#     # Facilitates returning two values without a tuple or dict. Instead returns a class object\n",
    "#     def __init__(self, html, filename):\n",
    "#         self.html = html\n",
    "#         self.filename = filename\n",
    "#         print(self.filename)"
   ]
  },
  {
   "cell_type": "code",
   "execution_count": 179,
   "metadata": {
    "collapsed": true
   },
   "outputs": [],
   "source": [
    "def get_html(yelp_id):\n",
    "    yelp_url = 'http://www.yelp.com/biz/'+yelp_id\n",
    "    #print(yelp_url)\n",
    "    response = urllib2.urlopen(yelp_url)\n",
    "    html_obj = response.read()\n",
    "    return html_obj"
   ]
  },
  {
   "cell_type": "code",
   "execution_count": 180,
   "metadata": {
    "collapsed": true
   },
   "outputs": [],
   "source": [
    "def save_myhtml(html_filename, html):\n",
    "    # Save the html file\n",
    "    with open(html_filename, 'wb') as f:\n",
    "        f.write(html)"
   ]
  },
  {
   "cell_type": "code",
   "execution_count": 181,
   "metadata": {
    "collapsed": true
   },
   "outputs": [],
   "source": [
    "def format_html(string,int):\n",
    "    # accepts a rating or date and returns a float btw 0.0 and 5.0, or date-string\n",
    "    s = str(string)\n",
    "    s = s.lstrip('[<meta content=\"')\n",
    "    if int==0:\n",
    "        s = float(s[0:3])#star ratings are always 3 characters long\n",
    "    elif int==1:\n",
    "        stop = s.find('\"')#date lengths could vary\n",
    "        s = s[0:stop]\n",
    "    else: \n",
    "        print('Wrong integer given to format_rating. Must be 0 for rating or 1 for date: ',int)\n",
    "    return s"
   ]
  },
  {
   "cell_type": "code",
   "execution_count": 182,
   "metadata": {
    "collapsed": true
   },
   "outputs": [],
   "source": [
    "# not working i don't know why\n",
    "def remove_backslash(review):\n",
    "    #review = review.replace(u'\\xa0','')\n",
    "    review = review.replace(u\"\\\\\",'')#This doesn't seem to work...\n",
    "    review = review.replace(u\"/\",'')\n",
    "    review = review.replace(u\"(\",'')\n",
    "    review = review.replace(u\")\",'')\n",
    "    review = review.replace(u\"-\",'')\n",
    "    review = review.replace(u'\"','')\n",
    "    return review"
   ]
  },
  {
   "cell_type": "code",
   "execution_count": 210,
   "metadata": {
    "collapsed": true
   },
   "outputs": [],
   "source": [
    "def scrape_reviews(html):\n",
    "    \n",
    "    # Save a temporary file - BeautifulSoup was not running well when passed an html object, needs a saved page\n",
    "    html_filename = 'temp.html'\n",
    "    save_myhtml(html_filename, html)\n",
    "    # open the html file/object with beautiful soup\n",
    "    soup = BeautifulSoup(open(html_filename), \"lxml\")\n",
    "\n",
    "    #pp.pprint(ptext)#<class 'bs4.element.ResultSet'>\n",
    "    ptext = soup.find_all('p', {'itemprop': 'description'})\n",
    "    reviews = [ptext[i].get_text() for i in range(0,len(ptext))]\n",
    "    reviews = [filter(lambda x: x in string.printable, review) for review in reviews]\n",
    "    reviews = [remove_backslash(review) for review in reviews]\n",
    "    \n",
    "    # Examples of what the html looks like:\n",
    "    # <meta itemprop=\"ratingValue\" content=\"5.0\">\n",
    "    # <meta itemprop=\"datePublished\" content=\"2013-03-27\">\n",
    "\n",
    "    # R-Stars and Dates: Note that R-stars are integers while B-stars (average of R-stars are rounded to X.5)\n",
    "    rstars =[];rdates=[]# Currently dates aren't going into the master database - no time for that\n",
    "    rstars =[pt.parent.find_all('meta', {'itemprop':'ratingValue'}) for pt in ptext]\n",
    "    rstars =[format_html(rstar,0) for rstar in rstars]\n",
    "    #rdates = [pt.parent.find_all('meta', {'itemprop':'datePublished'}) for pt in ptext]\n",
    "    #rdates =[format_html(rdate,1) for rdate in rdates]\n",
    "\n",
    "    # There's an overall rating on this page I could also get, but it should match bstars, and would therefore be redundant (hopefully)\n",
    "\n",
    "    # Ensure that ratings and reviews are vectors of the same length\n",
    "    if len(rstars)!=len(reviews):\n",
    "        print('Length of rstars and reviews on this page do not match.')\n",
    "        #print('rstars len: ',len(rstars),' reviews len: ',len(reviews))\n",
    "        rmin = min(len(rstars),len(reviews))\n",
    "        rstars = rstars[0,rmin]; reviews = reviews[0,rmin]; rdates = rdates[0,rmin]\n",
    "\n",
    "    #Here I manually verified that the star-ratings, reviews, and dates match up with a few pages\n",
    "#     for i in range(0,len(reviews)):\n",
    "#         print(rstars[i],rdates[i],reviews[i])\n",
    "        \n",
    "    return [rstars], [reviews]"
   ]
  },
  {
   "cell_type": "code",
   "execution_count": 205,
   "metadata": {
    "collapsed": true
   },
   "outputs": [],
   "source": [
    "def query_SQL():\n",
    "    # Get fields from business table that need to be used to populate reviews table (and also are reproduced in reviews table for convenience)\n",
    "    con = False\n",
    "    rows = []\n",
    "    try:\n",
    "        con = pymysql.connect(host='localhost', port=3307, user='root', passwd='', db='ortho')\n",
    "        with con:\n",
    "            cur = con.cursor()\n",
    "            sql = 'USE ortho;'\n",
    "            cur.execute(sql)\n",
    "            #sql = 'SELECT id,term_id,city_id FROM business WHERE yelp_id = \"'+yelp_business_id+'\";' \n",
    "            sql = 'SELECT id, yelp_id, term_id, city_id FROM business;' \n",
    "            #print(sql)\n",
    "            cur.execute(sql)\n",
    "            rows = cur.fetchall()\n",
    "            #print('business id from table: ',rows, type(rows))\n",
    "    except pymysql.Error, e:\n",
    "        print \"Error %d: %s\" % (e.args[0],e.args[1])\n",
    "        sys.exit(1)\n",
    "    finally:\n",
    "        if con:\n",
    "            con.close()\n",
    "    return rows  "
   ]
  },
  {
   "cell_type": "code",
   "execution_count": 206,
   "metadata": {
    "collapsed": true
   },
   "outputs": [],
   "source": [
    "def insert_reviews_SQL(business_id, rstar, review):\n",
    "    con = False\n",
    "    try:\n",
    "        con = pymysql.connect(host='localhost', port=3307, user='root', passwd='', db='yelpdata')\n",
    "        with con:\n",
    "            cur = con.cursor()\n",
    "            #print('inserting into review db')\n",
    "            #print(type(business_id), type(rstar), type(review))\n",
    "            myvalues = \"'\" + str(business_id)+\"',\" + str(rstar) + \",\" + '\"'+review+'\"'\n",
    "            sql = 'INSERT INTO review(business_id,stars,comment) VALUES('+myvalues+')'\n",
    "            #print(sql)\n",
    "            cur.execute(sql)\n",
    "    except pymysql.Error, e:\n",
    "        print \"Error %d: %s\" % (e.args[0],e.args[1])\n",
    "        sys.exit(1)\n",
    "    finally:\n",
    "        if con:\n",
    "            con.close()"
   ]
  },
  {
   "cell_type": "code",
   "execution_count": 218,
   "metadata": {
    "collapsed": false
   },
   "outputs": [
    {
     "name": "stdout",
     "output_type": "stream",
     "text": [
      "([3, 4, 5, 6, 7], ['james-l-chen-md-san-francisco', 'elly-s-laroque-md-san-francisco', 'nicholas-colyvas-md-san-francisco', 'c-benjamin-ma-md-san-francisco', 'irene-minkowsky-md-san-francisco'])\n",
      "\n",
      "  bid                            yelp_id term_id city_id\n",
      "0   3      james-l-chen-md-san-francisco       1       1\n",
      "1   4    elly-s-laroque-md-san-francisco       1       1\n",
      "2   5  nicholas-colyvas-md-san-francisco       1       1\n",
      "3   6     c-benjamin-ma-md-san-francisco       1       1\n",
      "4   7   irene-minkowsky-md-san-francisco       1       1\n",
      "row =  (0, bid                                    3\n",
      "yelp_id    james-l-chen-md-san-francisco\n",
      "term_id                                1\n",
      "city_id                                1\n",
      "Name: 0, dtype: object)\n"
     ]
    },
    {
     "ename": "TypeError",
     "evalue": "cannot concatenate 'str' and 'int' objects",
     "output_type": "error",
     "traceback": [
      "\u001b[0;31m---------------------------------------------------------------------------\u001b[0m",
      "\u001b[0;31mTypeError\u001b[0m                                 Traceback (most recent call last)",
      "\u001b[0;32m<ipython-input-218-82f702a84632>\u001b[0m in \u001b[0;36m<module>\u001b[0;34m()\u001b[0m\n\u001b[1;32m     55\u001b[0m \u001b[0;34m\u001b[0m\u001b[0m\n\u001b[1;32m     56\u001b[0m \u001b[0;32mif\u001b[0m \u001b[0m__name__\u001b[0m \u001b[0;34m==\u001b[0m \u001b[0;34m'__main__'\u001b[0m\u001b[0;34m:\u001b[0m\u001b[0;34m\u001b[0m\u001b[0m\n\u001b[0;32m---> 57\u001b[0;31m     \u001b[0mmain\u001b[0m\u001b[0;34m(\u001b[0m\u001b[0;34m)\u001b[0m\u001b[0;34m\u001b[0m\u001b[0m\n\u001b[0m",
      "\u001b[0;32m<ipython-input-218-82f702a84632>\u001b[0m in \u001b[0;36mmain\u001b[0;34m()\u001b[0m\n\u001b[1;32m     37\u001b[0m     \u001b[0;32mfor\u001b[0m \u001b[0mrow\u001b[0m \u001b[0;32min\u001b[0m \u001b[0mdf\u001b[0m\u001b[0;34m.\u001b[0m\u001b[0miterrows\u001b[0m\u001b[0;34m(\u001b[0m\u001b[0;34m)\u001b[0m\u001b[0;34m:\u001b[0m\u001b[0;34m\u001b[0m\u001b[0m\n\u001b[1;32m     38\u001b[0m         \u001b[0;32mprint\u001b[0m \u001b[0;34m'row = '\u001b[0m\u001b[0;34m,\u001b[0m\u001b[0mrow\u001b[0m\u001b[0;34m\u001b[0m\u001b[0m\n\u001b[0;32m---> 39\u001b[0;31m         \u001b[0mhtml\u001b[0m \u001b[0;34m=\u001b[0m \u001b[0mget_html\u001b[0m\u001b[0;34m(\u001b[0m\u001b[0mrow\u001b[0m\u001b[0;34m[\u001b[0m\u001b[0;36m1\u001b[0m\u001b[0;34m]\u001b[0m\u001b[0;34m)\u001b[0m\u001b[0;31m#yelp_id as argument\u001b[0m\u001b[0;34m\u001b[0m\u001b[0m\n\u001b[0m\u001b[1;32m     40\u001b[0m         \u001b[0mrstars\u001b[0m\u001b[0;34m,\u001b[0m\u001b[0mreviews\u001b[0m \u001b[0;34m=\u001b[0m \u001b[0mscrape_reviews\u001b[0m\u001b[0;34m(\u001b[0m\u001b[0mhtml\u001b[0m\u001b[0;34m)\u001b[0m\u001b[0;34m\u001b[0m\u001b[0m\n\u001b[1;32m     41\u001b[0m         \u001b[0;32mprint\u001b[0m \u001b[0mrstars\u001b[0m\u001b[0;34m,\u001b[0m\u001b[0mreviews\u001b[0m\u001b[0;34m\u001b[0m\u001b[0m\n",
      "\u001b[0;32m<ipython-input-179-7c9e7e79d171>\u001b[0m in \u001b[0;36mget_html\u001b[0;34m(yelp_id)\u001b[0m\n\u001b[1;32m      1\u001b[0m \u001b[0;32mdef\u001b[0m \u001b[0mget_html\u001b[0m\u001b[0;34m(\u001b[0m\u001b[0myelp_id\u001b[0m\u001b[0;34m)\u001b[0m\u001b[0;34m:\u001b[0m\u001b[0;34m\u001b[0m\u001b[0m\n\u001b[0;32m----> 2\u001b[0;31m     \u001b[0myelp_url\u001b[0m \u001b[0;34m=\u001b[0m \u001b[0;34m'http://www.yelp.com/biz/'\u001b[0m\u001b[0;34m+\u001b[0m\u001b[0myelp_id\u001b[0m\u001b[0;34m\u001b[0m\u001b[0m\n\u001b[0m\u001b[1;32m      3\u001b[0m     \u001b[0;31m#print(yelp_url)\u001b[0m\u001b[0;34m\u001b[0m\u001b[0;34m\u001b[0m\u001b[0m\n\u001b[1;32m      4\u001b[0m     \u001b[0mresponse\u001b[0m \u001b[0;34m=\u001b[0m \u001b[0murllib2\u001b[0m\u001b[0;34m.\u001b[0m\u001b[0murlopen\u001b[0m\u001b[0;34m(\u001b[0m\u001b[0myelp_url\u001b[0m\u001b[0;34m)\u001b[0m\u001b[0;34m\u001b[0m\u001b[0m\n\u001b[1;32m      5\u001b[0m     \u001b[0mhtml_obj\u001b[0m \u001b[0;34m=\u001b[0m \u001b[0mresponse\u001b[0m\u001b[0;34m.\u001b[0m\u001b[0mread\u001b[0m\u001b[0;34m(\u001b[0m\u001b[0;34m)\u001b[0m\u001b[0;34m\u001b[0m\u001b[0m\n",
      "\u001b[0;32m/usr/local/lib/python2.7/site-packages/pandas/core/ops.pyc\u001b[0m in \u001b[0;36mwrapper\u001b[0;34m(left, right, name)\u001b[0m\n\u001b[1;32m    530\u001b[0m             \u001b[0;32mif\u001b[0m \u001b[0mhasattr\u001b[0m\u001b[0;34m(\u001b[0m\u001b[0mlvalues\u001b[0m\u001b[0;34m,\u001b[0m \u001b[0;34m'values'\u001b[0m\u001b[0;34m)\u001b[0m\u001b[0;34m:\u001b[0m\u001b[0;34m\u001b[0m\u001b[0m\n\u001b[1;32m    531\u001b[0m                 \u001b[0mlvalues\u001b[0m \u001b[0;34m=\u001b[0m \u001b[0mlvalues\u001b[0m\u001b[0;34m.\u001b[0m\u001b[0mvalues\u001b[0m\u001b[0;34m\u001b[0m\u001b[0m\n\u001b[0;32m--> 532\u001b[0;31m             return left._constructor(wrap_results(na_op(lvalues, rvalues)),\n\u001b[0m\u001b[1;32m    533\u001b[0m                                      \u001b[0mindex\u001b[0m\u001b[0;34m=\u001b[0m\u001b[0mleft\u001b[0m\u001b[0;34m.\u001b[0m\u001b[0mindex\u001b[0m\u001b[0;34m,\u001b[0m \u001b[0mname\u001b[0m\u001b[0;34m=\u001b[0m\u001b[0mleft\u001b[0m\u001b[0;34m.\u001b[0m\u001b[0mname\u001b[0m\u001b[0;34m,\u001b[0m\u001b[0;34m\u001b[0m\u001b[0m\n\u001b[1;32m    534\u001b[0m                                      dtype=dtype)\n",
      "\u001b[0;32m/usr/local/lib/python2.7/site-packages/pandas/core/ops.pyc\u001b[0m in \u001b[0;36mna_op\u001b[0;34m(x, y)\u001b[0m\n\u001b[1;32m    477\u001b[0m                 \u001b[0mresult\u001b[0m \u001b[0;34m=\u001b[0m \u001b[0mnp\u001b[0m\u001b[0;34m.\u001b[0m\u001b[0mempty\u001b[0m\u001b[0;34m(\u001b[0m\u001b[0mlen\u001b[0m\u001b[0;34m(\u001b[0m\u001b[0mx\u001b[0m\u001b[0;34m)\u001b[0m\u001b[0;34m,\u001b[0m \u001b[0mdtype\u001b[0m\u001b[0;34m=\u001b[0m\u001b[0mx\u001b[0m\u001b[0;34m.\u001b[0m\u001b[0mdtype\u001b[0m\u001b[0;34m)\u001b[0m\u001b[0;34m\u001b[0m\u001b[0m\n\u001b[1;32m    478\u001b[0m                 \u001b[0mmask\u001b[0m \u001b[0;34m=\u001b[0m \u001b[0mnotnull\u001b[0m\u001b[0;34m(\u001b[0m\u001b[0mx\u001b[0m\u001b[0;34m)\u001b[0m\u001b[0;34m\u001b[0m\u001b[0m\n\u001b[0;32m--> 479\u001b[0;31m                 \u001b[0mresult\u001b[0m\u001b[0;34m[\u001b[0m\u001b[0mmask\u001b[0m\u001b[0;34m]\u001b[0m \u001b[0;34m=\u001b[0m \u001b[0mop\u001b[0m\u001b[0;34m(\u001b[0m\u001b[0mx\u001b[0m\u001b[0;34m[\u001b[0m\u001b[0mmask\u001b[0m\u001b[0;34m]\u001b[0m\u001b[0;34m,\u001b[0m \u001b[0my\u001b[0m\u001b[0;34m)\u001b[0m\u001b[0;34m\u001b[0m\u001b[0m\n\u001b[0m\u001b[1;32m    480\u001b[0m             \u001b[0;32melse\u001b[0m\u001b[0;34m:\u001b[0m\u001b[0;34m\u001b[0m\u001b[0m\n\u001b[1;32m    481\u001b[0m                 \u001b[0;32mraise\u001b[0m \u001b[0mTypeError\u001b[0m\u001b[0;34m(\u001b[0m\u001b[0;34m\"{typ} cannot perform the operation {op}\"\u001b[0m\u001b[0;34m.\u001b[0m\u001b[0mformat\u001b[0m\u001b[0;34m(\u001b[0m\u001b[0mtyp\u001b[0m\u001b[0;34m=\u001b[0m\u001b[0mtype\u001b[0m\u001b[0;34m(\u001b[0m\u001b[0mx\u001b[0m\u001b[0;34m)\u001b[0m\u001b[0;34m.\u001b[0m\u001b[0m__name__\u001b[0m\u001b[0;34m,\u001b[0m\u001b[0mop\u001b[0m\u001b[0;34m=\u001b[0m\u001b[0mstr_rep\u001b[0m\u001b[0;34m)\u001b[0m\u001b[0;34m)\u001b[0m\u001b[0;34m\u001b[0m\u001b[0m\n",
      "\u001b[0;32m/usr/local/lib/python2.7/site-packages/pandas/core/ops.pyc\u001b[0m in \u001b[0;36m_radd_compat\u001b[0;34m(left, right)\u001b[0m\n\u001b[1;32m    698\u001b[0m     \u001b[0;31m# GH #353, NumPy 1.5.1 workaround\u001b[0m\u001b[0;34m\u001b[0m\u001b[0;34m\u001b[0m\u001b[0m\n\u001b[1;32m    699\u001b[0m     \u001b[0;32mtry\u001b[0m\u001b[0;34m:\u001b[0m\u001b[0;34m\u001b[0m\u001b[0m\n\u001b[0;32m--> 700\u001b[0;31m         \u001b[0moutput\u001b[0m \u001b[0;34m=\u001b[0m \u001b[0mradd\u001b[0m\u001b[0;34m(\u001b[0m\u001b[0mleft\u001b[0m\u001b[0;34m,\u001b[0m \u001b[0mright\u001b[0m\u001b[0;34m)\u001b[0m\u001b[0;34m\u001b[0m\u001b[0m\n\u001b[0m\u001b[1;32m    701\u001b[0m     \u001b[0;32mexcept\u001b[0m \u001b[0mTypeError\u001b[0m\u001b[0;34m:\u001b[0m\u001b[0;34m\u001b[0m\u001b[0m\n\u001b[1;32m    702\u001b[0m         \u001b[0;32mraise\u001b[0m\u001b[0;34m\u001b[0m\u001b[0m\n",
      "\u001b[0;32m/usr/local/lib/python2.7/site-packages/pandas/core/ops.pyc\u001b[0m in \u001b[0;36m<lambda>\u001b[0;34m(x, y)\u001b[0m\n\u001b[1;32m    695\u001b[0m \u001b[0;34m\u001b[0m\u001b[0m\n\u001b[1;32m    696\u001b[0m \u001b[0;32mdef\u001b[0m \u001b[0m_radd_compat\u001b[0m\u001b[0;34m(\u001b[0m\u001b[0mleft\u001b[0m\u001b[0;34m,\u001b[0m \u001b[0mright\u001b[0m\u001b[0;34m)\u001b[0m\u001b[0;34m:\u001b[0m\u001b[0;34m\u001b[0m\u001b[0m\n\u001b[0;32m--> 697\u001b[0;31m     \u001b[0mradd\u001b[0m \u001b[0;34m=\u001b[0m \u001b[0;32mlambda\u001b[0m \u001b[0mx\u001b[0m\u001b[0;34m,\u001b[0m \u001b[0my\u001b[0m\u001b[0;34m:\u001b[0m \u001b[0my\u001b[0m \u001b[0;34m+\u001b[0m \u001b[0mx\u001b[0m\u001b[0;34m\u001b[0m\u001b[0m\n\u001b[0m\u001b[1;32m    698\u001b[0m     \u001b[0;31m# GH #353, NumPy 1.5.1 workaround\u001b[0m\u001b[0;34m\u001b[0m\u001b[0;34m\u001b[0m\u001b[0m\n\u001b[1;32m    699\u001b[0m     \u001b[0;32mtry\u001b[0m\u001b[0;34m:\u001b[0m\u001b[0;34m\u001b[0m\u001b[0m\n",
      "\u001b[0;31mTypeError\u001b[0m: cannot concatenate 'str' and 'int' objects"
     ]
    }
   ],
   "source": [
    "def main():\n",
    "    \n",
    "    #from ortho.business, returns: id, yelp_id, term_id, city_id (tuple in a tuple)\n",
    "    rows = query_SQL()#response is shape rev# x 4\n",
    "    #print rows[0][:]\n",
    "    \n",
    "    # UNPACK ROWS - no matter which order you place these indices, if one is a : it will give you everything in the row indexed by the number you gave \n",
    "    bid=[];yid=[];tid=[];cid=[];\n",
    "    for row in rows:\n",
    "        #print row[0],row[1],row[2]\n",
    "        bid.append(row[0])\n",
    "        yid.append(row[1])\n",
    "        tid.append(row[2])\n",
    "        cid.append(row[3])\n",
    "    print(bid[:5],yid[:5])\n",
    "    \n",
    "    # Make Pandas DataFrame\n",
    "    df = pd.DataFrame([bid,yid,tid,cid]).transpose()\n",
    "    df.columns=['bid','yelp_id','term_id','city_id']\n",
    "    print '\\n',df.head(5)\n",
    "    \n",
    "    # Save a temporary html file: soup breaks if you pass it html obj\n",
    "#     htmls =[]; html_filenames=[];\n",
    "#     htmls = [get_html(id) for id in yid[:3]]\n",
    "    #html_filenames = [(id +'.html') for id in yid[:3]]\n",
    "    #print html_filenames\n",
    "    \n",
    "#     temp = 'james-l-chen-md-san-francisco'\n",
    "#     html = get_html(temp)\n",
    "    #save_myhtml(html_filename, html)\n",
    "    \n",
    "    #for i in range(0,df.shape[0]):# loop over each business\n",
    "    #for i in range(0,3):# for debugging: loop over 1 business\n",
    "        \n",
    "    #Get reviews & their stars - Beautiful Soup scrape\n",
    "    html_filename = 'temp.html'#I don't want to keep all the html files in my folder, but I need a replacable saved file in order for Beautiful Soup to work correctly\n",
    "    for row in df.loc[0:3,:]\n",
    "        print 'row = ',row\n",
    "        html = get_html(row[1])#yelp_id as argument\n",
    "        save_myhtml(html_filename, html)\n",
    "        rstars,reviews = scrape_reviews(html)\n",
    "        print rstars,reviews\n",
    "        #print('SQL review input: ',business_id[0], rstars[0][i],reviews[0][i[:10]])\n",
    "        #insert_reviews_SQL(business_id[0][0], rstars[0][i], reviews[0][i])\n",
    "        \n",
    "        \n",
    "    #for i in range(0,np.shape(rstars)[1]):#np.shape of rstars is (1,40)\n",
    "    #for i in range(0,1):#np.shape of rstars is (1,40)\n",
    "        #print('SQL review input: ',business_id[0], rstars[0][i],reviews[0][i[:10]])\n",
    "        #insert_reviews_SQL(business_id[0][0], rstars[0][i], reviews[0][i])\n",
    "            \n",
    "            #x = np.asarray([[business_id]*40]).T\n",
    "            #df = pd.DataFrame(rstars,reviews)\n",
    "            #print(df)\n",
    "\n",
    "#         DEGUGGING CODE ONLY\n",
    "#         temp_url = 'total-care-plus-san-francisco.html'\n",
    "#         temp_url = 'dan-kalshan-md-san-francisco-2.html'\n",
    "    \n",
    "if __name__ == '__main__':\n",
    "    main()"
   ]
  },
  {
   "cell_type": "code",
   "execution_count": null,
   "metadata": {
    "collapsed": true
   },
   "outputs": [],
   "source": []
  }
 ],
 "metadata": {
  "kernelspec": {
   "display_name": "Python 2",
   "language": "python",
   "name": "python2"
  },
  "language_info": {
   "codemirror_mode": {
    "name": "ipython",
    "version": 2
   },
   "file_extension": ".py",
   "mimetype": "text/x-python",
   "name": "python",
   "nbconvert_exporter": "python",
   "pygments_lexer": "ipython2",
   "version": "2.7.10"
  }
 },
 "nbformat": 4,
 "nbformat_minor": 0
}
