{
 "cells": [
  {
   "cell_type": "code",
   "execution_count": 2,
   "metadata": {
    "collapsed": false
   },
   "outputs": [
    {
     "ename": "SyntaxError",
     "evalue": "'return' outside function (<ipython-input-2-74ed19807605>, line 9)",
     "output_type": "error",
     "traceback": [
      "\u001b[0;36m  File \u001b[0;32m\"<ipython-input-2-74ed19807605>\"\u001b[0;36m, line \u001b[0;32m9\u001b[0m\n\u001b[0;31m    return\u001b[0m\n\u001b[0;31mSyntaxError\u001b[0m\u001b[0;31m:\u001b[0m 'return' outside function\n"
     ]
    }
   ],
   "source": [
    "import oauth2\n",
    "\n",
    "class keys():\n",
    "    # OAuth credential placeholders that must be filled in by users.\n",
    "    CONSUMER_KEY = 'sN1u58mMljgThGKGwXS8tw'\n",
    "    CONSUMER_SECRET = 'NT7JYxw2VJ3q0INTbZEgyS7SQ0I'\n",
    "    TOKEN = 'a7V4mk5UGIuECu_MMrQxALvbsUSQsHrX'\n",
    "    TOKEN_SECRET = 'H5r3RQRjOSPL7IgnuSBfvSZxoJU'"
   ]
  },
  {
   "cell_type": "code",
   "execution_count": null,
   "metadata": {
    "collapsed": true
   },
   "outputs": [],
   "source": []
  }
 ],
 "metadata": {
  "kernelspec": {
   "display_name": "Python 2",
   "language": "python",
   "name": "python2"
  },
  "language_info": {
   "codemirror_mode": {
    "name": "ipython",
    "version": 2
   },
   "file_extension": ".py",
   "mimetype": "text/x-python",
   "name": "python",
   "nbconvert_exporter": "python",
   "pygments_lexer": "ipython2",
   "version": "2.7.10"
  }
 },
 "nbformat": 4,
 "nbformat_minor": 0
}
