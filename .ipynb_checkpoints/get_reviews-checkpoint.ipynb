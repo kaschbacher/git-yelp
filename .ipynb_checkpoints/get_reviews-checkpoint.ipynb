{
 "cells": [
  {
   "cell_type": "code",
   "execution_count": 7,
   "metadata": {
    "collapsed": false
   },
   "outputs": [],
   "source": [
    "import urllib2\n",
    "from bs4 import BeautifulSoup\n",
    "import pprint as pp\n",
    "import lxml\n",
    "\n",
    "# Given a business id, save the html page with the reviews on it\n",
    "# note, only gets 40 reviews at a time; you have to call another page to get the rest\n",
    "\n",
    "# Try several pages to test robustness\n",
    "#yelp_url = 'http://www.yelp.com/biz/rebecca-yee-md-san-francisco-2'\n",
    "#yelp_url = 'http://www.yelp.com/biz/david-shu-md-san-francisco'\n",
    "yelp_url = 'http://www.yelp.com/biz/marilyn-m-kutzscher-md-san-francisco'\n",
    "page2 = yelp_url+'?start=40'\n",
    "response = urllib2.urlopen(yelp_url)\n",
    "html = response.read()\n",
    "#print(html)"
   ]
  },
  {
   "cell_type": "code",
   "execution_count": 8,
   "metadata": {
    "collapsed": false
   },
   "outputs": [
    {
     "name": "stdout",
     "output_type": "stream",
     "text": [
      "Saved html.\n"
     ]
    }
   ],
   "source": [
    "# Save the html file\n",
    "\n",
    "#You can debug/ validate using an html page saved to disk\n",
    "filename = yelp_url[24:] +'.html'\n",
    "print(filename)\n",
    "with open(filename, 'wb') as f:\n",
    "    f.write(html)\n",
    "    print 'Saved html.'"
   ]
  },
  {
   "cell_type": "code",
   "execution_count": 9,
   "metadata": {
    "collapsed": true
   },
   "outputs": [],
   "source": [
    "def format_html(string,int):\n",
    "    # accepts a rating or date and returns a float btw 0.0 and 5.0, or date-string\n",
    "    s = str(string)\n",
    "    s = s.lstrip('[<meta content=\"')\n",
    "    if int==0:\n",
    "        s = float(s[0:3])#star ratings are always 3 characters long\n",
    "    elif int==1:\n",
    "        stop = s.find('\"')#date lengths could vary\n",
    "        s = s[0:stop]\n",
    "    else: \n",
    "        print('Wrong integer given to format_rating. Must be 0 for rating or 1 for date: ',int)\n",
    "    return s"
   ]
  },
  {
   "cell_type": "code",
   "execution_count": 17,
   "metadata": {
    "collapsed": false
   },
   "outputs": [
    {
     "name": "stdout",
     "output_type": "stream",
     "text": [
      "(5.0, '2013-06-25', ':', u\"She is not my doctor...but I wish she was!If her office wasn't so far from where I work and live I would change over in a heartbeat.My primary care physician was out of the office and Ms. Kutzscher was on call for them..I was experiencing extreme amounts of pain after a recent diagnosis.. Talking to doctor Kutzscher on the phone revealed that I was taking the incorrect dosage amount (which I was never informed of by my doctor) and that I needed to increase the amount so I could get over the sickness faster. While talking to her, I felt totally at ease, she was extremely understanding, caring and offered to see me if I didn't feel better the next day! Thank you doctor :) I feel much better.\", '\\n')\n",
      "(1.0, '2014-07-03', ':', u'I echo the sentiments of the person complaining about the office staff. \\xa0Dr. Kutzscher please FIRE your gate keeper. \\xa0The person I spoke to was rude and aloof and she basically could not be bothered with my questions or concerns.You may be a competent physician but your administrative help is from Middle Earth!', '\\n')\n",
      "(5.0, '2014-05-21', ':', u\"Marilyn Kutscher has been my primary care physician for over 30 years, almost since she's been out of medical school and I can't recommend her highly enough. Not only is she a great doctor, she's a wonderful person who has always been compassionate and personal with me and made me feel taken care of like I am family. \\xa0Her new concierge practice is full, but get on a waiting list if you can, she is worth the wait! She's the best!\", '\\n')\n",
      "(5.0, '2010-05-14', ':', u'UPDATE: \\xa0Am told she has taken a leave of absence??? \\xa0 Not \\xa0sure what happened, if anyone knows, please message me. \\xa0JOHN', '\\n')\n",
      "(5.0, '2012-01-27', ':', u'I always loved the care Dr. K gave me, but I used to resent the way her office was run. \\xa0She\\'s now in a different office and it all is easy breezy. \\xa0Lovely front office person, Angela, who always calls back in a timely fashion and handles everything with grace. \\xa0 \\xa0Ditto for the nurses I\\'ve interacted with and Dr. K, as always is engaged, and thorough. \\xa0She puts the \"care\" in caring for her patients. \\xa0Did I really say that? \\xa0I\\'ll cop to it. \\xa0I did and she does.', '\\n')\n",
      "(5.0, '2012-06-20', ':', u'I am I Kaiser member yet still go and see Dr. K all the time for real help ... she is the BEST doctor in SF and I am grateful she will still see me ...', '\\n')\n",
      "(5.0, '2010-09-09', ':', u\"Yea!!! \\xa0Dr. Kutzscher is back in practice. \\xa0She took time off to care for her daughter. \\xa0Even doctors have real lives.Her new office is 1375 Sutter Street, suite 308. \\xa0Her phone number is 415.600.0140. \\xa0She's back and better than ever. \\xa0She's been my doctor for almost 20 years and to me like family.\", '\\n')\n",
      "(5.0, '2008-03-20', ':', u'Dr. Kutzscher is an amazing doctor. I was having problems with inflammation in my legs and saw a few doctors who told me it was an undiagnosed autoimmune disorder and put me on all kinds of medication which only made me incredibly sick. She listened to what I had told all of the other doctors and then sent me for a spinal x-ray which showed I had a spine cord compression. I am now feeling far better than I have in seven years.If you want a gifted doctor who takes the time to listen then you want Dr. Kutzscher!', '\\n')\n",
      "(5.0, '2011-04-26', ':', u'You could travel the world over and not find a better practicing physician than Marilyn Kutzscher. Not only is she an outstanding physician with a very compassionate nature, but she is someone who knows other great physicians to refer you to when you need a specialist. \\xa0If she does refer you to a specialist, she does not abandon you with them, instead she stays on top of your case as though she were right there. Should you be wise enough to choose doctor Kutzscher, do not lose hope if you get an appointment for a date later than you hoped for. Her staff is very good at filling you in when (and there always are) cancellations. I just had an \"earliest appointment\" that was six weeks out. Here we are, six days later and I am off to see Dr. K......She is a very genuine human being as well as being a very fine physician.David Judd', '\\n')\n",
      "(5.0, '2010-04-13', ':', u\"Dr. K. has been my PCP (Primary Care Physician) for over 10 years in an HMO context. \\xa0She never fails to spend as much time with me as I need. \\xa0She never fails to provide amazing refferals to other doctors and specialists. \\xa0In general, she is just amazing. \\xa0I don't think you could find a better physcian.\", '\\n')\n",
      "(4.0, '2010-08-10', ':', u\"An excellent, thorough doctor. Yes, the office is seems disorganized. But once you're in the exam room, you'll be in good hands. Her colleague, Dr. Jesse Doehmann is good too.\", '\\n')\n",
      "(5.0, '2012-03-27', ':', u'Dr. Kutzscher is an awesome doctor. She takes the best care of her patients. She is always easy to get a message to and always returned calls when you have questions. I was referred to her many years ago from my pulmonary specialist when I was living in San Francisco. Since then both my sister and husband see her and she even saw my sister who was visiting from Spain when she needed some urgent care. She really cares about her patients and wants to help. I have been living in the Half Moon Bay area for 15 years and she continues to be my doctor of choice. As long as she is in practice she will be my choice! She is a fantastic doctor and person.', '\\n')\n",
      "(5.0, '2010-01-20', ':', u\"Dr Kutzscher is very professional, sincere, and competent. \\xa0She's a great listener and offers very good advice and solutions. \\xa0If she's accepting new patients, I highly recommend seeing her.\", '\\n')\n",
      "(5.0, '2009-10-08', ':', u\"Dr. Kutzscher has been my general physician for almost 15 years and I wouldn't think of going to anyone else as long as she is available. \\xa0She is highly intelligent, competent and focussed. \\xa0She listens carefully and gives thoughtful, knowledgeable answers. Her referrals to other doctors are valuable. \\xa0She is also friendly and warm, just a lovely human being. She manages somehow to make me feel that I'm not being rushed while while not wasting her valuable medical time.\", '\\n')\n",
      "(5.0, '2008-07-15', ':', u\"Dr. Marilyn is the BEST doctor ever. She is very attentive, has the most incredible bedside manner and goes over and above to take the best care of her patients. She is incredibly bright, a quick thinker on her feet, has a great personality and when she is with you for your appointment, you have her undivided full attention. It's as if you are the most important thing to her. The world is most defintely a better place with Dr. Kutzscher in it.\", '\\n')\n",
      "(5.0, '2007-11-18', ':', u\"Dr Kutzscher has been my doc for over a decade. She's compassionate, communicative & an amazing diagnostician.\", '\\n')\n",
      "(5.0, '2009-01-09', ':', u\"As you can tell Dr. Marilyn Kutzscher is loved by her patients because she is simply the best you can get for an internist. \\xa0Funny, smart, caring, compassionate, eager to help and serve, incredibly great diagnostician, you name it, she is a GREAT doctor! \\xa0She's been my internist now for twenty years and she's consistent over two decades as well. \\xa0This is somewhat a moot point as she doesn't take new patients. \\xa0This is because her existing patients, due to her care and knowledge, appear to live forever.\", '\\n')\n",
      "(5.0, '2008-04-07', ':', u'I heartily second the rave reviews. \\xa0Dr. Kutzscher deserves them and more--at least 10 stars. \\xa0She always spends a good amount of time talking with you to understand what is going on--emotionally and physically, which is regretfully why one has to wait in the exam room. \\xa0Though I choose the wait over an inattentive doctor that just wants to rush you through. \\xa0When I was going through an incredibly rough period, she was ready to share her own life experiences, which is rare to find in a doctor.', '\\n')\n"
     ]
    }
   ],
   "source": [
    "# open the html file/object with beautiful soup\n",
    "\n",
    "soup = BeautifulSoup(open(filename))\n",
    "\n",
    "#pp.pprint(ptext)#<class 'bs4.element.ResultSet'>\n",
    "ptext = soup.find_all('p', {'itemprop': 'description'})\n",
    "reviews = [ptext[i].get_text() for i in range(0,len(ptext))]\n",
    "\n",
    "# Examples of what the html looks like:\n",
    "#<meta itemprop=\"ratingValue\" content=\"5.0\">\n",
    "# <meta itemprop=\"datePublished\" content=\"2013-03-27\">\n",
    "\n",
    "rstars =[];rdates=[]\n",
    "rstars = [pt.parent.find_all('meta', {'itemprop':'ratingValue'}) for pt in ptext]\n",
    "rdates = [pt.parent.find_all('meta', {'itemprop':'datePublished'}) for pt in ptext]\n",
    "rstars =[format_html(rstar,0) for rstar in rstars]\n",
    "rdates =[format_html(rdate,1) for rdate in rdates]\n",
    "\n",
    "# There's an overall rating on this page I could also get, but it should match bstars\n",
    "\n",
    "# Ensure that ratings and reviews are vectors of the same length\n",
    "if len(rstars)!=len(reviews):\n",
    "    print('Length of rstars and reviews for ',yelp_url[24:],' on this page do not match.')\n",
    "    print('rstars len: ',len(rstars),' reviews len: ',len(reviews))\n",
    "    rmin = min(len(rstars),len(reviews))\n",
    "    rstars = rstars[0,rmin]; reviews = reviews[0,rmin]; rdates = rdates[0,rmin]\n",
    "\n",
    "#Here I manually verified that the star-ratings, reviews, and dates match up with a few pages\n",
    "for i in range(0,len(reviews)):\n",
    "    print(rstars[i],rdates[i],':',reviews[i],'\\n')"
   ]
  },
  {
   "cell_type": "code",
   "execution_count": null,
   "metadata": {
    "collapsed": true
   },
   "outputs": [],
   "source": []
  }
 ],
 "metadata": {
  "kernelspec": {
   "display_name": "Python 2",
   "language": "python",
   "name": "python2"
  },
  "language_info": {
   "codemirror_mode": {
    "name": "ipython",
    "version": 2
   },
   "file_extension": ".py",
   "mimetype": "text/x-python",
   "name": "python",
   "nbconvert_exporter": "python",
   "pygments_lexer": "ipython2",
   "version": "2.7.10"
  }
 },
 "nbformat": 4,
 "nbformat_minor": 0
}
