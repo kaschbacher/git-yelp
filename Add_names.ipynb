{
 "cells": [
  {
   "cell_type": "code",
   "execution_count": 87,
   "metadata": {
    "collapsed": false
   },
   "outputs": [],
   "source": [
    "import pymysql\n",
    "import pandas as pd\n",
    "import KAsql2 as ka\n",
    "import cPickle as pickle\n",
    "import numpy as np"
   ]
  },
  {
   "cell_type": "code",
   "execution_count": 88,
   "metadata": {
    "collapsed": true
   },
   "outputs": [],
   "source": [
    "def get_names():\n",
    "    sql = 'SELECT id,yelp_id FROM business;' \n",
    "    rows = ka.query_SQL(sql)# extracts unique yelp_ids\n",
    "    df = pd.DataFrame(np.array(rows),columns=['BID','yelp_id'])\n",
    "    return df"
   ]
  },
  {
   "cell_type": "code",
   "execution_count": 122,
   "metadata": {
    "collapsed": false
   },
   "outputs": [
    {
     "name": "stdout",
     "output_type": "stream",
     "text": [
      "USE ortho;\n",
      "   BID                            yelp_id                              names\n",
      "0  303      james-l-chen-md-san-francisco      james l chen md san francisco\n",
      "1  304    elly-s-laroque-md-san-francisco    elly s laroque md san francisco\n",
      "2  305  nicholas-colyvas-md-san-francisco  nicholas colyvas md san francisco\n",
      "3  306     c-benjamin-ma-md-san-francisco     c benjamin ma md san francisco\n",
      "4  307   irene-minkowsky-md-san-francisco   irene minkowsky md san francisco\n"
     ]
    }
   ],
   "source": [
    "names_df = get_names()\n",
    "\n",
    "f = lambda id_string: id_string.replace('-', ' ')\n",
    "names_df['names'] = names_df['yelp_id'].apply(f)  \n",
    "print names_df.head() "
   ]
  },
  {
   "cell_type": "code",
   "execution_count": 123,
   "metadata": {
    "collapsed": false
   },
   "outputs": [],
   "source": [
    "#path = '/Users/kaschbacher/insightproject/yelp/git-yelp'\n",
    "names_df.to_pickle('names_df.p')\n"
   ]
  }
 ],
 "metadata": {
  "kernelspec": {
   "display_name": "Python 2",
   "language": "python",
   "name": "python2"
  },
  "language_info": {
   "codemirror_mode": {
    "name": "ipython",
    "version": 2
   },
   "file_extension": ".py",
   "mimetype": "text/x-python",
   "name": "python",
   "nbconvert_exporter": "python",
   "pygments_lexer": "ipython2",
   "version": "2.7.10"
  }
 },
 "nbformat": 4,
 "nbformat_minor": 0
}
