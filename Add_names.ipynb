{
 "cells": [
  {
   "cell_type": "code",
   "execution_count": 1,
   "metadata": {
    "collapsed": false
   },
   "outputs": [],
   "source": [
    "import pymysql\n",
    "import pandas as pd\n",
    "import KAsql2 as ka\n",
    "import cPickle as pickle\n",
    "import numpy as np"
   ]
  },
  {
   "cell_type": "code",
   "execution_count": 2,
   "metadata": {
    "collapsed": true
   },
   "outputs": [],
   "source": [
    "def get_names():\n",
    "    sql = 'SELECT id,yelp_id FROM business;' \n",
    "    rows = ka.query_SQL(sql)# extracts unique yelp_ids\n",
    "    df = pd.DataFrame(np.array(rows),columns=['BID','yelp_id'])\n",
    "    return df"
   ]
  },
  {
   "cell_type": "code",
   "execution_count": 30,
   "metadata": {
    "collapsed": false
   },
   "outputs": [
    {
     "name": "stdout",
     "output_type": "stream",
     "text": [
      "USE ortho;\n",
      "     BID                                     yelp_id  \\\n",
      "282  607                 belcher-gregory-md-saratoga   \n",
      "283  608                       wall-michael-san-jose   \n",
      "284  609              anderson-jeffrey-j-md-san-jose   \n",
      "285  611             michael-w-cluck-md-phd-san-jose   \n",
      "286  614  u-s-healthworks-medical-group-union-city-2   \n",
      "\n",
      "                                          names  \n",
      "282                 belcher gregory md saratoga  \n",
      "283                       wall michael san jose  \n",
      "284              anderson jeffrey j md san jose  \n",
      "285             michael w cluck md phd san jose  \n",
      "286  u s healthworks medical group union city 2  \n"
     ]
    }
   ],
   "source": [
    "names_df = get_names()\n",
    "\n",
    "f = lambda id_string: id_string.replace('-', ' ')\n",
    "names_df['names'] = names_df['yelp_id'].apply(f)  \n",
    "\n",
    "# f = lambda id_string: id_string.replace(' san francisco', '')\n",
    "# names_df['names'] = names_df['names'].apply(f) \n",
    "\n",
    "# f = lambda id_string: id_string.replace(' san jose', '')\n",
    "# names_df['names'] = names_df['names'].apply(f) \n",
    "\n",
    "# f = lambda id_string: id_string[0].upper()+id_string[1:]\n",
    "# names_df['names'] = names_df['names'].apply(f) \n",
    "\n",
    "# f = lambda s: s[:s.find(' ')]+' '+s[(s.find(' ')+1)].upper()+s[s.find(' ')+2:]\n",
    "# names_df['names'] = names_df['names'].apply(f) \n",
    "\n",
    "print names_df.tail() "
   ]
  },
  {
   "cell_type": "code",
   "execution_count": 31,
   "metadata": {
    "collapsed": false
   },
   "outputs": [],
   "source": [
    "#path = '/Users/kaschbacher/insightproject/yelp/git-yelp'\n",
    "names_df.to_pickle('names_df.p')\n"
   ]
  },
  {
   "cell_type": "code",
   "execution_count": null,
   "metadata": {
    "collapsed": true
   },
   "outputs": [],
   "source": []
  }
 ],
 "metadata": {
  "kernelspec": {
   "display_name": "Python 2",
   "language": "python",
   "name": "python2"
  },
  "language_info": {
   "codemirror_mode": {
    "name": "ipython",
    "version": 2
   },
   "file_extension": ".py",
   "mimetype": "text/x-python",
   "name": "python",
   "nbconvert_exporter": "python",
   "pygments_lexer": "ipython2",
   "version": "2.7.10"
  }
 },
 "nbformat": 4,
 "nbformat_minor": 0
}
