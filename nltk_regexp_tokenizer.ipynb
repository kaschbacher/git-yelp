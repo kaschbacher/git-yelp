{
 "cells": [
  {
   "cell_type": "code",
   "execution_count": 10,
   "metadata": {
    "collapsed": false
   },
   "outputs": [
    {
     "name": "stdout",
     "output_type": "stream",
     "text": [
      "['I', 'paid', '$10.45', 'for', 'the', 'appointment']\n",
      "(\\d+\\:[\\d]+\\s?(pm|am)|\\S+)|(\\w+|\\$[\\d\\.]+|\\S+)\n",
      "['it', 'took', 'until', '12:30 am', 'to', 'get', 'an', 'appointment', 'and', 'I', 'spent', '$3.50']\n"
     ]
    }
   ],
   "source": [
    "from nltk.tokenize import RegexpTokenizer\n",
    "from nltk.tokenize import regexp_tokenize\n",
    "\n",
    "s = '$3.57'\n",
    "s3 = 'I paid $10.45 for the appointment'\n",
    "pat = '\\w+|\\$[\\d\\.]+|\\S+'\n",
    "#print(regexp_tokenize(s, pat))\n",
    "\n",
    "s2 = 'it took until 12:30 am to get an appointment and I spent $3.50'\n",
    "#pat2 = '\\d*'+'\\:'+'\\d*'\n",
    "#pat2 = '\\d*'+'\\:'+'\\d*\\w\\w'\n",
    "pat2 = '\\d+\\:[\\d]+\\s?(pm|am)|\\S+'\n",
    "#print(regexp_tokenize(s2, pat2))\n",
    "\n",
    "# for string in s2:\n",
    "#     print(regexp_tokenize(string, pat2))\n",
    "\n",
    "tokenizer = RegexpTokenizer(pat)#time\n",
    "print(tokenizer.tokenize(s3))\n",
    "\n",
    "pat3 = '('+pat2+')' +'|'+ '('+pat+')'\n",
    "print(pat3)\n",
    "tokenizer = RegexpTokenizer(pat3)#time\n",
    "print(tokenizer.tokenize(s2))"
   ]
  },
  {
   "cell_type": "code",
   "execution_count": null,
   "metadata": {
    "collapsed": true
   },
   "outputs": [],
   "source": []
  }
 ],
 "metadata": {
  "kernelspec": {
   "display_name": "Python 2",
   "language": "python",
   "name": "python2"
  },
  "language_info": {
   "codemirror_mode": {
    "name": "ipython",
    "version": 2
   },
   "file_extension": ".py",
   "mimetype": "text/x-python",
   "name": "python",
   "nbconvert_exporter": "python",
   "pygments_lexer": "ipython2",
   "version": "2.7.10"
  }
 },
 "nbformat": 4,
 "nbformat_minor": 0
}
