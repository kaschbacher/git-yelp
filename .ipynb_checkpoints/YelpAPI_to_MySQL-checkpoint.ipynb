{
 "cells": [
  {
   "cell_type": "code",
   "execution_count": 8,
   "metadata": {
    "collapsed": false,
    "scrolled": false
   },
   "outputs": [],
   "source": [
    "# -*- coding: utf-8 -*-\n",
    "\"\"\"\n",
    "Yelp API v2.0 code sample.\n",
    "This program demonstrates the capability of the Yelp API version 2.0\n",
    "by using the Search API to query for businesses by a search term and location,\n",
    "and the Business API to query additional information about the top result\n",
    "from the search query.\n",
    "Please refer to http://www.yelp.com/developers/documentation for the API documentation.\n",
    "This program requires the Python oauth2 library, which you can install via:\n",
    "`pip install -r requirements.txt`.\n",
    "Sample usage of the program:\n",
    "`python sample.py --term=\"bars\" --location=\"San Francisco, CA\"`\n",
    "This program only works with python 2.7, not 3\n",
    "\"\"\"\n",
    "\n",
    "import argparse\n",
    "import json\n",
    "import pprint\n",
    "import sys\n",
    "import urllib\n",
    "import urllib2\n",
    "import oauth2\n",
    "import numpy as np\n",
    "from bs4 import BeautifulSoup\n",
    "import pprint as pp\n",
    "import lxml\n",
    "import pymysql\n",
    "\n",
    "\n",
    "# Global Variables\n",
    "API_HOST = 'api.yelp.com'\n",
    "DEFAULT_TERM = 'physicians'\n",
    "DEFAULT_LOCATION = 'San Francisco, CA'\n",
    "SEARCH_LIMIT = 20\n",
    "SEARCH_PATH = '/v2/search/'\n",
    "BUSINESS_PATH = '/v2/business/'\n",
    "\n",
    "# OAuth credential placeholders that must be filled in by users.\n",
    "CONSUMER_KEY = 'sN1u58mMljgThGKGwXS8tw'\n",
    "CONSUMER_SECRET = 'NT7JYxw2VJ3q0INTbZEgyS7SQ0I'\n",
    "TOKEN = 'a7V4mk5UGIuECu_MMrQxALvbsUSQsHrX'\n",
    "TOKEN_SECRET = 'H5r3RQRjOSPL7IgnuSBfvSZxoJU'"
   ]
  },
  {
   "cell_type": "code",
   "execution_count": 4,
   "metadata": {
    "collapsed": true
   },
   "outputs": [],
   "source": [
    "def request(host, path, url_params=None):\n",
    "    \"\"\"Prepares OAuth authentication and sends the request to the API.\n",
    "    Args:\n",
    "        host (str): The domain host of the API.\n",
    "        path (str): The path of the API after the domain.\n",
    "        url_params (dict): An optional set of query parameters in the request.\n",
    "    Returns:\n",
    "        dict: The JSON response from the request.\n",
    "    Raises:\n",
    "        urllib2.HTTPError: An error occurs from the HTTP request.\n",
    "    \"\"\"\n",
    "    url_params = url_params or {}\n",
    "    url = 'http://{0}{1}?'.format(host, urllib.quote(path.encode('utf8')))\n",
    "\n",
    "    consumer = oauth2.Consumer(CONSUMER_KEY, CONSUMER_SECRET)\n",
    "    oauth_request = oauth2.Request(method=\"GET\", url=url, parameters=url_params)\n",
    "\n",
    "    oauth_request.update(\n",
    "        {\n",
    "            'oauth_nonce': oauth2.generate_nonce(),\n",
    "            'oauth_timestamp': oauth2.generate_timestamp(),\n",
    "            'oauth_token': TOKEN,\n",
    "            'oauth_consumer_key': CONSUMER_KEY\n",
    "        }\n",
    "    )\n",
    "    token = oauth2.Token(TOKEN, TOKEN_SECRET)\n",
    "    oauth_request.sign_request(oauth2.SignatureMethod_HMAC_SHA1(), consumer, token)\n",
    "    signed_url = oauth_request.to_url()\n",
    "    \n",
    "    print (u'Querying {0} ...'.format(url))\n",
    "\n",
    "    conn = urllib2.urlopen(signed_url, None)\n",
    "    try:\n",
    "        response = json.loads(conn.read())\n",
    "    finally:\n",
    "        conn.close()\n",
    "\n",
    "    return response"
   ]
  },
  {
   "cell_type": "code",
   "execution_count": 5,
   "metadata": {
    "collapsed": false
   },
   "outputs": [],
   "source": [
    "def search(term, location, limit, offset):\n",
    "    \"\"\"Query the Search API by a search term and location.\n",
    "    Args:\n",
    "        term (str): The search term passed to the API.\n",
    "        location (str): The search location passed to the API.\n",
    "    Returns:\n",
    "        dict: The JSON response from the request.\n",
    "    \"\"\"\n",
    "    \n",
    "    url_params = {\n",
    "        'term': term.replace(' ', '+'),\n",
    "        'location': location.replace(' ', '+'),\n",
    "        'limit': SEARCH_LIMIT,\n",
    "        'offset': offset\n",
    "    }\n",
    "    return request(API_HOST, SEARCH_PATH, url_params=url_params)"
   ]
  },
  {
   "cell_type": "code",
   "execution_count": 6,
   "metadata": {
    "collapsed": true
   },
   "outputs": [],
   "source": [
    "def get_business(business_id):\n",
    "    \"\"\"Query the Business API by a business ID.\n",
    "    Args:\n",
    "        business_id (str): The ID of the business to query.\n",
    "    Returns:\n",
    "        dict: The JSON response from the request.\n",
    "    \"\"\"\n",
    "    business_path = BUSINESS_PATH + business_id\n",
    "\n",
    "    return request(API_HOST, business_path)"
   ]
  },
  {
   "cell_type": "code",
   "execution_count": 10,
   "metadata": {
    "collapsed": true
   },
   "outputs": [],
   "source": [
    "def query_api(term, location, limit, offset):\n",
    "    \"\"\"Queries the API by the input values from the user.\n",
    "    Args:\n",
    "        term (str): The search term to query.\n",
    "        location (str): The location of the business to query.\n",
    "    \"\"\"\n",
    "    response = search(term, location, limit, offset)\n",
    "#     pprint.pprint(response, indent=2)\n",
    "    return response"
   ]
  },
  {
   "cell_type": "code",
   "execution_count": 11,
   "metadata": {
    "collapsed": true
   },
   "outputs": [],
   "source": [
    "def get_business_from_API(response):\n",
    "    businesses = response.get('businesses')\n",
    "\n",
    "    if not businesses:\n",
    "        print u'No businesses for {0} in {1} found.'.format(term, location)\n",
    "        return\n",
    "    return businesses"
   ]
  },
  {
   "cell_type": "code",
   "execution_count": 12,
   "metadata": {
    "collapsed": true
   },
   "outputs": [],
   "source": [
    "def get_html(business_id):\n",
    "    \n",
    "    yelp_url = 'http://www.yelp.com/biz/'+business_id\n",
    "    response = urllib2.urlopen(yelp_url)\n",
    "    html = response.read()\n",
    "    return html"
   ]
  },
  {
   "cell_type": "code",
   "execution_count": 28,
   "metadata": {
    "collapsed": true
   },
   "outputs": [],
   "source": [
    "def save_myhtml(html_filename, html):\n",
    "    # Save the html file\n",
    "    with open(html_filename, 'wb') as f:\n",
    "        f.write(html)"
   ]
  },
  {
   "cell_type": "code",
   "execution_count": 26,
   "metadata": {
    "collapsed": false
   },
   "outputs": [],
   "source": [
    "def insert_yelp_business(yelp_id, stars, reviews, city_id):\n",
    "    con = False\n",
    "    try:\n",
    "        con = pymysql.connect(host='localhost', port=3307, user='root', passwd='', db='yelpdata')\n",
    "        with con:\n",
    "            cur = con.cursor()\n",
    "            #print(type(yelp_id), type(stars), type(reviews)\n",
    "            myvalues = \"'\" + yelp_id+\"',\" + str(stars) + \",\" + str(reviews) + \",\" + \"1\"\n",
    "            sql = 'INSERT INTO business(yelp_id,stars,reviews,city_id) VALUES('+myvalues+')'\n",
    "            cur.execute(sql)\n",
    "            print sql\n",
    "    except pymysql.Error, e:\n",
    "        print \"Error %d: %s\" % (e.args[0],e.args[1])\n",
    "        sys.exit(1)\n",
    "    finally:\n",
    "        if con:\n",
    "            con.close()\n",
    "        "
   ]
  },
  {
   "cell_type": "code",
   "execution_count": 27,
   "metadata": {
    "collapsed": true
   },
   "outputs": [],
   "source": [
    "def format_html(string,int):\n",
    "    # accepts a rating or date and returns a float btw 0.0 and 5.0, or date-string\n",
    "    s = str(string)\n",
    "    s = s.lstrip('[<meta content=\"')\n",
    "    if int==0:\n",
    "        s = float(s[0:3])#star ratings are always 3 characters long\n",
    "    elif int==1:\n",
    "        stop = s.find('\"')#date lengths could vary\n",
    "        s = s[0:stop]\n",
    "    else: \n",
    "        print('Wrong integer given to format_rating. Must be 0 for rating or 1 for date: ',int)\n",
    "    return s"
   ]
  },
  {
   "cell_type": "code",
   "execution_count": 39,
   "metadata": {
    "collapsed": false
   },
   "outputs": [],
   "source": [
    "def scrape_reviews(html_filename):\n",
    "    # open the html file/object with beautiful soup\n",
    "    \n",
    "    soup = BeautifulSoup(open(html_filename), \"lxml\")\n",
    "\n",
    "    #pp.pprint(ptext)#<class 'bs4.element.ResultSet'>\n",
    "    ptext = soup.find_all('p', {'itemprop': 'description'})\n",
    "    reviews = [ptext[i].get_text() for i in range(0,len(ptext))]\n",
    "\n",
    "    # Examples of what the html looks like:\n",
    "    # <meta itemprop=\"ratingValue\" content=\"5.0\">\n",
    "    # <meta itemprop=\"datePublished\" content=\"2013-03-27\">\n",
    "\n",
    "    rstars =[];rdates=[]\n",
    "    rstars = [pt.parent.find_all('meta', {'itemprop':'ratingValue'}) for pt in ptext]\n",
    "    rdates = [pt.parent.find_all('meta', {'itemprop':'datePublished'}) for pt in ptext]\n",
    "    rstars =[format_html(rstar,0) for rstar in rstars]\n",
    "    rdates =[format_html(rdate,1) for rdate in rdates]\n",
    "\n",
    "    # There's an overall rating on this page I could also get, but it should match bstars\n",
    "\n",
    "    # Ensure that ratings and reviews are vectors of the same length\n",
    "    if len(rstars)!=len(reviews):\n",
    "        print('Length of rstars and reviews for ',yelp_url[24:],' on this page do not match.')\n",
    "        print('rstars len: ',len(rstars),' reviews len: ',len(reviews))\n",
    "        rmin = min(len(rstars),len(reviews))\n",
    "        rstars = rstars[0,rmin]; reviews = reviews[0,rmin]; rdates = rdates[0,rmin]\n",
    "\n",
    "    #Here I manually verified that the star-ratings, reviews, and dates match up with a few pages\n",
    "#     for i in range(0,len(reviews)):\n",
    "#         print(rstars[i],rdates[i],':',reviews[i],'\\n')\n",
    "        \n",
    "    return [rstars], [reviews]"
   ]
  },
  {
   "cell_type": "code",
   "execution_count": 40,
   "metadata": {
    "collapsed": false
   },
   "outputs": [
    {
     "name": "stdout",
     "output_type": "stream",
     "text": [
      "Querying http://api.yelp.com/v2/search/? ...\n",
      "3090\n",
      "Result for business \"dan-kalshan-md-san-francisco-2\" found:\n",
      "(5.0, '2015-06-29', ':', u'Adding some more information. \\xa0Another great thing about him is that he was willing to experiment with me for my fibromyalgia. \\xa0I brought in a book by a specialist and he was willing to try the protocol. \\xa0Many doctors would not do that. \\xa0He won\\'t do anything crazy but will consider something reasonable. \\xa0He also made himself available when I was having an emergency severe tooth/earache. He was at an offsite seminar, but his receptionist asked him to call me and he did, prescribed something and I think he even checked in with me later on (or I called back). Either way, I got the treatment I needed.For those who think it takes a while to get ahold of him or his receptionist--please keep in mind it is one doctor and one receptionist. As you can see from all of the 5 star reviews, he spends time with his patients. Be a little \"patient\" yourself and you will be soon benefit from his great treatment.', '\\n')\n",
      "(2.0, '2015-09-09', ':', u\"It's tough to write this review, as I've been a patient of Dr. Dan for at least 3 years now, if not more. I'm a huge fan of his personally, he's always given me sound advice and has been easy to work with, until recently. He's lost his personal touch.The result of being one of the best rated doctors on Yelp when SF goes through a massive population increase is supply can no longer meet demand. It's now become incredibly tough to get an appointment to see him or get real one-on-one care. As most people have complained, I understand why he's not taking new patients unless it's a serious illness given that he barely has time to see his existing patients. I did the same song and dance years ago to get in to see him. But at this point, I think he needs to stop taking new patients entirely.First frustration round: I went in for a physical in May, to which he ordered me a bunch of labs to check blood, cholesterol, etc. Except he failed to tell me which of the 2 labs I should go to before I left my appointment and his assistant never followed up to give me that information. Being busy with travel overseas and work, I forgot nor did I feel like I should have to be the one to call in and inquire about it.Second frustration round: Since May, the past 3 times I've called for an appointment, I've been unable to get in to see him in under a week - I've gone instead to Urgent Care Centers for 2 out of those 3 times - one for food poisoning, another for a fairly severe viral infection because I couldn't wait 5 days to see him.Third frustration round: For that 3rd time, when I called to make an appointment after 5 weeks of persistent heartburn, he made an exception for me because I complained about being unable to get an appointment to his assistant. It took her 2 days, even still, to call me back and tell me that he would see me after hours at 4:45pm (how that is after hours, when you open at 9am, no clue - doctor hours never cease to amaze me). I was told that it might be bacterial, having never had heartburn historically, and that test would tell him whether or not I should have medication or further assessment by a specialist. He ordered another set of labs, including the same ones that weren't originally processed from my physical and off I went to Quest. Fourth frustration round: The test results were delivered to me by his assistant on the phone. NOT by him, and she knew nothing about his commentary to me regarding meds or a specialist. It was a simple, it came back negative...with no solution. I asked her why he wasn't able to pick up the phone to call and speak with me directly, since he's the person familiar with my case. She said she'd send him a message and let him know. I called just now this morning to check back and instead of him calling me, like I asked, she read verbatim a message he'd typed her telling me to take my labs and go to see Dan Conlin, gastronomist. And when I asked again why he couldn't call me directly to discuss this, she said he's too busy to make calls to patients and he would be leaving for 3 weeks of vacation which has compounded that issue.Why is it that you have time, Dr. Dan, to text your assistant a lengthy message, but can't simply pick up a phone and dial me directly? And, if you can't call your patients directly with being too busy, why are you even bothering to take new clients still?I'm going to One Medical for now on. You've lost me as your patient.\", '\\n')\n",
      "(5.0, '2015-07-06', ':', u\"I've been seeing Dr. Kalshan for 6 years now and he is fantastic. When it comes to medical care I want someone who knows their stuff, can translate medical jargon, geeks out on the WHY, asks direct questions, and somehow bundles that all up with the best bedside manner I've experienced. \\xa0It truly is wonderful to have a physician that you can speak honestly and earnestly with -- who also has a great memory & systems for keeping all his notes and records about you for future visits. \\xa0He is not covered by my insurance and I still go to see him.\", '\\n')\n",
      "(5.0, '2015-05-29', ':', u\"I am 62 years old and because of my job(s) during those years have moved around a lot. My last job brought me from Southern California to San Francisco. Once again, I need to find a primary care physician and a friend recommended his; Dr. Kalshan. \\xa0I couldn't have been more fortunate. \\xa0From my very first visit to my 8th or 10th now, he has spent the time necessary to examine me, answer questions, and explain lab results or medications. \\xa0I have never felt rush and he didn't park me in one waiting room to hop across 2 or 3 more before coming back - he stayed with me until we were through. \\xa0Dr. Kalshan treatment recommendations have been excellent with only minor course corrections, were excellent. \\xa0I have had to see a podiatrist and a surgeon and being new in town had no idea where to go and I was pleased to find his referral recommendations were equally excellent.Without hesitation I would, and have, recommend him to my family and friends as I know they will be treated well.\", '\\n')\n",
      "(5.0, '2014-08-06', ':', u\"Dr Kalshan is one of the best drs I've ever seen. \\xa0Surprisingly I only see him about once a yr for the past 8 yrs and he seems to remember so many of the things I've told him. \\xa0He's very personable and down to earth. \\xa0Easy to joke with! \\xa0I never have to wait in his lobby and there's no runaround like you have at big hospitals. \\xa0Making appointments are easy!\", '\\n')\n",
      "(1.0, '2014-09-17', ':', u\"Was very impressed by the 4.5 star rating, and tried him out last year. Went in for my annual physical/well woman exam, came away with nothing more than a creeped-out vibe (I've worked with male physicians in the past. I'm not trying to hate, but... just look at his photo on his website and draw your own conclusions for a first impression), a cursory examination of the mouth/ears and a quick blood pressure check. A few questions about my general health, how much I exercise, etc. Then he gave me a piece of paper with a list of tests Quest would need to run on me whenever I could make it over there for a blood culture, and that was it. I had been with Palo Alto Medical Foundation for years before, and I definitely didn't walk out after 10 minutes. Pretty sure no part of my examination with Dr. Kalshan was at all related to well-woman issues.After a couple months, I called in to get a normal flu shot. None available. No referrals, no stocking (or re-stocking?) available. Asked again about what else is generally included in a physical/well-woman exam, and the generally clueless ladies he has at reception offered no information and said he was unavailable for comment.Today at around 10am, got increasingly disturbing symptoms of a pretty serious UTI and called him to see if there was anything he could do, whether it was a quick over the phone triage or praxis and then prescribe me something, I could describe all my symptoms. or i could go in for a quick culture at Quest and then he could give me a Rx then. Lady at reception says, we're booked up until next week but I'll see what I can do. Doesn't call me back until 3:20pm. By that time I'd gotten Palo Alto Medical Foundation on the line at least 5 times, gone through their amazingly efficient procedure (5 times, only because I was/am in pain and because the first time i called my symptoms weren't bad enough), gotten a prescription, driven and gotten my prescription and taken the first pill 2.5 hours ago.In short - don't count on this guy. He will let you down when you are most in need. I haven't gone through insurance/non-insurance issues with him, but it sounds like others have and perhaps you don't even want to start that relationship to begin with...\", '\\n')\n",
      "(1.0, '2013-10-17', ':', u'I stand by my review. I\\'m not a \"paid-to-hate\" Yelper. Maybe \"chubby\" wasn\\'t the exact word he used, but I was put on the scale and told to start exercising more as I looked \"heavier\" than previous visits. Not surprising he couldn\\'t find me in his records, as I haven\\'t been there for a few years. Again, I went there for a throat infection, not weight loss advice. That, and the awful front desk service, made me drop him as a doctor. Also, haranguing me via the Messages option to try to get me to delete my review doesn\\'t work. It\\'s a free country and we have free speech, do we not? Isn\\'t that what Yelp is for?As for Claudio O\\'s comments, my experience is obviously different from hers - I am happy she had a great experience with him. I respect her opinion even if she doesn\\'t respect mine.', '\\n')\n",
      "(5.0, '2015-05-14', ':', u\"Every time I think to myself that I should forget schlepping all the way to the city to go to the Dr (I now live in Redwood City), I go to Dr. Kalshan and remember why I keep hauling my ass up there in the first place. \\xa0He never rushes me, he is always thorough, and he keeps up to date on what is happening in the medical field. \\xa0I just went in for an eye infection and casually asked a question about a female medical issue that I didn't like the answer my OBGYN gave me. \\xa0Not only did he actually listen to me, he had just read some new information about gene mutations that might be part of my problem. \\xa0So now I am on some simple OTC remedies to see if that alleviates my issue. \\xa0Something, I might add, that I have talked to my gyno 3 times about with no solution. \\xa0I have yet to go with any ailment that he hasn't quickly recognized and remedied for me. \\xa0I will definitely be a lifelong patient!\", '\\n')\n",
      "(5.0, '2013-09-28', ':', u\"Dr. Kalshan is THE best! I was extremely lucky to stumble upon his name in the long list of doctors within my insurance network. He's been my doctor ever since I first moved to SF roughly 10 years ago. I just cant see anyone else! He's super down to earth, young, funny, kind, honest and great at what he does. He makes you feel extremely comfortable, like you're talking to a friend, not your General Practitioner. I have a short list of amazing people I would love to grab a beer with which includes Alec Baldwin, Will Ferrell, Andy Samberg and Dan Kalshan. If he can make you laugh while treating your strep throat, you know he's hilarious (and a tad bit sarcastic) under that white coat. I've referred all my friends and coworkers, we all love Dr. Kalshan!\", '\\n')\n",
      "(5.0, '2013-05-23', ':', u\"I've been going to Dr. Kalshan since he started his practice 12-13 years ago. I literally think I was one of his first patients when he took over his practice. Naturally he was less busy when he first started, but I've noticed no change in his attentiveness or level of care even though he's much more busy now.I hold Dr. Kalshan in very high regard. I trust him completely and have been recommending him to everyone in my company who will listen to me. I wouldn't be surprised if 25% of my company now sees him and I've yet to hear anyone say one bad thing about him.I've moved states a few times over the 12+ years of going to Kalshan. While living out of state it's required me to to see different doctors. Not one of them was good as Dan. Seriously. A few times I've seen a specialist before going to Dr. Kalshan. Two of those times Dan actually ended up helping me faster and giving better care than a specialist. Another reason I trust him so much.He's had a wide variety of staff help over the years. After reading other reviews, it seems to be the most discussed part of his practice. I've always try my best to be as friendly with his staff as I know they have an incredibly busy and stressful job. In return, I've always found his staff to be great to deal with and very pleasant. If you treat them well, they will absolutely return the respect.\", '\\n')\n",
      "(1.0, '2014-03-25', ':', u\"Dr. Kalshan has gone all Obamacare on me. Suddenly, the health insurance policy that I've been using since 2011 is no longer acceptable in his office. Rather than trying to find new insurance (hard), I'm going to find a new doctor (easy).\", '\\n')\n",
      "(5.0, '2013-06-11', ':', u\"I was prompted to write a review because of reading Mi M.'s review. Sorry Mi M, you must be mistaken.I have been going to Dr. Kalshan for almost 10 years now. He has always been caring and patient. He is very knowledgable and communicates that well. It is rare to find a doctor you feel comfortable with and trust. Not to mention, always has the best smile on his face making me forget why I came in, in the first place. :)I have recommended him along the way and everyone I have ever recommended him to, love him. I could not boast more about him!!!\", '\\n')\n",
      "(5.0, '2013-06-24', ':', u'Dan is the MAN! I feel totally comfortable around him and he\\'s just a very trustworthy guy.Warning: \"Friends\" joke coming up... I didn\\'t want to end up like Ross with an old pediatrician my whole life, so once I moved to the city I did some research and heard nothing but great things, so I made an appointment.Dan and I can joke with each other, but be serious when we need to be--especially when it comes to my health.It does take a while for them to get you into the system for your first appointment, but someone bailed, and they called me up right away and I was in about two weeks after I called.I recommend Dan to all my friends, and would advise anyone else looking for a great doctor to make an appointment with him.', '\\n')\n",
      "(5.0, '2014-01-10', ':', u\"First off, I've been a patient of Dr Kalshan for about 8 years. I like him a lot, and he has always provided excellent medical advice. Admittedly I haven't had a lot of problems, or been that difficult to diagnose, but he has a great manner and is very knowledgeable.Secondly, most of the reviews for Dr Dan are either a 5-star or a 1-star, with the vast majority being 5-star reviews. As far as I can see, many of the 1-star reviews are not about him, but are about his staff, or his billing. Whilst he used to have a mediocre receptionist (but not as bad as some people say), his current receptionist is GREAT - friendly, communicative and quick to answer the phone. I've never had any problems with billing, although others might have.Obviously some people have had bad experiences, but it appears that many (most) of them have been in the past.I would thoroughly recommend Dr Kalshan.\", '\\n')\n",
      "(5.0, '2014-02-07', ':', u'A terrific PCP. Highly knowledgeable, easy to talk to, and very thorough. Very happy to have found such a great Dr. in the city since moving here a year ago. 5 stars in every sense.', '\\n')\n",
      "(1.0, '2014-05-21', ':', u'This rating is for the reception staff who is the worst I have personally dealt with. \\xa0I really like Dr Kalshan and even referred my husband to his practice and very saddened he has incompetent and rude staff - and echo all the negative feedback about his staff... Just bad communication if you hear back at all... \\xa0Patients deserve to be shown respect and compassion whether on the phone or in person. \\xa0Ms office staff should consider another line of work.', '\\n')\n",
      "(5.0, '2012-05-08', ':', u\"I have been a patient of Dan's since ~ 2005. \\xa0He's my favorite doc of all time. \\xa0Down to earth, explains things well and efficiently, and isn't rushed. \\xa0Very good guy and quite knowledgeable. \\xa0I looked around a bit in SF before I found him but happy I did.It's not easy being a primary care doc in the US and I appreciate having a smart, friendly and patient physician.\", '\\n')\n",
      "(5.0, '2010-06-24', ':', u'Ok I am still preaching about how much I love Dr. Dan. My husband and several friends all go to him and are quite happy. He was so awesome in treating us when we got that pesky h1n1 situation. And would even return our phone calls after hours to followup.His assistant Negar (sp) is super awesome and always returns phone calls for appointment booking and she makes sure your questions get answered.Update: They take cards now!', '\\n')\n",
      "(5.0, '2012-06-25', ':', u\"Dr. Kalshan is by far the best MD that I have been to over the years. He is attentive, easy to talk to and knowledgeable.Let's face it, most of the time you are at the doctor because there is something wrong, so it's refreshing to see a doctor that makes you feel welcome and relaxed. I'm lucky to have found him as my MD.\", '\\n')\n",
      "(5.0, '2012-02-29', ':', u\"Dr. Kalshan is one of the best doctors I have had (and I've lived in many places). He is a good doctor and also very progressive and has knowledge about non-mainstream things as well. He is attentive and all you need to do is to open up and ask him. I feel very comfortable in discussing things with him and he is very personable.\", '\\n')\n",
      "(1.0, '2014-03-22', ':', u\"My husband and I have both been seeing Dr. Kalshan for a few years and have had the same insurance for years. \\xa0I have had a medical issue for 2 few weeks and called this week as it had gotten worse and I am headed out of town Friday. I called Tuesday and after much going back and forth finally got an appt for this week. \\xa0His assistant, who has a terrible phone manner, called me 30 minutes before my appointment at 4:15 on a Thursday to say he longer accepts Blue Cross EPO, so would not accept my insurance. \\xa0Now, I understand not accepting an HMO or telling a patient from the get go that they do no accept your insurance, but I told them who I was when I called earlier this week to make the appointment, and they waited until I was literally about to leave to call me to tell me they no longer accept my insurance. Had i known Tuesday I would have gone to another Dr. The assistant tried to tell me they were not able to accept it, but as an independent Doctor, it is his choice what insurance he accepts and to suddnenly no longer accept a major carrier (It is a Dr's choice to opt-out confirmed by BCBS). Shame on him for not letting me know in advance. \\xa0Now I have to go away with no medicine (all I need is antibiotics) \\xa0at 4:30 pm on a Thurday and i go out of town tomorrow. \\xa0My insurance does not cover any out of network Doctors so this really put me in a bind. \\xa0Clearly Dr Kalshan does not care about his patients, just how much he gets reimbursed!\", '\\n')\n",
      "(5.0, '2013-10-08', ':', u\"Long overdue review. Simply the BEST Dr I have encountered, and I've seen many. I have had some complex issues for years, I found Dr Kalshan to be the most thorough. He thinks outside of the box, and errs on the side of caution. In addition to this, he diagnosed me with something that other Drs had misdiagnosed me with years earlier-again, the thinks outside of the box. Wish all Drs were as knowledgable and open minded as him!\", '\\n')\n",
      "(5.0, '2010-10-25', ':', u\"This man is incredible. Lucky enough to have only had a few visits to Dr. Kalshan's office for minor ailments, I've left completely satisfied with his care every time.No matter what I ask, Dan is always eager to discuss it. Unlike a lot of doctors I've been to, he doesn't talk down to you; rather he is so eager to spread his knowledge that he patiently answers any question. And I've never felt rushed at all. I will be back if needed!\", '\\n')\n",
      "(1.0, '2012-04-09', ':', u'The office is entirely motivated by making money. \\xa0I called and asked to setup a physical to become a new patient. \\xa0 The woman who answered the phone told me he is not accepting appointments from new patients, but if I happened to have something wrong (cold, back pain) then he could see me. \\xa0 Almost to the point of suggesting I should \"create\" an ailment!This is a disgrace. \\xa0 First off, how does an MD expect to develop a relationship if they don\\'t do the intro physical? \\xa0 Secondly, this is a clear message that he only values higher-end visits where he can charge more. \\xa0 This provides little comfort that he will not always be searching for the upcharge during any visit. \\xa0 I guess this is consistent with other reviews suggesting he is quick to prescribe meds.', '\\n')\n",
      "(5.0, '2011-07-22', ':', u\"Insightful kind doc; Best I have found in SF; Not your Mom's GP.\", '\\n')\n",
      "(5.0, '2010-11-23', ':', u\"Dr. Kalshan is the best! He is personable and really listens to what you have to say. Sometimes I feel like my tangents can last a little while and I'm always listing every possible symptom that may be a contributing factor. I may talk fast but it is still time consuming. I've never felt rushed or cut short and always feel like I've been heard. Dr. Kalshan and his staff are welcoming and youthful in spirit while maintaining a professional reputable practice. I feel like I can talk to them like a friend and not like someone who is going to be judgmental. Plus they have trendy magazines in the waiting area!\", '\\n')\n",
      "(5.0, '2010-10-02', ':', u\"Dr. Kalshan is always thorough and helpful. \\xa0I am not a frequent visitor to the Doc's office so it takes a lot for me to head downtown for a checkup. \\xa0That being said, I'm a long time customer and over the years (perhaps six or seven) I've had the opportunity to receive his care on many topics.I tend to lean toward holistic approaches which he is happy to suggest. \\xa0If I need medicine he also seems to know just the thing. \\xa0Sinus infection, check. \\xa0Bronchitis, check. \\xa0Allergies, check. \\xa0My shoulder hurts, check! \\xa0He also has a million specialists to whom he can refer you should you need additional care.I recently traveled to Mexico and was misdiagnosed with a foodborne illness while there. \\xa0When I returned to the states I followed-up with him and as my primary care physician he took a quick survey of my symptoms and diagnosed me with the correct issue. \\xa0What a relief! \\xa0No more Mexi-meds, pain relief for my uncomfortable issue (ruptured ovarian cyst), and peace of mind.Dr. Kalshan is educated and helpful. \\xa0Did I mention charming?Oh, and his front desk receptionist is a doll. \\xa0I have recently been a pain in the ass about providing correct insurance and she still helped me in for an appointment on short notice. \\xa0Customer service is a PLUS, PLUS, PLUS for this practice.\", '\\n')\n",
      "(1.0, '2010-02-02', ':', u\"Dr Kalshan employs worthless employees and has terrible billing policies. After my checkup the receptionist insisted on billing me for the full amount of the office visit even though my insurance copay should have only been 20 bucks. I've NEVER had a doctor do that before. They instead forced me to file my own claim to make the insurance company pay me. The form they gave me apparently didn't have all the information the insurance company needed to pay on the claim and 5 months later I still haven't been able to get Kalshan's office to settle the case with the insurance company.Only go to this doctor if you like your billing to be a gigantic pain in the ass.Edit: Also I want to point out I have a PPO plan. Also his receptionists never return your calls even though they say they will.\", '\\n')\n",
      "(5.0, '2010-08-13', ':', u\"Dr. Kalshan is an amazing doctor, and I recommend seeing him if you are in need of a Doctor downtown. \\xa0He is friendly, personable, and approachable. \\xa0He asks a lot of questions and lets you tell your side of the medical story. \\xa0He doesn't rush through appointments, and seems geniunely interested in seeing his patients getting better. \\xa0In the end, he is an amazing doctor.\", '\\n')\n",
      "(3.0, '2010-03-31', ':', u\"Dr. Kalshan himself is great, but let's take a little time to talk about his incompetent staff. They barely answer the phones nor do they return messages. When you DO get a hold of someone, they aren't very nice and sound like they can't wait to get off the damn phone with you. What the crap?I can't complain about the payment as others have, since my insurance was accepted.I'm really not sure if I'll be back to see Dan. He's a great doc, and I didn't feel rushed with him, but the staff issue is a real bummer...\", '\\n')\n",
      "(5.0, '2009-10-09', ':', u'The references to Dr. Kalshan\\'s \"hipster\" clothing in these reviews is hilarious. He\\'s just a cool young guy who happens to be an extremely competent doctor as well. Definitely a ball of energy, but hey - he puts you in a great mood when you\\'re sick.-Open to Eastern/alternative medicine (he suggested I get acupuncture when I told him I was having sleeping issues)-Takes Blue Shield-Is extremely patient with questions and explains things very clearly-Will write prescriptions for a ton of tests if you want them (which I always do... why not right?)-Snazzy office in the Financial District is very convenient if you work nearbyI would absolutely recommend him (and have) to my friends :)', '\\n')\n",
      "(5.0, '2010-04-01', ':', u\"I have always liked Dr. Kalshan, as he has been, of all the times he saw me, personable, professional, and NEVER condescending when I asked all these questions about the intricacate stuff about human heart and muscles and electrolytes. The only problem I had in the past with his practice was that they accepted only cash for co-pays, which was rather inconvenient for me, since I have a flex credit card I usually use for all medical expenses. But guess what? THEY NOW ACCEPT CREDIT CARDS. With that said, Dr. Kalshan deserves 5 stars. P.S. And I also agree that he has exquisite taste when it comes to his wardrobe. Not that it matters too much but just sayin'.\", '\\n')\n",
      "(5.0, '2013-06-17', ':', u\"Dr. Dan Kalshan has been my primary for 7+ years now and I have to say he has been great. He's easy to talk to, a strong proponent of preventive medicine/care, and keeps up with the latest treatments. I was not too happy with his previous receptionist. She was not very good ....putting it mildly. She would not return calls, and when she did, she was pretty rude. She was generally unpleasant to deal with, but she's been gone for a number of years now, so ALL is good again.\", '\\n')\n",
      "(4.0, '2010-01-14', ':', u'Dr. Dan- the first positive experience I\\'ve had at the doctors office in a while. He and his receptionist are both courteous and professional. They seem to try to keep appointments open, and as a result I\\'ve never had to wait more than a few days for an appointment and more than once I was asked if I\\'d like to come in on the same day. Nice. The flipside is that appointments for physicals have more waiting time since those are longer (an hour). They used to only accept cash, but last time I went I was able to pay by credit, which is nice, since I don\\'t have to remember to hit the ATM before I go anymore.Dr. Kalshan is patient and looks you in the eye when you speak to him. Might be a strange thing to point but I can\\'t tell you how many other doctors I\\'ve been to who don\\'t do this. Kinda makes you feel like they aren\\'t listening. I\\'ve even gone into doctors where they have completely ignored what I came in for to do other things. But Dr. Kalshan does, and treats you with respect.Just because he\\'s young and speaks in plain english doesn\\'t make him the \"hipster doctor.\" He just happens to be a real person who\\'s willing to work with you and talk to you, like a doctor should.Kinda sad that it\\'s become so rare to find a doctor who simply listens to whats wrong and makes you feel better.', '\\n')\n",
      "(5.0, '2010-05-21', ':', u\"AWESOME GP!!! \\xa0Dr. Kalshan has great bedside manner and takes your concerns seriously. \\xa0No matter how big or small they may be and directs me to the right specialist.He is never condescending or tells you that having a drink or two is detrimental to your overall health. \\xa0He knows that you're still enjoying your life while taking your health into consideration. \\xa0I've been evangelizing his practice for the past few years and got three people to see him and they've all had positive reviews of Dr. Kalshan.I've waited this long to Yelp about his practice because I don't want to have issues getting an appointment - I still cross my fingers when I call.\", '\\n')\n",
      "(2.0, '2011-05-09', ':', u\"I was a patient of Dr Kalshan's from his early days and then stopped going about a year ago. Dr. Kalshan used to have a great bedside manner and was effective. As the years went by I noticed two things. First, he became rushed and unnecessarily prescribed meds for simple issues (rather than taking time to listen). Second, his already bad staff got progressively worse. I had an emergency situation and he didn't call me back - he didn't get the message because his office voicemail doesn't accept calls from cell phones (huh?!). I talked to him afterwards about it and he said that would get fixed. \\xa0I had another serious situation and didn't get called back (left a message with the receptionist and a voicemail). I then decided to leave the practice. There's no point in having \\xa0a doctor you can't trust.\", '\\n')\n",
      "(4.0, '2007-02-16', ':', u\"I'm tossing my old review and starting fresh.The good news - yes, he's as good as his high ratings indicate. \\xa0I've found Dr. Kalshan to be attentive, detailed, and approachable. \\xa0The referrals he's made for me have all been to very good doctors, so he's good there too.The negatives...The office has had quite a bit of turnover with assistants/receptionists. \\xa0Not sure why it's that hard to keep someone, but it seems to be, so there. \\xa0Scheduling an appointment is sometimes difficult. \\xa0If you're sick, and you want to come in today or tomorrow, it's probably not going to happen. \\xa0Plan to be sick a week or more in advance, so scheduling won't become an issue, and you're set. \\xa0If that doesn't work, find another doctor, and make it easier for the rest of us to see him.\", '\\n')\n",
      "(4.0, '2009-01-21', ':', u\"I've only seen him once, but need to make another appointment so figured I'd write a review. \\xa0He was great - thorough, friendly, actually talked to me for longer than half a second, and he takes my insurance (Aetna) just fine.I was a bit worried about going to a BOY doctor, you know, being a girl myself and we have different parts and stuff, but he's really easy going and put me at ease right away. \\xa0I was really surprised at how young he looks/seems.\", '\\n')\n",
      "(5.0, '2010-07-23', ':', u'A great doctor, period. \\xa0Supremely knowledgeable, great listener, will take the time to explain everything. \\xa0Made a really tough diagnosis on me, the kind of thing people walk around undiagnosed with for their entire lives, on the first visit. \\xa0He is so wildly popular that he gets busy, and sometimes the little things get missed \\xa0- a call back to the pharmacy, or a signature on a scrip, or you might have to wait a few days to get in to see him. \\xa0But when you need care, you want Dan Kalshan in your corner. \\xa0 \\xa0Mea culpa.', '\\n')\n",
      "(4.0, '2011-04-19', ':', u'I hadn\\'t been to a regular GP for something like 5 years (--just kept my \"women\\'s\" appointments), but I knew it was time and picked Dr. Kalshan literally because he is equidistant from my home and work. \\xa0Not the best way to pick out a doctor, I reckon, but I lucked out. \\xa0He has a great sense of humor, really listens, and you never feel like you\\'re rushed. \\xa0I was especially appreciative because it turned out I had a health issue that required a referral to a specialist, and I really trusted Dr. Kalshan to send me to the best. \\xa0I hope I continue to be a patient for many years to come.', '\\n')\n"
     ]
    }
   ],
   "source": [
    "def main():\n",
    "#     parser = argparse.ArgumentParser()\n",
    "\n",
    "#     parser.add_argument('-q', '--term', dest='term', default=DEFAULT_TERM, type=str, help='Search term (default: %(default)s)')\n",
    "#     parser.add_argument('-l', '--location', dest='location', default=DEFAULT_LOCATION, type=str, help='Search location (default: %(default)s)')\n",
    "\n",
    "#     input_values = parser.parse_args()#This throws an error in Jupyter because there is no input to parse\n",
    "\n",
    "    try:\n",
    "        #query_api(input_values.term, input_values.location)\n",
    "        response = query_api(term=DEFAULT_TERM, location=DEFAULT_LOCATION, limit=20, offset=0)\n",
    "    except urllib2.HTTPError as error:\n",
    "        sys.exit('Encountered HTTP error {0}. Abort program.'.format(error.code))\n",
    "    \n",
    "    businesses = get_business_from_API(response)\n",
    "    total_nbusinesses = response.get('total')#number of businesses\n",
    "    print(total_nbusinesses)\n",
    "    \n",
    "    for i in range(0,1):# loop over 20 businesses on each YELP API query\n",
    "        business_id = businesses[i]['id']\n",
    "        bus_rating = businesses[i]['rating']\n",
    "        bus_nreviews = businesses[i]['review_count']#for each business\n",
    "        bus_categories = businesses[i]['categories']#e.g., Family Practice\n",
    "\n",
    "        print u'Result for business \"{0}\" found:'.format(business_id)\n",
    "        \n",
    "        # Add business info to MySQL table: business (others are city and review)\n",
    "        #insert_yelp_business(business_id, bus_rating, bus_nreviews, 1)\n",
    "    \n",
    "        html = get_html(business_id)\n",
    "\n",
    "        # Save a temporary html file, because soup breaks if you pass it whole html obj\n",
    "        #html_filename = business_id +'.html'\n",
    "        html_filename = 'temp.html'\n",
    "        save_myhtml(html_filename, html)\n",
    "\n",
    "        rstars,reviews = scrape_reviews(html_filename)\n",
    "    \n",
    "        #temp_url = 'total-care-plus-san-francisco.html'\n",
    "#         temp_url = 'dan-kalshan-md-san-francisco-2.html'\n",
    "#         reviews,ratings = scrape_reviews(temp_url)\n",
    "#     print(ratings)\n",
    "#     print(reviews[3])\n",
    "\n",
    "    \n",
    "if __name__ == '__main__':\n",
    "   main()"
   ]
  },
  {
   "cell_type": "code",
   "execution_count": null,
   "metadata": {
    "collapsed": true
   },
   "outputs": [],
   "source": []
  }
 ],
 "metadata": {
  "kernelspec": {
   "display_name": "Python 2",
   "language": "python",
   "name": "python2"
  },
  "language_info": {
   "codemirror_mode": {
    "name": "ipython",
    "version": 2
   },
   "file_extension": ".py",
   "mimetype": "text/x-python",
   "name": "python",
   "nbconvert_exporter": "python",
   "pygments_lexer": "ipython2",
   "version": "2.7.10"
  }
 },
 "nbformat": 4,
 "nbformat_minor": 0
}
