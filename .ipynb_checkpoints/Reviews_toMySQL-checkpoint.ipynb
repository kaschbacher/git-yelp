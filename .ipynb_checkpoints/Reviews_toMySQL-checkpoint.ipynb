{
 "cells": [
  {
   "cell_type": "code",
   "execution_count": 11,
   "metadata": {
    "collapsed": false
   },
   "outputs": [
    {
     "data": {
      "text/plain": [
       "'This function loads the ortho_review_df.p DataFrame object and inserts it into the ortho.review mysql table'"
      ]
     },
     "execution_count": 11,
     "metadata": {},
     "output_type": "execute_result"
    }
   ],
   "source": [
    "import cPickle as pickle\n",
    "import sys\n",
    "import pandas as pd\n",
    "import pymysql\n",
    "\n",
    "# these are needed for functions that don't work yet below\n",
    "import mysql.connector\n",
    "from sqlalchemy import create_engine\n",
    "\n",
    "#import pyodbc\n",
    "# import pandas.io.sql as psql\n",
    "# import pandas as pd\n",
    "\n",
    "\"\"\"This function loads the ortho_review_df.p DataFrame object and inserts it into the ortho.review mysql table\"\"\""
   ]
  },
  {
   "cell_type": "code",
   "execution_count": 12,
   "metadata": {
    "collapsed": true
   },
   "outputs": [],
   "source": [
    "# Not using, but saw code online and wanted it for reference\n",
    "def df_from_SQL():\n",
    "\n",
    "    cnxn = pyodbc.connect(connection_info) \n",
    "    cursor = cnxn.cursor()\n",
    "    sql = \"SELECT * FROM TABLE\"\n",
    "\n",
    "    df = psql.frame_query(sql, cnxn)\n",
    "    cnxn.close()\n",
    "    return df"
   ]
  },
  {
   "cell_type": "code",
   "execution_count": 13,
   "metadata": {
    "collapsed": true
   },
   "outputs": [],
   "source": [
    "# didn't get this to work. it thinks there is no 'review'\n",
    "def df_to_SQL(df):\n",
    "    \n",
    "    db='ortho'\n",
    "    host='localhost'\n",
    "    port=3307\n",
    "    user='root'\n",
    "    passwd='';\n",
    "\n",
    "    path = 'mysql+mysqlconnector://'+user+':'+passwd+'@'+host+':'+str(port) \n",
    "    print path\n",
    "    engine = create_engine(path, echo=False)\n",
    "    df.to_sql(name='review', con=engine, if_exists = 'append', index=False)"
   ]
  },
  {
   "cell_type": "code",
   "execution_count": 14,
   "metadata": {
    "collapsed": true
   },
   "outputs": [],
   "source": [
    "def insert_reviews_SQL(bid, tid, cid, rstar, review):\n",
    "    # ortho.review table contains in order: rid, bid, term, city, star, comment (note yelp_id is only in business table)\n",
    "    con = False\n",
    "    try:\n",
    "        con = pymysql.connect(host='localhost', port=3307, user='root', passwd='', db='ortho')\n",
    "        with con:\n",
    "            cur = con.cursor()\n",
    "            #myvalues = \"'\" + str(bid)+\"',\" + str(rstar) + \",\" + '\"'+review+'\"'\n",
    "            part1 = \"'\"+str(bid)+\"',\" + \"'\"+str(tid)+\"',\" +\"'\"+str(cid)+\"',\"\n",
    "            part2 = \"'\"+str(rstar)+\"',\" + '\"'+review+'\"'\n",
    "            myvalues = part1+part2         \n",
    "            #sql = 'INSERT INTO review(business_id,stars,comment) VALUES('+myvalues+')'\n",
    "            sql = 'INSERT INTO review(business_id,term_id,city_id,stars,comment) VALUES('+myvalues+')'\n",
    "            cur.execute(sql)\n",
    "    except pymysql.Error, e:\n",
    "        print \"Error %d: %s\" % (e.args[0],e.args[1])\n",
    "        sys.exit(1)\n",
    "    finally:\n",
    "        if con:\n",
    "            con.close()"
   ]
  },
  {
   "cell_type": "code",
   "execution_count": 10,
   "metadata": {
    "collapsed": false
   },
   "outputs": [
    {
     "name": "stdout",
     "output_type": "stream",
     "text": [
      "(7320, 5)\n",
      "   bid  term_id  city_id stars  \\\n",
      "0    3        1        1     5   \n",
      "1    3        1        1     5   \n",
      "2    3        1        1     5   \n",
      "3    3        1        1     5   \n",
      "4    3        1        1     5   \n",
      "\n",
      "                                             comment  \n",
      "0  Some background: I rolled my ankle and had a r...  \n",
      "1  Dr. Chen performed an ACL and meniscus repair ...  \n",
      "2  Excellent. Dr. Chen and everyone at his office...  \n",
      "3  In September of 2014, I suffered a complete ru...  \n",
      "4  Was referred to Dr. Chen by my trainer, extrem...  \n"
     ]
    }
   ],
   "source": [
    "def main():\n",
    "    \n",
    "    # Load the pickled DF of all reviews, which I want to load into MySQL\n",
    "    picklename = 'ortho_review_df.p'\n",
    "    ortho_review_df = pickle.load(open(picklename,'rb'))\n",
    "    print(ortho_review_df.shape)\n",
    "    print ortho_review_df.head(5)\n",
    "    \n",
    "    \n",
    "    #review table contains in order: rid, bid, term, city, star, comment (note yelp_id is only in business table)\n",
    "    for row in ortho_review_df.iterrows():\n",
    "        myvalues = row[1].values\n",
    "        bid = myvalues[0]\n",
    "        tid = myvalues[1]\n",
    "        cid = myvalues[2]\n",
    "        rstar = myvalues[3]\n",
    "        review = myvalues[4]\n",
    "\n",
    "        #insert_reviews_SQL(6, 1, 1, rstar, review)#debugging\n",
    "        insert_reviews_SQL(bid, tid, cid, rstar, review)#actual\n",
    "    \n",
    "#     df_to_SQL(ortho_review_df)#not working yet\n",
    "\n",
    "if __name__==\"__main__\":\n",
    "    main()"
   ]
  },
  {
   "cell_type": "code",
   "execution_count": null,
   "metadata": {
    "collapsed": true
   },
   "outputs": [],
   "source": []
  }
 ],
 "metadata": {
  "kernelspec": {
   "display_name": "Python 2",
   "language": "python",
   "name": "python2"
  },
  "language_info": {
   "codemirror_mode": {
    "name": "ipython",
    "version": 2
   },
   "file_extension": ".py",
   "mimetype": "text/x-python",
   "name": "python",
   "nbconvert_exporter": "python",
   "pygments_lexer": "ipython2",
   "version": "2.7.10"
  }
 },
 "nbformat": 4,
 "nbformat_minor": 0
}
