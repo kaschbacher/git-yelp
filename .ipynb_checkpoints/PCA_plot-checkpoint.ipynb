{
 "cells": [
  {
   "cell_type": "code",
   "execution_count": 47,
   "metadata": {
    "collapsed": true
   },
   "outputs": [],
   "source": [
    "import numpy as np\n",
    "import matplotlib.pyplot as plt\n",
    "from sklearn import linear_model\n",
    "from sklearn.decomposition import PCA\n",
    "import cPickle as pickle\n",
    "import pandas as pd\n"
   ]
  },
  {
   "cell_type": "code",
   "execution_count": 37,
   "metadata": {
    "collapsed": true
   },
   "outputs": [],
   "source": [
    "def convert_rgb(org_color):\n",
    "    \n",
    "    # org_color is type string: '174.199.232'\n",
    "    # Original values are scaled 1-255\n",
    "    # rgb_color is type tuple\n",
    "    # Final color is scaled 0-1: (0.643,0.416,0.894)\n",
    "    \n",
    "    str_vec = org_color.strip().split('.')#type list - of strings\n",
    "    num_vec = [float(s) for s in str_vec]#type list - of floats\n",
    "    rgb_scale = [(n/255) for n in num_vec]#type list - of scaled floats\n",
    "    \n",
    "    # Note: Tried a regular expression...\n",
    "    # It doesn't work - e.g.,:  t2 = [t[i] for i in t]\n",
    "    # TypeError: tuple indices must be integers, not float\n",
    "    rgb_tuple = (rgb_scale[0],rgb_scale[1],rgb_scale[2])\n",
    "    return rgb_tuple\n",
    "    "
   ]
  },
  {
   "cell_type": "code",
   "execution_count": 38,
   "metadata": {
    "collapsed": true
   },
   "outputs": [],
   "source": [
    "def tableau10():\n",
    "    # returns a dict with color names as keys and converted rgb tuples as values\n",
    "    #http://tableaufriction.blogspot.ro/2012/11/finally-you-can-use-tableau-data-colors.html\n",
    "\n",
    "    tableau={}#dict\n",
    "    color_key = [\n",
    "    'dark_grey','med_grey','med2_grey','med3_grey','med4_grey','light_grey',\n",
    "    'blue','orange','green','red','purple',\n",
    "    'turq','puke','brown','lav',\n",
    "    'dark_red','bright_red','fushia_red','salmon','blue_red',\n",
    "    'cool_blue','purp_blue','med_blue','med2_blue','med3_blue',\n",
    "    'lav_blue','sky_blue']\n",
    "    color_str = [\n",
    "    '50.50.50','75.75.75','100.100.100','125.125.125','150.150.150','200.200.200',\n",
    "    '31.119.180','255.127.14','44.160.44','214.39.40','148.103.189',\n",
    "    '23.190.207','188.189.34','140.86.75','227.119.194',\n",
    "    '177.3.24','240.39.32','189.10.54','242.108.100','177.3.74',\n",
    "    '44.105.176','144.158.206','107.163.214','137.183.214','95.158.209',\n",
    "    '181.200.226','177.213.240']\n",
    "    \n",
    "    for idx in range(0,len(color_key)):\n",
    "        #print(color_str[idx])\n",
    "        tup = convert_rgb(color_str[idx])\n",
    "        #tableau[color_key[idx]] = color_str[idx]\n",
    "        tableau[color_key[idx]] = tup\n",
    "    \n",
    "    #For Displaying/debugging\n",
    "    #print(tableau.items())\n",
    "    #print(tableau['dark_grey'])#access by color-name\n",
    "    return tableau"
   ]
  },
  {
   "cell_type": "code",
   "execution_count": 39,
   "metadata": {
    "collapsed": false
   },
   "outputs": [
    {
     "data": {
      "text/plain": [
       "(7320, 102)"
      ]
     },
     "execution_count": 39,
     "metadata": {},
     "output_type": "execute_result"
    }
   ],
   "source": [
    "gammas = pickle.load(open('gammas.p','rb'))\n",
    "norm_gammas = pickle.load(open('norm_gammas.p','rb'))\n",
    "ids_gammas_df = pickle.load(open('ids_gammas_df.p','rb'))\n",
    "ids_ngammas_df = pickle.load(open('ids_ngammas_df.p','rb'))\n",
    "\n",
    "ids_gammas_df.shape#(7320, 102)\n",
    "ids_ngammas_df.shape#(7320, 102)\n"
   ]
  },
  {
   "cell_type": "code",
   "execution_count": 40,
   "metadata": {
    "collapsed": false
   },
   "outputs": [],
   "source": [
    "#made in Extract_Reviews\n",
    "reviews_df = pickle.load(open('ortho_review_df.p','rb'))"
   ]
  },
  {
   "cell_type": "code",
   "execution_count": 41,
   "metadata": {
    "collapsed": false
   },
   "outputs": [
    {
     "name": "stdout",
     "output_type": "stream",
     "text": [
      "5.0\n"
     ]
    }
   ],
   "source": [
    "reviews_df.head(3)\n",
    "stars = reviews_df.loc[:,'stars']\n",
    "\n",
    "reviews_df.shape#(7320, 5)\n",
    "stars = np.asarray(stars)#(7320,)\n",
    "print stars[0]"
   ]
  },
  {
   "cell_type": "code",
   "execution_count": 42,
   "metadata": {
    "collapsed": true
   },
   "outputs": [],
   "source": [
    "def feature_normalize(X):\n",
    "    # X is an mxn numpy array    \n",
    "    \n",
    "    # Strangely, axis=0 is the mean over the columns\n",
    "    mu = np.mean(X,axis=0)\n",
    "    sd = np.std(X,axis=0)\n",
    "    X_norm = (X - mu)/sd\n",
    "\n",
    "    return X_norm"
   ]
  },
  {
   "cell_type": "code",
   "execution_count": 43,
   "metadata": {
    "collapsed": false
   },
   "outputs": [],
   "source": [
    "def pca_scatter(T,group,xlab,ylab):\n",
    "    \n",
    "    tab = tableau10()\n",
    "    \n",
    "    x1 = T[group==1,0]\n",
    "    x2 = T[group==2,0]\n",
    "    x3 = T[group==3,0]\n",
    "    x4 = T[group==4,0]\n",
    "    x5 = T[group==5,0]\n",
    "    \n",
    "    fig = plt.figure(figsize=(4,4))\n",
    "    ax = plt.axes()\n",
    "    plt.plot(x1+.5,T[group==1,1]+.5,color=tab['red'],\n",
    "             marker='D',ms=6, mec=tab['med2_grey'],\n",
    "            linewidth=0, label='1 star')\n",
    "    plt.plot(x2+.4,T[group==2,1]+.4,color=tab['orange'],\n",
    "             marker='D',ms=6, mec=tab['med2_grey'],lw=0, label='2 stars')\n",
    "    plt.plot(x3+.3,T[group==3,1]+.3,color=tab['green'],\n",
    "             marker='D',ms=6, mec=tab['med2_grey'],lw=0, label='3 stars')\n",
    "    plt.plot(x4+.2,T[group==4,1]+.2,color=tab['blue'],\n",
    "             marker='D',ms=6, mec=tab['med2_grey'],lw=0, label='4 stars')\n",
    "    plt.plot(x5,T[group==5,1],color=tab['purple'],\n",
    "             marker='D',ms=6, mec=tab['med2_grey'],lw=0, label='5 stars')\n",
    "    \n",
    "    plt.setp([ax.set_xlabel(xlab),ax.set_ylabel(ylab)],fontsize=11,color=tab['dark_grey'])\n",
    "    plt.setp([ax.get_xticklines(),ax.get_yticklines()],color=tab['light_grey'])\n",
    "    plt.setp([ax.get_xticklabels(),ax.get_yticklabels()],color=tab['med2_grey'],fontsize=9)\n",
    "    \n",
    "    leg = plt.legend(loc='lower right',fontsize=11, numpoints=1)\n",
    "    leg.get_frame().set_edgecolor(tab['light_grey'])\n",
    "    for text in leg.get_texts():\n",
    "        plt.setp(text,color=tab['med3_grey'])\n",
    "    \n",
    "    #Change just one axis\n",
    "    #ax.spines['bottom'].set_color((tab['light_grey']))\n",
    "    \n",
    "    plt.draw()\n",
    "    plt.show()\n",
    "    return"
   ]
  },
  {
   "cell_type": "code",
   "execution_count": null,
   "metadata": {
    "collapsed": true
   },
   "outputs": [],
   "source": [
    "# PCA - instantiate object and fit\n",
    "pca = PCA(n_components=2)\n",
    "\n",
    "feature_norm_gammas = feature_normalize(gammas)\n",
    "pca.fit(feature_norm_gammas)\n",
    "#pca.fit(norm_gammas)\n",
    "\n",
    "print('\\nPCA: % Variance Explained: ',np.round(pca.explained_variance_ratio_*100,3))\n",
    "\n",
    "# components are eigenvectors\n",
    "EV = np.round((pca.components_),5).T\n",
    "\n",
    "# PROJECTED GAMMAS\n",
    "# Use this d x k eigenvector matrix to transform the original samples onto the component subspace. \n",
    "# Arg for transform is projected on the principal components extracted from the training set\n",
    "X_pca = pca.transform(feature_norm_gammas)# gammas mapped onto new feature space\n",
    "\n",
    "xlabel='PCA 1';ylabel='PCA 2'   \n",
    "pca_scatter(X_pca, stars, xlabel, ylabel)"
   ]
  },
  {
   "cell_type": "code",
   "execution_count": 61,
   "metadata": {
    "collapsed": false
   },
   "outputs": [
    {
     "name": "stdout",
     "output_type": "stream",
     "text": [
      "\n",
      "PCA Component Loadings (Eigenvectors): \n",
      "\n",
      "          0        1\n",
      "0  -0.01096  0.00855\n",
      "1  -0.00626  0.00450\n",
      "2  -0.00506  0.00372\n",
      "3  -0.03051  0.04513\n",
      "4  -0.03891  0.06713\n",
      "5  -0.01151  0.00906\n",
      "6  -0.00940  0.00713\n",
      "7  -0.03229  0.04314\n",
      "8  -0.03092  0.03948\n",
      "9  -0.00540  0.00384\n",
      "10 -0.02528  0.02729\n",
      "11 -0.03741  0.06054\n",
      "12 -0.00850  0.00634\n",
      "13 -0.03874  0.06633\n",
      "14 -0.00818  0.00607\n",
      "15 -0.01251  0.01005\n",
      "16 -0.01516  0.01285\n",
      "17 -0.02097  0.02027\n",
      "18 -0.00464  0.00326\n",
      "19 -0.01326  0.01122\n",
      "20 -0.01541  0.01313\n",
      "21 -0.00596  0.00427\n",
      "22 -0.00820  0.00609\n",
      "23 -0.01557  0.01331\n",
      "24 -0.00693  0.00504\n",
      "25 -0.01137  0.00893\n",
      "26 -0.01056  0.00817\n",
      "27 -0.04401  0.09787\n",
      "28 -0.01182  0.00937\n",
      "29 -0.06509 -0.95868\n",
      "..      ...      ...\n",
      "70 -0.02644  0.03862\n",
      "71 -0.00912  0.00688\n",
      "72 -0.00617  0.00443\n",
      "73 -0.00844  0.00629\n",
      "74 -0.02113  0.02050\n",
      "75 -0.01747  0.01557\n",
      "76 -0.00541  0.00385\n",
      "77 -0.01267  0.01021\n",
      "78 -0.00502  0.00355\n",
      "79 -0.00644  0.00464\n",
      "80 -0.00715  0.00522\n",
      "81 -0.01220  0.00974\n",
      "82 -0.02282  0.02309\n",
      "83 -0.00331  0.00229\n",
      "84 -0.00717  0.00523\n",
      "85 -0.00748  0.00549\n",
      "86 -0.00713  0.00520\n",
      "87 -0.01397  0.01155\n",
      "88 -0.00732  0.00535\n",
      "89 -0.02431  0.02556\n",
      "90 -0.00622  0.00447\n",
      "91 -0.00735  0.00538\n",
      "92 -0.00555  0.00395\n",
      "93 -0.01355  0.01111\n",
      "94 -0.01072  0.00833\n",
      "95  0.98595 -0.03669\n",
      "96 -0.00617  0.00443\n",
      "97 -0.00729  0.00533\n",
      "98 -0.00926  0.00700\n",
      "99 -0.00703  0.00512\n",
      "\n",
      "[100 rows x 2 columns]\n"
     ]
    }
   ],
   "source": [
    "print '\\nPCA Component Loadings (Eigenvectors): \\n'\n",
    "#for i in range(0,len(EV)):\n",
    "    #print 'Topic: ',i,'   ',EV[i,:]\n",
    "\n",
    "EV_df = pd.DataFrame(EV[:,:]).sort(0, axis=0, ascending=False)\n",
    "print(EV_df)\n",
    "#print EV[:5,0]"
   ]
  },
  {
   "cell_type": "code",
   "execution_count": null,
   "metadata": {
    "collapsed": true
   },
   "outputs": [],
   "source": []
  }
 ],
 "metadata": {
  "kernelspec": {
   "display_name": "Python 2",
   "language": "python",
   "name": "python2"
  },
  "language_info": {
   "codemirror_mode": {
    "name": "ipython",
    "version": 2
   },
   "file_extension": ".py",
   "mimetype": "text/x-python",
   "name": "python",
   "nbconvert_exporter": "python",
   "pygments_lexer": "ipython2",
   "version": "2.7.10"
  }
 },
 "nbformat": 4,
 "nbformat_minor": 0
}
