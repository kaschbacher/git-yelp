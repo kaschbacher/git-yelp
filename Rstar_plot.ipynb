{
 "cells": [
  {
   "cell_type": "code",
   "execution_count": 89,
   "metadata": {
    "collapsed": true
   },
   "outputs": [],
   "source": [
    "import pymysql\n",
    "import KAsql2 as ka\n",
    "import pandas as pd\n",
    "import numpy as np"
   ]
  },
  {
   "cell_type": "code",
   "execution_count": 106,
   "metadata": {
    "collapsed": true
   },
   "outputs": [],
   "source": [
    "def get_stars():\n",
    "    sql = 'SELECT id, business_id, stars FROM ortho.review;' \n",
    "    rows = ka.query_SQL(sql)# extracts unique yelp_ids\n",
    "    df = pd.DataFrame(np.array(rows),columns=['RID','BID','rstars'])\n",
    "    return df"
   ]
  },
  {
   "cell_type": "code",
   "execution_count": 92,
   "metadata": {
    "collapsed": false
   },
   "outputs": [
    {
     "name": "stdout",
     "output_type": "stream",
     "text": [
      "USE ortho;\n",
      "     RID  BID  rstars\n",
      "0  20406  303       5\n",
      "1  20407  303       5\n",
      "2  20408  303       5\n",
      "3  20409  303       5\n",
      "4  20410  303       5\n"
     ]
    }
   ],
   "source": [
    "star_df = get_stars()#queries MySQL for data\n",
    "print star_df.head(5)#debug"
   ]
  },
  {
   "cell_type": "code",
   "execution_count": 139,
   "metadata": {
    "collapsed": false
   },
   "outputs": [
    {
     "name": "stdout",
     "output_type": "stream",
     "text": [
      "VALUES:  [20, 3, 0, 2, 8]\n"
     ]
    }
   ],
   "source": [
    "#Debugging syntax here to input directly into views.py\n",
    "some_doc = 328\n",
    "\n",
    "#get review stars for that doctor in a sorted list\n",
    "doc_stars= star_df.rstars[star_df.BID==some_doc]#series\n",
    "doc_stars.sort('rstars',ascending=False)\n",
    "star_list = doc_stars.tolist()\n",
    "#print star_list#debug\n",
    "\n",
    "#make dict of counts for each star-type\n",
    "star_count = {}\n",
    "star_count[i] =[star_list.count(i) for i in range(5,0,-1)]\n",
    "bid_stars = star_count.values()[0]\n",
    "print 'VALUES: ',bid_stars#list\n",
    "\n",
    "# This causes result to appear in backwards order - 1star, then 2 star etc... don't know why\n",
    "# for i in range(5,0,-1):\n",
    "#     #print i, count#debug\n",
    "#     star_count[i]=star_list.count(i)\n",
    "# print 'VALUES: ',star_count.values()#list"
   ]
  },
  {
   "cell_type": "code",
   "execution_count": 138,
   "metadata": {
    "collapsed": false
   },
   "outputs": [
    {
     "name": "stdout",
     "output_type": "stream",
     "text": [
      "VALUES:  [65, 108, 79, 23, 12]\n",
      "33\n"
     ]
    }
   ],
   "source": [
    "# Was initially thinking to compare each doctor's star scores to that of the average doctor, but didn't finish normilizing them\n",
    "# overall average star distribution for doctors over reviews\n",
    "grp_stars = star_df.groupby('BID', axis=0).mean()\n",
    "avg_series = grp_stars.rstars\n",
    "avg_stars = avg_series.sort(ascending=False, inplace=False)# To sort a series (which is a view of another array) must use inplace=False to make a copy\n",
    "avg_list = avg_stars.tolist()\n",
    "avg_list = [int(avg) for avg in avg_list]\n",
    "#print avg_list\n",
    "\n",
    "avg_count = {}\n",
    "avg_count[i] =[avg_list.count(i) for i in range(5,0,-1)]\n",
    "print 'VALUES: ',avg_count.values()[0]#list\n",
    "\n",
    "tot = np.sum(star_count.values()[0])\n",
    "print tot"
   ]
  },
  {
   "cell_type": "code",
   "execution_count": null,
   "metadata": {
    "collapsed": true
   },
   "outputs": [],
   "source": []
  },
  {
   "cell_type": "code",
   "execution_count": null,
   "metadata": {
    "collapsed": true
   },
   "outputs": [],
   "source": []
  }
 ],
 "metadata": {
  "kernelspec": {
   "display_name": "Python 2",
   "language": "python",
   "name": "python2"
  },
  "language_info": {
   "codemirror_mode": {
    "name": "ipython",
    "version": 2
   },
   "file_extension": ".py",
   "mimetype": "text/x-python",
   "name": "python",
   "nbconvert_exporter": "python",
   "pygments_lexer": "ipython2",
   "version": "2.7.10"
  }
 },
 "nbformat": 4,
 "nbformat_minor": 0
}
